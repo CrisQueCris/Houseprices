{
 "cells": [
  {
   "cell_type": "markdown",
   "id": "2bec5975",
   "metadata": {},
   "source": [
    "# Derterminers of Houseprices: a linear regression model"
   ]
  },
  {
   "cell_type": "markdown",
   "id": "09a9eaab",
   "metadata": {},
   "source": [
    "In the following we are using linear regression to predict house prices. We use a dataframe of houses in King County, USA as data base. The data is observed, transformed, fed into the model. Afterwards we remove non-significant features to optain the final Model."
   ]
  },
  {
   "cell_type": "code",
   "execution_count": 2784,
   "id": "f4573615",
   "metadata": {},
   "outputs": [],
   "source": [
    "import pandas as pd\n",
    "import getpass\n",
    "import sqlalchemy as sa\n",
    "import numpy as np\n",
    "import seaborn as sns\n",
    "import matplotlib as plt\n",
    "import numpy as np\n",
    "import pandas as pd\n",
    "import matplotlib.pyplot as plt\n",
    "%matplotlib inline\n",
    "import seaborn as sns\n",
    "from sklearn.preprocessing import StandardScaler\n",
    "from sklearn.preprocessing import quantile_transform\n",
    "from sklearn.preprocessing import QuantileTransformer\n",
    "from sklearn.preprocessing import minmax_scale\n",
    "from sklearn.preprocessing import MinMaxScaler\n",
    "from sklearn.preprocessing import OneHotEncoder  ##. better to use dummy from pandas \n",
    "from sklearn.preprocessing import PowerTransformer\n",
    "from scipy.stats import boxcox\n",
    "from sklearn.linear_model import LinearRegression\n",
    "from sklearn.model_selection import train_test_split\n",
    "import statsmodels.api as sm\n",
    "from scipy.stats import boxcox\n",
    "from sklearn.model_selection import train_test_split\n",
    "from sklearn.metrics import r2_score\n",
    "from sklearn.metrics import mean_squared_error as mse\n",
    "from sklearn.metrics import mean_absolute_error as mae\n",
    "from sklearn.feature_selection import RFE\n",
    "pd.options.display.max_rows = 50\n",
    "## Install xlrd package to load Excel files\n",
    "# conda install openpyxl\n",
    "## conda install xlrd"
   ]
  },
  {
   "cell_type": "markdown",
   "id": "613dccbd",
   "metadata": {},
   "source": [
    "## Importing Dataset."
   ]
  },
  {
   "cell_type": "code",
   "execution_count": 2785,
   "id": "71384a3b",
   "metadata": {
    "scrolled": false
   },
   "outputs": [],
   "source": [
    "def load_df():\n",
    "    return pd.read_csv('Data/house_price_df.csv')\n",
    "\n",
    "\n",
    "hp_df = load_df()"
   ]
  },
  {
   "cell_type": "markdown",
   "id": "4e2e1483",
   "metadata": {},
   "source": [
    "## EDA"
   ]
  },
  {
   "cell_type": "code",
   "execution_count": 2786,
   "id": "493a5f10",
   "metadata": {},
   "outputs": [
    {
     "name": "stdout",
     "output_type": "stream",
     "text": [
      "<class 'pandas.core.frame.DataFrame'>\n",
      "RangeIndex: 21597 entries, 0 to 21596\n",
      "Data columns (total 22 columns):\n",
      " #   Column         Non-Null Count  Dtype  \n",
      "---  ------         --------------  -----  \n",
      " 0   Unnamed: 0     21597 non-null  int64  \n",
      " 1   id             21597 non-null  int64  \n",
      " 2   date           21597 non-null  object \n",
      " 3   bedrooms       21597 non-null  int64  \n",
      " 4   bathrooms      21597 non-null  float64\n",
      " 5   sqft_living    21597 non-null  int64  \n",
      " 6   sqft_lot       21597 non-null  int64  \n",
      " 7   floors         21597 non-null  float64\n",
      " 8   waterfront     21597 non-null  int64  \n",
      " 9   view           21597 non-null  int64  \n",
      " 10  condition      21597 non-null  int64  \n",
      " 11  grade          21597 non-null  int64  \n",
      " 12  sqft_above     21597 non-null  int64  \n",
      " 13  sqft_basement  21597 non-null  int64  \n",
      " 14  yr_built       21597 non-null  int64  \n",
      " 15  yr_renovated   21597 non-null  int64  \n",
      " 16  zipcode        21597 non-null  int64  \n",
      " 17  lat            21597 non-null  float64\n",
      " 18  long           21597 non-null  float64\n",
      " 19  sqft_living15  21597 non-null  int64  \n",
      " 20  sqft_lot15     21597 non-null  int64  \n",
      " 21  price          21597 non-null  int64  \n",
      "dtypes: float64(4), int64(17), object(1)\n",
      "memory usage: 3.6+ MB\n"
     ]
    }
   ],
   "source": [
    "hp_df.info()"
   ]
  },
  {
   "cell_type": "markdown",
   "id": "ba015ee1",
   "metadata": {},
   "source": [
    "The Dataset consists of 21597 Houses containing 21 features. Price is to be the predicted variables. "
   ]
  },
  {
   "cell_type": "code",
   "execution_count": 2787,
   "id": "3aabbcb9",
   "metadata": {
    "scrolled": true
   },
   "outputs": [
    {
     "data": {
      "text/html": [
       "<div>\n",
       "<style scoped>\n",
       "    .dataframe tbody tr th:only-of-type {\n",
       "        vertical-align: middle;\n",
       "    }\n",
       "\n",
       "    .dataframe tbody tr th {\n",
       "        vertical-align: top;\n",
       "    }\n",
       "\n",
       "    .dataframe thead th {\n",
       "        text-align: right;\n",
       "    }\n",
       "</style>\n",
       "<table border=\"1\" class=\"dataframe\">\n",
       "  <thead>\n",
       "    <tr style=\"text-align: right;\">\n",
       "      <th></th>\n",
       "      <th>Unnamed: 0</th>\n",
       "      <th>id</th>\n",
       "      <th>bedrooms</th>\n",
       "      <th>bathrooms</th>\n",
       "      <th>sqft_living</th>\n",
       "      <th>sqft_lot</th>\n",
       "      <th>floors</th>\n",
       "      <th>waterfront</th>\n",
       "      <th>view</th>\n",
       "      <th>condition</th>\n",
       "      <th>...</th>\n",
       "      <th>sqft_above</th>\n",
       "      <th>sqft_basement</th>\n",
       "      <th>yr_built</th>\n",
       "      <th>yr_renovated</th>\n",
       "      <th>zipcode</th>\n",
       "      <th>lat</th>\n",
       "      <th>long</th>\n",
       "      <th>sqft_living15</th>\n",
       "      <th>sqft_lot15</th>\n",
       "      <th>price</th>\n",
       "    </tr>\n",
       "  </thead>\n",
       "  <tbody>\n",
       "    <tr>\n",
       "      <th>count</th>\n",
       "      <td>21597.000000</td>\n",
       "      <td>2.159700e+04</td>\n",
       "      <td>21597.000000</td>\n",
       "      <td>21597.000000</td>\n",
       "      <td>21597.000000</td>\n",
       "      <td>2.159700e+04</td>\n",
       "      <td>21597.000000</td>\n",
       "      <td>21597.000000</td>\n",
       "      <td>21597.000000</td>\n",
       "      <td>21597.000000</td>\n",
       "      <td>...</td>\n",
       "      <td>21597.000000</td>\n",
       "      <td>21597.000000</td>\n",
       "      <td>21597.000000</td>\n",
       "      <td>21597.000000</td>\n",
       "      <td>21597.000000</td>\n",
       "      <td>21597.000000</td>\n",
       "      <td>21597.000000</td>\n",
       "      <td>21597.000000</td>\n",
       "      <td>21597.000000</td>\n",
       "      <td>2.159700e+04</td>\n",
       "    </tr>\n",
       "    <tr>\n",
       "      <th>mean</th>\n",
       "      <td>10798.000000</td>\n",
       "      <td>4.580474e+09</td>\n",
       "      <td>3.373200</td>\n",
       "      <td>2.115826</td>\n",
       "      <td>2080.321850</td>\n",
       "      <td>1.509941e+04</td>\n",
       "      <td>1.494096</td>\n",
       "      <td>0.007547</td>\n",
       "      <td>0.234292</td>\n",
       "      <td>3.409825</td>\n",
       "      <td>...</td>\n",
       "      <td>1788.596842</td>\n",
       "      <td>291.725008</td>\n",
       "      <td>1970.999676</td>\n",
       "      <td>84.464787</td>\n",
       "      <td>98077.951845</td>\n",
       "      <td>47.560093</td>\n",
       "      <td>-122.213982</td>\n",
       "      <td>1986.620318</td>\n",
       "      <td>12758.283512</td>\n",
       "      <td>5.402966e+05</td>\n",
       "    </tr>\n",
       "    <tr>\n",
       "      <th>std</th>\n",
       "      <td>6234.661218</td>\n",
       "      <td>2.876736e+09</td>\n",
       "      <td>0.926299</td>\n",
       "      <td>0.768984</td>\n",
       "      <td>918.106125</td>\n",
       "      <td>4.141264e+04</td>\n",
       "      <td>0.539683</td>\n",
       "      <td>0.086549</td>\n",
       "      <td>0.766390</td>\n",
       "      <td>0.650546</td>\n",
       "      <td>...</td>\n",
       "      <td>827.759761</td>\n",
       "      <td>442.667800</td>\n",
       "      <td>29.375234</td>\n",
       "      <td>401.821438</td>\n",
       "      <td>53.513072</td>\n",
       "      <td>0.138552</td>\n",
       "      <td>0.140724</td>\n",
       "      <td>685.230472</td>\n",
       "      <td>27274.441950</td>\n",
       "      <td>3.673681e+05</td>\n",
       "    </tr>\n",
       "    <tr>\n",
       "      <th>min</th>\n",
       "      <td>0.000000</td>\n",
       "      <td>1.000102e+06</td>\n",
       "      <td>1.000000</td>\n",
       "      <td>0.500000</td>\n",
       "      <td>370.000000</td>\n",
       "      <td>5.200000e+02</td>\n",
       "      <td>1.000000</td>\n",
       "      <td>0.000000</td>\n",
       "      <td>0.000000</td>\n",
       "      <td>1.000000</td>\n",
       "      <td>...</td>\n",
       "      <td>370.000000</td>\n",
       "      <td>0.000000</td>\n",
       "      <td>1900.000000</td>\n",
       "      <td>0.000000</td>\n",
       "      <td>98001.000000</td>\n",
       "      <td>47.155900</td>\n",
       "      <td>-122.519000</td>\n",
       "      <td>399.000000</td>\n",
       "      <td>651.000000</td>\n",
       "      <td>7.800000e+04</td>\n",
       "    </tr>\n",
       "    <tr>\n",
       "      <th>25%</th>\n",
       "      <td>5399.000000</td>\n",
       "      <td>2.123049e+09</td>\n",
       "      <td>3.000000</td>\n",
       "      <td>1.750000</td>\n",
       "      <td>1430.000000</td>\n",
       "      <td>5.040000e+03</td>\n",
       "      <td>1.000000</td>\n",
       "      <td>0.000000</td>\n",
       "      <td>0.000000</td>\n",
       "      <td>3.000000</td>\n",
       "      <td>...</td>\n",
       "      <td>1190.000000</td>\n",
       "      <td>0.000000</td>\n",
       "      <td>1951.000000</td>\n",
       "      <td>0.000000</td>\n",
       "      <td>98033.000000</td>\n",
       "      <td>47.471100</td>\n",
       "      <td>-122.328000</td>\n",
       "      <td>1490.000000</td>\n",
       "      <td>5100.000000</td>\n",
       "      <td>3.220000e+05</td>\n",
       "    </tr>\n",
       "    <tr>\n",
       "      <th>50%</th>\n",
       "      <td>10798.000000</td>\n",
       "      <td>3.904930e+09</td>\n",
       "      <td>3.000000</td>\n",
       "      <td>2.250000</td>\n",
       "      <td>1910.000000</td>\n",
       "      <td>7.618000e+03</td>\n",
       "      <td>1.500000</td>\n",
       "      <td>0.000000</td>\n",
       "      <td>0.000000</td>\n",
       "      <td>3.000000</td>\n",
       "      <td>...</td>\n",
       "      <td>1560.000000</td>\n",
       "      <td>0.000000</td>\n",
       "      <td>1975.000000</td>\n",
       "      <td>0.000000</td>\n",
       "      <td>98065.000000</td>\n",
       "      <td>47.571800</td>\n",
       "      <td>-122.231000</td>\n",
       "      <td>1840.000000</td>\n",
       "      <td>7620.000000</td>\n",
       "      <td>4.500000e+05</td>\n",
       "    </tr>\n",
       "    <tr>\n",
       "      <th>75%</th>\n",
       "      <td>16197.000000</td>\n",
       "      <td>7.308900e+09</td>\n",
       "      <td>4.000000</td>\n",
       "      <td>2.500000</td>\n",
       "      <td>2550.000000</td>\n",
       "      <td>1.068500e+04</td>\n",
       "      <td>2.000000</td>\n",
       "      <td>0.000000</td>\n",
       "      <td>0.000000</td>\n",
       "      <td>4.000000</td>\n",
       "      <td>...</td>\n",
       "      <td>2210.000000</td>\n",
       "      <td>560.000000</td>\n",
       "      <td>1997.000000</td>\n",
       "      <td>0.000000</td>\n",
       "      <td>98118.000000</td>\n",
       "      <td>47.678000</td>\n",
       "      <td>-122.125000</td>\n",
       "      <td>2360.000000</td>\n",
       "      <td>10083.000000</td>\n",
       "      <td>6.450000e+05</td>\n",
       "    </tr>\n",
       "    <tr>\n",
       "      <th>max</th>\n",
       "      <td>21596.000000</td>\n",
       "      <td>9.900000e+09</td>\n",
       "      <td>33.000000</td>\n",
       "      <td>8.000000</td>\n",
       "      <td>13540.000000</td>\n",
       "      <td>1.651359e+06</td>\n",
       "      <td>3.500000</td>\n",
       "      <td>1.000000</td>\n",
       "      <td>4.000000</td>\n",
       "      <td>5.000000</td>\n",
       "      <td>...</td>\n",
       "      <td>9410.000000</td>\n",
       "      <td>4820.000000</td>\n",
       "      <td>2015.000000</td>\n",
       "      <td>2015.000000</td>\n",
       "      <td>98199.000000</td>\n",
       "      <td>47.777600</td>\n",
       "      <td>-121.315000</td>\n",
       "      <td>6210.000000</td>\n",
       "      <td>871200.000000</td>\n",
       "      <td>7.700000e+06</td>\n",
       "    </tr>\n",
       "  </tbody>\n",
       "</table>\n",
       "<p>8 rows × 21 columns</p>\n",
       "</div>"
      ],
      "text/plain": [
       "         Unnamed: 0            id      bedrooms     bathrooms   sqft_living  \\\n",
       "count  21597.000000  2.159700e+04  21597.000000  21597.000000  21597.000000   \n",
       "mean   10798.000000  4.580474e+09      3.373200      2.115826   2080.321850   \n",
       "std     6234.661218  2.876736e+09      0.926299      0.768984    918.106125   \n",
       "min        0.000000  1.000102e+06      1.000000      0.500000    370.000000   \n",
       "25%     5399.000000  2.123049e+09      3.000000      1.750000   1430.000000   \n",
       "50%    10798.000000  3.904930e+09      3.000000      2.250000   1910.000000   \n",
       "75%    16197.000000  7.308900e+09      4.000000      2.500000   2550.000000   \n",
       "max    21596.000000  9.900000e+09     33.000000      8.000000  13540.000000   \n",
       "\n",
       "           sqft_lot        floors    waterfront          view     condition  \\\n",
       "count  2.159700e+04  21597.000000  21597.000000  21597.000000  21597.000000   \n",
       "mean   1.509941e+04      1.494096      0.007547      0.234292      3.409825   \n",
       "std    4.141264e+04      0.539683      0.086549      0.766390      0.650546   \n",
       "min    5.200000e+02      1.000000      0.000000      0.000000      1.000000   \n",
       "25%    5.040000e+03      1.000000      0.000000      0.000000      3.000000   \n",
       "50%    7.618000e+03      1.500000      0.000000      0.000000      3.000000   \n",
       "75%    1.068500e+04      2.000000      0.000000      0.000000      4.000000   \n",
       "max    1.651359e+06      3.500000      1.000000      4.000000      5.000000   \n",
       "\n",
       "       ...    sqft_above  sqft_basement      yr_built  yr_renovated  \\\n",
       "count  ...  21597.000000   21597.000000  21597.000000  21597.000000   \n",
       "mean   ...   1788.596842     291.725008   1970.999676     84.464787   \n",
       "std    ...    827.759761     442.667800     29.375234    401.821438   \n",
       "min    ...    370.000000       0.000000   1900.000000      0.000000   \n",
       "25%    ...   1190.000000       0.000000   1951.000000      0.000000   \n",
       "50%    ...   1560.000000       0.000000   1975.000000      0.000000   \n",
       "75%    ...   2210.000000     560.000000   1997.000000      0.000000   \n",
       "max    ...   9410.000000    4820.000000   2015.000000   2015.000000   \n",
       "\n",
       "            zipcode           lat          long  sqft_living15     sqft_lot15  \\\n",
       "count  21597.000000  21597.000000  21597.000000   21597.000000   21597.000000   \n",
       "mean   98077.951845     47.560093   -122.213982    1986.620318   12758.283512   \n",
       "std       53.513072      0.138552      0.140724     685.230472   27274.441950   \n",
       "min    98001.000000     47.155900   -122.519000     399.000000     651.000000   \n",
       "25%    98033.000000     47.471100   -122.328000    1490.000000    5100.000000   \n",
       "50%    98065.000000     47.571800   -122.231000    1840.000000    7620.000000   \n",
       "75%    98118.000000     47.678000   -122.125000    2360.000000   10083.000000   \n",
       "max    98199.000000     47.777600   -121.315000    6210.000000  871200.000000   \n",
       "\n",
       "              price  \n",
       "count  2.159700e+04  \n",
       "mean   5.402966e+05  \n",
       "std    3.673681e+05  \n",
       "min    7.800000e+04  \n",
       "25%    3.220000e+05  \n",
       "50%    4.500000e+05  \n",
       "75%    6.450000e+05  \n",
       "max    7.700000e+06  \n",
       "\n",
       "[8 rows x 21 columns]"
      ]
     },
     "execution_count": 2787,
     "metadata": {},
     "output_type": "execute_result"
    }
   ],
   "source": [
    "hp_df.describe()"
   ]
  },
  {
   "cell_type": "markdown",
   "id": "7decc53c",
   "metadata": {},
   "source": [
    "The average house has about 3 bedrooms, 2080 sqft of living area, a lot size of 15000 sqft, was built in 1970 and has a price of 540000 $. The mean and the median differ alot in the variable sqft lot, where the median is much lower then the mean. This leads to the conculusion that many houses don't have a big lot but a few house with a big lot change the distribution."
   ]
  },
  {
   "cell_type": "code",
   "execution_count": 2788,
   "id": "97e1a5e4",
   "metadata": {
    "scrolled": false
   },
   "outputs": [],
   "source": [
    "# sns.pairplot(hp_df) #To view remove comment. Commented to get higher performance"
   ]
  },
  {
   "cell_type": "markdown",
   "id": "f0cd083e",
   "metadata": {},
   "source": [
    "The Pairplot gives first interesting insides. Obviously there are linear tendencies between variables of size like lot size, size of living room. Many variables are categorical or boolean and should be transformed."
   ]
  },
  {
   "cell_type": "markdown",
   "id": "c680e5ac",
   "metadata": {},
   "source": [
    "## Taking a closer look at certain variables"
   ]
  },
  {
   "cell_type": "markdown",
   "id": "41ea7c05",
   "metadata": {},
   "source": [
    "### Date"
   ]
  },
  {
   "cell_type": "code",
   "execution_count": 2789,
   "id": "730bf39d",
   "metadata": {},
   "outputs": [
    {
     "name": "stdout",
     "output_type": "stream",
     "text": [
      "2014-05-02 2015-05-27\n"
     ]
    }
   ],
   "source": [
    "print(hp_df['date'].min(), hp_df['date'].max())"
   ]
  },
  {
   "cell_type": "markdown",
   "id": "a7890bf7",
   "metadata": {},
   "source": [
    "The date variable displays the date when the house was sold. Data is between May 2014 and May 2015. "
   ]
  },
  {
   "cell_type": "code",
   "execution_count": 2790,
   "id": "72a3815b",
   "metadata": {},
   "outputs": [
    {
     "data": {
      "text/plain": [
       "2.50    5377\n",
       "1.00    3851\n",
       "1.75    3048\n",
       "2.25    2047\n",
       "2.00    1930\n",
       "1.50    1445\n",
       "2.75    1185\n",
       "3.00     753\n",
       "3.50     731\n",
       "3.25     589\n",
       "3.75     155\n",
       "4.00     136\n",
       "4.50     100\n",
       "4.25      79\n",
       "0.75      71\n",
       "4.75      23\n",
       "5.00      21\n",
       "5.25      13\n",
       "5.50      10\n",
       "1.25       9\n",
       "6.00       6\n",
       "0.50       4\n",
       "5.75       4\n",
       "6.75       2\n",
       "8.00       2\n",
       "6.25       2\n",
       "6.50       2\n",
       "7.50       1\n",
       "7.75       1\n",
       "Name: bathrooms, dtype: int64"
      ]
     },
     "execution_count": 2790,
     "metadata": {},
     "output_type": "execute_result"
    }
   ],
   "source": [
    "hp_df['bathrooms'].value_counts()"
   ]
  },
  {
   "cell_type": "markdown",
   "id": "f10b73fd",
   "metadata": {},
   "source": [
    "Most houses have 2,5 bathrooms, a lot also only . A view outliers have a very high number of bathrooms."
   ]
  },
  {
   "cell_type": "markdown",
   "id": "b7c93e42",
   "metadata": {},
   "source": [
    "## Location\n",
    "\n",
    "For the location the datasets offers three features. Latitute and Longitude (only useful combined) and zipcodes. Let's look at both of them."
   ]
  },
  {
   "cell_type": "code",
   "execution_count": 2791,
   "id": "4c592eae",
   "metadata": {
    "scrolled": false
   },
   "outputs": [
    {
     "data": {
      "text/plain": [
       "[Text(0.5, 1.0, 'Houses at waterfront')]"
      ]
     },
     "execution_count": 2791,
     "metadata": {},
     "output_type": "execute_result"
    },
    {
     "data": {
      "image/png": "[encoded data removed]",
      "text/plain": [
       "<Figure size 432x288 with 1 Axes>"
      ]
     },
     "metadata": {
      "needs_background": "light"
     },
     "output_type": "display_data"
    }
   ],
   "source": [
    " sns.scatterplot(data=hp_df, x='long', y='lat', hue = 'waterfront').set(title='Houses at waterfront')"
   ]
  },
  {
   "cell_type": "markdown",
   "id": "e4385a7e",
   "metadata": {},
   "source": [
    "Looking at the geographical location of the houses and displaying the lot size it is visual, that the properties at the are outskirts and the countryside get bigger. "
   ]
  },
  {
   "cell_type": "code",
   "execution_count": 2792,
   "id": "83796a34",
   "metadata": {},
   "outputs": [
    {
     "data": {
      "text/plain": [
       "[Text(0.5, 1.0, 'Zipcode and geographical location')]"
      ]
     },
     "execution_count": 2792,
     "metadata": {},
     "output_type": "execute_result"
    },
    {
     "data": {
      "image/png": "[encoded data removed]",
      "text/plain": [
       "<Figure size 432x288 with 1 Axes>"
      ]
     },
     "metadata": {
      "needs_background": "light"
     },
     "output_type": "display_data"
    }
   ],
   "source": [
    " sns.scatterplot(data=hp_df, x='long', y='lat', hue = 'zipcode').set(title='Zipcode and geographical location')"
   ]
  },
  {
   "cell_type": "markdown",
   "id": "b240be6c",
   "metadata": {},
   "source": [
    "The zipcodes are not in a logical order so the variables should not be used as numerical variables.\n",
    "And alternative idea would be to use the travel distance from the house to the city center. \n",
    "\n",
    "Data was optained from Google Distance Matrix API. \n",
    "['Get distance'](https://github.com/CrisQueCris/Houseprices/blob/main/Get%20Traveldistance%20to%20Seattle%20City%20Center.ipynb)"
   ]
  },
  {
   "cell_type": "code",
   "execution_count": 2793,
   "id": "a51f8473",
   "metadata": {},
   "outputs": [],
   "source": [
    "distance = pd.read_csv('Data/distance.csv')"
   ]
  },
  {
   "cell_type": "code",
   "execution_count": 2794,
   "id": "643851d5",
   "metadata": {},
   "outputs": [],
   "source": [
    "def add_distance():\n",
    "    distance = pd.read_csv('Data/distance.csv')\n",
    "    distance = distance['DistanceM'].astype('float64')\n",
    "    return distance\n",
    "\n",
    "hp_df['distanceM'] = add_distance()"
   ]
  },
  {
   "cell_type": "code",
   "execution_count": 2795,
   "id": "e6a9e63a",
   "metadata": {},
   "outputs": [
    {
     "data": {
      "text/plain": [
       "0        18112.0\n",
       "1        14155.0\n",
       "2        25519.0\n",
       "3        17950.0\n",
       "4        33624.0\n",
       "          ...   \n",
       "21592     9458.0\n",
       "21593    15749.0\n",
       "21594     8836.0\n",
       "21595    30793.0\n",
       "21596     8869.0\n",
       "Name: distanceM, Length: 21597, dtype: float64"
      ]
     },
     "execution_count": 2795,
     "metadata": {},
     "output_type": "execute_result"
    }
   ],
   "source": [
    "hp_df['distanceM']"
   ]
  },
  {
   "cell_type": "code",
   "execution_count": 2796,
   "id": "e2f0b3e8",
   "metadata": {},
   "outputs": [
    {
     "data": {
      "text/plain": [
       "[Text(0.5, 1.0, 'Geographical location and distance to citycenter by car')]"
      ]
     },
     "execution_count": 2796,
     "metadata": {},
     "output_type": "execute_result"
    },
    {
     "data": {
      "image/png": "[encoded data removed]",
      "text/plain": [
       "<Figure size 432x288 with 1 Axes>"
      ]
     },
     "metadata": {
      "needs_background": "light"
     },
     "output_type": "display_data"
    }
   ],
   "source": [
    "sns.scatterplot(data=hp_df, x='long', y='lat', hue = 'distanceM').set(title='Geographical location and distance to citycenter by car')"
   ]
  },
  {
   "cell_type": "markdown",
   "id": "5c558344",
   "metadata": {},
   "source": [
    "## Year renovated"
   ]
  },
  {
   "cell_type": "code",
   "execution_count": 2797,
   "id": "a34be705",
   "metadata": {},
   "outputs": [
    {
     "data": {
      "text/plain": [
       "[Text(0.5, 1.0, 'Histogram of Year renovated')]"
      ]
     },
     "execution_count": 2797,
     "metadata": {},
     "output_type": "execute_result"
    },
    {
     "data": {
      "image/png": "[encoded data removed]",
      "text/plain": [
       "<Figure size 432x288 with 1 Axes>"
      ]
     },
     "metadata": {
      "needs_background": "light"
     },
     "output_type": "display_data"
    }
   ],
   "source": [
    "sns.histplot(data=hp_df, x='yr_renovated').set(title= 'Histogram of Year renovated')"
   ]
  },
  {
   "cell_type": "markdown",
   "id": "48680aaf",
   "metadata": {},
   "source": [
    "The year renovated displays a 0 if the house was not yet renovated. This is not useful information in a linear regression. \n",
    "\n",
    "Workaround:\n",
    "\n",
    "introduce boolean variable: Renovated: Yes/N0\n",
    "Put zero values as No  \n"
   ]
  },
  {
   "cell_type": "code",
   "execution_count": 2798,
   "id": "afc6f533",
   "metadata": {},
   "outputs": [],
   "source": [
    "hp_df['renovated'] = bool"
   ]
  },
  {
   "cell_type": "code",
   "execution_count": 2799,
   "id": "43d2bcb5",
   "metadata": {
    "scrolled": true
   },
   "outputs": [],
   "source": [
    "hp_df.loc[hp_df['yr_renovated'] == 0, 'renovated'] = False"
   ]
  },
  {
   "cell_type": "code",
   "execution_count": 2800,
   "id": "74b43371",
   "metadata": {},
   "outputs": [],
   "source": [
    "hp_df.loc[hp_df['yr_renovated'] != 0, 'renovated'] = True"
   ]
  },
  {
   "cell_type": "markdown",
   "id": "acb56f67",
   "metadata": {},
   "source": [
    "## Basement"
   ]
  },
  {
   "cell_type": "code",
   "execution_count": 2801,
   "id": "c6306aa9",
   "metadata": {},
   "outputs": [
    {
     "data": {
      "text/plain": [
       "<AxesSubplot:xlabel='sqft_basement', ylabel='Count'>"
      ]
     },
     "execution_count": 2801,
     "metadata": {},
     "output_type": "execute_result"
    },
    {
     "data": {
      "image/png": "[encoded data removed]",
      "text/plain": [
       "<Figure size 432x288 with 1 Axes>"
      ]
     },
     "metadata": {
      "needs_background": "light"
     },
     "output_type": "display_data"
    }
   ],
   "source": [
    "sns.histplot(data=hp_df, x='sqft_basement')"
   ]
  },
  {
   "cell_type": "markdown",
   "id": "07907b25",
   "metadata": {},
   "source": [
    "Most Houses don't have a basement, so a dummy will be introduced checking for basement or not:"
   ]
  },
  {
   "cell_type": "code",
   "execution_count": 2802,
   "id": "4c377a91",
   "metadata": {},
   "outputs": [],
   "source": [
    "hp_df.loc[hp_df['sqft_basement'] == 0, 'basement'] = False\n",
    "hp_df.loc[hp_df['sqft_basement'] != 0, 'basement'] = True"
   ]
  },
  {
   "cell_type": "markdown",
   "id": "3f6c0b8d",
   "metadata": {},
   "source": [
    "## Grade"
   ]
  },
  {
   "cell_type": "markdown",
   "id": "ee487a25",
   "metadata": {},
   "source": [
    "Bin grade to have a better classification:"
   ]
  },
  {
   "cell_type": "code",
   "execution_count": 2803,
   "id": "5c52dda3",
   "metadata": {},
   "outputs": [],
   "source": [
    "grade_mean = hp_df['grade'].mean()"
   ]
  },
  {
   "cell_type": "code",
   "execution_count": 2804,
   "id": "9c77155c",
   "metadata": {
    "scrolled": true
   },
   "outputs": [
    {
     "name": "stderr",
     "output_type": "stream",
     "text": [
      "C:\\Users\\Lenovo\\AppData\\Local\\Temp\\ipykernel_2356\\79735779.py:3: SettingWithCopyWarning: \n",
      "A value is trying to be set on a copy of a slice from a DataFrame\n",
      "\n",
      "See the caveats in the documentation: https://pandas.pydata.org/pandas-docs/stable/user_guide/indexing.html#returning-a-view-versus-a-copy\n",
      "  hp_df['grade'][i] = 'below_avg'\n"
     ]
    }
   ],
   "source": [
    "for i in range(0,len(hp_df)):\n",
    "    if hp_df['grade'][i]<grade_mean:\n",
    "        hp_df['grade'][i] = 'below_avg'\n",
    "    else:\n",
    "        hp_df['grade'][i] = 'avg_or_better'\n",
    "        "
   ]
  },
  {
   "cell_type": "code",
   "execution_count": 2805,
   "id": "786c0a94",
   "metadata": {},
   "outputs": [
    {
     "data": {
      "text/plain": [
       "<AxesSubplot:xlabel='grade', ylabel='Count'>"
      ]
     },
     "execution_count": 2805,
     "metadata": {},
     "output_type": "execute_result"
    },
    {
     "data": {
      "image/png": "[encoded data removed]",
      "text/plain": [
       "<Figure size 432x288 with 1 Axes>"
      ]
     },
     "metadata": {
      "needs_background": "light"
     },
     "output_type": "display_data"
    }
   ],
   "source": [
    "sns.histplot(hp_df['grade'])"
   ]
  },
  {
   "cell_type": "markdown",
   "id": "5a6a3bfd",
   "metadata": {},
   "source": [
    "## Floors"
   ]
  },
  {
   "cell_type": "code",
   "execution_count": 2806,
   "id": "d882a0e6",
   "metadata": {},
   "outputs": [
    {
     "data": {
      "text/plain": [
       "<AxesSubplot:xlabel='floors', ylabel='Count'>"
      ]
     },
     "execution_count": 2806,
     "metadata": {},
     "output_type": "execute_result"
    },
    {
     "data": {
      "image/png": "[encoded data removed]",
      "text/plain": [
       "<Figure size 432x288 with 1 Axes>"
      ]
     },
     "metadata": {
      "needs_background": "light"
     },
     "output_type": "display_data"
    }
   ],
   "source": [
    "sns.histplot(hp_df['floors'])"
   ]
  },
  {
   "cell_type": "code",
   "execution_count": 2807,
   "id": "ebfa3d73",
   "metadata": {},
   "outputs": [
    {
     "data": {
      "text/plain": [
       "1.0    10673\n",
       "2.0     8235\n",
       "1.5     1910\n",
       "3.0      611\n",
       "2.5      161\n",
       "3.5        7\n",
       "Name: floors, dtype: int64"
      ]
     },
     "execution_count": 2807,
     "metadata": {},
     "output_type": "execute_result"
    }
   ],
   "source": [
    "hp_df['floors'].value_counts()"
   ]
  },
  {
   "cell_type": "markdown",
   "id": "a8a550e9",
   "metadata": {},
   "source": [
    "Binning floors to 2 categories: One floor and more than one floor."
   ]
  },
  {
   "cell_type": "code",
   "execution_count": 2808,
   "id": "d1589017",
   "metadata": {},
   "outputs": [],
   "source": [
    "for i in range(0, len(hp_df)):\n",
    "    if hp_df.loc[i, 'floors'] <= 1.0:\n",
    "        hp_df.loc[i,'floors'] = 'one'\n",
    "    else: \n",
    "        hp_df.loc[i, 'floors'] = 'more_than_one'"
   ]
  },
  {
   "cell_type": "code",
   "execution_count": 2809,
   "id": "03a5f283",
   "metadata": {},
   "outputs": [
    {
     "data": {
      "text/plain": [
       "<AxesSubplot:xlabel='floors', ylabel='Count'>"
      ]
     },
     "execution_count": 2809,
     "metadata": {},
     "output_type": "execute_result"
    },
    {
     "data": {
      "image/png": "[encoded data removed]",
      "text/plain": [
       "<Figure size 432x288 with 1 Axes>"
      ]
     },
     "metadata": {
      "needs_background": "light"
     },
     "output_type": "display_data"
    }
   ],
   "source": [
    "sns.histplot(hp_df['floors'])"
   ]
  },
  {
   "cell_type": "markdown",
   "id": "35ca0b83",
   "metadata": {},
   "source": [
    "## Dropping columns:\n",
    "\n",
    "For now the columns Unnamed, id, date and long, lat will be dropped from the dataframe."
   ]
  },
  {
   "cell_type": "code",
   "execution_count": 2810,
   "id": "c748eb9c",
   "metadata": {},
   "outputs": [],
   "source": [
    "col_drop = ['Unnamed: 0',\\\n",
    "            'id',\\\n",
    "            'date',\\\n",
    "           'long',\\\n",
    "            'sqft_basement',\\\n",
    "            'yr_renovated',\\\n",
    "           'lat']   \n",
    "# 'Unnamed: 0' : id from import without information\n",
    "# 'id': random or consequtive values without values\n",
    "# 'date': probably the date the house was added to the database, no additional information for houseprice\n",
    "# 'lang', 'lat': Geografical data, not usable in linear regression like this, can be converted to zones using knn. \n",
    "#    Task for later. But zip codes are enough, probably\n"
   ]
  },
  {
   "cell_type": "code",
   "execution_count": 2811,
   "id": "57635f2e",
   "metadata": {},
   "outputs": [],
   "source": [
    "hp_df = hp_df.drop(col_drop, axis= 1)"
   ]
  },
  {
   "cell_type": "markdown",
   "id": "ff110eef",
   "metadata": {},
   "source": [
    "## Changing datatypes\n"
   ]
  },
  {
   "cell_type": "markdown",
   "id": "2b6dd6e1",
   "metadata": {},
   "source": [
    "The format of the features are mostly numerical (int or float). Many of the variables have to be transformed to category to give meaningful results in a regression.\n",
    "These are:\n",
    "\n",
    "'zipcode, 'bedrooms', 'bathrooms', 'floors', 'waterfront', 'view', 'condition', 'grade'"
   ]
  },
  {
   "cell_type": "code",
   "execution_count": 2812,
   "id": "d9f8a436",
   "metadata": {},
   "outputs": [
    {
     "name": "stdout",
     "output_type": "stream",
     "text": [
      "<class 'pandas.core.frame.DataFrame'>\n",
      "RangeIndex: 21597 entries, 0 to 21596\n",
      "Data columns (total 18 columns):\n",
      " #   Column         Non-Null Count  Dtype  \n",
      "---  ------         --------------  -----  \n",
      " 0   bedrooms       21597 non-null  int64  \n",
      " 1   bathrooms      21597 non-null  float64\n",
      " 2   sqft_living    21597 non-null  int64  \n",
      " 3   sqft_lot       21597 non-null  int64  \n",
      " 4   floors         21597 non-null  object \n",
      " 5   waterfront     21597 non-null  int64  \n",
      " 6   view           21597 non-null  int64  \n",
      " 7   condition      21597 non-null  int64  \n",
      " 8   grade          21597 non-null  object \n",
      " 9   sqft_above     21597 non-null  int64  \n",
      " 10  yr_built       21597 non-null  int64  \n",
      " 11  zipcode        21597 non-null  int64  \n",
      " 12  sqft_living15  21597 non-null  int64  \n",
      " 13  sqft_lot15     21597 non-null  int64  \n",
      " 14  price          21597 non-null  int64  \n",
      " 15  distanceM      21597 non-null  float64\n",
      " 16  renovated      21597 non-null  object \n",
      " 17  basement       21597 non-null  object \n",
      "dtypes: float64(2), int64(12), object(4)\n",
      "memory usage: 3.0+ MB\n"
     ]
    }
   ],
   "source": [
    "hp_df.info()"
   ]
  },
  {
   "cell_type": "code",
   "execution_count": 2813,
   "id": "b62cf06d",
   "metadata": {},
   "outputs": [],
   "source": [
    "# From the pairplot we can see which columns are categorical/dummies:\n",
    "#  bedrooms, bathrooms, floors, waterfront, view, condition, grade\n",
    "\n",
    "\n",
    "def change_to_cat(ordinal_var):\n",
    "    return hp_df[ordinal_var].astype('category')\n",
    "\n",
    "\n",
    "cat_var = ['zipcode', 'floors', 'waterfront', 'view', 'condition', 'grade']\n",
    "hp_df[ordinal_var] = change_to_cat(cat_var)"
   ]
  },
  {
   "cell_type": "markdown",
   "id": "135fafbb",
   "metadata": {},
   "source": [
    "## Checking correlation of numerical variables"
   ]
  },
  {
   "cell_type": "code",
   "execution_count": 2814,
   "id": "b0fc4753",
   "metadata": {
    "scrolled": true
   },
   "outputs": [
    {
     "data": {
      "image/png": "[encoded data removed]",
      "text/plain": [
       "<Figure size 648x504 with 2 Axes>"
      ]
     },
     "metadata": {},
     "output_type": "display_data"
    }
   ],
   "source": [
    "def print_cor_mat(df):\n",
    "    corr = df.corr()\n",
    "    mask = np.zeros_like(corr)\n",
    "    mask[np.triu_indices_from(mask)] = True\n",
    "    with sns.axes_style(\"white\"):\n",
    "        f, ax = plt.subplots(figsize=(9, 7))\n",
    "        ax = sns.heatmap(corr, mask=mask,cmap='coolwarm', vmin=-1,vmax=1,annot=True, square=True)\n",
    "    \n",
    "print_cor_mat(hp_df)    "
   ]
  },
  {
   "cell_type": "markdown",
   "id": "a598a819",
   "metadata": {},
   "source": [
    "The features should not be correlated in order to fulfill the asumtions of linear regression.\n",
    "As expected there is a lot of correlation between sqf_above, sqf_living and other measures of size. \n",
    "\n",
    "We drop sqf_above as correlation is over the threshold of 0.8."
   ]
  },
  {
   "cell_type": "code",
   "execution_count": 2815,
   "id": "0bd5eb60",
   "metadata": {},
   "outputs": [],
   "source": [
    "def drop_above_threshold(df, threshold):\n",
    "    corr_matrix=hp_df.corr().abs()\n",
    "    upper_triangle=corr_matrix.where(np.triu(np.ones(corr_matrix.shape),k=1).astype(bool))\n",
    "    corr_var = [column for column in upper_triangle.columns if any(upper_triangle[column] > threshold)]\n",
    "    return df.drop(corr_var, axis= 1)\n",
    "\n",
    "\n",
    "hp_df = drop_above_threshold(hp_df, 0.80)"
   ]
  },
  {
   "cell_type": "code",
   "execution_count": 2816,
   "id": "22505d05",
   "metadata": {},
   "outputs": [
    {
     "data": {
      "image/png": "[encoded data removed]",
      "text/plain": [
       "<Figure size 648x504 with 2 Axes>"
      ]
     },
     "metadata": {},
     "output_type": "display_data"
    }
   ],
   "source": [
    "print_cor_mat(hp_df)"
   ]
  },
  {
   "cell_type": "markdown",
   "id": "75b9cf9b",
   "metadata": {},
   "source": [
    "The new dataframe does not contain anymore variables with a higher correlation than 0.8."
   ]
  },
  {
   "cell_type": "markdown",
   "id": "b3ceba64",
   "metadata": {},
   "source": [
    "# Normalization"
   ]
  },
  {
   "cell_type": "markdown",
   "id": "73a9e89b",
   "metadata": {},
   "source": [
    "## Histograms\n",
    "To check for the assumtion of normal distributions we check the histograms of the numerical variables"
   ]
  },
  {
   "cell_type": "code",
   "execution_count": 2817,
   "id": "e61cb7b3",
   "metadata": {},
   "outputs": [
    {
     "data": {
      "text/plain": [
       "array([[<AxesSubplot:title={'center':'bedrooms'}>,\n",
       "        <AxesSubplot:title={'center':'bathrooms'}>,\n",
       "        <AxesSubplot:title={'center':'sqft_living'}>],\n",
       "       [<AxesSubplot:title={'center':'sqft_lot'}>,\n",
       "        <AxesSubplot:title={'center':'yr_built'}>,\n",
       "        <AxesSubplot:title={'center':'sqft_living15'}>],\n",
       "       [<AxesSubplot:title={'center':'sqft_lot15'}>,\n",
       "        <AxesSubplot:title={'center':'price'}>,\n",
       "        <AxesSubplot:title={'center':'distanceM'}>]], dtype=object)"
      ]
     },
     "execution_count": 2817,
     "metadata": {},
     "output_type": "execute_result"
    },
    {
     "data": {
      "image/png": "[encoded data removed]",
      "text/plain": [
       "<Figure size 864x864 with 9 Axes>"
      ]
     },
     "metadata": {
      "needs_background": "light"
     },
     "output_type": "display_data"
    }
   ],
   "source": [
    "def get_num_attributes(df):\n",
    "    return df.select_dtypes(['int64','float'])\n",
    "\n",
    "def print_hist(df):\n",
    "    return get_num_attributes(hp_df).hist(figsize=(12,12), bins=40)\n",
    "\n",
    "print_hist(hp_df)"
   ]
  },
  {
   "cell_type": "markdown",
   "id": "3d208350",
   "metadata": {},
   "source": [
    "All numerical varibales are non-normaly distributed and need to be transformed. "
   ]
  },
  {
   "cell_type": "markdown",
   "id": "a9192c43",
   "metadata": {},
   "source": [
    "## Transforming to normal distribution"
   ]
  },
  {
   "cell_type": "code",
   "execution_count": 2818,
   "id": "3cd80908",
   "metadata": {},
   "outputs": [],
   "source": [
    "numerical_vars = get_num_attributes(hp_df)"
   ]
  },
  {
   "cell_type": "markdown",
   "id": "c0f1fd3b",
   "metadata": {},
   "source": [
    "For the transformation of the variables the Quantile Transformer is applied. "
   ]
  },
  {
   "cell_type": "code",
   "execution_count": 2819,
   "id": "8cab4152",
   "metadata": {
    "scrolled": false
   },
   "outputs": [],
   "source": [
    "def transform_num_attr(df, method='qt'):\n",
    "    df,y=Xy_split(hp_df, 'price') #remove 'price'\n",
    "    num_cols = list(get_num_attributes(df).columns)\n",
    "    to_trans={}\n",
    "    for key in num_cols:\n",
    "        to_trans[key]= method\n",
    "    pt = PowerTransformer()\n",
    "    qt = QuantileTransformer(output_distribution=\"normal\")\n",
    "    \n",
    "    transformed_cols = []\n",
    "    col_name = []\n",
    "    for i in to_trans.keys():\n",
    "        if list(to_trans.values())[0] == 'pt':\n",
    "            transformed = pt.fit_transform(df[i].to_numpy().reshape(-1,1))\n",
    "        elif list(to_trans.values())[0] == 'qt':\n",
    "            transformed = qt.fit_transform(df[i].to_numpy().reshape(-1,1))\n",
    "        else: \n",
    "            print('no transformer could be identified')\n",
    "        col_name = i+'_transformed'\n",
    "        #sns.displot(transformed).set(title=f'Histogram of {col_name}')\n",
    "        df[col_name] = transformed\n",
    "        transformed_cols = transformed_cols + [col_name]\n",
    "        df.drop(i, axis= 1, inplace=True)\n",
    "    return df, transformed_cols\n",
    "\n",
    "\n",
    "hp_df, transformed_cols = transform_num_attr(hp_df)"
   ]
  },
  {
   "cell_type": "code",
   "execution_count": 2820,
   "id": "b816fe0f",
   "metadata": {
    "scrolled": true
   },
   "outputs": [
    {
     "data": {
      "text/plain": [
       "array([[<AxesSubplot:title={'center':'bedrooms_transformed'}>,\n",
       "        <AxesSubplot:title={'center':'bathrooms_transformed'}>,\n",
       "        <AxesSubplot:title={'center':'sqft_living_transformed'}>],\n",
       "       [<AxesSubplot:title={'center':'sqft_lot_transformed'}>,\n",
       "        <AxesSubplot:title={'center':'yr_built_transformed'}>,\n",
       "        <AxesSubplot:title={'center':'sqft_living15_transformed'}>],\n",
       "       [<AxesSubplot:title={'center':'sqft_lot15_transformed'}>,\n",
       "        <AxesSubplot:title={'center':'distanceM_transformed'}>,\n",
       "        <AxesSubplot:>]], dtype=object)"
      ]
     },
     "execution_count": 2820,
     "metadata": {},
     "output_type": "execute_result"
    },
    {
     "data": {
      "image/png": "[encoded data removed]",
      "text/plain": [
       "<Figure size 864x864 with 9 Axes>"
      ]
     },
     "metadata": {
      "needs_background": "light"
     },
     "output_type": "display_data"
    }
   ],
   "source": [
    "print_hist(hp_df)"
   ]
  },
  {
   "cell_type": "markdown",
   "id": "998fd5ff",
   "metadata": {},
   "source": [
    "After transformation all numerical input variables display a normal distribution."
   ]
  },
  {
   "cell_type": "markdown",
   "id": "b9fc6dd2",
   "metadata": {},
   "source": [
    "## Remove outliers"
   ]
  },
  {
   "cell_type": "markdown",
   "id": "333e5c3f",
   "metadata": {},
   "source": [
    "The Datasets contains a few datapoints that can described as outliers. One house for example as 33 rooms while the average amount of rooms is around 3. Using the two time the Interquartile range whe remove the outliers. "
   ]
  },
  {
   "cell_type": "code",
   "execution_count": 2821,
   "id": "330dd956",
   "metadata": {},
   "outputs": [
    {
     "data": {
      "text/plain": [
       "['bedrooms_transformed',\n",
       " 'bathrooms_transformed',\n",
       " 'sqft_living_transformed',\n",
       " 'sqft_lot_transformed',\n",
       " 'yr_built_transformed',\n",
       " 'sqft_living15_transformed',\n",
       " 'sqft_lot15_transformed',\n",
       " 'distanceM_transformed']"
      ]
     },
     "execution_count": 2821,
     "metadata": {},
     "output_type": "execute_result"
    }
   ],
   "source": [
    "transformed_cols"
   ]
  },
  {
   "cell_type": "code",
   "execution_count": 2822,
   "id": "3298aceb",
   "metadata": {},
   "outputs": [
    {
     "data": {
      "image/png": "[encoded data removed]",
      "text/plain": [
       "<Figure size 432x288 with 1 Axes>"
      ]
     },
     "metadata": {
      "needs_background": "light"
     },
     "output_type": "display_data"
    }
   ],
   "source": [
    "for i in transformed_cols:\n",
    "    sns.boxplot(data=hp_df[transformed_cols]).set(title='Boxplots of numerical variables showing outliers')\n",
    "    plt.xticks(rotation=90)"
   ]
  },
  {
   "cell_type": "code",
   "execution_count": 2823,
   "id": "775308b7",
   "metadata": {},
   "outputs": [],
   "source": [
    " len_before = hp_df.shape[0]"
   ]
  },
  {
   "cell_type": "code",
   "execution_count": 2824,
   "id": "772c0254",
   "metadata": {},
   "outputs": [],
   "source": [
    "def remove_outlier(df_in, col_name):\n",
    "    q1 = df_in[col_name].quantile(0.25)\n",
    "    q3 = df_in[col_name].quantile(0.75)\n",
    "    iqr = q3-q1 #Interquartile range\n",
    "    fence_low  = q1-2*iqr\n",
    "    fence_high = q3+2*iqr\n",
    "    df_out = df_in.loc[(df_in[col_name] > fence_low) & (df_in[col_name] < fence_high)]\n",
    "    return df_out\n",
    "\n",
    "for i in transformed_cols: \n",
    "    hp_df = remove_outlier(hp_df, i )"
   ]
  },
  {
   "cell_type": "code",
   "execution_count": 2825,
   "id": "a4f276cf",
   "metadata": {
    "scrolled": false
   },
   "outputs": [
    {
     "data": {
      "image/png": "[encoded data removed]",
      "text/plain": [
       "<Figure size 432x288 with 1 Axes>"
      ]
     },
     "metadata": {
      "needs_background": "light"
     },
     "output_type": "display_data"
    }
   ],
   "source": [
    "for i in transformed_cols:\n",
    "    sns.boxplot(data=hp_df[transformed_cols]).set(title='Boxplots of numerical variables without outliers')\n",
    "    plt.xticks(rotation=90)"
   ]
  },
  {
   "cell_type": "code",
   "execution_count": 2826,
   "id": "340b502f",
   "metadata": {},
   "outputs": [],
   "source": [
    "len_after = hp_df.shape[0]"
   ]
  },
  {
   "cell_type": "code",
   "execution_count": 2827,
   "id": "eaaea842",
   "metadata": {
    "scrolled": true
   },
   "outputs": [
    {
     "name": "stdout",
     "output_type": "stream",
     "text": [
      "Of the original dataset 97.46% of rows remain\n"
     ]
    }
   ],
   "source": [
    "print(f'Of the original dataset {round(len_after/len_before * 100, 2)}% of rows remain')"
   ]
  },
  {
   "cell_type": "markdown",
   "id": "36274778",
   "metadata": {},
   "source": [
    "## One-hot encode categorical variables"
   ]
  },
  {
   "cell_type": "code",
   "execution_count": 2828,
   "id": "f0d027fd",
   "metadata": {},
   "outputs": [
    {
     "name": "stdout",
     "output_type": "stream",
     "text": [
      "<class 'pandas.core.frame.DataFrame'>\n",
      "Int64Index: 21048 entries, 0 to 21595\n",
      "Data columns (total 16 columns):\n",
      " #   Column                     Non-Null Count  Dtype   \n",
      "---  ------                     --------------  -----   \n",
      " 0   floors                     21048 non-null  category\n",
      " 1   waterfront                 21048 non-null  category\n",
      " 2   view                       21048 non-null  category\n",
      " 3   condition                  21048 non-null  category\n",
      " 4   grade                      21048 non-null  category\n",
      " 5   zipcode                    21048 non-null  category\n",
      " 6   renovated                  21048 non-null  object  \n",
      " 7   basement                   21048 non-null  object  \n",
      " 8   bedrooms_transformed       21048 non-null  float64 \n",
      " 9   bathrooms_transformed      21048 non-null  float64 \n",
      " 10  sqft_living_transformed    21048 non-null  float64 \n",
      " 11  sqft_lot_transformed       21048 non-null  float64 \n",
      " 12  yr_built_transformed       21048 non-null  float64 \n",
      " 13  sqft_living15_transformed  21048 non-null  float64 \n",
      " 14  sqft_lot15_transformed     21048 non-null  float64 \n",
      " 15  distanceM_transformed      21048 non-null  float64 \n",
      "dtypes: category(6), float64(8), object(2)\n",
      "memory usage: 1.9+ MB\n"
     ]
    }
   ],
   "source": [
    "hp_df.info()"
   ]
  },
  {
   "cell_type": "code",
   "execution_count": 2829,
   "id": "f432f8d8",
   "metadata": {},
   "outputs": [],
   "source": [
    "def get_cat_attr(df):\n",
    "    return df.select_dtypes(['object', 'category'])\n",
    "\n"
   ]
  },
  {
   "cell_type": "code",
   "execution_count": 2830,
   "id": "b0e8c857",
   "metadata": {},
   "outputs": [
    {
     "name": "stdout",
     "output_type": "stream",
     "text": [
      "['floors', 'waterfront', 'view', 'condition', 'grade', 'zipcode', 'renovated', 'basement']\n"
     ]
    }
   ],
   "source": [
    "def transform_to_dummies(df):\n",
    "    col_names_object = list(get_cat_attr(df).columns)\n",
    "    print(col_names_object)\n",
    "    dummies= pd.get_dummies(df[col_names_object] , drop_first=True)\n",
    "    df = df.drop(col_names_object, axis = 1)\n",
    "    df[dummies.columns] = dummies\n",
    "    return df, dummies\n",
    "hp_df, dummies = transform_to_dummies(hp_df)"
   ]
  },
  {
   "cell_type": "markdown",
   "id": "adc28250",
   "metadata": {},
   "source": [
    "## Linear Regression"
   ]
  },
  {
   "cell_type": "markdown",
   "id": "43e9d3c1",
   "metadata": {},
   "source": [
    "We're splitting into X and y (predictors and target variable).\n"
   ]
  },
  {
   "cell_type": "code",
   "execution_count": 2831,
   "id": "f7df0d05",
   "metadata": {
    "scrolled": true
   },
   "outputs": [],
   "source": [
    "def Xy_split(df, output_col):\n",
    "    \"\"\" Split the dataset into:\n",
    "        X = dataframe of input variables\n",
    "        y = predicted variable\n",
    "    \"\"\"\n",
    "    X=df.drop(output_col, axis=1)\n",
    "    y=df[output_col]\n",
    "    return X, y\n",
    "hp_df['price'] = y\n",
    "X,y = Xy_split(hp_df, 'price') "
   ]
  },
  {
   "cell_type": "markdown",
   "id": "403721c6",
   "metadata": {},
   "source": [
    "We're creating train and test-sets."
   ]
  },
  {
   "cell_type": "code",
   "execution_count": 2832,
   "id": "acf1c902",
   "metadata": {},
   "outputs": [],
   "source": [
    "X_train, X_test, y_train, y_test=train_test_split(X, y, test_size=.30,random_state=100)"
   ]
  },
  {
   "cell_type": "markdown",
   "id": "a3a98085",
   "metadata": {},
   "source": [
    "We're scaling the data using Standard Scaler."
   ]
  },
  {
   "cell_type": "code",
   "execution_count": 2833,
   "id": "7a5221db",
   "metadata": {},
   "outputs": [
    {
     "data": {
      "text/plain": [
       "((21048, 82), (14733, 90))"
      ]
     },
     "execution_count": 2833,
     "metadata": {},
     "output_type": "execute_result"
    }
   ],
   "source": [
    "np.asarray(dummies).shape, X_train_scaled.shape"
   ]
  },
  {
   "cell_type": "code",
   "execution_count": 2834,
   "id": "1f8b97f4",
   "metadata": {},
   "outputs": [
    {
     "data": {
      "text/html": [
       "<div>\n",
       "<style scoped>\n",
       "    .dataframe tbody tr th:only-of-type {\n",
       "        vertical-align: middle;\n",
       "    }\n",
       "\n",
       "    .dataframe tbody tr th {\n",
       "        vertical-align: top;\n",
       "    }\n",
       "\n",
       "    .dataframe thead th {\n",
       "        text-align: right;\n",
       "    }\n",
       "</style>\n",
       "<table border=\"1\" class=\"dataframe\">\n",
       "  <thead>\n",
       "    <tr style=\"text-align: right;\">\n",
       "      <th></th>\n",
       "      <th>bedrooms_transformed</th>\n",
       "      <th>bathrooms_transformed</th>\n",
       "      <th>sqft_living_transformed</th>\n",
       "      <th>sqft_lot_transformed</th>\n",
       "      <th>yr_built_transformed</th>\n",
       "      <th>sqft_living15_transformed</th>\n",
       "      <th>sqft_lot15_transformed</th>\n",
       "      <th>distanceM_transformed</th>\n",
       "      <th>floors_one</th>\n",
       "      <th>waterfront_1</th>\n",
       "      <th>...</th>\n",
       "      <th>zipcode_98155</th>\n",
       "      <th>zipcode_98166</th>\n",
       "      <th>zipcode_98168</th>\n",
       "      <th>zipcode_98177</th>\n",
       "      <th>zipcode_98178</th>\n",
       "      <th>zipcode_98188</th>\n",
       "      <th>zipcode_98198</th>\n",
       "      <th>zipcode_98199</th>\n",
       "      <th>renovated_True</th>\n",
       "      <th>basement_True</th>\n",
       "    </tr>\n",
       "  </thead>\n",
       "  <tbody>\n",
       "    <tr>\n",
       "      <th>20522</th>\n",
       "      <td>-0.346817</td>\n",
       "      <td>0.520661</td>\n",
       "      <td>0.181652</td>\n",
       "      <td>1.583588</td>\n",
       "      <td>1.744448</td>\n",
       "      <td>0.177827</td>\n",
       "      <td>0.436544</td>\n",
       "      <td>1.599003</td>\n",
       "      <td>1</td>\n",
       "      <td>0</td>\n",
       "      <td>...</td>\n",
       "      <td>0</td>\n",
       "      <td>0</td>\n",
       "      <td>0</td>\n",
       "      <td>0</td>\n",
       "      <td>0</td>\n",
       "      <td>0</td>\n",
       "      <td>0</td>\n",
       "      <td>0</td>\n",
       "      <td>0</td>\n",
       "      <td>0</td>\n",
       "    </tr>\n",
       "    <tr>\n",
       "      <th>11455</th>\n",
       "      <td>0.678433</td>\n",
       "      <td>0.067799</td>\n",
       "      <td>0.487893</td>\n",
       "      <td>1.086344</td>\n",
       "      <td>0.069056</td>\n",
       "      <td>0.997920</td>\n",
       "      <td>0.923439</td>\n",
       "      <td>0.441800</td>\n",
       "      <td>1</td>\n",
       "      <td>0</td>\n",
       "      <td>...</td>\n",
       "      <td>0</td>\n",
       "      <td>0</td>\n",
       "      <td>0</td>\n",
       "      <td>0</td>\n",
       "      <td>0</td>\n",
       "      <td>0</td>\n",
       "      <td>0</td>\n",
       "      <td>0</td>\n",
       "      <td>0</td>\n",
       "      <td>0</td>\n",
       "    </tr>\n",
       "    <tr>\n",
       "      <th>9349</th>\n",
       "      <td>0.678433</td>\n",
       "      <td>-0.163824</td>\n",
       "      <td>-0.406079</td>\n",
       "      <td>0.869846</td>\n",
       "      <td>-1.077446</td>\n",
       "      <td>-1.269664</td>\n",
       "      <td>0.236269</td>\n",
       "      <td>-0.226980</td>\n",
       "      <td>1</td>\n",
       "      <td>0</td>\n",
       "      <td>...</td>\n",
       "      <td>0</td>\n",
       "      <td>1</td>\n",
       "      <td>0</td>\n",
       "      <td>0</td>\n",
       "      <td>0</td>\n",
       "      <td>0</td>\n",
       "      <td>0</td>\n",
       "      <td>0</td>\n",
       "      <td>0</td>\n",
       "      <td>0</td>\n",
       "    </tr>\n",
       "    <tr>\n",
       "      <th>9566</th>\n",
       "      <td>-1.453280</td>\n",
       "      <td>-0.786745</td>\n",
       "      <td>-0.110627</td>\n",
       "      <td>0.053973</td>\n",
       "      <td>-0.517790</td>\n",
       "      <td>-0.886449</td>\n",
       "      <td>0.067799</td>\n",
       "      <td>-0.292849</td>\n",
       "      <td>1</td>\n",
       "      <td>0</td>\n",
       "      <td>...</td>\n",
       "      <td>0</td>\n",
       "      <td>0</td>\n",
       "      <td>0</td>\n",
       "      <td>0</td>\n",
       "      <td>0</td>\n",
       "      <td>0</td>\n",
       "      <td>0</td>\n",
       "      <td>0</td>\n",
       "      <td>0</td>\n",
       "      <td>1</td>\n",
       "    </tr>\n",
       "    <tr>\n",
       "      <th>9761</th>\n",
       "      <td>-0.346817</td>\n",
       "      <td>0.067799</td>\n",
       "      <td>0.366873</td>\n",
       "      <td>0.311059</td>\n",
       "      <td>-0.492137</td>\n",
       "      <td>0.533636</td>\n",
       "      <td>0.380326</td>\n",
       "      <td>-0.308863</td>\n",
       "      <td>1</td>\n",
       "      <td>0</td>\n",
       "      <td>...</td>\n",
       "      <td>0</td>\n",
       "      <td>0</td>\n",
       "      <td>0</td>\n",
       "      <td>0</td>\n",
       "      <td>0</td>\n",
       "      <td>0</td>\n",
       "      <td>0</td>\n",
       "      <td>0</td>\n",
       "      <td>0</td>\n",
       "      <td>0</td>\n",
       "    </tr>\n",
       "    <tr>\n",
       "      <th>...</th>\n",
       "      <td>...</td>\n",
       "      <td>...</td>\n",
       "      <td>...</td>\n",
       "      <td>...</td>\n",
       "      <td>...</td>\n",
       "      <td>...</td>\n",
       "      <td>...</td>\n",
       "      <td>...</td>\n",
       "      <td>...</td>\n",
       "      <td>...</td>\n",
       "      <td>...</td>\n",
       "      <td>...</td>\n",
       "      <td>...</td>\n",
       "      <td>...</td>\n",
       "      <td>...</td>\n",
       "      <td>...</td>\n",
       "      <td>...</td>\n",
       "      <td>...</td>\n",
       "      <td>...</td>\n",
       "      <td>...</td>\n",
       "      <td>...</td>\n",
       "    </tr>\n",
       "    <tr>\n",
       "      <th>16701</th>\n",
       "      <td>0.678433</td>\n",
       "      <td>-0.163824</td>\n",
       "      <td>0.074087</td>\n",
       "      <td>0.664392</td>\n",
       "      <td>-1.362078</td>\n",
       "      <td>-0.985610</td>\n",
       "      <td>0.074087</td>\n",
       "      <td>-0.192324</td>\n",
       "      <td>0</td>\n",
       "      <td>0</td>\n",
       "      <td>...</td>\n",
       "      <td>0</td>\n",
       "      <td>0</td>\n",
       "      <td>0</td>\n",
       "      <td>0</td>\n",
       "      <td>0</td>\n",
       "      <td>0</td>\n",
       "      <td>0</td>\n",
       "      <td>0</td>\n",
       "      <td>0</td>\n",
       "      <td>0</td>\n",
       "    </tr>\n",
       "    <tr>\n",
       "      <th>80</th>\n",
       "      <td>-0.346817</td>\n",
       "      <td>0.520661</td>\n",
       "      <td>0.478025</td>\n",
       "      <td>-0.653377</td>\n",
       "      <td>0.930036</td>\n",
       "      <td>0.661162</td>\n",
       "      <td>-0.589802</td>\n",
       "      <td>1.691779</td>\n",
       "      <td>0</td>\n",
       "      <td>0</td>\n",
       "      <td>...</td>\n",
       "      <td>0</td>\n",
       "      <td>0</td>\n",
       "      <td>0</td>\n",
       "      <td>0</td>\n",
       "      <td>0</td>\n",
       "      <td>0</td>\n",
       "      <td>0</td>\n",
       "      <td>0</td>\n",
       "      <td>0</td>\n",
       "      <td>0</td>\n",
       "    </tr>\n",
       "    <tr>\n",
       "      <th>12414</th>\n",
       "      <td>-0.346817</td>\n",
       "      <td>1.453280</td>\n",
       "      <td>1.626074</td>\n",
       "      <td>2.140625</td>\n",
       "      <td>0.478025</td>\n",
       "      <td>0.716839</td>\n",
       "      <td>1.222768</td>\n",
       "      <td>-0.038122</td>\n",
       "      <td>0</td>\n",
       "      <td>0</td>\n",
       "      <td>...</td>\n",
       "      <td>0</td>\n",
       "      <td>1</td>\n",
       "      <td>0</td>\n",
       "      <td>0</td>\n",
       "      <td>0</td>\n",
       "      <td>0</td>\n",
       "      <td>0</td>\n",
       "      <td>0</td>\n",
       "      <td>0</td>\n",
       "      <td>1</td>\n",
       "    </tr>\n",
       "    <tr>\n",
       "      <th>14497</th>\n",
       "      <td>0.678433</td>\n",
       "      <td>0.520661</td>\n",
       "      <td>0.303168</td>\n",
       "      <td>-0.301855</td>\n",
       "      <td>-0.882739</td>\n",
       "      <td>-2.408550</td>\n",
       "      <td>-0.299230</td>\n",
       "      <td>-0.605376</td>\n",
       "      <td>0</td>\n",
       "      <td>0</td>\n",
       "      <td>...</td>\n",
       "      <td>0</td>\n",
       "      <td>0</td>\n",
       "      <td>0</td>\n",
       "      <td>0</td>\n",
       "      <td>0</td>\n",
       "      <td>0</td>\n",
       "      <td>0</td>\n",
       "      <td>0</td>\n",
       "      <td>0</td>\n",
       "      <td>1</td>\n",
       "    </tr>\n",
       "    <tr>\n",
       "      <th>5788</th>\n",
       "      <td>-0.346817</td>\n",
       "      <td>0.067799</td>\n",
       "      <td>1.044409</td>\n",
       "      <td>1.967377</td>\n",
       "      <td>0.439001</td>\n",
       "      <td>1.334066</td>\n",
       "      <td>2.188877</td>\n",
       "      <td>0.586294</td>\n",
       "      <td>1</td>\n",
       "      <td>0</td>\n",
       "      <td>...</td>\n",
       "      <td>0</td>\n",
       "      <td>0</td>\n",
       "      <td>0</td>\n",
       "      <td>0</td>\n",
       "      <td>0</td>\n",
       "      <td>0</td>\n",
       "      <td>0</td>\n",
       "      <td>0</td>\n",
       "      <td>0</td>\n",
       "      <td>1</td>\n",
       "    </tr>\n",
       "  </tbody>\n",
       "</table>\n",
       "<p>14733 rows × 90 columns</p>\n",
       "</div>"
      ],
      "text/plain": [
       "       bedrooms_transformed  bathrooms_transformed  sqft_living_transformed  \\\n",
       "20522             -0.346817               0.520661                 0.181652   \n",
       "11455              0.678433               0.067799                 0.487893   \n",
       "9349               0.678433              -0.163824                -0.406079   \n",
       "9566              -1.453280              -0.786745                -0.110627   \n",
       "9761              -0.346817               0.067799                 0.366873   \n",
       "...                     ...                    ...                      ...   \n",
       "16701              0.678433              -0.163824                 0.074087   \n",
       "80                -0.346817               0.520661                 0.478025   \n",
       "12414             -0.346817               1.453280                 1.626074   \n",
       "14497              0.678433               0.520661                 0.303168   \n",
       "5788              -0.346817               0.067799                 1.044409   \n",
       "\n",
       "       sqft_lot_transformed  yr_built_transformed  sqft_living15_transformed  \\\n",
       "20522              1.583588              1.744448                   0.177827   \n",
       "11455              1.086344              0.069056                   0.997920   \n",
       "9349               0.869846             -1.077446                  -1.269664   \n",
       "9566               0.053973             -0.517790                  -0.886449   \n",
       "9761               0.311059             -0.492137                   0.533636   \n",
       "...                     ...                   ...                        ...   \n",
       "16701              0.664392             -1.362078                  -0.985610   \n",
       "80                -0.653377              0.930036                   0.661162   \n",
       "12414              2.140625              0.478025                   0.716839   \n",
       "14497             -0.301855             -0.882739                  -2.408550   \n",
       "5788               1.967377              0.439001                   1.334066   \n",
       "\n",
       "       sqft_lot15_transformed  distanceM_transformed  floors_one  \\\n",
       "20522                0.436544               1.599003           1   \n",
       "11455                0.923439               0.441800           1   \n",
       "9349                 0.236269              -0.226980           1   \n",
       "9566                 0.067799              -0.292849           1   \n",
       "9761                 0.380326              -0.308863           1   \n",
       "...                       ...                    ...         ...   \n",
       "16701                0.074087              -0.192324           0   \n",
       "80                  -0.589802               1.691779           0   \n",
       "12414                1.222768              -0.038122           0   \n",
       "14497               -0.299230              -0.605376           0   \n",
       "5788                 2.188877               0.586294           1   \n",
       "\n",
       "       waterfront_1  ...  zipcode_98155  zipcode_98166  zipcode_98168  \\\n",
       "20522             0  ...              0              0              0   \n",
       "11455             0  ...              0              0              0   \n",
       "9349              0  ...              0              1              0   \n",
       "9566              0  ...              0              0              0   \n",
       "9761              0  ...              0              0              0   \n",
       "...             ...  ...            ...            ...            ...   \n",
       "16701             0  ...              0              0              0   \n",
       "80                0  ...              0              0              0   \n",
       "12414             0  ...              0              1              0   \n",
       "14497             0  ...              0              0              0   \n",
       "5788              0  ...              0              0              0   \n",
       "\n",
       "       zipcode_98177  zipcode_98178  zipcode_98188  zipcode_98198  \\\n",
       "20522              0              0              0              0   \n",
       "11455              0              0              0              0   \n",
       "9349               0              0              0              0   \n",
       "9566               0              0              0              0   \n",
       "9761               0              0              0              0   \n",
       "...              ...            ...            ...            ...   \n",
       "16701              0              0              0              0   \n",
       "80                 0              0              0              0   \n",
       "12414              0              0              0              0   \n",
       "14497              0              0              0              0   \n",
       "5788               0              0              0              0   \n",
       "\n",
       "       zipcode_98199  renovated_True  basement_True  \n",
       "20522              0               0              0  \n",
       "11455              0               0              0  \n",
       "9349               0               0              0  \n",
       "9566               0               0              1  \n",
       "9761               0               0              0  \n",
       "...              ...             ...            ...  \n",
       "16701              0               0              0  \n",
       "80                 0               0              0  \n",
       "12414              0               0              1  \n",
       "14497              0               0              1  \n",
       "5788               0               0              1  \n",
       "\n",
       "[14733 rows x 90 columns]"
      ]
     },
     "execution_count": 2834,
     "metadata": {},
     "output_type": "execute_result"
    }
   ],
   "source": [
    "X_train"
   ]
  },
  {
   "cell_type": "code",
   "execution_count": 2837,
   "id": "cd08d3f9",
   "metadata": {},
   "outputs": [
    {
     "name": "stdout",
     "output_type": "stream",
     "text": [
      "(14733, 90) (6315, 90)\n"
     ]
    }
   ],
   "source": [
    "def scale_df(X_train, X_test, X, dummies):\n",
    "    std_scaler=StandardScaler().fit(get_num_attributes(X_train))\n",
    "    X_train_scaled=std_scaler.transform(get_num_attributes(X_train))\n",
    "    X_test_scaled=std_scaler.transform(get_num_attributes(X_test))\n",
    "    X_train_scaled = np.concatenate((X_train_scaled, np.asarray(X_train[dummies.columns])), axis = 1) \n",
    "    X_test_scaled = np.concatenate((X_test_scaled, np.asarray(X_test[dummies.columns])), axis =1)\n",
    "    print(X_train_scaled.shape, X_test_scaled.shape)\n",
    "    return X_test_scaled, X_train_scaled\n",
    "X_test_scaled, X_train_scaled = scale_df(X_train, X_test, X, dummies)\n",
    "#dummies, X_test_scaled, X_train_scaled"
   ]
  },
  {
   "cell_type": "markdown",
   "id": "78244c26",
   "metadata": {},
   "source": [
    "We're concatenating the data scaled numerical data with the categorical variables."
   ]
  },
  {
   "cell_type": "markdown",
   "id": "4d807d81",
   "metadata": {},
   "source": [
    "We're modeling using linear regression and desplaying key indicators to interpret the model fit."
   ]
  },
  {
   "cell_type": "code",
   "execution_count": 2838,
   "id": "ef2860c1",
   "metadata": {
    "scrolled": false
   },
   "outputs": [],
   "source": [
    "def model_reg(X_train_scaled, X_test_scaled, y_train, y_test):\n",
    "    model=LinearRegression()    # model\n",
    "    model.fit(X_train_scaled, y_train)\n",
    "    y_pred=model.predict(X_test_scaled)   # model prediction\n",
    "    y_pred_train=model.predict(X_train_scaled)\n",
    "    return model, y_pred, y_pred_train\n",
    "\n",
    "model, y_pred, y_pred_train = model_reg(X_train_scaled, X_test_scaled, y_train, y_test)\n",
    " \n",
    "m1 = model\n",
    "m1_result=pd.DataFrame({\"y_test\":y_test,\"y_pred\":y_pred})"
   ]
  },
  {
   "cell_type": "code",
   "execution_count": 2839,
   "id": "9ec3ac14",
   "metadata": {},
   "outputs": [
    {
     "data": {
      "text/html": [
       "<div>\n",
       "<style scoped>\n",
       "    .dataframe tbody tr th:only-of-type {\n",
       "        vertical-align: middle;\n",
       "    }\n",
       "\n",
       "    .dataframe tbody tr th {\n",
       "        vertical-align: top;\n",
       "    }\n",
       "\n",
       "    .dataframe thead th {\n",
       "        text-align: right;\n",
       "    }\n",
       "</style>\n",
       "<table border=\"1\" class=\"dataframe\">\n",
       "  <thead>\n",
       "    <tr style=\"text-align: right;\">\n",
       "      <th></th>\n",
       "      <th>y_test</th>\n",
       "      <th>y_pred</th>\n",
       "    </tr>\n",
       "  </thead>\n",
       "  <tbody>\n",
       "    <tr>\n",
       "      <th>count</th>\n",
       "      <td>6.315000e+03</td>\n",
       "      <td>6.315000e+03</td>\n",
       "    </tr>\n",
       "    <tr>\n",
       "      <th>mean</th>\n",
       "      <td>5.308798e+05</td>\n",
       "      <td>5.308580e+05</td>\n",
       "    </tr>\n",
       "    <tr>\n",
       "      <th>std</th>\n",
       "      <td>3.398223e+05</td>\n",
       "      <td>2.916005e+05</td>\n",
       "    </tr>\n",
       "    <tr>\n",
       "      <th>min</th>\n",
       "      <td>7.800000e+04</td>\n",
       "      <td>-7.704871e+04</td>\n",
       "    </tr>\n",
       "    <tr>\n",
       "      <th>25%</th>\n",
       "      <td>3.200000e+05</td>\n",
       "      <td>3.293174e+05</td>\n",
       "    </tr>\n",
       "    <tr>\n",
       "      <th>50%</th>\n",
       "      <td>4.495000e+05</td>\n",
       "      <td>4.898435e+05</td>\n",
       "    </tr>\n",
       "    <tr>\n",
       "      <th>75%</th>\n",
       "      <td>6.400000e+05</td>\n",
       "      <td>6.852647e+05</td>\n",
       "    </tr>\n",
       "    <tr>\n",
       "      <th>max</th>\n",
       "      <td>7.060000e+06</td>\n",
       "      <td>2.329832e+06</td>\n",
       "    </tr>\n",
       "  </tbody>\n",
       "</table>\n",
       "</div>"
      ],
      "text/plain": [
       "             y_test        y_pred\n",
       "count  6.315000e+03  6.315000e+03\n",
       "mean   5.308798e+05  5.308580e+05\n",
       "std    3.398223e+05  2.916005e+05\n",
       "min    7.800000e+04 -7.704871e+04\n",
       "25%    3.200000e+05  3.293174e+05\n",
       "50%    4.495000e+05  4.898435e+05\n",
       "75%    6.400000e+05  6.852647e+05\n",
       "max    7.060000e+06  2.329832e+06"
      ]
     },
     "execution_count": 2839,
     "metadata": {},
     "output_type": "execute_result"
    }
   ],
   "source": [
    "m1_result.describe()"
   ]
  },
  {
   "cell_type": "code",
   "execution_count": 2840,
   "id": "af99d0e4",
   "metadata": {},
   "outputs": [
    {
     "data": {
      "text/plain": [
       "(array([[ 0.76856493, -0.88841462,  0.94489928, ...,  0.        ,\n",
       "          0.        ,  0.        ],\n",
       "        [-0.42959882,  0.05110077,  1.4268945 , ...,  0.        ,\n",
       "          0.        ,  0.        ],\n",
       "        [ 0.76856493,  0.54899446,  1.21380792, ...,  0.        ,\n",
       "          0.        ,  0.        ],\n",
       "        ...,\n",
       "        [ 0.76856493,  0.54899446,  1.60303303, ...,  0.        ,\n",
       "          0.        ,  0.        ],\n",
       "        [-0.42959882,  0.05110077,  0.50611059, ...,  0.        ,\n",
       "          0.        ,  0.        ],\n",
       "        [ 0.76856493,  1.86969464,  1.4475617 , ...,  0.        ,\n",
       "          0.        ,  0.        ]]),\n",
       " array([[-0.42959882,  0.54899446,  0.17784483, ...,  0.        ,\n",
       "          0.        ,  0.        ],\n",
       "        [ 0.76856493,  0.05110077,  0.49581474, ...,  0.        ,\n",
       "          0.        ,  0.        ],\n",
       "        [ 0.76856493, -0.2035532 , -0.43239577, ...,  0.        ,\n",
       "          0.        ,  0.        ],\n",
       "        ...,\n",
       "        [-0.42959882,  1.57434823,  1.67758737, ...,  0.        ,\n",
       "          0.        ,  1.        ],\n",
       "        [ 0.76856493,  0.54899446,  0.30401495, ...,  0.        ,\n",
       "          0.        ,  1.        ],\n",
       "        [-0.42959882,  0.05110077,  1.0736448 , ...,  0.        ,\n",
       "          0.        ,  1.        ]]))"
      ]
     },
     "execution_count": 2840,
     "metadata": {},
     "output_type": "execute_result"
    }
   ],
   "source": [
    "X_test_scaled, X_train_scaled"
   ]
  },
  {
   "cell_type": "code",
   "execution_count": 2841,
   "id": "01422c8c",
   "metadata": {},
   "outputs": [
    {
     "data": {
      "image/png": "[encoded data removed]",
      "text/plain": [
       "<Figure size 1008x288 with 3 Axes>"
      ]
     },
     "metadata": {
      "needs_background": "light"
     },
     "output_type": "display_data"
    }
   ],
   "source": [
    "def plot_model_stats(y_test, y_pred):\n",
    "    fig, ax = plt.subplots(1,3,figsize=(14,4))\n",
    "    ax[0].plot(y_pred, y_test, 'o')\n",
    "    ax[0].set_xlabel(\"y_test\")\n",
    "    ax[0].set_ylabel(\"y_pred\")\n",
    "    ax[0].set_title(\"Test Set -Predicted vs real\")\n",
    "\n",
    "    ax[1].hist(y_test - y_pred)\n",
    "    ax[1].set_xlabel(\"Test y-y_pred\")\n",
    "    ax[1].set_title(\"Test Set Residual histogram\")\n",
    "\n",
    "    ax[2].plot(y_pred,y_test - y_pred,\"o\")\n",
    "    ax[2].set_xlabel(\"predicted\")\n",
    "    ax[2].set_ylabel(\"residuals\")\n",
    "    ax[2].set_title(\"Residuals by Predicted\")\n",
    "    ax[2].plot(y_pred,np.zeros(len(y_pred)),linestyle='dashed')\n",
    "    \n",
    "plot_model_stats(y_test, y_pred)"
   ]
  },
  {
   "cell_type": "markdown",
   "id": "1b2b5769",
   "metadata": {},
   "source": [
    "The scatterplot of the target variable and the predicted variables displays a obvious linear trend. Risiduals seem to be normaly distributed. The Residual are not perfectly randomly distributed around 0, but overall the model seems to be okay. "
   ]
  },
  {
   "cell_type": "code",
   "execution_count": 2842,
   "id": "5eb8228b",
   "metadata": {},
   "outputs": [],
   "source": [
    "#sns.regplot(x='y_pred',y='y_test', data=result, scatter_kws={\"color\": \"red\"}, line_kws={\"color\": \"black\"})"
   ]
  },
  {
   "cell_type": "code",
   "execution_count": 2843,
   "id": "4018af81",
   "metadata": {},
   "outputs": [
    {
     "data": {
      "text/plain": [
       "(array([ 0,  1,  2,  3,  4,  5,  6,  7,  8,  9, 10, 11, 12, 13, 14, 15, 16,\n",
       "        17, 18, 19, 20, 21, 22, 23, 24, 25, 26, 27, 28, 29, 30, 31, 32, 33,\n",
       "        34, 35, 36, 37, 38, 39, 40, 41, 42, 43, 44, 45, 46, 47, 48, 49, 50,\n",
       "        51, 52, 53, 54, 55, 56, 57, 58, 59, 60, 61, 62, 63, 64, 65, 66, 67,\n",
       "        68, 69, 70, 71, 72, 73, 74, 75, 76, 77, 78, 79, 80, 81, 82, 83, 84,\n",
       "        85, 86, 87, 88, 89]),\n",
       " [Text(0, 0, 'bedrooms_transformed'),\n",
       "  Text(1, 0, 'bathrooms_transformed'),\n",
       "  Text(2, 0, 'sqft_living_transformed'),\n",
       "  Text(3, 0, 'sqft_lot_transformed'),\n",
       "  Text(4, 0, 'yr_built_transformed'),\n",
       "  Text(5, 0, 'sqft_living15_transformed'),\n",
       "  Text(6, 0, 'sqft_lot15_transformed'),\n",
       "  Text(7, 0, 'distanceM_transformed'),\n",
       "  Text(8, 0, 'floors_one'),\n",
       "  Text(9, 0, 'waterfront_1'),\n",
       "  Text(10, 0, 'view_1'),\n",
       "  Text(11, 0, 'view_2'),\n",
       "  Text(12, 0, 'view_3'),\n",
       "  Text(13, 0, 'view_4'),\n",
       "  Text(14, 0, 'condition_2'),\n",
       "  Text(15, 0, 'condition_3'),\n",
       "  Text(16, 0, 'condition_4'),\n",
       "  Text(17, 0, 'condition_5'),\n",
       "  Text(18, 0, 'grade_below_avg'),\n",
       "  Text(19, 0, 'zipcode_98002'),\n",
       "  Text(20, 0, 'zipcode_98003'),\n",
       "  Text(21, 0, 'zipcode_98004'),\n",
       "  Text(22, 0, 'zipcode_98005'),\n",
       "  Text(23, 0, 'zipcode_98006'),\n",
       "  Text(24, 0, 'zipcode_98007'),\n",
       "  Text(25, 0, 'zipcode_98008'),\n",
       "  Text(26, 0, 'zipcode_98010'),\n",
       "  Text(27, 0, 'zipcode_98011'),\n",
       "  Text(28, 0, 'zipcode_98014'),\n",
       "  Text(29, 0, 'zipcode_98019'),\n",
       "  Text(30, 0, 'zipcode_98022'),\n",
       "  Text(31, 0, 'zipcode_98023'),\n",
       "  Text(32, 0, 'zipcode_98024'),\n",
       "  Text(33, 0, 'zipcode_98027'),\n",
       "  Text(34, 0, 'zipcode_98028'),\n",
       "  Text(35, 0, 'zipcode_98029'),\n",
       "  Text(36, 0, 'zipcode_98030'),\n",
       "  Text(37, 0, 'zipcode_98031'),\n",
       "  Text(38, 0, 'zipcode_98032'),\n",
       "  Text(39, 0, 'zipcode_98033'),\n",
       "  Text(40, 0, 'zipcode_98034'),\n",
       "  Text(41, 0, 'zipcode_98038'),\n",
       "  Text(42, 0, 'zipcode_98039'),\n",
       "  Text(43, 0, 'zipcode_98040'),\n",
       "  Text(44, 0, 'zipcode_98042'),\n",
       "  Text(45, 0, 'zipcode_98045'),\n",
       "  Text(46, 0, 'zipcode_98052'),\n",
       "  Text(47, 0, 'zipcode_98053'),\n",
       "  Text(48, 0, 'zipcode_98055'),\n",
       "  Text(49, 0, 'zipcode_98056'),\n",
       "  Text(50, 0, 'zipcode_98058'),\n",
       "  Text(51, 0, 'zipcode_98059'),\n",
       "  Text(52, 0, 'zipcode_98065'),\n",
       "  Text(53, 0, 'zipcode_98070'),\n",
       "  Text(54, 0, 'zipcode_98072'),\n",
       "  Text(55, 0, 'zipcode_98074'),\n",
       "  Text(56, 0, 'zipcode_98075'),\n",
       "  Text(57, 0, 'zipcode_98077'),\n",
       "  Text(58, 0, 'zipcode_98092'),\n",
       "  Text(59, 0, 'zipcode_98102'),\n",
       "  Text(60, 0, 'zipcode_98103'),\n",
       "  Text(61, 0, 'zipcode_98105'),\n",
       "  Text(62, 0, 'zipcode_98106'),\n",
       "  Text(63, 0, 'zipcode_98107'),\n",
       "  Text(64, 0, 'zipcode_98108'),\n",
       "  Text(65, 0, 'zipcode_98109'),\n",
       "  Text(66, 0, 'zipcode_98112'),\n",
       "  Text(67, 0, 'zipcode_98115'),\n",
       "  Text(68, 0, 'zipcode_98116'),\n",
       "  Text(69, 0, 'zipcode_98117'),\n",
       "  Text(70, 0, 'zipcode_98118'),\n",
       "  Text(71, 0, 'zipcode_98119'),\n",
       "  Text(72, 0, 'zipcode_98122'),\n",
       "  Text(73, 0, 'zipcode_98125'),\n",
       "  Text(74, 0, 'zipcode_98126'),\n",
       "  Text(75, 0, 'zipcode_98133'),\n",
       "  Text(76, 0, 'zipcode_98136'),\n",
       "  Text(77, 0, 'zipcode_98144'),\n",
       "  Text(78, 0, 'zipcode_98146'),\n",
       "  Text(79, 0, 'zipcode_98148'),\n",
       "  Text(80, 0, 'zipcode_98155'),\n",
       "  Text(81, 0, 'zipcode_98166'),\n",
       "  Text(82, 0, 'zipcode_98168'),\n",
       "  Text(83, 0, 'zipcode_98177'),\n",
       "  Text(84, 0, 'zipcode_98178'),\n",
       "  Text(85, 0, 'zipcode_98188'),\n",
       "  Text(86, 0, 'zipcode_98198'),\n",
       "  Text(87, 0, 'zipcode_98199'),\n",
       "  Text(88, 0, 'renovated_True'),\n",
       "  Text(89, 0, 'basement_True')])"
      ]
     },
     "execution_count": 2843,
     "metadata": {},
     "output_type": "execute_result"
    },
    {
     "data": {
      "image/png": "[encoded data removed]",
      "text/plain": [
       "<Figure size 1440x936 with 1 Axes>"
      ]
     },
     "metadata": {
      "needs_background": "light"
     },
     "output_type": "display_data"
    }
   ],
   "source": [
    "def get_model_coef(X_train, model):\n",
    "    return pd.DataFrame(data={\n",
    "        'Attribute': X_train.columns,\n",
    "        'coef': model.coef_})\n",
    "\n",
    "m1_coef = get_model_coef(X_train, model)\n",
    "\n",
    "plt.figure(figsize=(20,13))\n",
    "sns.barplot(data=m1_coef, x='Attribute', y='coef')\n",
    "plt.xticks(rotation=90)\n"
   ]
  },
  {
   "cell_type": "code",
   "execution_count": 2844,
   "id": "2a5bcf6b",
   "metadata": {},
   "outputs": [
    {
     "data": {
      "text/html": [
       "<div>\n",
       "<style scoped>\n",
       "    .dataframe tbody tr th:only-of-type {\n",
       "        vertical-align: middle;\n",
       "    }\n",
       "\n",
       "    .dataframe tbody tr th {\n",
       "        vertical-align: top;\n",
       "    }\n",
       "\n",
       "    .dataframe thead th {\n",
       "        text-align: right;\n",
       "    }\n",
       "</style>\n",
       "<table border=\"1\" class=\"dataframe\">\n",
       "  <thead>\n",
       "    <tr style=\"text-align: right;\">\n",
       "      <th></th>\n",
       "      <th>mse_train</th>\n",
       "      <th>mse_test</th>\n",
       "      <th>rmse_test</th>\n",
       "      <th>mae_test</th>\n",
       "      <th>R2_test</th>\n",
       "      <th>R2_train</th>\n",
       "      <th>Adj_R2</th>\n",
       "    </tr>\n",
       "  </thead>\n",
       "  <tbody>\n",
       "    <tr>\n",
       "      <th>0</th>\n",
       "      <td>2.621508e+10</td>\n",
       "      <td>2.832963e+10</td>\n",
       "      <td>168314.076282</td>\n",
       "      <td>99576.752103</td>\n",
       "      <td>0.754639</td>\n",
       "      <td>0.769961</td>\n",
       "      <td>0.751091</td>\n",
       "    </tr>\n",
       "  </tbody>\n",
       "</table>\n",
       "</div>"
      ],
      "text/plain": [
       "      mse_train      mse_test      rmse_test      mae_test   R2_test  \\\n",
       "0  2.621508e+10  2.832963e+10  168314.076282  99576.752103  0.754639   \n",
       "\n",
       "   R2_train    Adj_R2  \n",
       "0  0.769961  0.751091  "
      ]
     },
     "execution_count": 2844,
     "metadata": {},
     "output_type": "execute_result"
    }
   ],
   "source": [
    "def get_testresults():\n",
    "    mse_test = mse(y_test, y_pred)\n",
    "    mse_train = mse(y_train, y_pred_train)\n",
    "    rmse_test = np.sqrt(mse(y_test, y_pred))\n",
    "    mae_test = mae(y_test, y_pred)\n",
    "    R2_test=model.score(X_test_scaled,y_test)\n",
    "    R2_train=model.score(X_train_scaled,y_train)\n",
    "    Adj_R2= 1 - (1-R2_test)*(len(y_test)-1)/(len(y_test)-X_test.shape[1]-1)\n",
    "    dest_stats = {'mse_train': mse_train,\\\n",
    "             'mse_test': mse_test,\\\n",
    "             'rmse_test': rmse_test,\\\n",
    "             'mae_test': mae_test,\\\n",
    "             'R2_test': R2_test,\\\n",
    "             'R2_train': R2_train,\\\n",
    "             'Adj_R2': Adj_R2}\n",
    "    return pd.DataFrame(dest_stats, index=[0])\n",
    "m1_teststats = get_testresults()\n",
    "m1_teststats"
   ]
  },
  {
   "cell_type": "code",
   "execution_count": 2845,
   "id": "f9153175",
   "metadata": {},
   "outputs": [
    {
     "data": {
      "image/png": "[encoded data removed]",
      "text/plain": [
       "<Figure size 1512x1008 with 1 Axes>"
      ]
     },
     "metadata": {
      "needs_background": "light"
     },
     "output_type": "display_data"
    },
    {
     "data": {
      "text/plain": [
       "<Figure size 1440x3600 with 0 Axes>"
      ]
     },
     "metadata": {},
     "output_type": "display_data"
    }
   ],
   "source": [
    "def get_feature_importance(X_train, model):\n",
    "    return pd.DataFrame(data={\n",
    "        'Attribute': X_train.columns,\n",
    "        'Importance': abs(model.coef_)\n",
    "    })\n",
    "\n",
    "\n",
    "\n",
    "feature_importance = get_feature_importance(X_train, model)\n",
    "\n",
    "def plot_feature_importance(feature_importance):  \n",
    "    feature_importance = feature_importance.sort_values(by='Importance', ascending=False)\n",
    "    plt.figure(figsize=(21,14))\n",
    "    plt.bar(x=feature_importance['Attribute'], height=feature_importance['Importance'], color='#087E8B')\n",
    "    plt.title('Feature importances obtained from coefficients', size=20)\n",
    "    plt.xticks(rotation='vertical')\n",
    "    plt.figure(figsize=(20,50))\n",
    "    plt.show()\n",
    "\n",
    "plot_feature_importance(feature_importance)"
   ]
  },
  {
   "cell_type": "code",
   "execution_count": 2846,
   "id": "bdaa82d5",
   "metadata": {},
   "outputs": [
    {
     "data": {
      "text/html": [
       "<div>\n",
       "<style scoped>\n",
       "    .dataframe tbody tr th:only-of-type {\n",
       "        vertical-align: middle;\n",
       "    }\n",
       "\n",
       "    .dataframe tbody tr th {\n",
       "        vertical-align: top;\n",
       "    }\n",
       "\n",
       "    .dataframe thead th {\n",
       "        text-align: right;\n",
       "    }\n",
       "</style>\n",
       "<table border=\"1\" class=\"dataframe\">\n",
       "  <thead>\n",
       "    <tr style=\"text-align: right;\">\n",
       "      <th></th>\n",
       "      <th>Attribute</th>\n",
       "      <th>Importance</th>\n",
       "    </tr>\n",
       "  </thead>\n",
       "  <tbody>\n",
       "    <tr>\n",
       "      <th>42</th>\n",
       "      <td>zipcode_98039</td>\n",
       "      <td>1.165619e+06</td>\n",
       "    </tr>\n",
       "    <tr>\n",
       "      <th>21</th>\n",
       "      <td>zipcode_98004</td>\n",
       "      <td>6.864954e+05</td>\n",
       "    </tr>\n",
       "    <tr>\n",
       "      <th>66</th>\n",
       "      <td>zipcode_98112</td>\n",
       "      <td>5.359005e+05</td>\n",
       "    </tr>\n",
       "    <tr>\n",
       "      <th>43</th>\n",
       "      <td>zipcode_98040</td>\n",
       "      <td>4.701242e+05</td>\n",
       "    </tr>\n",
       "    <tr>\n",
       "      <th>9</th>\n",
       "      <td>waterfront_1</td>\n",
       "      <td>4.276332e+05</td>\n",
       "    </tr>\n",
       "    <tr>\n",
       "      <th>13</th>\n",
       "      <td>view_4</td>\n",
       "      <td>4.223787e+05</td>\n",
       "    </tr>\n",
       "    <tr>\n",
       "      <th>61</th>\n",
       "      <td>zipcode_98105</td>\n",
       "      <td>4.187590e+05</td>\n",
       "    </tr>\n",
       "    <tr>\n",
       "      <th>59</th>\n",
       "      <td>zipcode_98102</td>\n",
       "      <td>3.938166e+05</td>\n",
       "    </tr>\n",
       "    <tr>\n",
       "      <th>65</th>\n",
       "      <td>zipcode_98109</td>\n",
       "      <td>3.662622e+05</td>\n",
       "    </tr>\n",
       "    <tr>\n",
       "      <th>71</th>\n",
       "      <td>zipcode_98119</td>\n",
       "      <td>3.595917e+05</td>\n",
       "    </tr>\n",
       "  </tbody>\n",
       "</table>\n",
       "</div>"
      ],
      "text/plain": [
       "        Attribute    Importance\n",
       "42  zipcode_98039  1.165619e+06\n",
       "21  zipcode_98004  6.864954e+05\n",
       "66  zipcode_98112  5.359005e+05\n",
       "43  zipcode_98040  4.701242e+05\n",
       "9    waterfront_1  4.276332e+05\n",
       "13         view_4  4.223787e+05\n",
       "61  zipcode_98105  4.187590e+05\n",
       "59  zipcode_98102  3.938166e+05\n",
       "65  zipcode_98109  3.662622e+05\n",
       "71  zipcode_98119  3.595917e+05"
      ]
     },
     "execution_count": 2846,
     "metadata": {},
     "output_type": "execute_result"
    }
   ],
   "source": [
    "feature_importance.nlargest(10, 'Importance')\n"
   ]
  },
  {
   "cell_type": "markdown",
   "id": "b90b3abc",
   "metadata": {},
   "source": [
    "The Top 10 most important features are mostly zipcodes. Also waterfront and view play an important role."
   ]
  },
  {
   "cell_type": "markdown",
   "id": "2a8030c3",
   "metadata": {},
   "source": [
    "## Get P-values from model \n",
    "\n",
    "To filter the significant columns we get the p-value from the linear regression. If it is higher than 0.5 the column is dropped."
   ]
  },
  {
   "cell_type": "code",
   "execution_count": 2847,
   "id": "55594caa",
   "metadata": {},
   "outputs": [
    {
     "data": {
      "text/html": [
       "<div>\n",
       "<style scoped>\n",
       "    .dataframe tbody tr th:only-of-type {\n",
       "        vertical-align: middle;\n",
       "    }\n",
       "\n",
       "    .dataframe tbody tr th {\n",
       "        vertical-align: top;\n",
       "    }\n",
       "\n",
       "    .dataframe thead th {\n",
       "        text-align: right;\n",
       "    }\n",
       "</style>\n",
       "<table border=\"1\" class=\"dataframe\">\n",
       "  <thead>\n",
       "    <tr style=\"text-align: right;\">\n",
       "      <th></th>\n",
       "      <th>bedrooms_transformed</th>\n",
       "      <th>bathrooms_transformed</th>\n",
       "      <th>sqft_living_transformed</th>\n",
       "      <th>sqft_lot_transformed</th>\n",
       "      <th>yr_built_transformed</th>\n",
       "      <th>sqft_living15_transformed</th>\n",
       "      <th>sqft_lot15_transformed</th>\n",
       "      <th>distanceM_transformed</th>\n",
       "      <th>floors_one</th>\n",
       "      <th>waterfront_1</th>\n",
       "      <th>...</th>\n",
       "      <th>zipcode_98155</th>\n",
       "      <th>zipcode_98166</th>\n",
       "      <th>zipcode_98168</th>\n",
       "      <th>zipcode_98177</th>\n",
       "      <th>zipcode_98178</th>\n",
       "      <th>zipcode_98188</th>\n",
       "      <th>zipcode_98198</th>\n",
       "      <th>zipcode_98199</th>\n",
       "      <th>renovated_True</th>\n",
       "      <th>basement_True</th>\n",
       "    </tr>\n",
       "  </thead>\n",
       "  <tbody>\n",
       "    <tr>\n",
       "      <th>20522</th>\n",
       "      <td>-0.346817</td>\n",
       "      <td>0.520661</td>\n",
       "      <td>0.181652</td>\n",
       "      <td>1.583588</td>\n",
       "      <td>1.744448</td>\n",
       "      <td>0.177827</td>\n",
       "      <td>0.436544</td>\n",
       "      <td>1.599003</td>\n",
       "      <td>1</td>\n",
       "      <td>0</td>\n",
       "      <td>...</td>\n",
       "      <td>0</td>\n",
       "      <td>0</td>\n",
       "      <td>0</td>\n",
       "      <td>0</td>\n",
       "      <td>0</td>\n",
       "      <td>0</td>\n",
       "      <td>0</td>\n",
       "      <td>0</td>\n",
       "      <td>0</td>\n",
       "      <td>0</td>\n",
       "    </tr>\n",
       "    <tr>\n",
       "      <th>11455</th>\n",
       "      <td>0.678433</td>\n",
       "      <td>0.067799</td>\n",
       "      <td>0.487893</td>\n",
       "      <td>1.086344</td>\n",
       "      <td>0.069056</td>\n",
       "      <td>0.997920</td>\n",
       "      <td>0.923439</td>\n",
       "      <td>0.441800</td>\n",
       "      <td>1</td>\n",
       "      <td>0</td>\n",
       "      <td>...</td>\n",
       "      <td>0</td>\n",
       "      <td>0</td>\n",
       "      <td>0</td>\n",
       "      <td>0</td>\n",
       "      <td>0</td>\n",
       "      <td>0</td>\n",
       "      <td>0</td>\n",
       "      <td>0</td>\n",
       "      <td>0</td>\n",
       "      <td>0</td>\n",
       "    </tr>\n",
       "    <tr>\n",
       "      <th>9349</th>\n",
       "      <td>0.678433</td>\n",
       "      <td>-0.163824</td>\n",
       "      <td>-0.406079</td>\n",
       "      <td>0.869846</td>\n",
       "      <td>-1.077446</td>\n",
       "      <td>-1.269664</td>\n",
       "      <td>0.236269</td>\n",
       "      <td>-0.226980</td>\n",
       "      <td>1</td>\n",
       "      <td>0</td>\n",
       "      <td>...</td>\n",
       "      <td>0</td>\n",
       "      <td>1</td>\n",
       "      <td>0</td>\n",
       "      <td>0</td>\n",
       "      <td>0</td>\n",
       "      <td>0</td>\n",
       "      <td>0</td>\n",
       "      <td>0</td>\n",
       "      <td>0</td>\n",
       "      <td>0</td>\n",
       "    </tr>\n",
       "    <tr>\n",
       "      <th>9566</th>\n",
       "      <td>-1.453280</td>\n",
       "      <td>-0.786745</td>\n",
       "      <td>-0.110627</td>\n",
       "      <td>0.053973</td>\n",
       "      <td>-0.517790</td>\n",
       "      <td>-0.886449</td>\n",
       "      <td>0.067799</td>\n",
       "      <td>-0.292849</td>\n",
       "      <td>1</td>\n",
       "      <td>0</td>\n",
       "      <td>...</td>\n",
       "      <td>0</td>\n",
       "      <td>0</td>\n",
       "      <td>0</td>\n",
       "      <td>0</td>\n",
       "      <td>0</td>\n",
       "      <td>0</td>\n",
       "      <td>0</td>\n",
       "      <td>0</td>\n",
       "      <td>0</td>\n",
       "      <td>1</td>\n",
       "    </tr>\n",
       "    <tr>\n",
       "      <th>9761</th>\n",
       "      <td>-0.346817</td>\n",
       "      <td>0.067799</td>\n",
       "      <td>0.366873</td>\n",
       "      <td>0.311059</td>\n",
       "      <td>-0.492137</td>\n",
       "      <td>0.533636</td>\n",
       "      <td>0.380326</td>\n",
       "      <td>-0.308863</td>\n",
       "      <td>1</td>\n",
       "      <td>0</td>\n",
       "      <td>...</td>\n",
       "      <td>0</td>\n",
       "      <td>0</td>\n",
       "      <td>0</td>\n",
       "      <td>0</td>\n",
       "      <td>0</td>\n",
       "      <td>0</td>\n",
       "      <td>0</td>\n",
       "      <td>0</td>\n",
       "      <td>0</td>\n",
       "      <td>0</td>\n",
       "    </tr>\n",
       "    <tr>\n",
       "      <th>...</th>\n",
       "      <td>...</td>\n",
       "      <td>...</td>\n",
       "      <td>...</td>\n",
       "      <td>...</td>\n",
       "      <td>...</td>\n",
       "      <td>...</td>\n",
       "      <td>...</td>\n",
       "      <td>...</td>\n",
       "      <td>...</td>\n",
       "      <td>...</td>\n",
       "      <td>...</td>\n",
       "      <td>...</td>\n",
       "      <td>...</td>\n",
       "      <td>...</td>\n",
       "      <td>...</td>\n",
       "      <td>...</td>\n",
       "      <td>...</td>\n",
       "      <td>...</td>\n",
       "      <td>...</td>\n",
       "      <td>...</td>\n",
       "      <td>...</td>\n",
       "    </tr>\n",
       "    <tr>\n",
       "      <th>16701</th>\n",
       "      <td>0.678433</td>\n",
       "      <td>-0.163824</td>\n",
       "      <td>0.074087</td>\n",
       "      <td>0.664392</td>\n",
       "      <td>-1.362078</td>\n",
       "      <td>-0.985610</td>\n",
       "      <td>0.074087</td>\n",
       "      <td>-0.192324</td>\n",
       "      <td>0</td>\n",
       "      <td>0</td>\n",
       "      <td>...</td>\n",
       "      <td>0</td>\n",
       "      <td>0</td>\n",
       "      <td>0</td>\n",
       "      <td>0</td>\n",
       "      <td>0</td>\n",
       "      <td>0</td>\n",
       "      <td>0</td>\n",
       "      <td>0</td>\n",
       "      <td>0</td>\n",
       "      <td>0</td>\n",
       "    </tr>\n",
       "    <tr>\n",
       "      <th>80</th>\n",
       "      <td>-0.346817</td>\n",
       "      <td>0.520661</td>\n",
       "      <td>0.478025</td>\n",
       "      <td>-0.653377</td>\n",
       "      <td>0.930036</td>\n",
       "      <td>0.661162</td>\n",
       "      <td>-0.589802</td>\n",
       "      <td>1.691779</td>\n",
       "      <td>0</td>\n",
       "      <td>0</td>\n",
       "      <td>...</td>\n",
       "      <td>0</td>\n",
       "      <td>0</td>\n",
       "      <td>0</td>\n",
       "      <td>0</td>\n",
       "      <td>0</td>\n",
       "      <td>0</td>\n",
       "      <td>0</td>\n",
       "      <td>0</td>\n",
       "      <td>0</td>\n",
       "      <td>0</td>\n",
       "    </tr>\n",
       "    <tr>\n",
       "      <th>12414</th>\n",
       "      <td>-0.346817</td>\n",
       "      <td>1.453280</td>\n",
       "      <td>1.626074</td>\n",
       "      <td>2.140625</td>\n",
       "      <td>0.478025</td>\n",
       "      <td>0.716839</td>\n",
       "      <td>1.222768</td>\n",
       "      <td>-0.038122</td>\n",
       "      <td>0</td>\n",
       "      <td>0</td>\n",
       "      <td>...</td>\n",
       "      <td>0</td>\n",
       "      <td>1</td>\n",
       "      <td>0</td>\n",
       "      <td>0</td>\n",
       "      <td>0</td>\n",
       "      <td>0</td>\n",
       "      <td>0</td>\n",
       "      <td>0</td>\n",
       "      <td>0</td>\n",
       "      <td>1</td>\n",
       "    </tr>\n",
       "    <tr>\n",
       "      <th>14497</th>\n",
       "      <td>0.678433</td>\n",
       "      <td>0.520661</td>\n",
       "      <td>0.303168</td>\n",
       "      <td>-0.301855</td>\n",
       "      <td>-0.882739</td>\n",
       "      <td>-2.408550</td>\n",
       "      <td>-0.299230</td>\n",
       "      <td>-0.605376</td>\n",
       "      <td>0</td>\n",
       "      <td>0</td>\n",
       "      <td>...</td>\n",
       "      <td>0</td>\n",
       "      <td>0</td>\n",
       "      <td>0</td>\n",
       "      <td>0</td>\n",
       "      <td>0</td>\n",
       "      <td>0</td>\n",
       "      <td>0</td>\n",
       "      <td>0</td>\n",
       "      <td>0</td>\n",
       "      <td>1</td>\n",
       "    </tr>\n",
       "    <tr>\n",
       "      <th>5788</th>\n",
       "      <td>-0.346817</td>\n",
       "      <td>0.067799</td>\n",
       "      <td>1.044409</td>\n",
       "      <td>1.967377</td>\n",
       "      <td>0.439001</td>\n",
       "      <td>1.334066</td>\n",
       "      <td>2.188877</td>\n",
       "      <td>0.586294</td>\n",
       "      <td>1</td>\n",
       "      <td>0</td>\n",
       "      <td>...</td>\n",
       "      <td>0</td>\n",
       "      <td>0</td>\n",
       "      <td>0</td>\n",
       "      <td>0</td>\n",
       "      <td>0</td>\n",
       "      <td>0</td>\n",
       "      <td>0</td>\n",
       "      <td>0</td>\n",
       "      <td>0</td>\n",
       "      <td>1</td>\n",
       "    </tr>\n",
       "  </tbody>\n",
       "</table>\n",
       "<p>14733 rows × 90 columns</p>\n",
       "</div>"
      ],
      "text/plain": [
       "       bedrooms_transformed  bathrooms_transformed  sqft_living_transformed  \\\n",
       "20522             -0.346817               0.520661                 0.181652   \n",
       "11455              0.678433               0.067799                 0.487893   \n",
       "9349               0.678433              -0.163824                -0.406079   \n",
       "9566              -1.453280              -0.786745                -0.110627   \n",
       "9761              -0.346817               0.067799                 0.366873   \n",
       "...                     ...                    ...                      ...   \n",
       "16701              0.678433              -0.163824                 0.074087   \n",
       "80                -0.346817               0.520661                 0.478025   \n",
       "12414             -0.346817               1.453280                 1.626074   \n",
       "14497              0.678433               0.520661                 0.303168   \n",
       "5788              -0.346817               0.067799                 1.044409   \n",
       "\n",
       "       sqft_lot_transformed  yr_built_transformed  sqft_living15_transformed  \\\n",
       "20522              1.583588              1.744448                   0.177827   \n",
       "11455              1.086344              0.069056                   0.997920   \n",
       "9349               0.869846             -1.077446                  -1.269664   \n",
       "9566               0.053973             -0.517790                  -0.886449   \n",
       "9761               0.311059             -0.492137                   0.533636   \n",
       "...                     ...                   ...                        ...   \n",
       "16701              0.664392             -1.362078                  -0.985610   \n",
       "80                -0.653377              0.930036                   0.661162   \n",
       "12414              2.140625              0.478025                   0.716839   \n",
       "14497             -0.301855             -0.882739                  -2.408550   \n",
       "5788               1.967377              0.439001                   1.334066   \n",
       "\n",
       "       sqft_lot15_transformed  distanceM_transformed  floors_one  \\\n",
       "20522                0.436544               1.599003           1   \n",
       "11455                0.923439               0.441800           1   \n",
       "9349                 0.236269              -0.226980           1   \n",
       "9566                 0.067799              -0.292849           1   \n",
       "9761                 0.380326              -0.308863           1   \n",
       "...                       ...                    ...         ...   \n",
       "16701                0.074087              -0.192324           0   \n",
       "80                  -0.589802               1.691779           0   \n",
       "12414                1.222768              -0.038122           0   \n",
       "14497               -0.299230              -0.605376           0   \n",
       "5788                 2.188877               0.586294           1   \n",
       "\n",
       "       waterfront_1  ...  zipcode_98155  zipcode_98166  zipcode_98168  \\\n",
       "20522             0  ...              0              0              0   \n",
       "11455             0  ...              0              0              0   \n",
       "9349              0  ...              0              1              0   \n",
       "9566              0  ...              0              0              0   \n",
       "9761              0  ...              0              0              0   \n",
       "...             ...  ...            ...            ...            ...   \n",
       "16701             0  ...              0              0              0   \n",
       "80                0  ...              0              0              0   \n",
       "12414             0  ...              0              1              0   \n",
       "14497             0  ...              0              0              0   \n",
       "5788              0  ...              0              0              0   \n",
       "\n",
       "       zipcode_98177  zipcode_98178  zipcode_98188  zipcode_98198  \\\n",
       "20522              0              0              0              0   \n",
       "11455              0              0              0              0   \n",
       "9349               0              0              0              0   \n",
       "9566               0              0              0              0   \n",
       "9761               0              0              0              0   \n",
       "...              ...            ...            ...            ...   \n",
       "16701              0              0              0              0   \n",
       "80                 0              0              0              0   \n",
       "12414              0              0              0              0   \n",
       "14497              0              0              0              0   \n",
       "5788               0              0              0              0   \n",
       "\n",
       "       zipcode_98199  renovated_True  basement_True  \n",
       "20522              0               0              0  \n",
       "11455              0               0              0  \n",
       "9349               0               0              0  \n",
       "9566               0               0              1  \n",
       "9761               0               0              0  \n",
       "...              ...             ...            ...  \n",
       "16701              0               0              0  \n",
       "80                 0               0              0  \n",
       "12414              0               0              1  \n",
       "14497              0               0              1  \n",
       "5788               0               0              1  \n",
       "\n",
       "[14733 rows x 90 columns]"
      ]
     },
     "execution_count": 2847,
     "metadata": {},
     "output_type": "execute_result"
    }
   ],
   "source": [
    "X_train"
   ]
  },
  {
   "cell_type": "code",
   "execution_count": null,
   "id": "1cef3bf3",
   "metadata": {},
   "outputs": [],
   "source": []
  },
  {
   "cell_type": "code",
   "execution_count": 2848,
   "id": "eb8758bc",
   "metadata": {},
   "outputs": [],
   "source": [
    "def get_pvalues(X_train, X_train_scaled, y_train):\n",
    "    X_train_const_scaled = sm.add_constant(X_train_scaled) #getting model using sm.Ols (more detailed statistics)\n",
    "    reg_model = sm.OLS(y_train, X_train_const_scaled).fit()\n",
    "    p_values = reg_model.pvalues\n",
    "    #print(len(['const'] + list(X_train.columns)), len(p_values), len(p_values.index))\n",
    "    return pd.DataFrame(data= {\n",
    "        'Attribute':['const'] + list(X_train.columns),\n",
    "        'pvalue': p_values,\n",
    "        'coef':p_values.index})\n",
    "m1_pvalues = get_pvalues(X_train, X_train_scaled, y_train)"
   ]
  },
  {
   "cell_type": "code",
   "execution_count": 2849,
   "id": "a3db3521",
   "metadata": {},
   "outputs": [
    {
     "data": {
      "text/html": [
       "<div>\n",
       "<style scoped>\n",
       "    .dataframe tbody tr th:only-of-type {\n",
       "        vertical-align: middle;\n",
       "    }\n",
       "\n",
       "    .dataframe tbody tr th {\n",
       "        vertical-align: top;\n",
       "    }\n",
       "\n",
       "    .dataframe thead th {\n",
       "        text-align: right;\n",
       "    }\n",
       "</style>\n",
       "<table border=\"1\" class=\"dataframe\">\n",
       "  <thead>\n",
       "    <tr style=\"text-align: right;\">\n",
       "      <th></th>\n",
       "      <th>Attribute</th>\n",
       "      <th>pvalue</th>\n",
       "      <th>coef</th>\n",
       "    </tr>\n",
       "  </thead>\n",
       "  <tbody>\n",
       "    <tr>\n",
       "      <th>const</th>\n",
       "      <td>const</td>\n",
       "      <td>6.925977e-12</td>\n",
       "      <td>const</td>\n",
       "    </tr>\n",
       "    <tr>\n",
       "      <th>x1</th>\n",
       "      <td>bedrooms_transformed</td>\n",
       "      <td>1.745964e-34</td>\n",
       "      <td>x1</td>\n",
       "    </tr>\n",
       "    <tr>\n",
       "      <th>x2</th>\n",
       "      <td>bathrooms_transformed</td>\n",
       "      <td>7.694592e-33</td>\n",
       "      <td>x2</td>\n",
       "    </tr>\n",
       "    <tr>\n",
       "      <th>x3</th>\n",
       "      <td>sqft_living_transformed</td>\n",
       "      <td>0.000000e+00</td>\n",
       "      <td>x3</td>\n",
       "    </tr>\n",
       "    <tr>\n",
       "      <th>x4</th>\n",
       "      <td>sqft_lot_transformed</td>\n",
       "      <td>2.493035e-29</td>\n",
       "      <td>x4</td>\n",
       "    </tr>\n",
       "    <tr>\n",
       "      <th>...</th>\n",
       "      <td>...</td>\n",
       "      <td>...</td>\n",
       "      <td>...</td>\n",
       "    </tr>\n",
       "    <tr>\n",
       "      <th>x86</th>\n",
       "      <td>zipcode_98188</td>\n",
       "      <td>1.825163e-01</td>\n",
       "      <td>x86</td>\n",
       "    </tr>\n",
       "    <tr>\n",
       "      <th>x87</th>\n",
       "      <td>zipcode_98198</td>\n",
       "      <td>7.925799e-02</td>\n",
       "      <td>x87</td>\n",
       "    </tr>\n",
       "    <tr>\n",
       "      <th>x88</th>\n",
       "      <td>zipcode_98199</td>\n",
       "      <td>3.427730e-39</td>\n",
       "      <td>x88</td>\n",
       "    </tr>\n",
       "    <tr>\n",
       "      <th>x89</th>\n",
       "      <td>renovated_True</td>\n",
       "      <td>2.116590e-09</td>\n",
       "      <td>x89</td>\n",
       "    </tr>\n",
       "    <tr>\n",
       "      <th>x90</th>\n",
       "      <td>basement_True</td>\n",
       "      <td>9.853205e-57</td>\n",
       "      <td>x90</td>\n",
       "    </tr>\n",
       "  </tbody>\n",
       "</table>\n",
       "<p>91 rows × 3 columns</p>\n",
       "</div>"
      ],
      "text/plain": [
       "                     Attribute        pvalue   coef\n",
       "const                    const  6.925977e-12  const\n",
       "x1        bedrooms_transformed  1.745964e-34     x1\n",
       "x2       bathrooms_transformed  7.694592e-33     x2\n",
       "x3     sqft_living_transformed  0.000000e+00     x3\n",
       "x4        sqft_lot_transformed  2.493035e-29     x4\n",
       "...                        ...           ...    ...\n",
       "x86              zipcode_98188  1.825163e-01    x86\n",
       "x87              zipcode_98198  7.925799e-02    x87\n",
       "x88              zipcode_98199  3.427730e-39    x88\n",
       "x89             renovated_True  2.116590e-09    x89\n",
       "x90              basement_True  9.853205e-57    x90\n",
       "\n",
       "[91 rows x 3 columns]"
      ]
     },
     "execution_count": 2849,
     "metadata": {},
     "output_type": "execute_result"
    }
   ],
   "source": [
    "m1_pvalues"
   ]
  },
  {
   "cell_type": "code",
   "execution_count": 2850,
   "id": "6b00c4e2",
   "metadata": {
    "scrolled": true
   },
   "outputs": [],
   "source": [
    "#m1_pvalues.rename(columns = {X.columns})\n"
   ]
  },
  {
   "cell_type": "code",
   "execution_count": 2851,
   "id": "fd88a05d",
   "metadata": {
    "scrolled": false
   },
   "outputs": [
    {
     "name": "stdout",
     "output_type": "stream",
     "text": [
      "From orginally 90 features 70 features remain.\n"
     ]
    }
   ],
   "source": [
    "def drop_non_significant(X, m1_pvalues):\n",
    "    X_dropped_p = X.drop(X[list(m1_pvalues['Attribute'][m1_pvalues['pvalue']>0.05])], axis=1)\n",
    "    print(f'From orginally {X.shape[1]} features {X_dropped_p.shape[1]} features remain.')\n",
    "    return X_dropped_p\n",
    "\n",
    "X = drop_non_significant(X, m1_pvalues)"
   ]
  },
  {
   "cell_type": "markdown",
   "id": "a1530207",
   "metadata": {},
   "source": [
    "## 2d linear Model only including variabels that had a siginificant p-value in the 1st Model"
   ]
  },
  {
   "cell_type": "code",
   "execution_count": 2852,
   "id": "c7a9eb98",
   "metadata": {},
   "outputs": [
    {
     "data": {
      "text/html": [
       "<div>\n",
       "<style scoped>\n",
       "    .dataframe tbody tr th:only-of-type {\n",
       "        vertical-align: middle;\n",
       "    }\n",
       "\n",
       "    .dataframe tbody tr th {\n",
       "        vertical-align: top;\n",
       "    }\n",
       "\n",
       "    .dataframe thead th {\n",
       "        text-align: right;\n",
       "    }\n",
       "</style>\n",
       "<table border=\"1\" class=\"dataframe\">\n",
       "  <thead>\n",
       "    <tr style=\"text-align: right;\">\n",
       "      <th></th>\n",
       "      <th>bedrooms_transformed</th>\n",
       "      <th>bathrooms_transformed</th>\n",
       "      <th>sqft_living_transformed</th>\n",
       "      <th>sqft_lot_transformed</th>\n",
       "      <th>yr_built_transformed</th>\n",
       "      <th>sqft_living15_transformed</th>\n",
       "      <th>distanceM_transformed</th>\n",
       "      <th>waterfront_1</th>\n",
       "      <th>view_1</th>\n",
       "      <th>view_2</th>\n",
       "      <th>...</th>\n",
       "      <th>zipcode_98125</th>\n",
       "      <th>zipcode_98126</th>\n",
       "      <th>zipcode_98133</th>\n",
       "      <th>zipcode_98136</th>\n",
       "      <th>zipcode_98144</th>\n",
       "      <th>zipcode_98155</th>\n",
       "      <th>zipcode_98177</th>\n",
       "      <th>zipcode_98199</th>\n",
       "      <th>renovated_True</th>\n",
       "      <th>basement_True</th>\n",
       "    </tr>\n",
       "  </thead>\n",
       "  <tbody>\n",
       "    <tr>\n",
       "      <th>0</th>\n",
       "      <td>-0.346817</td>\n",
       "      <td>-1.324958</td>\n",
       "      <td>-1.109378</td>\n",
       "      <td>-0.517790</td>\n",
       "      <td>-0.549616</td>\n",
       "      <td>-1.037937</td>\n",
       "      <td>-0.395662</td>\n",
       "      <td>0</td>\n",
       "      <td>0</td>\n",
       "      <td>0</td>\n",
       "      <td>...</td>\n",
       "      <td>0</td>\n",
       "      <td>0</td>\n",
       "      <td>0</td>\n",
       "      <td>0</td>\n",
       "      <td>0</td>\n",
       "      <td>0</td>\n",
       "      <td>0</td>\n",
       "      <td>0</td>\n",
       "      <td>0</td>\n",
       "      <td>0</td>\n",
       "    </tr>\n",
       "    <tr>\n",
       "      <th>1</th>\n",
       "      <td>-0.346817</td>\n",
       "      <td>0.067799</td>\n",
       "      <td>0.694311</td>\n",
       "      <td>-0.115464</td>\n",
       "      <td>-0.689529</td>\n",
       "      <td>-0.247134</td>\n",
       "      <td>-0.694813</td>\n",
       "      <td>0</td>\n",
       "      <td>0</td>\n",
       "      <td>0</td>\n",
       "      <td>...</td>\n",
       "      <td>1</td>\n",
       "      <td>0</td>\n",
       "      <td>0</td>\n",
       "      <td>0</td>\n",
       "      <td>0</td>\n",
       "      <td>0</td>\n",
       "      <td>0</td>\n",
       "      <td>0</td>\n",
       "      <td>1</td>\n",
       "      <td>1</td>\n",
       "    </tr>\n",
       "    <tr>\n",
       "      <th>2</th>\n",
       "      <td>-1.453280</td>\n",
       "      <td>-1.324958</td>\n",
       "      <td>-2.131682</td>\n",
       "      <td>0.562796</td>\n",
       "      <td>-1.118711</td>\n",
       "      <td>1.064091</td>\n",
       "      <td>0.088916</td>\n",
       "      <td>0</td>\n",
       "      <td>0</td>\n",
       "      <td>0</td>\n",
       "      <td>...</td>\n",
       "      <td>0</td>\n",
       "      <td>0</td>\n",
       "      <td>0</td>\n",
       "      <td>0</td>\n",
       "      <td>0</td>\n",
       "      <td>0</td>\n",
       "      <td>0</td>\n",
       "      <td>0</td>\n",
       "      <td>0</td>\n",
       "      <td>0</td>\n",
       "    </tr>\n",
       "    <tr>\n",
       "      <th>3</th>\n",
       "      <td>0.678433</td>\n",
       "      <td>1.258508</td>\n",
       "      <td>0.051460</td>\n",
       "      <td>-0.718462</td>\n",
       "      <td>-0.247134</td>\n",
       "      <td>-0.985610</td>\n",
       "      <td>-0.410235</td>\n",
       "      <td>0</td>\n",
       "      <td>0</td>\n",
       "      <td>0</td>\n",
       "      <td>...</td>\n",
       "      <td>0</td>\n",
       "      <td>0</td>\n",
       "      <td>0</td>\n",
       "      <td>1</td>\n",
       "      <td>0</td>\n",
       "      <td>0</td>\n",
       "      <td>0</td>\n",
       "      <td>0</td>\n",
       "      <td>0</td>\n",
       "      <td>1</td>\n",
       "    </tr>\n",
       "    <tr>\n",
       "      <th>4</th>\n",
       "      <td>-0.346817</td>\n",
       "      <td>-0.163824</td>\n",
       "      <td>-0.293986</td>\n",
       "      <td>0.128003</td>\n",
       "      <td>0.368215</td>\n",
       "      <td>-0.062770</td>\n",
       "      <td>0.546908</td>\n",
       "      <td>0</td>\n",
       "      <td>0</td>\n",
       "      <td>0</td>\n",
       "      <td>...</td>\n",
       "      <td>0</td>\n",
       "      <td>0</td>\n",
       "      <td>0</td>\n",
       "      <td>0</td>\n",
       "      <td>0</td>\n",
       "      <td>0</td>\n",
       "      <td>0</td>\n",
       "      <td>0</td>\n",
       "      <td>0</td>\n",
       "      <td>0</td>\n",
       "    </tr>\n",
       "    <tr>\n",
       "      <th>...</th>\n",
       "      <td>...</td>\n",
       "      <td>...</td>\n",
       "      <td>...</td>\n",
       "      <td>...</td>\n",
       "      <td>...</td>\n",
       "      <td>...</td>\n",
       "      <td>...</td>\n",
       "      <td>...</td>\n",
       "      <td>...</td>\n",
       "      <td>...</td>\n",
       "      <td>...</td>\n",
       "      <td>...</td>\n",
       "      <td>...</td>\n",
       "      <td>...</td>\n",
       "      <td>...</td>\n",
       "      <td>...</td>\n",
       "      <td>...</td>\n",
       "      <td>...</td>\n",
       "      <td>...</td>\n",
       "      <td>...</td>\n",
       "      <td>...</td>\n",
       "    </tr>\n",
       "    <tr>\n",
       "      <th>21590</th>\n",
       "      <td>0.678433</td>\n",
       "      <td>1.721914</td>\n",
       "      <td>1.475269</td>\n",
       "      <td>-0.148584</td>\n",
       "      <td>1.529558</td>\n",
       "      <td>0.299230</td>\n",
       "      <td>-0.257839</td>\n",
       "      <td>0</td>\n",
       "      <td>0</td>\n",
       "      <td>0</td>\n",
       "      <td>...</td>\n",
       "      <td>0</td>\n",
       "      <td>0</td>\n",
       "      <td>0</td>\n",
       "      <td>1</td>\n",
       "      <td>0</td>\n",
       "      <td>0</td>\n",
       "      <td>0</td>\n",
       "      <td>0</td>\n",
       "      <td>0</td>\n",
       "      <td>1</td>\n",
       "    </tr>\n",
       "    <tr>\n",
       "      <th>21591</th>\n",
       "      <td>-0.346817</td>\n",
       "      <td>0.520661</td>\n",
       "      <td>-0.864365</td>\n",
       "      <td>-1.891493</td>\n",
       "      <td>1.428482</td>\n",
       "      <td>-1.061884</td>\n",
       "      <td>-0.188098</td>\n",
       "      <td>0</td>\n",
       "      <td>0</td>\n",
       "      <td>0</td>\n",
       "      <td>...</td>\n",
       "      <td>0</td>\n",
       "      <td>0</td>\n",
       "      <td>0</td>\n",
       "      <td>0</td>\n",
       "      <td>0</td>\n",
       "      <td>0</td>\n",
       "      <td>0</td>\n",
       "      <td>0</td>\n",
       "      <td>0</td>\n",
       "      <td>1</td>\n",
       "    </tr>\n",
       "    <tr>\n",
       "      <th>21592</th>\n",
       "      <td>-0.346817</td>\n",
       "      <td>0.520661</td>\n",
       "      <td>-0.509202</td>\n",
       "      <td>-2.132221</td>\n",
       "      <td>1.529558</td>\n",
       "      <td>-0.573115</td>\n",
       "      <td>-1.087218</td>\n",
       "      <td>0</td>\n",
       "      <td>0</td>\n",
       "      <td>0</td>\n",
       "      <td>...</td>\n",
       "      <td>0</td>\n",
       "      <td>0</td>\n",
       "      <td>0</td>\n",
       "      <td>0</td>\n",
       "      <td>0</td>\n",
       "      <td>0</td>\n",
       "      <td>0</td>\n",
       "      <td>0</td>\n",
       "      <td>0</td>\n",
       "      <td>0</td>\n",
       "    </tr>\n",
       "    <tr>\n",
       "      <th>21593</th>\n",
       "      <td>0.678433</td>\n",
       "      <td>0.520661</td>\n",
       "      <td>0.436240</td>\n",
       "      <td>-0.475178</td>\n",
       "      <td>2.183092</td>\n",
       "      <td>-0.012546</td>\n",
       "      <td>-0.598796</td>\n",
       "      <td>0</td>\n",
       "      <td>0</td>\n",
       "      <td>0</td>\n",
       "      <td>...</td>\n",
       "      <td>0</td>\n",
       "      <td>0</td>\n",
       "      <td>0</td>\n",
       "      <td>0</td>\n",
       "      <td>0</td>\n",
       "      <td>0</td>\n",
       "      <td>0</td>\n",
       "      <td>0</td>\n",
       "      <td>0</td>\n",
       "      <td>0</td>\n",
       "    </tr>\n",
       "    <tr>\n",
       "      <th>21595</th>\n",
       "      <td>-0.346817</td>\n",
       "      <td>0.520661</td>\n",
       "      <td>-0.406079</td>\n",
       "      <td>-1.515547</td>\n",
       "      <td>1.008294</td>\n",
       "      <td>-0.862544</td>\n",
       "      <td>0.346817</td>\n",
       "      <td>0</td>\n",
       "      <td>0</td>\n",
       "      <td>0</td>\n",
       "      <td>...</td>\n",
       "      <td>0</td>\n",
       "      <td>0</td>\n",
       "      <td>0</td>\n",
       "      <td>0</td>\n",
       "      <td>0</td>\n",
       "      <td>0</td>\n",
       "      <td>0</td>\n",
       "      <td>0</td>\n",
       "      <td>0</td>\n",
       "      <td>0</td>\n",
       "    </tr>\n",
       "  </tbody>\n",
       "</table>\n",
       "<p>21048 rows × 70 columns</p>\n",
       "</div>"
      ],
      "text/plain": [
       "       bedrooms_transformed  bathrooms_transformed  sqft_living_transformed  \\\n",
       "0                 -0.346817              -1.324958                -1.109378   \n",
       "1                 -0.346817               0.067799                 0.694311   \n",
       "2                 -1.453280              -1.324958                -2.131682   \n",
       "3                  0.678433               1.258508                 0.051460   \n",
       "4                 -0.346817              -0.163824                -0.293986   \n",
       "...                     ...                    ...                      ...   \n",
       "21590              0.678433               1.721914                 1.475269   \n",
       "21591             -0.346817               0.520661                -0.864365   \n",
       "21592             -0.346817               0.520661                -0.509202   \n",
       "21593              0.678433               0.520661                 0.436240   \n",
       "21595             -0.346817               0.520661                -0.406079   \n",
       "\n",
       "       sqft_lot_transformed  yr_built_transformed  sqft_living15_transformed  \\\n",
       "0                 -0.517790             -0.549616                  -1.037937   \n",
       "1                 -0.115464             -0.689529                  -0.247134   \n",
       "2                  0.562796             -1.118711                   1.064091   \n",
       "3                 -0.718462             -0.247134                  -0.985610   \n",
       "4                  0.128003              0.368215                  -0.062770   \n",
       "...                     ...                   ...                        ...   \n",
       "21590             -0.148584              1.529558                   0.299230   \n",
       "21591             -1.891493              1.428482                  -1.061884   \n",
       "21592             -2.132221              1.529558                  -0.573115   \n",
       "21593             -0.475178              2.183092                  -0.012546   \n",
       "21595             -1.515547              1.008294                  -0.862544   \n",
       "\n",
       "       distanceM_transformed  waterfront_1  view_1  view_2  ...  \\\n",
       "0                  -0.395662             0       0       0  ...   \n",
       "1                  -0.694813             0       0       0  ...   \n",
       "2                   0.088916             0       0       0  ...   \n",
       "3                  -0.410235             0       0       0  ...   \n",
       "4                   0.546908             0       0       0  ...   \n",
       "...                      ...           ...     ...     ...  ...   \n",
       "21590              -0.257839             0       0       0  ...   \n",
       "21591              -0.188098             0       0       0  ...   \n",
       "21592              -1.087218             0       0       0  ...   \n",
       "21593              -0.598796             0       0       0  ...   \n",
       "21595               0.346817             0       0       0  ...   \n",
       "\n",
       "       zipcode_98125  zipcode_98126  zipcode_98133  zipcode_98136  \\\n",
       "0                  0              0              0              0   \n",
       "1                  1              0              0              0   \n",
       "2                  0              0              0              0   \n",
       "3                  0              0              0              1   \n",
       "4                  0              0              0              0   \n",
       "...              ...            ...            ...            ...   \n",
       "21590              0              0              0              1   \n",
       "21591              0              0              0              0   \n",
       "21592              0              0              0              0   \n",
       "21593              0              0              0              0   \n",
       "21595              0              0              0              0   \n",
       "\n",
       "       zipcode_98144  zipcode_98155  zipcode_98177  zipcode_98199  \\\n",
       "0                  0              0              0              0   \n",
       "1                  0              0              0              0   \n",
       "2                  0              0              0              0   \n",
       "3                  0              0              0              0   \n",
       "4                  0              0              0              0   \n",
       "...              ...            ...            ...            ...   \n",
       "21590              0              0              0              0   \n",
       "21591              0              0              0              0   \n",
       "21592              0              0              0              0   \n",
       "21593              0              0              0              0   \n",
       "21595              0              0              0              0   \n",
       "\n",
       "       renovated_True  basement_True  \n",
       "0                   0              0  \n",
       "1                   1              1  \n",
       "2                   0              0  \n",
       "3                   0              1  \n",
       "4                   0              0  \n",
       "...               ...            ...  \n",
       "21590               0              1  \n",
       "21591               0              1  \n",
       "21592               0              0  \n",
       "21593               0              0  \n",
       "21595               0              0  \n",
       "\n",
       "[21048 rows x 70 columns]"
      ]
     },
     "execution_count": 2852,
     "metadata": {},
     "output_type": "execute_result"
    }
   ],
   "source": [
    "X"
   ]
  },
  {
   "cell_type": "code",
   "execution_count": 2853,
   "id": "c46dc45d",
   "metadata": {},
   "outputs": [],
   "source": [
    "X_train, X_test, y_train, y_test=train_test_split(X, y, test_size=.30,random_state=100)"
   ]
  },
  {
   "cell_type": "code",
   "execution_count": 2857,
   "id": "16aa0896",
   "metadata": {},
   "outputs": [
    {
     "data": {
      "text/html": [
       "<div>\n",
       "<style scoped>\n",
       "    .dataframe tbody tr th:only-of-type {\n",
       "        vertical-align: middle;\n",
       "    }\n",
       "\n",
       "    .dataframe tbody tr th {\n",
       "        vertical-align: top;\n",
       "    }\n",
       "\n",
       "    .dataframe thead th {\n",
       "        text-align: right;\n",
       "    }\n",
       "</style>\n",
       "<table border=\"1\" class=\"dataframe\">\n",
       "  <thead>\n",
       "    <tr style=\"text-align: right;\">\n",
       "      <th></th>\n",
       "      <th>bedrooms_transformed</th>\n",
       "      <th>bathrooms_transformed</th>\n",
       "      <th>sqft_living_transformed</th>\n",
       "      <th>sqft_lot_transformed</th>\n",
       "      <th>yr_built_transformed</th>\n",
       "      <th>sqft_living15_transformed</th>\n",
       "      <th>distanceM_transformed</th>\n",
       "      <th>waterfront_1</th>\n",
       "      <th>view_1</th>\n",
       "      <th>view_2</th>\n",
       "      <th>...</th>\n",
       "      <th>zipcode_98125</th>\n",
       "      <th>zipcode_98126</th>\n",
       "      <th>zipcode_98133</th>\n",
       "      <th>zipcode_98136</th>\n",
       "      <th>zipcode_98144</th>\n",
       "      <th>zipcode_98155</th>\n",
       "      <th>zipcode_98177</th>\n",
       "      <th>zipcode_98199</th>\n",
       "      <th>renovated_True</th>\n",
       "      <th>basement_True</th>\n",
       "    </tr>\n",
       "  </thead>\n",
       "  <tbody>\n",
       "    <tr>\n",
       "      <th>20522</th>\n",
       "      <td>-0.346817</td>\n",
       "      <td>0.520661</td>\n",
       "      <td>0.181652</td>\n",
       "      <td>1.583588</td>\n",
       "      <td>1.744448</td>\n",
       "      <td>0.177827</td>\n",
       "      <td>1.599003</td>\n",
       "      <td>0</td>\n",
       "      <td>0</td>\n",
       "      <td>0</td>\n",
       "      <td>...</td>\n",
       "      <td>0</td>\n",
       "      <td>0</td>\n",
       "      <td>0</td>\n",
       "      <td>0</td>\n",
       "      <td>0</td>\n",
       "      <td>0</td>\n",
       "      <td>0</td>\n",
       "      <td>0</td>\n",
       "      <td>0</td>\n",
       "      <td>0</td>\n",
       "    </tr>\n",
       "    <tr>\n",
       "      <th>11455</th>\n",
       "      <td>0.678433</td>\n",
       "      <td>0.067799</td>\n",
       "      <td>0.487893</td>\n",
       "      <td>1.086344</td>\n",
       "      <td>0.069056</td>\n",
       "      <td>0.997920</td>\n",
       "      <td>0.441800</td>\n",
       "      <td>0</td>\n",
       "      <td>0</td>\n",
       "      <td>0</td>\n",
       "      <td>...</td>\n",
       "      <td>0</td>\n",
       "      <td>0</td>\n",
       "      <td>0</td>\n",
       "      <td>0</td>\n",
       "      <td>0</td>\n",
       "      <td>0</td>\n",
       "      <td>0</td>\n",
       "      <td>0</td>\n",
       "      <td>0</td>\n",
       "      <td>0</td>\n",
       "    </tr>\n",
       "    <tr>\n",
       "      <th>9349</th>\n",
       "      <td>0.678433</td>\n",
       "      <td>-0.163824</td>\n",
       "      <td>-0.406079</td>\n",
       "      <td>0.869846</td>\n",
       "      <td>-1.077446</td>\n",
       "      <td>-1.269664</td>\n",
       "      <td>-0.226980</td>\n",
       "      <td>0</td>\n",
       "      <td>0</td>\n",
       "      <td>0</td>\n",
       "      <td>...</td>\n",
       "      <td>0</td>\n",
       "      <td>0</td>\n",
       "      <td>0</td>\n",
       "      <td>0</td>\n",
       "      <td>0</td>\n",
       "      <td>0</td>\n",
       "      <td>0</td>\n",
       "      <td>0</td>\n",
       "      <td>0</td>\n",
       "      <td>0</td>\n",
       "    </tr>\n",
       "    <tr>\n",
       "      <th>9566</th>\n",
       "      <td>-1.453280</td>\n",
       "      <td>-0.786745</td>\n",
       "      <td>-0.110627</td>\n",
       "      <td>0.053973</td>\n",
       "      <td>-0.517790</td>\n",
       "      <td>-0.886449</td>\n",
       "      <td>-0.292849</td>\n",
       "      <td>0</td>\n",
       "      <td>0</td>\n",
       "      <td>0</td>\n",
       "      <td>...</td>\n",
       "      <td>0</td>\n",
       "      <td>0</td>\n",
       "      <td>1</td>\n",
       "      <td>0</td>\n",
       "      <td>0</td>\n",
       "      <td>0</td>\n",
       "      <td>0</td>\n",
       "      <td>0</td>\n",
       "      <td>0</td>\n",
       "      <td>1</td>\n",
       "    </tr>\n",
       "    <tr>\n",
       "      <th>9761</th>\n",
       "      <td>-0.346817</td>\n",
       "      <td>0.067799</td>\n",
       "      <td>0.366873</td>\n",
       "      <td>0.311059</td>\n",
       "      <td>-0.492137</td>\n",
       "      <td>0.533636</td>\n",
       "      <td>-0.308863</td>\n",
       "      <td>0</td>\n",
       "      <td>0</td>\n",
       "      <td>0</td>\n",
       "      <td>...</td>\n",
       "      <td>0</td>\n",
       "      <td>0</td>\n",
       "      <td>0</td>\n",
       "      <td>0</td>\n",
       "      <td>0</td>\n",
       "      <td>0</td>\n",
       "      <td>0</td>\n",
       "      <td>0</td>\n",
       "      <td>0</td>\n",
       "      <td>0</td>\n",
       "    </tr>\n",
       "    <tr>\n",
       "      <th>...</th>\n",
       "      <td>...</td>\n",
       "      <td>...</td>\n",
       "      <td>...</td>\n",
       "      <td>...</td>\n",
       "      <td>...</td>\n",
       "      <td>...</td>\n",
       "      <td>...</td>\n",
       "      <td>...</td>\n",
       "      <td>...</td>\n",
       "      <td>...</td>\n",
       "      <td>...</td>\n",
       "      <td>...</td>\n",
       "      <td>...</td>\n",
       "      <td>...</td>\n",
       "      <td>...</td>\n",
       "      <td>...</td>\n",
       "      <td>...</td>\n",
       "      <td>...</td>\n",
       "      <td>...</td>\n",
       "      <td>...</td>\n",
       "      <td>...</td>\n",
       "    </tr>\n",
       "    <tr>\n",
       "      <th>16701</th>\n",
       "      <td>0.678433</td>\n",
       "      <td>-0.163824</td>\n",
       "      <td>0.074087</td>\n",
       "      <td>0.664392</td>\n",
       "      <td>-1.362078</td>\n",
       "      <td>-0.985610</td>\n",
       "      <td>-0.192324</td>\n",
       "      <td>0</td>\n",
       "      <td>0</td>\n",
       "      <td>0</td>\n",
       "      <td>...</td>\n",
       "      <td>0</td>\n",
       "      <td>0</td>\n",
       "      <td>0</td>\n",
       "      <td>0</td>\n",
       "      <td>0</td>\n",
       "      <td>0</td>\n",
       "      <td>0</td>\n",
       "      <td>0</td>\n",
       "      <td>0</td>\n",
       "      <td>0</td>\n",
       "    </tr>\n",
       "    <tr>\n",
       "      <th>80</th>\n",
       "      <td>-0.346817</td>\n",
       "      <td>0.520661</td>\n",
       "      <td>0.478025</td>\n",
       "      <td>-0.653377</td>\n",
       "      <td>0.930036</td>\n",
       "      <td>0.661162</td>\n",
       "      <td>1.691779</td>\n",
       "      <td>0</td>\n",
       "      <td>0</td>\n",
       "      <td>0</td>\n",
       "      <td>...</td>\n",
       "      <td>0</td>\n",
       "      <td>0</td>\n",
       "      <td>0</td>\n",
       "      <td>0</td>\n",
       "      <td>0</td>\n",
       "      <td>0</td>\n",
       "      <td>0</td>\n",
       "      <td>0</td>\n",
       "      <td>0</td>\n",
       "      <td>0</td>\n",
       "    </tr>\n",
       "    <tr>\n",
       "      <th>12414</th>\n",
       "      <td>-0.346817</td>\n",
       "      <td>1.453280</td>\n",
       "      <td>1.626074</td>\n",
       "      <td>2.140625</td>\n",
       "      <td>0.478025</td>\n",
       "      <td>0.716839</td>\n",
       "      <td>-0.038122</td>\n",
       "      <td>0</td>\n",
       "      <td>0</td>\n",
       "      <td>0</td>\n",
       "      <td>...</td>\n",
       "      <td>0</td>\n",
       "      <td>0</td>\n",
       "      <td>0</td>\n",
       "      <td>0</td>\n",
       "      <td>0</td>\n",
       "      <td>0</td>\n",
       "      <td>0</td>\n",
       "      <td>0</td>\n",
       "      <td>0</td>\n",
       "      <td>1</td>\n",
       "    </tr>\n",
       "    <tr>\n",
       "      <th>14497</th>\n",
       "      <td>0.678433</td>\n",
       "      <td>0.520661</td>\n",
       "      <td>0.303168</td>\n",
       "      <td>-0.301855</td>\n",
       "      <td>-0.882739</td>\n",
       "      <td>-2.408550</td>\n",
       "      <td>-0.605376</td>\n",
       "      <td>0</td>\n",
       "      <td>0</td>\n",
       "      <td>0</td>\n",
       "      <td>...</td>\n",
       "      <td>0</td>\n",
       "      <td>1</td>\n",
       "      <td>0</td>\n",
       "      <td>0</td>\n",
       "      <td>0</td>\n",
       "      <td>0</td>\n",
       "      <td>0</td>\n",
       "      <td>0</td>\n",
       "      <td>0</td>\n",
       "      <td>1</td>\n",
       "    </tr>\n",
       "    <tr>\n",
       "      <th>5788</th>\n",
       "      <td>-0.346817</td>\n",
       "      <td>0.067799</td>\n",
       "      <td>1.044409</td>\n",
       "      <td>1.967377</td>\n",
       "      <td>0.439001</td>\n",
       "      <td>1.334066</td>\n",
       "      <td>0.586294</td>\n",
       "      <td>0</td>\n",
       "      <td>0</td>\n",
       "      <td>0</td>\n",
       "      <td>...</td>\n",
       "      <td>0</td>\n",
       "      <td>0</td>\n",
       "      <td>0</td>\n",
       "      <td>0</td>\n",
       "      <td>0</td>\n",
       "      <td>0</td>\n",
       "      <td>0</td>\n",
       "      <td>0</td>\n",
       "      <td>0</td>\n",
       "      <td>1</td>\n",
       "    </tr>\n",
       "  </tbody>\n",
       "</table>\n",
       "<p>14733 rows × 70 columns</p>\n",
       "</div>"
      ],
      "text/plain": [
       "       bedrooms_transformed  bathrooms_transformed  sqft_living_transformed  \\\n",
       "20522             -0.346817               0.520661                 0.181652   \n",
       "11455              0.678433               0.067799                 0.487893   \n",
       "9349               0.678433              -0.163824                -0.406079   \n",
       "9566              -1.453280              -0.786745                -0.110627   \n",
       "9761              -0.346817               0.067799                 0.366873   \n",
       "...                     ...                    ...                      ...   \n",
       "16701              0.678433              -0.163824                 0.074087   \n",
       "80                -0.346817               0.520661                 0.478025   \n",
       "12414             -0.346817               1.453280                 1.626074   \n",
       "14497              0.678433               0.520661                 0.303168   \n",
       "5788              -0.346817               0.067799                 1.044409   \n",
       "\n",
       "       sqft_lot_transformed  yr_built_transformed  sqft_living15_transformed  \\\n",
       "20522              1.583588              1.744448                   0.177827   \n",
       "11455              1.086344              0.069056                   0.997920   \n",
       "9349               0.869846             -1.077446                  -1.269664   \n",
       "9566               0.053973             -0.517790                  -0.886449   \n",
       "9761               0.311059             -0.492137                   0.533636   \n",
       "...                     ...                   ...                        ...   \n",
       "16701              0.664392             -1.362078                  -0.985610   \n",
       "80                -0.653377              0.930036                   0.661162   \n",
       "12414              2.140625              0.478025                   0.716839   \n",
       "14497             -0.301855             -0.882739                  -2.408550   \n",
       "5788               1.967377              0.439001                   1.334066   \n",
       "\n",
       "       distanceM_transformed  waterfront_1  view_1  view_2  ...  \\\n",
       "20522               1.599003             0       0       0  ...   \n",
       "11455               0.441800             0       0       0  ...   \n",
       "9349               -0.226980             0       0       0  ...   \n",
       "9566               -0.292849             0       0       0  ...   \n",
       "9761               -0.308863             0       0       0  ...   \n",
       "...                      ...           ...     ...     ...  ...   \n",
       "16701              -0.192324             0       0       0  ...   \n",
       "80                  1.691779             0       0       0  ...   \n",
       "12414              -0.038122             0       0       0  ...   \n",
       "14497              -0.605376             0       0       0  ...   \n",
       "5788                0.586294             0       0       0  ...   \n",
       "\n",
       "       zipcode_98125  zipcode_98126  zipcode_98133  zipcode_98136  \\\n",
       "20522              0              0              0              0   \n",
       "11455              0              0              0              0   \n",
       "9349               0              0              0              0   \n",
       "9566               0              0              1              0   \n",
       "9761               0              0              0              0   \n",
       "...              ...            ...            ...            ...   \n",
       "16701              0              0              0              0   \n",
       "80                 0              0              0              0   \n",
       "12414              0              0              0              0   \n",
       "14497              0              1              0              0   \n",
       "5788               0              0              0              0   \n",
       "\n",
       "       zipcode_98144  zipcode_98155  zipcode_98177  zipcode_98199  \\\n",
       "20522              0              0              0              0   \n",
       "11455              0              0              0              0   \n",
       "9349               0              0              0              0   \n",
       "9566               0              0              0              0   \n",
       "9761               0              0              0              0   \n",
       "...              ...            ...            ...            ...   \n",
       "16701              0              0              0              0   \n",
       "80                 0              0              0              0   \n",
       "12414              0              0              0              0   \n",
       "14497              0              0              0              0   \n",
       "5788               0              0              0              0   \n",
       "\n",
       "       renovated_True  basement_True  \n",
       "20522               0              0  \n",
       "11455               0              0  \n",
       "9349                0              0  \n",
       "9566                0              1  \n",
       "9761                0              0  \n",
       "...               ...            ...  \n",
       "16701               0              0  \n",
       "80                  0              0  \n",
       "12414               0              1  \n",
       "14497               0              1  \n",
       "5788                0              1  \n",
       "\n",
       "[14733 rows x 70 columns]"
      ]
     },
     "execution_count": 2857,
     "metadata": {},
     "output_type": "execute_result"
    }
   ],
   "source": [
    "X_train"
   ]
  },
  {
   "cell_type": "code",
   "execution_count": 2854,
   "id": "12ab82e7",
   "metadata": {},
   "outputs": [
    {
     "name": "stdout",
     "output_type": "stream",
     "text": [
      "(14733, 7) (6315, 7) (14733, 63) (6315, 63)\n"
     ]
    }
   ],
   "source": [
    "\n",
    "X_train_num = X_train.select_dtypes(['float64'])\n",
    "X_test_num = X_test.select_dtypes(['float64'])\n",
    "X_train_cat = X_train.select_dtypes(['uint8'])\n",
    "X_test_cat = X_test.select_dtypes(['uint8'])\n",
    "print(X_train_num.shape, X_test_num.shape, X_train_cat.shape, X_test_cat.shape)"
   ]
  },
  {
   "cell_type": "code",
   "execution_count": 2861,
   "id": "12174b74",
   "metadata": {
    "scrolled": false
   },
   "outputs": [
    {
     "data": {
      "text/plain": [
       "(Index(['bedrooms_transformed', 'bathrooms_transformed',\n",
       "        'sqft_living_transformed', 'sqft_lot_transformed',\n",
       "        'yr_built_transformed', 'sqft_living15_transformed',\n",
       "        'distanceM_transformed', 'waterfront_1', 'view_1', 'view_2', 'view_3',\n",
       "        'view_4', 'condition_4', 'condition_5', 'grade_below_avg',\n",
       "        'zipcode_98002', 'zipcode_98004', 'zipcode_98005', 'zipcode_98006',\n",
       "        'zipcode_98007', 'zipcode_98008', 'zipcode_98010', 'zipcode_98011',\n",
       "        'zipcode_98014', 'zipcode_98019', 'zipcode_98022', 'zipcode_98024',\n",
       "        'zipcode_98027', 'zipcode_98028', 'zipcode_98029', 'zipcode_98033',\n",
       "        'zipcode_98034', 'zipcode_98038', 'zipcode_98039', 'zipcode_98040',\n",
       "        'zipcode_98042', 'zipcode_98045', 'zipcode_98052', 'zipcode_98053',\n",
       "        'zipcode_98056', 'zipcode_98059', 'zipcode_98065', 'zipcode_98072',\n",
       "        'zipcode_98074', 'zipcode_98075', 'zipcode_98077', 'zipcode_98092',\n",
       "        'zipcode_98102', 'zipcode_98103', 'zipcode_98105', 'zipcode_98106',\n",
       "        'zipcode_98107', 'zipcode_98109', 'zipcode_98112', 'zipcode_98115',\n",
       "        'zipcode_98116', 'zipcode_98117', 'zipcode_98118', 'zipcode_98119',\n",
       "        'zipcode_98122', 'zipcode_98125', 'zipcode_98126', 'zipcode_98133',\n",
       "        'zipcode_98136', 'zipcode_98144', 'zipcode_98155', 'zipcode_98177',\n",
       "        'zipcode_98199', 'renovated_True', 'basement_True'],\n",
       "       dtype='object'),\n",
       " Index(['floors_one', 'waterfront_1', 'view_1', 'view_2', 'view_3', 'view_4',\n",
       "        'condition_2', 'condition_3', 'condition_4', 'condition_5',\n",
       "        'grade_below_avg', 'zipcode_98002', 'zipcode_98003', 'zipcode_98004',\n",
       "        'zipcode_98005', 'zipcode_98006', 'zipcode_98007', 'zipcode_98008',\n",
       "        'zipcode_98010', 'zipcode_98011', 'zipcode_98014', 'zipcode_98019',\n",
       "        'zipcode_98022', 'zipcode_98023', 'zipcode_98024', 'zipcode_98027',\n",
       "        'zipcode_98028', 'zipcode_98029', 'zipcode_98030', 'zipcode_98031',\n",
       "        'zipcode_98032', 'zipcode_98033', 'zipcode_98034', 'zipcode_98038',\n",
       "        'zipcode_98039', 'zipcode_98040', 'zipcode_98042', 'zipcode_98045',\n",
       "        'zipcode_98052', 'zipcode_98053', 'zipcode_98055', 'zipcode_98056',\n",
       "        'zipcode_98058', 'zipcode_98059', 'zipcode_98065', 'zipcode_98070',\n",
       "        'zipcode_98072', 'zipcode_98074', 'zipcode_98075', 'zipcode_98077',\n",
       "        'zipcode_98092', 'zipcode_98102', 'zipcode_98103', 'zipcode_98105',\n",
       "        'zipcode_98106', 'zipcode_98107', 'zipcode_98108', 'zipcode_98109',\n",
       "        'zipcode_98112', 'zipcode_98115', 'zipcode_98116', 'zipcode_98117',\n",
       "        'zipcode_98118', 'zipcode_98119', 'zipcode_98122', 'zipcode_98125',\n",
       "        'zipcode_98126', 'zipcode_98133', 'zipcode_98136', 'zipcode_98144',\n",
       "        'zipcode_98146', 'zipcode_98148', 'zipcode_98155', 'zipcode_98166',\n",
       "        'zipcode_98168', 'zipcode_98177', 'zipcode_98178', 'zipcode_98188',\n",
       "        'zipcode_98198', 'zipcode_98199', 'renovated_True', 'basement_True'],\n",
       "       dtype='object'))"
      ]
     },
     "execution_count": 2861,
     "metadata": {},
     "output_type": "execute_result"
    }
   ],
   "source": [
    "X_train.columns, dummies.columns"
   ]
  },
  {
   "cell_type": "code",
   "execution_count": 2856,
   "id": "67f7f083",
   "metadata": {},
   "outputs": [
    {
     "ename": "KeyError",
     "evalue": "\"None of [Index(['waterfront_1', 'view_1', 'view_2', 'view_3', 'view_4', 'condition_4',\\n       'condition_5', 'grade_below_avg', 'zipcode_98002', 'zipcode_98004',\\n       'zipcode_98005', 'zipcode_98006', 'zipcode_98007', 'zipcode_98008',\\n       'zipcode_98010', 'zipcode_98011', 'zipcode_98014', 'zipcode_98019',\\n       'zipcode_98022', 'zipcode_98024', 'zipcode_98027', 'zipcode_98028',\\n       'zipcode_98029', 'zipcode_98033', 'zipcode_98034', 'zipcode_98038',\\n       'zipcode_98039', 'zipcode_98040', 'zipcode_98042', 'zipcode_98045',\\n       'zipcode_98052', 'zipcode_98053', 'zipcode_98056', 'zipcode_98059',\\n       'zipcode_98065', 'zipcode_98072', 'zipcode_98074', 'zipcode_98075',\\n       'zipcode_98077', 'zipcode_98092', 'zipcode_98102', 'zipcode_98103',\\n       'zipcode_98105', 'zipcode_98106', 'zipcode_98107', 'zipcode_98109',\\n       'zipcode_98112', 'zipcode_98115', 'zipcode_98116', 'zipcode_98117',\\n       'zipcode_98118', 'zipcode_98119', 'zipcode_98122', 'zipcode_98125',\\n       'zipcode_98126', 'zipcode_98133', 'zipcode_98136', 'zipcode_98144',\\n       'zipcode_98155', 'zipcode_98177', 'zipcode_98199', 'renovated_True',\\n       'basement_True'],\\n      dtype='object')] are in the [columns]\"",
     "output_type": "error",
     "traceback": [
      "\u001b[1;31m---------------------------------------------------------------------------\u001b[0m",
      "\u001b[1;31mKeyError\u001b[0m                                  Traceback (most recent call last)",
      "Input \u001b[1;32mIn [2856]\u001b[0m, in \u001b[0;36m<cell line: 3>\u001b[1;34m()\u001b[0m\n\u001b[0;32m      1\u001b[0m std_scaler\u001b[38;5;241m=\u001b[39mStandardScaler()\u001b[38;5;241m.\u001b[39mfit(X_train_num)   \u001b[38;5;66;03m##. finding the parameters ( mean, variance from the training set )\u001b[39;00m\n\u001b[0;32m      2\u001b[0m                                             \u001b[38;5;66;03m## \u001b[39;00m\n\u001b[1;32m----> 3\u001b[0m X_train_scaled, X_test_scaled \u001b[38;5;241m=\u001b[39m \u001b[43mscale_df\u001b[49m\u001b[43m(\u001b[49m\u001b[43mX_train_num\u001b[49m\u001b[43m,\u001b[49m\u001b[43m \u001b[49m\u001b[43mX_test_num\u001b[49m\u001b[43m,\u001b[49m\u001b[43m \u001b[49m\u001b[43mX_train\u001b[49m\u001b[43m,\u001b[49m\u001b[43m \u001b[49m\u001b[43mX_train_cat\u001b[49m\u001b[43m)\u001b[49m\n\u001b[0;32m      4\u001b[0m X_test_scaled\u001b[38;5;241m.\u001b[39mshape\n",
      "Input \u001b[1;32mIn [2837]\u001b[0m, in \u001b[0;36mscale_df\u001b[1;34m(X_train, X_test, X, dummies)\u001b[0m\n\u001b[0;32m      3\u001b[0m X_train_scaled\u001b[38;5;241m=\u001b[39mstd_scaler\u001b[38;5;241m.\u001b[39mtransform(get_num_attributes(X_train))\n\u001b[0;32m      4\u001b[0m X_test_scaled\u001b[38;5;241m=\u001b[39mstd_scaler\u001b[38;5;241m.\u001b[39mtransform(get_num_attributes(X_test))\n\u001b[1;32m----> 5\u001b[0m X_train_scaled \u001b[38;5;241m=\u001b[39m np\u001b[38;5;241m.\u001b[39mconcatenate((X_train_scaled, np\u001b[38;5;241m.\u001b[39masarray(\u001b[43mX_train\u001b[49m\u001b[43m[\u001b[49m\u001b[43mdummies\u001b[49m\u001b[38;5;241;43m.\u001b[39;49m\u001b[43mcolumns\u001b[49m\u001b[43m]\u001b[49m)), axis \u001b[38;5;241m=\u001b[39m \u001b[38;5;241m1\u001b[39m) \n\u001b[0;32m      6\u001b[0m X_test_scaled \u001b[38;5;241m=\u001b[39m np\u001b[38;5;241m.\u001b[39mconcatenate((X_test_scaled, np\u001b[38;5;241m.\u001b[39masarray(X_test[dummies\u001b[38;5;241m.\u001b[39mcolumns])), axis \u001b[38;5;241m=\u001b[39m\u001b[38;5;241m1\u001b[39m)\n\u001b[0;32m      7\u001b[0m \u001b[38;5;28mprint\u001b[39m(X_train_scaled\u001b[38;5;241m.\u001b[39mshape, X_test_scaled\u001b[38;5;241m.\u001b[39mshape)\n",
      "File \u001b[1;32m~\\anaconda3\\envs\\DA_Env\\lib\\site-packages\\pandas\\core\\frame.py:3511\u001b[0m, in \u001b[0;36mDataFrame.__getitem__\u001b[1;34m(self, key)\u001b[0m\n\u001b[0;32m   3509\u001b[0m     \u001b[38;5;28;01mif\u001b[39;00m is_iterator(key):\n\u001b[0;32m   3510\u001b[0m         key \u001b[38;5;241m=\u001b[39m \u001b[38;5;28mlist\u001b[39m(key)\n\u001b[1;32m-> 3511\u001b[0m     indexer \u001b[38;5;241m=\u001b[39m \u001b[38;5;28;43mself\u001b[39;49m\u001b[38;5;241;43m.\u001b[39;49m\u001b[43mcolumns\u001b[49m\u001b[38;5;241;43m.\u001b[39;49m\u001b[43m_get_indexer_strict\u001b[49m\u001b[43m(\u001b[49m\u001b[43mkey\u001b[49m\u001b[43m,\u001b[49m\u001b[43m \u001b[49m\u001b[38;5;124;43m\"\u001b[39;49m\u001b[38;5;124;43mcolumns\u001b[39;49m\u001b[38;5;124;43m\"\u001b[39;49m\u001b[43m)\u001b[49m[\u001b[38;5;241m1\u001b[39m]\n\u001b[0;32m   3513\u001b[0m \u001b[38;5;66;03m# take() does not accept boolean indexers\u001b[39;00m\n\u001b[0;32m   3514\u001b[0m \u001b[38;5;28;01mif\u001b[39;00m \u001b[38;5;28mgetattr\u001b[39m(indexer, \u001b[38;5;124m\"\u001b[39m\u001b[38;5;124mdtype\u001b[39m\u001b[38;5;124m\"\u001b[39m, \u001b[38;5;28;01mNone\u001b[39;00m) \u001b[38;5;241m==\u001b[39m \u001b[38;5;28mbool\u001b[39m:\n",
      "File \u001b[1;32m~\\anaconda3\\envs\\DA_Env\\lib\\site-packages\\pandas\\core\\indexes\\base.py:5782\u001b[0m, in \u001b[0;36mIndex._get_indexer_strict\u001b[1;34m(self, key, axis_name)\u001b[0m\n\u001b[0;32m   5779\u001b[0m \u001b[38;5;28;01melse\u001b[39;00m:\n\u001b[0;32m   5780\u001b[0m     keyarr, indexer, new_indexer \u001b[38;5;241m=\u001b[39m \u001b[38;5;28mself\u001b[39m\u001b[38;5;241m.\u001b[39m_reindex_non_unique(keyarr)\n\u001b[1;32m-> 5782\u001b[0m \u001b[38;5;28;43mself\u001b[39;49m\u001b[38;5;241;43m.\u001b[39;49m\u001b[43m_raise_if_missing\u001b[49m\u001b[43m(\u001b[49m\u001b[43mkeyarr\u001b[49m\u001b[43m,\u001b[49m\u001b[43m \u001b[49m\u001b[43mindexer\u001b[49m\u001b[43m,\u001b[49m\u001b[43m \u001b[49m\u001b[43maxis_name\u001b[49m\u001b[43m)\u001b[49m\n\u001b[0;32m   5784\u001b[0m keyarr \u001b[38;5;241m=\u001b[39m \u001b[38;5;28mself\u001b[39m\u001b[38;5;241m.\u001b[39mtake(indexer)\n\u001b[0;32m   5785\u001b[0m \u001b[38;5;28;01mif\u001b[39;00m \u001b[38;5;28misinstance\u001b[39m(key, Index):\n\u001b[0;32m   5786\u001b[0m     \u001b[38;5;66;03m# GH 42790 - Preserve name from an Index\u001b[39;00m\n",
      "File \u001b[1;32m~\\anaconda3\\envs\\DA_Env\\lib\\site-packages\\pandas\\core\\indexes\\base.py:5842\u001b[0m, in \u001b[0;36mIndex._raise_if_missing\u001b[1;34m(self, key, indexer, axis_name)\u001b[0m\n\u001b[0;32m   5840\u001b[0m     \u001b[38;5;28;01mif\u001b[39;00m use_interval_msg:\n\u001b[0;32m   5841\u001b[0m         key \u001b[38;5;241m=\u001b[39m \u001b[38;5;28mlist\u001b[39m(key)\n\u001b[1;32m-> 5842\u001b[0m     \u001b[38;5;28;01mraise\u001b[39;00m \u001b[38;5;167;01mKeyError\u001b[39;00m(\u001b[38;5;124mf\u001b[39m\u001b[38;5;124m\"\u001b[39m\u001b[38;5;124mNone of [\u001b[39m\u001b[38;5;132;01m{\u001b[39;00mkey\u001b[38;5;132;01m}\u001b[39;00m\u001b[38;5;124m] are in the [\u001b[39m\u001b[38;5;132;01m{\u001b[39;00maxis_name\u001b[38;5;132;01m}\u001b[39;00m\u001b[38;5;124m]\u001b[39m\u001b[38;5;124m\"\u001b[39m)\n\u001b[0;32m   5844\u001b[0m not_found \u001b[38;5;241m=\u001b[39m \u001b[38;5;28mlist\u001b[39m(ensure_index(key)[missing_mask\u001b[38;5;241m.\u001b[39mnonzero()[\u001b[38;5;241m0\u001b[39m]]\u001b[38;5;241m.\u001b[39munique())\n\u001b[0;32m   5845\u001b[0m \u001b[38;5;28;01mraise\u001b[39;00m \u001b[38;5;167;01mKeyError\u001b[39;00m(\u001b[38;5;124mf\u001b[39m\u001b[38;5;124m\"\u001b[39m\u001b[38;5;132;01m{\u001b[39;00mnot_found\u001b[38;5;132;01m}\u001b[39;00m\u001b[38;5;124m not in index\u001b[39m\u001b[38;5;124m\"\u001b[39m)\n",
      "\u001b[1;31mKeyError\u001b[0m: \"None of [Index(['waterfront_1', 'view_1', 'view_2', 'view_3', 'view_4', 'condition_4',\\n       'condition_5', 'grade_below_avg', 'zipcode_98002', 'zipcode_98004',\\n       'zipcode_98005', 'zipcode_98006', 'zipcode_98007', 'zipcode_98008',\\n       'zipcode_98010', 'zipcode_98011', 'zipcode_98014', 'zipcode_98019',\\n       'zipcode_98022', 'zipcode_98024', 'zipcode_98027', 'zipcode_98028',\\n       'zipcode_98029', 'zipcode_98033', 'zipcode_98034', 'zipcode_98038',\\n       'zipcode_98039', 'zipcode_98040', 'zipcode_98042', 'zipcode_98045',\\n       'zipcode_98052', 'zipcode_98053', 'zipcode_98056', 'zipcode_98059',\\n       'zipcode_98065', 'zipcode_98072', 'zipcode_98074', 'zipcode_98075',\\n       'zipcode_98077', 'zipcode_98092', 'zipcode_98102', 'zipcode_98103',\\n       'zipcode_98105', 'zipcode_98106', 'zipcode_98107', 'zipcode_98109',\\n       'zipcode_98112', 'zipcode_98115', 'zipcode_98116', 'zipcode_98117',\\n       'zipcode_98118', 'zipcode_98119', 'zipcode_98122', 'zipcode_98125',\\n       'zipcode_98126', 'zipcode_98133', 'zipcode_98136', 'zipcode_98144',\\n       'zipcode_98155', 'zipcode_98177', 'zipcode_98199', 'renovated_True',\\n       'basement_True'],\\n      dtype='object')] are in the [columns]\""
     ]
    }
   ],
   "source": [
    "std_scaler=StandardScaler().fit(X_train_num)   ##. finding the parameters ( mean, variance from the training set )\n",
    "                                            ## \n",
    "X_train_scaled, X_test_scaled = scale_df(X_train_num, X_test_num, X_train, X_train_cat)\n",
    "X_test_scaled.shape\n",
    "\n"
   ]
  },
  {
   "cell_type": "code",
   "execution_count": null,
   "id": "48073746",
   "metadata": {
    "scrolled": true
   },
   "outputs": [],
   "source": [
    "X_test.info()"
   ]
  },
  {
   "cell_type": "code",
   "execution_count": null,
   "id": "ee35d6b7",
   "metadata": {},
   "outputs": [],
   "source": [
    "X_train_scaled = np.concatenate((X_train_scaled, np.asarray(X_train_cat)), axis = 1) \n",
    "\n",
    "X_test_scaled = np.concatenate((X_test_scaled, np.asarray(X_test_cat)), axis =1)\n",
    "print(X_train_scaled.shape, X_test_scaled.shape)"
   ]
  },
  {
   "cell_type": "code",
   "execution_count": null,
   "id": "11c68579",
   "metadata": {},
   "outputs": [],
   "source": [
    "model=LinearRegression()    # model\n",
    "model.fit(X_train_scaled, y_train) \n",
    "\n",
    "\n",
    "y_pred=model.predict(X_test_scaled)   # model prediction\n",
    "y_pred_train=model.predict(X_train_scaled)\n",
    "\n",
    "\n",
    "result=pd.DataFrame({\"y_test\":y_test,\"y_pred\":y_pred})\n",
    "\n",
    "fig, ax = plt.subplots(1,3,figsize=(14,4))\n",
    "ax[0].plot(y_pred, y_test, 'o')\n",
    "ax[0].set_xlabel(\"y_test\")\n",
    "ax[0].set_ylabel(\"y_pred\")\n",
    "ax[0].set_title(\"Test Set -Predicted vs real\")\n",
    "\n",
    "# Get a histogram of the residuals ie: y - y_pred.  Homoscdasticity\n",
    "# It resembles a normal distribution?\n",
    "ax[1].hist(y_test - y_pred)\n",
    "ax[1].set_xlabel(\"Test y-y_pred\")\n",
    "ax[1].set_title(\"Test Set Residual histogram\")\n",
    "\n",
    "ax[2].plot(y_pred,y_test - y_pred,\"o\")\n",
    "ax[2].set_xlabel(\"predicted\")\n",
    "ax[2].set_ylabel(\"residuals\")\n",
    "ax[2].set_title(\"Residuals by Predicted\")\n",
    "ax[2].plot(y_pred,np.zeros(len(y_pred)),linestyle='dashed')"
   ]
  },
  {
   "cell_type": "code",
   "execution_count": null,
   "id": "4665348c",
   "metadata": {},
   "outputs": [],
   "source": [
    "m2_teststats = get_testresults()\n",
    "m2_teststats"
   ]
  },
  {
   "cell_type": "code",
   "execution_count": null,
   "id": "6d0a2663",
   "metadata": {},
   "outputs": [],
   "source": [
    "m2_teststats.to_csv('Data/m2_teststasts.csv')"
   ]
  },
  {
   "cell_type": "code",
   "execution_count": null,
   "id": "84382604",
   "metadata": {},
   "outputs": [],
   "source": [
    "print('MSE test: ', round(mse(y_test, y_pred) ,2))\n",
    "print('MSE train: ', round(mse(y_train,y_pred_train),2))\n",
    "print('RMSE test: ', round(np.sqrt(mse(y_test,y_pred)),2))\n",
    "print('MSE train - MSE test: ', round(mse(y_train,y_pred_train) - mse(y_test,y_pred),2) )\n",
    "\n",
    "print('MAE test: ', round(mae(y_test,y_pred),2))\n",
    "\n",
    "\n",
    "print('R2_test: ', round(R2_test, 2))\n",
    "print('R2_train: ', round(R2_train, 2))\n",
    "\n",
    "\n",
    "print('Adj_R2:', round(Adj_R2,2))"
   ]
  },
  {
   "cell_type": "code",
   "execution_count": null,
   "id": "42908e97",
   "metadata": {},
   "outputs": [],
   "source": [
    "features_importances = pd.DataFrame(data={\n",
    "    'Attribute': X_train.columns,\n",
    "    'Importance': abs(model.coef_)\n",
    "})\n",
    "features_importances = features_importances.sort_values(by='Importance', ascending=False)\n",
    "features_importances\n",
    "plt.figure(figsize=(20, 15))\n",
    "plt.bar(x=features_importances['Attribute'], height=features_importances['Importance'], color='#087E8B')\n",
    "plt.title('Feature importances obtained from coefficients', size=20)\n",
    "plt.xticks(rotation='vertical')\n",
    "plt.show()"
   ]
  },
  {
   "cell_type": "code",
   "execution_count": null,
   "id": "0d60e54a",
   "metadata": {},
   "outputs": [],
   "source": [
    "features_importances.nlargest(10, 'Importance')\n"
   ]
  },
  {
   "cell_type": "markdown",
   "id": "5132d81c",
   "metadata": {},
   "source": [
    "### Saving model results for later use:"
   ]
  },
  {
   "cell_type": "code",
   "execution_count": null,
   "id": "1cb3ace2",
   "metadata": {},
   "outputs": [],
   "source": [
    "#features_importances.to_csv('FinalModelFeatureImportance.csv')"
   ]
  },
  {
   "cell_type": "code",
   "execution_count": null,
   "id": "4d6555e6",
   "metadata": {},
   "outputs": [],
   "source": [
    "features_importances.to_csv('Data/final_model_feature_importance.csv')"
   ]
  },
  {
   "cell_type": "code",
   "execution_count": null,
   "id": "c2819e83",
   "metadata": {},
   "outputs": [],
   "source": []
  },
  {
   "cell_type": "code",
   "execution_count": null,
   "id": "0634ec62",
   "metadata": {},
   "outputs": [],
   "source": [
    "#sign_cols = model.pvalues[1:len(model.pvalues)]  # remove constant\n",
    "#sign_cols = pd.DataFrame([sign_cols])\n",
    "\n",
    "model1_pvalues.to_csv('Data/model1_pvalues.csv')"
   ]
  },
  {
   "cell_type": "code",
   "execution_count": null,
   "id": "2066f4cd",
   "metadata": {
    "scrolled": true
   },
   "outputs": [],
   "source": [
    "X_train_const_scaled = sm.add_constant(X_train_scaled) # adding a constant\n",
    "\n",
    "model = sm.OLS(y_train, X_train_const_scaled).fit()\n",
    "predictions_train = model.predict(X_train_const_scaled) \n",
    "\n",
    "X_test_const_scaled = sm.add_constant(X_test_scaled) # adding a constant\n",
    "predictions_test = model.predict(X_test_const_scaled) \n",
    "print_model = model.summary()\n",
    "print(print_model)"
   ]
  },
  {
   "cell_type": "code",
   "execution_count": null,
   "id": "3900e077",
   "metadata": {},
   "outputs": [],
   "source": [
    "print(model.save)"
   ]
  },
  {
   "cell_type": "markdown",
   "id": "3710ab98",
   "metadata": {},
   "source": [
    "## Visualizing results:"
   ]
  },
  {
   "cell_type": "markdown",
   "id": "01384df3",
   "metadata": {},
   "source": [
    "The results of the linear regression show that the size of the different components of a house (bathrooms, sqft_living, sqft_lot...) have a significant effect on the price of a house. On the other hand we see that much more important than size is the location of the House. The travel distance to the city center of Seattle also has a high influence, but waterfront and view have a higher influence. Many Zipcodes seem to be popular for other reasons than the quality of the house (and demand increases price). \n",
    "\n",
    "To visualize this phenomenon we extract the importance of the zipcodes and it to each house. Then we map the geographic location and the importance per zipcode. When we compare this graph to the Average price per zipcode we see that there are significant differences. "
   ]
  },
  {
   "cell_type": "code",
   "execution_count": null,
   "id": "3c4a91b5",
   "metadata": {},
   "outputs": [],
   "source": [
    "model1_coef"
   ]
  },
  {
   "cell_type": "code",
   "execution_count": null,
   "id": "862df909",
   "metadata": {},
   "outputs": [],
   "source": [
    "#rank Importance into Quantiles\n",
    "model1_coef['zip_rank'] = pd.qcut(model1_coef['coef'], q=4, labels=[\"low\", \"medium\", \"high\", \"premium\"])"
   ]
  },
  {
   "cell_type": "code",
   "execution_count": null,
   "id": "8606381d",
   "metadata": {},
   "outputs": [],
   "source": [
    "# Get only zipcodes to compare:\n",
    "importance_zipcode = model1_coef[model1_coef['Attribute'].str.startswith('zipcode')]\n",
    "importance_zipcode['zipcode']=importance_zipcode['Attribute'].str.replace('zipcode_', '')\n",
    "importance_zipcode['zipcode'] =importance_zipcode['zipcode'].astype('int')\n",
    "df_result = pd.merge(importance_zipcode[['zipcode', 'zip_rank']], hp_df_org, on='zipcode' )"
   ]
  },
  {
   "cell_type": "code",
   "execution_count": null,
   "id": "cf6f6e3a",
   "metadata": {},
   "outputs": [],
   "source": [
    "plt.figure(figsize=(13,8))\n",
    "sns.scatterplot(data=df_result, x='long', y='lat', hue='zip_rank').set(title= 'Zipcodes ordered by importance')"
   ]
  },
  {
   "cell_type": "markdown",
   "id": "fb7eee8b",
   "metadata": {},
   "source": [
    "## Additional visualization:"
   ]
  },
  {
   "cell_type": "code",
   "execution_count": null,
   "id": "0b223276",
   "metadata": {},
   "outputs": [],
   "source": [
    "hp_df_org['price_rank'] = pd.qcut(hp_df_org['price'], q=4, labels=[\"low\", \"medium\", \"high\", \"premium\"])"
   ]
  },
  {
   "cell_type": "code",
   "execution_count": null,
   "id": "e555be42",
   "metadata": {},
   "outputs": [],
   "source": [
    "sns.scatterplot(data=hp_df_org, x='long', y='lat', hue='price_rank').set(title= 'Prices ordered geographically')"
   ]
  },
  {
   "cell_type": "markdown",
   "id": "3b0cb7e5",
   "metadata": {},
   "source": [
    "## Average prices per zipcode ranked into 4 categories"
   ]
  },
  {
   "cell_type": "code",
   "execution_count": null,
   "id": "eee4abc5",
   "metadata": {},
   "outputs": [],
   "source": [
    "avg_price_zip = hp_df_org[['zipcode', 'price']].groupby('zipcode').mean('price')\n",
    "avg_price_zip['avg_price_zip']=avg_price_zip['price']\n",
    "avg_price_zip.drop('price', axis=1, inplace=True)\n",
    "merged_av_price = pd.merge(avg_price_zip[['avg_price_zip']], hp_df_org, on='zipcode')\n",
    "merged_av_price['price_ranked_zip'] = pd.qcut(merged_av_price['avg_price_zip'], q=4, labels=[\"low\", \"medium\", \"high\", \"premium\"])"
   ]
  },
  {
   "cell_type": "code",
   "execution_count": null,
   "id": "17c00a13",
   "metadata": {},
   "outputs": [],
   "source": [
    "plt.figure(figsize=(13,8))\n",
    "sns.scatterplot(data=merged_av_price, x='long', y='lat', hue='price_ranked_zip').set(title='Average prices per zipcode ranked')"
   ]
  }
 ],
 "metadata": {
  "kernelspec": {
   "display_name": "Python 3 (ipykernel)",
   "language": "python",
   "name": "python3"
  },
  "language_info": {
   "codemirror_mode": {
    "name": "ipython",
    "version": 3
   },
   "file_extension": ".py",
   "mimetype": "text/x-python",
   "name": "python",
   "nbconvert_exporter": "python",
   "pygments_lexer": "ipython3",
   "version": "3.9.7"
  }
 },
 "nbformat": 4,
 "nbformat_minor": 5
}
