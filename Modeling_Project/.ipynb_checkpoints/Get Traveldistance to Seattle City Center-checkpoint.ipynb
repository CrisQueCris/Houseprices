{
 "cells": [
  {
   "cell_type": "code",
   "execution_count": 28,
   "id": "1e069e66",
   "metadata": {},
   "outputs": [],
   "source": [
    "import getpass\n",
    "import pandas as pd\n",
    "import requests\n",
    "import pandas as pd\n",
    "import googlemaps\n",
    "from itertools import tee"
   ]
  },
  {
   "cell_type": "markdown",
   "id": "580cb18a",
   "metadata": {},
   "source": [
    "## Getting distance and time from Google API "
   ]
  },
  {
   "cell_type": "markdown",
   "id": "e732fb90",
   "metadata": {},
   "source": [
    "Hypothesis: the travel time from a house to the city center is an important Factor that determines the price of a house\n",
    "\n",
    "Therefor the traveltime from the house to the city center of Seatle is needed. This can be accessed through Google Distance Matrix API"
   ]
  },
  {
   "cell_type": "markdown",
   "id": "040235e7",
   "metadata": {},
   "source": [
    "## 1) Save API Access Token"
   ]
  },
  {
   "cell_type": "code",
   "execution_count": 1,
   "id": "6b9f327e",
   "metadata": {},
   "outputs": [
    {
     "name": "stdout",
     "output_type": "stream",
     "text": [
      "YOUR_API_KEY:········\n"
     ]
    }
   ],
   "source": [
    "\n",
    "YOUR_API_KEY = getpass.getpass(prompt='YOUR_API_KEY:'\"\")"
   ]
  },
  {
   "cell_type": "markdown",
   "id": "40d70f56",
   "metadata": {},
   "source": [
    "## 2) Example request to API and respons"
   ]
  },
  {
   "cell_type": "code",
   "execution_count": 2,
   "id": "c9f61f9e",
   "metadata": {},
   "outputs": [
    {
     "name": "stdout",
     "output_type": "stream",
     "text": [
      "{\n",
      "   \"destination_addresses\" : [ \"New York, NY, USA\" ],\n",
      "   \"origin_addresses\" : [ \"Washington, DC, USA\" ],\n",
      "   \"rows\" : [\n",
      "      {\n",
      "         \"elements\" : [\n",
      "            {\n",
      "               \"distance\" : {\n",
      "                  \"text\" : \"225 mi\",\n",
      "                  \"value\" : 361947\n",
      "               },\n",
      "               \"duration\" : {\n",
      "                  \"text\" : \"3 hours 56 mins\",\n",
      "                  \"value\" : 14145\n",
      "               },\n",
      "               \"status\" : \"OK\"\n",
      "            }\n",
      "         ]\n",
      "      }\n",
      "   ],\n",
      "   \"status\" : \"OK\"\n",
      "}\n",
      "\n"
     ]
    }
   ],
   "source": [
    "#url = \"https://maps.googleapis.com/maps/api/distancematrix/json?origins=Washington%2C%20DC&destinations=New%20York%20City%2C%20NY&units=imperial&key=\"+YOUR_API_KEY\n",
    "\n",
    "#payload={}\n",
    "#headers = {}\n",
    "\n",
    "#response = requests.request(\"GET\", url, headers=headers, data=payload)\n",
    "\n",
    "#print(response.text)"
   ]
  },
  {
   "cell_type": "markdown",
   "id": "b24c3b9e",
   "metadata": {},
   "source": [
    "## 3) Import Dataframe"
   ]
  },
  {
   "cell_type": "code",
   "execution_count": 9,
   "id": "03fc3a3f",
   "metadata": {
    "scrolled": true
   },
   "outputs": [
    {
     "data": {
      "text/html": [
       "<div>\n",
       "<style scoped>\n",
       "    .dataframe tbody tr th:only-of-type {\n",
       "        vertical-align: middle;\n",
       "    }\n",
       "\n",
       "    .dataframe tbody tr th {\n",
       "        vertical-align: top;\n",
       "    }\n",
       "\n",
       "    .dataframe thead th {\n",
       "        text-align: right;\n",
       "    }\n",
       "</style>\n",
       "<table border=\"1\" class=\"dataframe\">\n",
       "  <thead>\n",
       "    <tr style=\"text-align: right;\">\n",
       "      <th></th>\n",
       "      <th>id</th>\n",
       "      <th>lat</th>\n",
       "      <th>long</th>\n",
       "    </tr>\n",
       "  </thead>\n",
       "  <tbody>\n",
       "    <tr>\n",
       "      <th>0</th>\n",
       "      <td>7129300520</td>\n",
       "      <td>47.5112</td>\n",
       "      <td>-122.257</td>\n",
       "    </tr>\n",
       "    <tr>\n",
       "      <th>1</th>\n",
       "      <td>6414100192</td>\n",
       "      <td>47.7210</td>\n",
       "      <td>-122.319</td>\n",
       "    </tr>\n",
       "    <tr>\n",
       "      <th>2</th>\n",
       "      <td>5631500400</td>\n",
       "      <td>47.7379</td>\n",
       "      <td>-122.233</td>\n",
       "    </tr>\n",
       "    <tr>\n",
       "      <th>3</th>\n",
       "      <td>2487200875</td>\n",
       "      <td>47.5208</td>\n",
       "      <td>-122.393</td>\n",
       "    </tr>\n",
       "    <tr>\n",
       "      <th>4</th>\n",
       "      <td>1954400510</td>\n",
       "      <td>47.6168</td>\n",
       "      <td>-122.045</td>\n",
       "    </tr>\n",
       "    <tr>\n",
       "      <th>...</th>\n",
       "      <td>...</td>\n",
       "      <td>...</td>\n",
       "      <td>...</td>\n",
       "    </tr>\n",
       "    <tr>\n",
       "      <th>21592</th>\n",
       "      <td>263000018</td>\n",
       "      <td>47.6993</td>\n",
       "      <td>-122.346</td>\n",
       "    </tr>\n",
       "    <tr>\n",
       "      <th>21593</th>\n",
       "      <td>6600060120</td>\n",
       "      <td>47.5107</td>\n",
       "      <td>-122.362</td>\n",
       "    </tr>\n",
       "    <tr>\n",
       "      <th>21594</th>\n",
       "      <td>1523300141</td>\n",
       "      <td>47.5944</td>\n",
       "      <td>-122.299</td>\n",
       "    </tr>\n",
       "    <tr>\n",
       "      <th>21595</th>\n",
       "      <td>291310100</td>\n",
       "      <td>47.5345</td>\n",
       "      <td>-122.069</td>\n",
       "    </tr>\n",
       "    <tr>\n",
       "      <th>21596</th>\n",
       "      <td>1523300157</td>\n",
       "      <td>47.5941</td>\n",
       "      <td>-122.299</td>\n",
       "    </tr>\n",
       "  </tbody>\n",
       "</table>\n",
       "<p>21597 rows × 3 columns</p>\n",
       "</div>"
      ],
      "text/plain": [
       "               id      lat     long\n",
       "0      7129300520  47.5112 -122.257\n",
       "1      6414100192  47.7210 -122.319\n",
       "2      5631500400  47.7379 -122.233\n",
       "3      2487200875  47.5208 -122.393\n",
       "4      1954400510  47.6168 -122.045\n",
       "...           ...      ...      ...\n",
       "21592   263000018  47.6993 -122.346\n",
       "21593  6600060120  47.5107 -122.362\n",
       "21594  1523300141  47.5944 -122.299\n",
       "21595   291310100  47.5345 -122.069\n",
       "21596  1523300157  47.5941 -122.299\n",
       "\n",
       "[21597 rows x 3 columns]"
      ]
     },
     "execution_count": 9,
     "metadata": {},
     "output_type": "execute_result"
    }
   ],
   "source": [
    "df = pd.read_csv('C:/Users/Lenovo/Documents/GitHub/Houseprices/Data/house_price_df.csv')\n",
    "df_latlong = df[['id', 'lat', 'long']]\n",
    "df_latlong"
   ]
  },
  {
   "cell_type": "code",
   "execution_count": 49,
   "id": "9d47caa5",
   "metadata": {},
   "outputs": [
    {
     "data": {
      "text/plain": [
       "(21597, 5)"
      ]
     },
     "execution_count": 49,
     "metadata": {},
     "output_type": "execute_result"
    }
   ],
   "source": [
    "df_latlong.shape"
   ]
  },
  {
   "cell_type": "code",
   "execution_count": 50,
   "id": "44f0bcdb",
   "metadata": {},
   "outputs": [
    {
     "data": {
      "text/plain": [
       "(21597, 22)"
      ]
     },
     "execution_count": 50,
     "metadata": {},
     "output_type": "execute_result"
    }
   ],
   "source": [
    "df.shape"
   ]
  },
  {
   "cell_type": "markdown",
   "id": "8adde2b6",
   "metadata": {},
   "source": [
    "## 4) Getting Coordinates of Seattle City Center (Space Needle)"
   ]
  },
  {
   "cell_type": "code",
   "execution_count": 10,
   "id": "f62bd6ba",
   "metadata": {},
   "outputs": [],
   "source": [
    "Seattle_Center = [47.62023993864965, -122.34923129807153]"
   ]
  },
  {
   "cell_type": "markdown",
   "id": "7d2e932b",
   "metadata": {},
   "source": [
    "## 5) Adding Seatle_Center to df_latlong"
   ]
  },
  {
   "cell_type": "code",
   "execution_count": 12,
   "id": "aad2797d",
   "metadata": {},
   "outputs": [
    {
     "name": "stderr",
     "output_type": "stream",
     "text": [
      "C:\\Users\\Lenovo\\AppData\\Local\\Temp\\ipykernel_904\\1671102843.py:1: SettingWithCopyWarning: \n",
      "A value is trying to be set on a copy of a slice from a DataFrame.\n",
      "Try using .loc[row_indexer,col_indexer] = value instead\n",
      "\n",
      "See the caveats in the documentation: https://pandas.pydata.org/pandas-docs/stable/user_guide/indexing.html#returning-a-view-versus-a-copy\n",
      "  df_latlong[['Center_lat', 'Center_long']] = Seattle_Center\n",
      "C:\\Users\\Lenovo\\AppData\\Local\\Temp\\ipykernel_904\\1671102843.py:1: SettingWithCopyWarning: \n",
      "A value is trying to be set on a copy of a slice from a DataFrame.\n",
      "Try using .loc[row_indexer,col_indexer] = value instead\n",
      "\n",
      "See the caveats in the documentation: https://pandas.pydata.org/pandas-docs/stable/user_guide/indexing.html#returning-a-view-versus-a-copy\n",
      "  df_latlong[['Center_lat', 'Center_long']] = Seattle_Center\n"
     ]
    }
   ],
   "source": [
    "df_latlong[['Center_lat', 'Center_long']] = Seattle_Center"
   ]
  },
  {
   "cell_type": "code",
   "execution_count": 13,
   "id": "45cf41ce",
   "metadata": {},
   "outputs": [
    {
     "data": {
      "text/html": [
       "<div>\n",
       "<style scoped>\n",
       "    .dataframe tbody tr th:only-of-type {\n",
       "        vertical-align: middle;\n",
       "    }\n",
       "\n",
       "    .dataframe tbody tr th {\n",
       "        vertical-align: top;\n",
       "    }\n",
       "\n",
       "    .dataframe thead th {\n",
       "        text-align: right;\n",
       "    }\n",
       "</style>\n",
       "<table border=\"1\" class=\"dataframe\">\n",
       "  <thead>\n",
       "    <tr style=\"text-align: right;\">\n",
       "      <th></th>\n",
       "      <th>id</th>\n",
       "      <th>lat</th>\n",
       "      <th>long</th>\n",
       "      <th>Center_lat</th>\n",
       "      <th>Center_long</th>\n",
       "    </tr>\n",
       "  </thead>\n",
       "  <tbody>\n",
       "    <tr>\n",
       "      <th>0</th>\n",
       "      <td>7129300520</td>\n",
       "      <td>47.5112</td>\n",
       "      <td>-122.257</td>\n",
       "      <td>47.62024</td>\n",
       "      <td>-122.349231</td>\n",
       "    </tr>\n",
       "    <tr>\n",
       "      <th>1</th>\n",
       "      <td>6414100192</td>\n",
       "      <td>47.7210</td>\n",
       "      <td>-122.319</td>\n",
       "      <td>47.62024</td>\n",
       "      <td>-122.349231</td>\n",
       "    </tr>\n",
       "    <tr>\n",
       "      <th>2</th>\n",
       "      <td>5631500400</td>\n",
       "      <td>47.7379</td>\n",
       "      <td>-122.233</td>\n",
       "      <td>47.62024</td>\n",
       "      <td>-122.349231</td>\n",
       "    </tr>\n",
       "    <tr>\n",
       "      <th>3</th>\n",
       "      <td>2487200875</td>\n",
       "      <td>47.5208</td>\n",
       "      <td>-122.393</td>\n",
       "      <td>47.62024</td>\n",
       "      <td>-122.349231</td>\n",
       "    </tr>\n",
       "    <tr>\n",
       "      <th>4</th>\n",
       "      <td>1954400510</td>\n",
       "      <td>47.6168</td>\n",
       "      <td>-122.045</td>\n",
       "      <td>47.62024</td>\n",
       "      <td>-122.349231</td>\n",
       "    </tr>\n",
       "    <tr>\n",
       "      <th>...</th>\n",
       "      <td>...</td>\n",
       "      <td>...</td>\n",
       "      <td>...</td>\n",
       "      <td>...</td>\n",
       "      <td>...</td>\n",
       "    </tr>\n",
       "    <tr>\n",
       "      <th>21592</th>\n",
       "      <td>263000018</td>\n",
       "      <td>47.6993</td>\n",
       "      <td>-122.346</td>\n",
       "      <td>47.62024</td>\n",
       "      <td>-122.349231</td>\n",
       "    </tr>\n",
       "    <tr>\n",
       "      <th>21593</th>\n",
       "      <td>6600060120</td>\n",
       "      <td>47.5107</td>\n",
       "      <td>-122.362</td>\n",
       "      <td>47.62024</td>\n",
       "      <td>-122.349231</td>\n",
       "    </tr>\n",
       "    <tr>\n",
       "      <th>21594</th>\n",
       "      <td>1523300141</td>\n",
       "      <td>47.5944</td>\n",
       "      <td>-122.299</td>\n",
       "      <td>47.62024</td>\n",
       "      <td>-122.349231</td>\n",
       "    </tr>\n",
       "    <tr>\n",
       "      <th>21595</th>\n",
       "      <td>291310100</td>\n",
       "      <td>47.5345</td>\n",
       "      <td>-122.069</td>\n",
       "      <td>47.62024</td>\n",
       "      <td>-122.349231</td>\n",
       "    </tr>\n",
       "    <tr>\n",
       "      <th>21596</th>\n",
       "      <td>1523300157</td>\n",
       "      <td>47.5941</td>\n",
       "      <td>-122.299</td>\n",
       "      <td>47.62024</td>\n",
       "      <td>-122.349231</td>\n",
       "    </tr>\n",
       "  </tbody>\n",
       "</table>\n",
       "<p>21597 rows × 5 columns</p>\n",
       "</div>"
      ],
      "text/plain": [
       "               id      lat     long  Center_lat  Center_long\n",
       "0      7129300520  47.5112 -122.257    47.62024  -122.349231\n",
       "1      6414100192  47.7210 -122.319    47.62024  -122.349231\n",
       "2      5631500400  47.7379 -122.233    47.62024  -122.349231\n",
       "3      2487200875  47.5208 -122.393    47.62024  -122.349231\n",
       "4      1954400510  47.6168 -122.045    47.62024  -122.349231\n",
       "...           ...      ...      ...         ...          ...\n",
       "21592   263000018  47.6993 -122.346    47.62024  -122.349231\n",
       "21593  6600060120  47.5107 -122.362    47.62024  -122.349231\n",
       "21594  1523300141  47.5944 -122.299    47.62024  -122.349231\n",
       "21595   291310100  47.5345 -122.069    47.62024  -122.349231\n",
       "21596  1523300157  47.5941 -122.299    47.62024  -122.349231\n",
       "\n",
       "[21597 rows x 5 columns]"
      ]
     },
     "execution_count": 13,
     "metadata": {},
     "output_type": "execute_result"
    }
   ],
   "source": [
    "df_latlong"
   ]
  },
  {
   "cell_type": "markdown",
   "id": "68dc14ee",
   "metadata": {},
   "source": [
    "## 6) Create loop"
   ]
  },
  {
   "cell_type": "code",
   "execution_count": 32,
   "id": "7a6885f6",
   "metadata": {},
   "outputs": [
    {
     "data": {
      "text/plain": [
       "(47.5112, -122.257)"
      ]
     },
     "execution_count": 32,
     "metadata": {},
     "output_type": "execute_result"
    }
   ],
   "source": [
    "#LatOrigin = row1['Latitude'] \n",
    "#LongOrigin = row1['Longitude']\n",
    "#origins = (LatOrigin,LongOrigin)\n",
    "\n",
    "origins = tuple(df_latlong[['lat', 'long']].iloc[0,:])\n",
    "origins"
   ]
  },
  {
   "cell_type": "code",
   "execution_count": 33,
   "id": "b69993c4",
   "metadata": {},
   "outputs": [
    {
     "data": {
      "text/plain": [
       "(47.62023993864965, -122.34923129807153)"
      ]
     },
     "execution_count": 33,
     "metadata": {},
     "output_type": "execute_result"
    }
   ],
   "source": [
    "destination = tuple(df_latlong[['Center_lat','Center_long']].iloc[0,:])\n",
    "destination"
   ]
  },
  {
   "cell_type": "code",
   "execution_count": 29,
   "id": "adce8860",
   "metadata": {},
   "outputs": [],
   "source": [
    "gmaps = googlemaps.Client(key=YOUR_API_KEY)"
   ]
  },
  {
   "cell_type": "code",
   "execution_count": 38,
   "id": "772ed862",
   "metadata": {},
   "outputs": [],
   "source": [
    "list = [0]"
   ]
  },
  {
   "cell_type": "code",
   "execution_count": 44,
   "id": "3a4362b9",
   "metadata": {},
   "outputs": [],
   "source": [
    "for i in range(0,len(df)):\n",
    "    origins = tuple(df_latlong[['lat', 'long']].iloc[i,:])\n",
    "    destination = tuple(df_latlong[['Center_lat','Center_long']].iloc[i,:])\n",
    "    result = gmaps.distance_matrix(origins, destination, mode='driving')[\"rows\"][0][\"elements\"][0][\"distance\"][\"value\"]\n",
    "    list.append(result)"
   ]
  },
  {
   "cell_type": "code",
   "execution_count": 47,
   "id": "a85d731c",
   "metadata": {},
   "outputs": [
    {
     "data": {
      "text/plain": [
       "21698"
      ]
     },
     "execution_count": 47,
     "metadata": {},
     "output_type": "execute_result"
    }
   ],
   "source": [
    "len(list)"
   ]
  },
  {
   "cell_type": "code",
   "execution_count": 54,
   "id": "cc254486",
   "metadata": {},
   "outputs": [
    {
     "data": {
      "text/plain": [
       "21597"
      ]
     },
     "execution_count": 54,
     "metadata": {},
     "output_type": "execute_result"
    }
   ],
   "source": [
    "len(list[101:])"
   ]
  },
  {
   "cell_type": "code",
   "execution_count": 55,
   "id": "018c9285",
   "metadata": {},
   "outputs": [
    {
     "name": "stderr",
     "output_type": "stream",
     "text": [
      "C:\\Users\\Lenovo\\AppData\\Local\\Temp\\ipykernel_904\\1249308983.py:1: SettingWithCopyWarning: \n",
      "A value is trying to be set on a copy of a slice from a DataFrame.\n",
      "Try using .loc[row_indexer,col_indexer] = value instead\n",
      "\n",
      "See the caveats in the documentation: https://pandas.pydata.org/pandas-docs/stable/user_guide/indexing.html#returning-a-view-versus-a-copy\n",
      "  df_latlong['DistanceM'] = list[101:]\n"
     ]
    }
   ],
   "source": [
    "df_latlong['DistanceM'] = list[101:]"
   ]
  },
  {
   "cell_type": "code",
   "execution_count": 56,
   "id": "167ab4f6",
   "metadata": {},
   "outputs": [
    {
     "data": {
      "text/html": [
       "<div>\n",
       "<style scoped>\n",
       "    .dataframe tbody tr th:only-of-type {\n",
       "        vertical-align: middle;\n",
       "    }\n",
       "\n",
       "    .dataframe tbody tr th {\n",
       "        vertical-align: top;\n",
       "    }\n",
       "\n",
       "    .dataframe thead th {\n",
       "        text-align: right;\n",
       "    }\n",
       "</style>\n",
       "<table border=\"1\" class=\"dataframe\">\n",
       "  <thead>\n",
       "    <tr style=\"text-align: right;\">\n",
       "      <th></th>\n",
       "      <th>id</th>\n",
       "      <th>lat</th>\n",
       "      <th>long</th>\n",
       "      <th>Center_lat</th>\n",
       "      <th>Center_long</th>\n",
       "      <th>DistanceM</th>\n",
       "    </tr>\n",
       "  </thead>\n",
       "  <tbody>\n",
       "    <tr>\n",
       "      <th>0</th>\n",
       "      <td>7129300520</td>\n",
       "      <td>47.5112</td>\n",
       "      <td>-122.257</td>\n",
       "      <td>47.62024</td>\n",
       "      <td>-122.349231</td>\n",
       "      <td>18112</td>\n",
       "    </tr>\n",
       "    <tr>\n",
       "      <th>1</th>\n",
       "      <td>6414100192</td>\n",
       "      <td>47.7210</td>\n",
       "      <td>-122.319</td>\n",
       "      <td>47.62024</td>\n",
       "      <td>-122.349231</td>\n",
       "      <td>14155</td>\n",
       "    </tr>\n",
       "    <tr>\n",
       "      <th>2</th>\n",
       "      <td>5631500400</td>\n",
       "      <td>47.7379</td>\n",
       "      <td>-122.233</td>\n",
       "      <td>47.62024</td>\n",
       "      <td>-122.349231</td>\n",
       "      <td>25519</td>\n",
       "    </tr>\n",
       "    <tr>\n",
       "      <th>3</th>\n",
       "      <td>2487200875</td>\n",
       "      <td>47.5208</td>\n",
       "      <td>-122.393</td>\n",
       "      <td>47.62024</td>\n",
       "      <td>-122.349231</td>\n",
       "      <td>17950</td>\n",
       "    </tr>\n",
       "    <tr>\n",
       "      <th>4</th>\n",
       "      <td>1954400510</td>\n",
       "      <td>47.6168</td>\n",
       "      <td>-122.045</td>\n",
       "      <td>47.62024</td>\n",
       "      <td>-122.349231</td>\n",
       "      <td>33624</td>\n",
       "    </tr>\n",
       "    <tr>\n",
       "      <th>...</th>\n",
       "      <td>...</td>\n",
       "      <td>...</td>\n",
       "      <td>...</td>\n",
       "      <td>...</td>\n",
       "      <td>...</td>\n",
       "      <td>...</td>\n",
       "    </tr>\n",
       "    <tr>\n",
       "      <th>21592</th>\n",
       "      <td>263000018</td>\n",
       "      <td>47.6993</td>\n",
       "      <td>-122.346</td>\n",
       "      <td>47.62024</td>\n",
       "      <td>-122.349231</td>\n",
       "      <td>9458</td>\n",
       "    </tr>\n",
       "    <tr>\n",
       "      <th>21593</th>\n",
       "      <td>6600060120</td>\n",
       "      <td>47.5107</td>\n",
       "      <td>-122.362</td>\n",
       "      <td>47.62024</td>\n",
       "      <td>-122.349231</td>\n",
       "      <td>15749</td>\n",
       "    </tr>\n",
       "    <tr>\n",
       "      <th>21594</th>\n",
       "      <td>1523300141</td>\n",
       "      <td>47.5944</td>\n",
       "      <td>-122.299</td>\n",
       "      <td>47.62024</td>\n",
       "      <td>-122.349231</td>\n",
       "      <td>8836</td>\n",
       "    </tr>\n",
       "    <tr>\n",
       "      <th>21595</th>\n",
       "      <td>291310100</td>\n",
       "      <td>47.5345</td>\n",
       "      <td>-122.069</td>\n",
       "      <td>47.62024</td>\n",
       "      <td>-122.349231</td>\n",
       "      <td>30793</td>\n",
       "    </tr>\n",
       "    <tr>\n",
       "      <th>21596</th>\n",
       "      <td>1523300157</td>\n",
       "      <td>47.5941</td>\n",
       "      <td>-122.299</td>\n",
       "      <td>47.62024</td>\n",
       "      <td>-122.349231</td>\n",
       "      <td>8869</td>\n",
       "    </tr>\n",
       "  </tbody>\n",
       "</table>\n",
       "<p>21597 rows × 6 columns</p>\n",
       "</div>"
      ],
      "text/plain": [
       "               id      lat     long  Center_lat  Center_long  DistanceM\n",
       "0      7129300520  47.5112 -122.257    47.62024  -122.349231      18112\n",
       "1      6414100192  47.7210 -122.319    47.62024  -122.349231      14155\n",
       "2      5631500400  47.7379 -122.233    47.62024  -122.349231      25519\n",
       "3      2487200875  47.5208 -122.393    47.62024  -122.349231      17950\n",
       "4      1954400510  47.6168 -122.045    47.62024  -122.349231      33624\n",
       "...           ...      ...      ...         ...          ...        ...\n",
       "21592   263000018  47.6993 -122.346    47.62024  -122.349231       9458\n",
       "21593  6600060120  47.5107 -122.362    47.62024  -122.349231      15749\n",
       "21594  1523300141  47.5944 -122.299    47.62024  -122.349231       8836\n",
       "21595   291310100  47.5345 -122.069    47.62024  -122.349231      30793\n",
       "21596  1523300157  47.5941 -122.299    47.62024  -122.349231       8869\n",
       "\n",
       "[21597 rows x 6 columns]"
      ]
     },
     "execution_count": 56,
     "metadata": {},
     "output_type": "execute_result"
    }
   ],
   "source": [
    "df_latlong"
   ]
  },
  {
   "cell_type": "code",
   "execution_count": null,
   "id": "6f7116ce",
   "metadata": {},
   "outputs": [],
   "source": [
    "\"\"\"def pairwise(iterable):\n",
    "    a, b = tee(iterable)\n",
    "    next(b, None)\n",
    "    return zip(a, b)\n",
    "\n",
    "#empty list - will be used to store calculated distances\n",
    "list = [0]\n",
    "\n",
    "# Loop through each row in the data frame using pairwise\n",
    "for (i1, row1), (i2, row2) in pairwise(df.iterrows()):\n",
    "      #Assign latitude and longitude as origin/departure points\n",
    "      LatOrigin = row1['Latitude'] \n",
    "      LongOrigin = row1['Longitude']\n",
    "      origins = (LatOrigin,LongOrigin)\n",
    "\n",
    "      #Assign latitude and longitude from the next row as the destination point\n",
    "      LatDest = row2['Latitude']   # Save value as lat\n",
    "      LongDest = row2['Longitude'] # Save value as lat\n",
    "      destination = (LatDest,LongDest)\n",
    "\n",
    "      #pass origin and destination variables to distance_matrix function# output in meters\n",
    "     \n",
    "      #append result to list\n",
    "      list.append(result)\"\"\""
   ]
  },
  {
   "cell_type": "code",
   "execution_count": 59,
   "id": "8e68fb9f",
   "metadata": {
    "scrolled": false
   },
   "outputs": [],
   "source": [
    "df_latlong.to_csv('C:/Users/Lenovo/Documents/GitHub/Houseprices/Data/distance.csv')"
   ]
  },
  {
   "cell_type": "code",
   "execution_count": 61,
   "id": "c1071cc2",
   "metadata": {},
   "outputs": [],
   "source": [
    "pd.DataFrame(list).to_csv('C:/Users/Lenovo/Documents/GitHub/Houseprices/Data/listorg.csv')"
   ]
  }
 ],
 "metadata": {
  "kernelspec": {
   "display_name": "Python 3 (ipykernel)",
   "language": "python",
   "name": "python3"
  },
  "language_info": {
   "codemirror_mode": {
    "name": "ipython",
    "version": 3
   },
   "file_extension": ".py",
   "mimetype": "text/x-python",
   "name": "python",
   "nbconvert_exporter": "python",
   "pygments_lexer": "ipython3",
   "version": "3.9.7"
  }
 },
 "nbformat": 4,
 "nbformat_minor": 5
}
