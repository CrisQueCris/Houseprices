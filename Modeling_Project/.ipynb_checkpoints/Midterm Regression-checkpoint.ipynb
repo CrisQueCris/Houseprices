{
 "cells": [
  {
   "cell_type": "code",
   "execution_count": 180,
   "id": "f4573615",
   "metadata": {},
   "outputs": [],
   "source": [
    "import pandas as pd\n",
    "import getpass\n",
    "import sqlalchemy as sa\n",
    "import numpy as np\n",
    "import seaborn as sns\n",
    "import matplotlib as plt\n",
    "import numpy as np\n",
    "import pandas as pd\n",
    "import matplotlib.pyplot as plt\n",
    "%matplotlib inline\n",
    "import seaborn as sns\n",
    "from sklearn.preprocessing import StandardScaler\n",
    "from sklearn.preprocessing import quantile_transform\n",
    "from sklearn.preprocessing import QuantileTransformer\n",
    "from sklearn.preprocessing import minmax_scale\n",
    "from sklearn.preprocessing import MinMaxScaler\n",
    "from sklearn.preprocessing import OneHotEncoder  ##. better to use dummy from pandas \n",
    "from sklearn.preprocessing import PowerTransformer\n",
    "from scipy.stats import boxcox\n",
    "from sklearn.linear_model import LinearRegression\n",
    "from sklearn.model_selection import train_test_split\n",
    "import statsmodels.api as sm\n",
    "from scipy.stats import boxcox\n",
    "from sklearn.model_selection import train_test_split\n",
    "from sklearn.metrics import r2_score\n",
    "from sklearn.metrics import mean_squared_error as mse\n",
    "from sklearn.metrics import mean_absolute_error as mae\n",
    "from sklearn.feature_selection import RFE\n",
    "pd.options.display.max_rows = 50\n",
    "## Install xlrd package to load Excel files\n",
    "# conda install openpyxl\n",
    "## conda install xlrd"
   ]
  },
  {
   "cell_type": "markdown",
   "id": "613dccbd",
   "metadata": {},
   "source": [
    "## Importing Dataset."
   ]
  },
  {
   "cell_type": "code",
   "execution_count": 181,
   "id": "71384a3b",
   "metadata": {
    "scrolled": false
   },
   "outputs": [],
   "source": [
    "hp_df_org = pd.read_csv('C:/Users/Lenovo/Documents/GitHub/Houseprices/Data/house_price_df.csv')\n",
    "hp_df = hp_df_org"
   ]
  },
  {
   "cell_type": "markdown",
   "id": "4e2e1483",
   "metadata": {},
   "source": [
    "## EDA"
   ]
  },
  {
   "cell_type": "code",
   "execution_count": 182,
   "id": "493a5f10",
   "metadata": {},
   "outputs": [
    {
     "name": "stdout",
     "output_type": "stream",
     "text": [
      "<class 'pandas.core.frame.DataFrame'>\n",
      "RangeIndex: 21597 entries, 0 to 21596\n",
      "Data columns (total 22 columns):\n",
      " #   Column         Non-Null Count  Dtype  \n",
      "---  ------         --------------  -----  \n",
      " 0   Unnamed: 0     21597 non-null  int64  \n",
      " 1   id             21597 non-null  int64  \n",
      " 2   date           21597 non-null  object \n",
      " 3   bedrooms       21597 non-null  int64  \n",
      " 4   bathrooms      21597 non-null  float64\n",
      " 5   sqft_living    21597 non-null  int64  \n",
      " 6   sqft_lot       21597 non-null  int64  \n",
      " 7   floors         21597 non-null  float64\n",
      " 8   waterfront     21597 non-null  int64  \n",
      " 9   view           21597 non-null  int64  \n",
      " 10  condition      21597 non-null  int64  \n",
      " 11  grade          21597 non-null  int64  \n",
      " 12  sqft_above     21597 non-null  int64  \n",
      " 13  sqft_basement  21597 non-null  int64  \n",
      " 14  yr_built       21597 non-null  int64  \n",
      " 15  yr_renovated   21597 non-null  int64  \n",
      " 16  zipcode        21597 non-null  int64  \n",
      " 17  lat            21597 non-null  float64\n",
      " 18  long           21597 non-null  float64\n",
      " 19  sqft_living15  21597 non-null  int64  \n",
      " 20  sqft_lot15     21597 non-null  int64  \n",
      " 21  price          21597 non-null  int64  \n",
      "dtypes: float64(4), int64(17), object(1)\n",
      "memory usage: 3.6+ MB\n"
     ]
    }
   ],
   "source": [
    "hp_df.info()"
   ]
  },
  {
   "cell_type": "markdown",
   "id": "ba015ee1",
   "metadata": {},
   "source": [
    "The Dataset consists of 21597 Houses containing 21 features. Price is to be the predicted variables. "
   ]
  },
  {
   "cell_type": "code",
   "execution_count": 183,
   "id": "3aabbcb9",
   "metadata": {
    "scrolled": true
   },
   "outputs": [
    {
     "data": {
      "text/html": [
       "<div>\n",
       "<style scoped>\n",
       "    .dataframe tbody tr th:only-of-type {\n",
       "        vertical-align: middle;\n",
       "    }\n",
       "\n",
       "    .dataframe tbody tr th {\n",
       "        vertical-align: top;\n",
       "    }\n",
       "\n",
       "    .dataframe thead th {\n",
       "        text-align: right;\n",
       "    }\n",
       "</style>\n",
       "<table border=\"1\" class=\"dataframe\">\n",
       "  <thead>\n",
       "    <tr style=\"text-align: right;\">\n",
       "      <th></th>\n",
       "      <th>bedrooms</th>\n",
       "      <th>sqft_living</th>\n",
       "      <th>sqft_lot</th>\n",
       "      <th>yr_built</th>\n",
       "      <th>price</th>\n",
       "    </tr>\n",
       "  </thead>\n",
       "  <tbody>\n",
       "    <tr>\n",
       "      <th>count</th>\n",
       "      <td>21597.000000</td>\n",
       "      <td>21597.000000</td>\n",
       "      <td>2.159700e+04</td>\n",
       "      <td>21597.000000</td>\n",
       "      <td>2.159700e+04</td>\n",
       "    </tr>\n",
       "    <tr>\n",
       "      <th>mean</th>\n",
       "      <td>3.373200</td>\n",
       "      <td>2080.321850</td>\n",
       "      <td>1.509941e+04</td>\n",
       "      <td>1970.999676</td>\n",
       "      <td>5.402966e+05</td>\n",
       "    </tr>\n",
       "    <tr>\n",
       "      <th>std</th>\n",
       "      <td>0.926299</td>\n",
       "      <td>918.106125</td>\n",
       "      <td>4.141264e+04</td>\n",
       "      <td>29.375234</td>\n",
       "      <td>3.673681e+05</td>\n",
       "    </tr>\n",
       "    <tr>\n",
       "      <th>min</th>\n",
       "      <td>1.000000</td>\n",
       "      <td>370.000000</td>\n",
       "      <td>5.200000e+02</td>\n",
       "      <td>1900.000000</td>\n",
       "      <td>7.800000e+04</td>\n",
       "    </tr>\n",
       "    <tr>\n",
       "      <th>25%</th>\n",
       "      <td>3.000000</td>\n",
       "      <td>1430.000000</td>\n",
       "      <td>5.040000e+03</td>\n",
       "      <td>1951.000000</td>\n",
       "      <td>3.220000e+05</td>\n",
       "    </tr>\n",
       "    <tr>\n",
       "      <th>50%</th>\n",
       "      <td>3.000000</td>\n",
       "      <td>1910.000000</td>\n",
       "      <td>7.618000e+03</td>\n",
       "      <td>1975.000000</td>\n",
       "      <td>4.500000e+05</td>\n",
       "    </tr>\n",
       "    <tr>\n",
       "      <th>75%</th>\n",
       "      <td>4.000000</td>\n",
       "      <td>2550.000000</td>\n",
       "      <td>1.068500e+04</td>\n",
       "      <td>1997.000000</td>\n",
       "      <td>6.450000e+05</td>\n",
       "    </tr>\n",
       "    <tr>\n",
       "      <th>max</th>\n",
       "      <td>33.000000</td>\n",
       "      <td>13540.000000</td>\n",
       "      <td>1.651359e+06</td>\n",
       "      <td>2015.000000</td>\n",
       "      <td>7.700000e+06</td>\n",
       "    </tr>\n",
       "  </tbody>\n",
       "</table>\n",
       "</div>"
      ],
      "text/plain": [
       "           bedrooms   sqft_living      sqft_lot      yr_built         price\n",
       "count  21597.000000  21597.000000  2.159700e+04  21597.000000  2.159700e+04\n",
       "mean       3.373200   2080.321850  1.509941e+04   1970.999676  5.402966e+05\n",
       "std        0.926299    918.106125  4.141264e+04     29.375234  3.673681e+05\n",
       "min        1.000000    370.000000  5.200000e+02   1900.000000  7.800000e+04\n",
       "25%        3.000000   1430.000000  5.040000e+03   1951.000000  3.220000e+05\n",
       "50%        3.000000   1910.000000  7.618000e+03   1975.000000  4.500000e+05\n",
       "75%        4.000000   2550.000000  1.068500e+04   1997.000000  6.450000e+05\n",
       "max       33.000000  13540.000000  1.651359e+06   2015.000000  7.700000e+06"
      ]
     },
     "execution_count": 183,
     "metadata": {},
     "output_type": "execute_result"
    }
   ],
   "source": [
    "hp_df[['bedrooms', 'sqft_living',  'sqft_lot', 'yr_built', 'price']].describe()"
   ]
  },
  {
   "cell_type": "markdown",
   "id": "7decc53c",
   "metadata": {},
   "source": [
    "The average house has about 3 bedrooms, 2080 sqft of living area, a lot size of 15000 sqft, was built in 1970 and has a price of 540000 $. The mean and the median differ alot in the variable sqft lot, where the median is much lower then the mean. This leads to the conculusion that many houses don't have a big lot but a few house with a big lot change the distribution."
   ]
  },
  {
   "cell_type": "code",
   "execution_count": 184,
   "id": "730bf39d",
   "metadata": {},
   "outputs": [
    {
     "name": "stdout",
     "output_type": "stream",
     "text": [
      "2014-05-02 2015-05-27\n"
     ]
    }
   ],
   "source": [
    "print(hp_df['date'].min(), hp_df['date'].max())"
   ]
  },
  {
   "cell_type": "markdown",
   "id": "a7890bf7",
   "metadata": {},
   "source": [
    "The date variable displays the date when the house was sold. Data is between May 2014 and May 2015. "
   ]
  },
  {
   "cell_type": "code",
   "execution_count": 185,
   "id": "72a3815b",
   "metadata": {},
   "outputs": [
    {
     "data": {
      "text/plain": [
       "2.50    5377\n",
       "1.00    3851\n",
       "1.75    3048\n",
       "2.25    2047\n",
       "2.00    1930\n",
       "1.50    1445\n",
       "2.75    1185\n",
       "3.00     753\n",
       "3.50     731\n",
       "3.25     589\n",
       "3.75     155\n",
       "4.00     136\n",
       "4.50     100\n",
       "4.25      79\n",
       "0.75      71\n",
       "4.75      23\n",
       "5.00      21\n",
       "5.25      13\n",
       "5.50      10\n",
       "1.25       9\n",
       "6.00       6\n",
       "0.50       4\n",
       "5.75       4\n",
       "6.75       2\n",
       "8.00       2\n",
       "6.25       2\n",
       "6.50       2\n",
       "7.50       1\n",
       "7.75       1\n",
       "Name: bathrooms, dtype: int64"
      ]
     },
     "execution_count": 185,
     "metadata": {},
     "output_type": "execute_result"
    }
   ],
   "source": [
    "hp_df['bathrooms'].value_counts()"
   ]
  },
  {
   "cell_type": "markdown",
   "id": "f10b73fd",
   "metadata": {},
   "source": [
    "Most houses have 2,5 bathrooms, a lot also only . A view outliers have a very high number of bathrooms."
   ]
  },
  {
   "cell_type": "markdown",
   "id": "b7c93e42",
   "metadata": {},
   "source": [
    "## Location\n",
    "\n",
    "For the location the datasets offers three features. Latitute and Longitude (only useful combined) and zipcodes. Let's look at both of them."
   ]
  },
  {
   "cell_type": "code",
   "execution_count": 186,
   "id": "4c592eae",
   "metadata": {
    "scrolled": true
   },
   "outputs": [],
   "source": [
    "# sns.jointplot(data=hp_df, x='long', y='lat', hue = 'sqft_lot').set(title='Lot size and geographical location')"
   ]
  },
  {
   "cell_type": "markdown",
   "id": "e4385a7e",
   "metadata": {},
   "source": [
    "Looking at the geographical location of the houses and displaying the lot size it is visual, that the properties at the are outskirts and the countryside get bigger. "
   ]
  },
  {
   "cell_type": "code",
   "execution_count": 187,
   "id": "83796a34",
   "metadata": {},
   "outputs": [],
   "source": [
    "# sns.jointplot(data=hp_df, x='long', y='lat', hue = 'zipcode').set(title='Zipcode and geographical location')"
   ]
  },
  {
   "cell_type": "markdown",
   "id": "b240be6c",
   "metadata": {},
   "source": [
    "The zipcodes are not in a logicla order so the variables should not be used as a numerical variables.\n",
    "And alternative idea would be to use the travel distance from the house to the city center."
   ]
  },
  {
   "cell_type": "markdown",
   "id": "ebcc1d67",
   "metadata": {},
   "source": [
    "## Year renovated"
   ]
  },
  {
   "cell_type": "code",
   "execution_count": 188,
   "id": "a34be705",
   "metadata": {},
   "outputs": [
    {
     "data": {
      "text/plain": [
       "<AxesSubplot:xlabel='yr_renovated', ylabel='Count'>"
      ]
     },
     "execution_count": 188,
     "metadata": {},
     "output_type": "execute_result"
    },
    {
     "data": {
      "image/png": "[encoded data removed]",
      "text/plain": [
       "<Figure size 432x288 with 1 Axes>"
      ]
     },
     "metadata": {
      "needs_background": "light"
     },
     "output_type": "display_data"
    }
   ],
   "source": [
    "sns.histplot(data=hp_df, x='yr_renovated')"
   ]
  },
  {
   "cell_type": "markdown",
   "id": "48680aaf",
   "metadata": {},
   "source": [
    "The year renovated displays a 0 if the house was not yet renovated. This is not useful information in a linear regression. \n",
    "\n",
    "Workaround:\n",
    "\n",
    "introduce boolean variable: Renovated: Yes/N0\n",
    "Put zero values as No  \n"
   ]
  },
  {
   "cell_type": "code",
   "execution_count": 189,
   "id": "cfa6f93b",
   "metadata": {},
   "outputs": [],
   "source": [
    "hp_df['renovated'] = bool"
   ]
  },
  {
   "cell_type": "code",
   "execution_count": 190,
   "id": "bc1afa37",
   "metadata": {},
   "outputs": [
    {
     "data": {
      "text/plain": [
       "0         True\n",
       "1        False\n",
       "2         True\n",
       "3         True\n",
       "4         True\n",
       "         ...  \n",
       "21592     True\n",
       "21593     True\n",
       "21594     True\n",
       "21595     True\n",
       "21596     True\n",
       "Name: yr_renovated, Length: 21597, dtype: bool"
      ]
     },
     "execution_count": 190,
     "metadata": {},
     "output_type": "execute_result"
    }
   ],
   "source": [
    "hp_df['yr_renovated'] == 0"
   ]
  },
  {
   "cell_type": "code",
   "execution_count": 191,
   "id": "cec29e0d",
   "metadata": {
    "scrolled": true
   },
   "outputs": [],
   "source": [
    "hp_df.loc[hp_df['yr_renovated'] == 0, 'renovated'] = False"
   ]
  },
  {
   "cell_type": "code",
   "execution_count": 192,
   "id": "951a2b0d",
   "metadata": {},
   "outputs": [],
   "source": [
    "hp_df.loc[hp_df['yr_renovated'] != 0, 'renovated'] = True"
   ]
  },
  {
   "cell_type": "code",
   "execution_count": 107,
   "id": "f11f75a6",
   "metadata": {},
   "outputs": [
    {
     "data": {
      "text/plain": [
       "<AxesSubplot:xlabel='yrs_since_ren', ylabel='Count'>"
      ]
     },
     "execution_count": 107,
     "metadata": {},
     "output_type": "execute_result"
    },
    {
     "data": {
      "image/png": "[encoded data removed]",
      "text/plain": [
       "<Figure size 432x288 with 1 Axes>"
      ]
     },
     "metadata": {
      "needs_background": "light"
     },
     "output_type": "display_data"
    }
   ],
   "source": [
    "sns.histplot(hp_df['yrs_since_ren'])"
   ]
  },
  {
   "cell_type": "markdown",
   "id": "3df8137b",
   "metadata": {},
   "source": [
    "## Basement"
   ]
  },
  {
   "cell_type": "code",
   "execution_count": 194,
   "id": "0975662b",
   "metadata": {},
   "outputs": [
    {
     "data": {
      "text/plain": [
       "<AxesSubplot:xlabel='sqft_basement', ylabel='Count'>"
      ]
     },
     "execution_count": 194,
     "metadata": {},
     "output_type": "execute_result"
    },
    {
     "data": {
      "image/png": "[encoded data removed]",
      "text/plain": [
       "<Figure size 432x288 with 1 Axes>"
      ]
     },
     "metadata": {
      "needs_background": "light"
     },
     "output_type": "display_data"
    }
   ],
   "source": [
    "sns.histplot(data=hp_df, x='sqft_basement')"
   ]
  },
  {
   "cell_type": "markdown",
   "id": "2e926aa2",
   "metadata": {},
   "source": [
    "Most Houses don't have a basement, so a dummy will be introduced checking for basement or not:"
   ]
  },
  {
   "cell_type": "code",
   "execution_count": 195,
   "id": "697914fe",
   "metadata": {},
   "outputs": [],
   "source": [
    "hp_df.loc[hp_df['sqft_basement'] == 0, 'basement'] = False\n",
    "hp_df.loc[hp_df['sqft_basement'] != 0, 'basement'] = True"
   ]
  },
  {
   "cell_type": "markdown",
   "id": "35ca0b83",
   "metadata": {},
   "source": [
    "## Dropping columns:\n",
    "\n",
    "For now the columns Unnamed, id, date and long, lat will be dropped from the dataframe."
   ]
  },
  {
   "cell_type": "code",
   "execution_count": 196,
   "id": "c748eb9c",
   "metadata": {},
   "outputs": [],
   "source": [
    "col_drop = ['Unnamed: 0',\\\n",
    "            'id',\\\n",
    "            'date',\\\n",
    "           'long',\\\n",
    "           'lat']   \n",
    "# 'Unnamed: 0' : id from import without information\n",
    "# 'id': random or consequtive values without values\n",
    "# 'date': probably the date the house was added to the database, no additional information for houseprice\n",
    "# 'lang', 'lat': Geografical data, not usable in linear regression like this, can be converted to zones using knn. \n",
    "#    Task for later. But zip codes are enough, probably\n"
   ]
  },
  {
   "cell_type": "code",
   "execution_count": 197,
   "id": "57635f2e",
   "metadata": {},
   "outputs": [],
   "source": [
    "hp_df = hp_df.drop(col_drop, axis= 1)"
   ]
  },
  {
   "cell_type": "markdown",
   "id": "ff110eef",
   "metadata": {},
   "source": [
    "## Changing datatypes\n"
   ]
  },
  {
   "cell_type": "markdown",
   "id": "2b6dd6e1",
   "metadata": {},
   "source": [
    "The format of the features are mostly numerical (int or float). Many of the variables have to be transformed to category to give meaningful results in a regression.\n",
    "These are:\n",
    "\n",
    "'zipcode, 'bedrooms', 'bathrooms', 'floors', 'waterfront', 'view', 'condition', 'grade'"
   ]
  },
  {
   "cell_type": "code",
   "execution_count": 198,
   "id": "af740717",
   "metadata": {},
   "outputs": [
    {
     "name": "stdout",
     "output_type": "stream",
     "text": [
      "<class 'pandas.core.frame.DataFrame'>\n",
      "RangeIndex: 21597 entries, 0 to 21596\n",
      "Data columns (total 19 columns):\n",
      " #   Column         Non-Null Count  Dtype  \n",
      "---  ------         --------------  -----  \n",
      " 0   bedrooms       21597 non-null  int64  \n",
      " 1   bathrooms      21597 non-null  float64\n",
      " 2   sqft_living    21597 non-null  int64  \n",
      " 3   sqft_lot       21597 non-null  int64  \n",
      " 4   floors         21597 non-null  float64\n",
      " 5   waterfront     21597 non-null  int64  \n",
      " 6   view           21597 non-null  int64  \n",
      " 7   condition      21597 non-null  int64  \n",
      " 8   grade          21597 non-null  int64  \n",
      " 9   sqft_above     21597 non-null  int64  \n",
      " 10  sqft_basement  21597 non-null  int64  \n",
      " 11  yr_built       21597 non-null  int64  \n",
      " 12  yr_renovated   21597 non-null  int64  \n",
      " 13  zipcode        21597 non-null  int64  \n",
      " 14  sqft_living15  21597 non-null  int64  \n",
      " 15  sqft_lot15     21597 non-null  int64  \n",
      " 16  price          21597 non-null  int64  \n",
      " 17  renovated      21597 non-null  object \n",
      " 18  basement       21597 non-null  object \n",
      "dtypes: float64(2), int64(15), object(2)\n",
      "memory usage: 3.1+ MB\n"
     ]
    }
   ],
   "source": [
    "hp_df.info()"
   ]
  },
  {
   "cell_type": "code",
   "execution_count": 199,
   "id": "b62cf06d",
   "metadata": {},
   "outputs": [
    {
     "name": "stdout",
     "output_type": "stream",
     "text": [
      "<class 'pandas.core.frame.DataFrame'>\n",
      "RangeIndex: 21597 entries, 0 to 21596\n",
      "Data columns (total 19 columns):\n",
      " #   Column         Non-Null Count  Dtype   \n",
      "---  ------         --------------  -----   \n",
      " 0   bedrooms       21597 non-null  category\n",
      " 1   bathrooms      21597 non-null  category\n",
      " 2   sqft_living    21597 non-null  int64   \n",
      " 3   sqft_lot       21597 non-null  int64   \n",
      " 4   floors         21597 non-null  category\n",
      " 5   waterfront     21597 non-null  category\n",
      " 6   view           21597 non-null  category\n",
      " 7   condition      21597 non-null  category\n",
      " 8   grade          21597 non-null  category\n",
      " 9   sqft_above     21597 non-null  int64   \n",
      " 10  sqft_basement  21597 non-null  int64   \n",
      " 11  yr_built       21597 non-null  int64   \n",
      " 12  yr_renovated   21597 non-null  int64   \n",
      " 13  zipcode        21597 non-null  category\n",
      " 14  sqft_living15  21597 non-null  int64   \n",
      " 15  sqft_lot15     21597 non-null  int64   \n",
      " 16  price          21597 non-null  int64   \n",
      " 17  renovated      21597 non-null  object  \n",
      " 18  basement       21597 non-null  object  \n",
      "dtypes: category(8), int64(9), object(2)\n",
      "memory usage: 2.0+ MB\n"
     ]
    }
   ],
   "source": [
    "# From the pairplot we can see which columns are categorical/dummies:\n",
    "#  bderooms, bathrooms, floors, waterfront, view, condition, grade\n",
    "ordinal_var = ['zipcode', 'bedrooms', 'bathrooms', 'floors', 'waterfront', 'view', 'condition', 'grade']\n",
    "hp_df[ordinal_var] = hp_df[ordinal_var].astype('category')\n",
    "hp_df.info()"
   ]
  },
  {
   "cell_type": "code",
   "execution_count": 111,
   "id": "d91c783f",
   "metadata": {},
   "outputs": [
    {
     "data": {
      "text/plain": [
       "(21597, 17)"
      ]
     },
     "execution_count": 111,
     "metadata": {},
     "output_type": "execute_result"
    }
   ],
   "source": [
    "hp_df.shape"
   ]
  },
  {
   "cell_type": "markdown",
   "id": "135fafbb",
   "metadata": {},
   "source": [
    "## Checking correlation of numerical variables"
   ]
  },
  {
   "cell_type": "code",
   "execution_count": 112,
   "id": "b0fc4753",
   "metadata": {
    "scrolled": true
   },
   "outputs": [
    {
     "data": {
      "image/png": "[encoded data removed]",
      "text/plain": [
       "<Figure size 648x504 with 2 Axes>"
      ]
     },
     "metadata": {},
     "output_type": "display_data"
    }
   ],
   "source": [
    "corr = hp_df.corr()\n",
    "mask = np.zeros_like(corr)\n",
    "mask[np.triu_indices_from(mask)] = True\n",
    "with sns.axes_style(\"white\"):\n",
    "    f, ax = plt.subplots(figsize=(9, 7))\n",
    "    ax = sns.heatmap(corr, mask=mask,cmap='coolwarm', vmin=-1,vmax=1,annot=True, square=True)"
   ]
  },
  {
   "cell_type": "markdown",
   "id": "a598a819",
   "metadata": {},
   "source": [
    "The features should not be correlated in order to fulfill the asumtions of linear regression.\n",
    "As expected there is a lot of correlation between sqf_above, sqf_living and other measures of size. \n",
    "- First: Drop sqf_above"
   ]
  },
  {
   "cell_type": "code",
   "execution_count": 113,
   "id": "0bd5eb60",
   "metadata": {},
   "outputs": [
    {
     "data": {
      "text/plain": [
       "(21597, 16)"
      ]
     },
     "execution_count": 113,
     "metadata": {},
     "output_type": "execute_result"
    }
   ],
   "source": [
    "corr_matrix=hp_df.corr().abs()\n",
    "upper_triangle=corr_matrix.where(np.triu(np.ones(corr_matrix.shape),k=1).astype(bool))\n",
    "corr_var = [column for column in upper_triangle.columns if any(upper_triangle[column] > 0.80)]\n",
    "hp_df = hp_df.drop(corr_var, axis= 1)\n",
    "hp_df.shape"
   ]
  },
  {
   "cell_type": "markdown",
   "id": "00d398a8",
   "metadata": {},
   "source": [
    "The Dataframe is reduced from 21 columns to 16 columns."
   ]
  },
  {
   "cell_type": "code",
   "execution_count": 114,
   "id": "22505d05",
   "metadata": {},
   "outputs": [
    {
     "data": {
      "image/png": "[encoded data removed]",
      "text/plain": [
       "<Figure size 648x504 with 2 Axes>"
      ]
     },
     "metadata": {},
     "output_type": "display_data"
    }
   ],
   "source": [
    "corr = hp_df.corr()\n",
    "mask = np.zeros_like(corr)\n",
    "mask[np.triu_indices_from(mask)] = True\n",
    "with sns.axes_style(\"white\"):\n",
    "    f, ax = plt.subplots(figsize=(9, 7))\n",
    "    ax = sns.heatmap(corr, mask=mask,cmap='coolwarm', vmin=-1,vmax=1,annot=True, square=True)"
   ]
  },
  {
   "cell_type": "markdown",
   "id": "75b9cf9b",
   "metadata": {},
   "source": [
    "The new dataframe does not contain anymore variables with a higher correlation than 0.8, but some variable still have high correlation which could be analysed later."
   ]
  },
  {
   "cell_type": "markdown",
   "id": "b3ceba64",
   "metadata": {},
   "source": [
    "# Normalization"
   ]
  },
  {
   "cell_type": "markdown",
   "id": "73a9e89b",
   "metadata": {},
   "source": [
    "## Histograms\n",
    "To check for the assumtion of normal distributions we check the histograms of the numerical variables"
   ]
  },
  {
   "cell_type": "code",
   "execution_count": 115,
   "id": "c377572f",
   "metadata": {
    "scrolled": true
   },
   "outputs": [
    {
     "data": {
      "text/plain": [
       "array([[<AxesSubplot:title={'center':'sqft_living'}>,\n",
       "        <AxesSubplot:title={'center':'sqft_lot'}>,\n",
       "        <AxesSubplot:title={'center':'sqft_basement'}>],\n",
       "       [<AxesSubplot:title={'center':'yr_built'}>,\n",
       "        <AxesSubplot:title={'center':'sqft_living15'}>,\n",
       "        <AxesSubplot:title={'center':'sqft_lot15'}>],\n",
       "       [<AxesSubplot:title={'center':'price'}>,\n",
       "        <AxesSubplot:title={'center':'yrs_since_ren'}>, <AxesSubplot:>]],\n",
       "      dtype=object)"
      ]
     },
     "execution_count": 115,
     "metadata": {},
     "output_type": "execute_result"
    },
    {
     "data": {
      "image/png": "[encoded data removed]",
      "text/plain": [
       "<Figure size 864x864 with 9 Axes>"
      ]
     },
     "metadata": {
      "needs_background": "light"
     },
     "output_type": "display_data"
    }
   ],
   "source": [
    "hp_df.select_dtypes('int').hist(figsize=(12,12), bins=40)\n"
   ]
  },
  {
   "cell_type": "markdown",
   "id": "3d208350",
   "metadata": {},
   "source": [
    "All numerical varibales are non-normaly distributed and need to be transformed. "
   ]
  },
  {
   "cell_type": "markdown",
   "id": "a9192c43",
   "metadata": {},
   "source": [
    "## Transforming to normal distribution"
   ]
  },
  {
   "cell_type": "code",
   "execution_count": 116,
   "id": "3cd80908",
   "metadata": {},
   "outputs": [
    {
     "data": {
      "text/plain": [
       "Index(['sqft_living', 'sqft_lot', 'sqft_basement', 'yr_built', 'sqft_living15',\n",
       "       'sqft_lot15', 'price', 'yrs_since_ren'],\n",
       "      dtype='object')"
      ]
     },
     "execution_count": 116,
     "metadata": {},
     "output_type": "execute_result"
    }
   ],
   "source": [
    "hp_df.select_dtypes(['int64','float']).columns"
   ]
  },
  {
   "cell_type": "code",
   "execution_count": 117,
   "id": "12465832",
   "metadata": {},
   "outputs": [],
   "source": [
    "# List of variables names to be transformed: \n",
    "to_trans =  {'sqft_living': 'qt',\\\n",
    "             'sqft_lot': 'qt',\\\n",
    "             'yr_built': 'qt',\\\n",
    "             'sqft_basement': 'qt',\\\n",
    "             'yrs_since_ren': 'qt',\\\n",
    "             'sqft_living15': 'qt',\\\n",
    "             'sqft_lot15': 'qt'}"
   ]
  },
  {
   "cell_type": "code",
   "execution_count": 118,
   "id": "8cab4152",
   "metadata": {
    "scrolled": false
   },
   "outputs": [
    {
     "data": {
      "text/html": [
       "<div>\n",
       "<style scoped>\n",
       "    .dataframe tbody tr th:only-of-type {\n",
       "        vertical-align: middle;\n",
       "    }\n",
       "\n",
       "    .dataframe tbody tr th {\n",
       "        vertical-align: top;\n",
       "    }\n",
       "\n",
       "    .dataframe thead th {\n",
       "        text-align: right;\n",
       "    }\n",
       "</style>\n",
       "<table border=\"1\" class=\"dataframe\">\n",
       "  <thead>\n",
       "    <tr style=\"text-align: right;\">\n",
       "      <th></th>\n",
       "      <th>price</th>\n",
       "      <th>sqft_living_transformed</th>\n",
       "      <th>sqft_lot_transformed</th>\n",
       "      <th>yr_built_transformed</th>\n",
       "      <th>sqft_basement_transformed</th>\n",
       "      <th>yrs_since_ren_transformed</th>\n",
       "      <th>sqft_living15_transformed</th>\n",
       "      <th>sqft_lot15_transformed</th>\n",
       "    </tr>\n",
       "  </thead>\n",
       "  <tbody>\n",
       "    <tr>\n",
       "      <th>count</th>\n",
       "      <td>2.159700e+04</td>\n",
       "      <td>21597.000000</td>\n",
       "      <td>21597.000000</td>\n",
       "      <td>21597.000000</td>\n",
       "      <td>21597.000000</td>\n",
       "      <td>21597.000000</td>\n",
       "      <td>21597.000000</td>\n",
       "      <td>21597.000000</td>\n",
       "    </tr>\n",
       "    <tr>\n",
       "      <th>mean</th>\n",
       "      <td>5.402966e+05</td>\n",
       "      <td>0.000009</td>\n",
       "      <td>-0.000043</td>\n",
       "      <td>-0.007133</td>\n",
       "      <td>-2.771765</td>\n",
       "      <td>4.894274</td>\n",
       "      <td>0.000007</td>\n",
       "      <td>-0.000060</td>\n",
       "    </tr>\n",
       "    <tr>\n",
       "      <th>std</th>\n",
       "      <td>3.673681e+05</td>\n",
       "      <td>0.999686</td>\n",
       "      <td>0.999566</td>\n",
       "      <td>1.046026</td>\n",
       "      <td>3.037154</td>\n",
       "      <td>1.466526</td>\n",
       "      <td>0.999868</td>\n",
       "      <td>1.000081</td>\n",
       "    </tr>\n",
       "    <tr>\n",
       "      <th>min</th>\n",
       "      <td>7.800000e+04</td>\n",
       "      <td>-5.199338</td>\n",
       "      <td>-5.199338</td>\n",
       "      <td>-5.199338</td>\n",
       "      <td>-5.199338</td>\n",
       "      <td>-5.199338</td>\n",
       "      <td>-5.199338</td>\n",
       "      <td>-5.199338</td>\n",
       "    </tr>\n",
       "    <tr>\n",
       "      <th>25%</th>\n",
       "      <td>3.220000e+05</td>\n",
       "      <td>-0.667419</td>\n",
       "      <td>-0.676854</td>\n",
       "      <td>-0.689529</td>\n",
       "      <td>-5.199338</td>\n",
       "      <td>5.199338</td>\n",
       "      <td>-0.665852</td>\n",
       "      <td>-0.673702</td>\n",
       "    </tr>\n",
       "    <tr>\n",
       "      <th>50%</th>\n",
       "      <td>4.500000e+05</td>\n",
       "      <td>-0.003764</td>\n",
       "      <td>0.000418</td>\n",
       "      <td>0.003764</td>\n",
       "      <td>-5.199338</td>\n",
       "      <td>5.199338</td>\n",
       "      <td>0.001255</td>\n",
       "      <td>0.000000</td>\n",
       "    </tr>\n",
       "    <tr>\n",
       "      <th>75%</th>\n",
       "      <td>6.450000e+05</td>\n",
       "      <td>0.675277</td>\n",
       "      <td>0.674710</td>\n",
       "      <td>0.681594</td>\n",
       "      <td>0.670557</td>\n",
       "      <td>5.199338</td>\n",
       "      <td>0.670557</td>\n",
       "      <td>0.674476</td>\n",
       "    </tr>\n",
       "    <tr>\n",
       "      <th>max</th>\n",
       "      <td>7.700000e+06</td>\n",
       "      <td>5.199338</td>\n",
       "      <td>5.199338</td>\n",
       "      <td>5.199338</td>\n",
       "      <td>5.199338</td>\n",
       "      <td>5.199338</td>\n",
       "      <td>5.199338</td>\n",
       "      <td>5.199338</td>\n",
       "    </tr>\n",
       "  </tbody>\n",
       "</table>\n",
       "</div>"
      ],
      "text/plain": [
       "              price  sqft_living_transformed  sqft_lot_transformed  \\\n",
       "count  2.159700e+04             21597.000000          21597.000000   \n",
       "mean   5.402966e+05                 0.000009             -0.000043   \n",
       "std    3.673681e+05                 0.999686              0.999566   \n",
       "min    7.800000e+04                -5.199338             -5.199338   \n",
       "25%    3.220000e+05                -0.667419             -0.676854   \n",
       "50%    4.500000e+05                -0.003764              0.000418   \n",
       "75%    6.450000e+05                 0.675277              0.674710   \n",
       "max    7.700000e+06                 5.199338              5.199338   \n",
       "\n",
       "       yr_built_transformed  sqft_basement_transformed  \\\n",
       "count          21597.000000               21597.000000   \n",
       "mean              -0.007133                  -2.771765   \n",
       "std                1.046026                   3.037154   \n",
       "min               -5.199338                  -5.199338   \n",
       "25%               -0.689529                  -5.199338   \n",
       "50%                0.003764                  -5.199338   \n",
       "75%                0.681594                   0.670557   \n",
       "max                5.199338                   5.199338   \n",
       "\n",
       "       yrs_since_ren_transformed  sqft_living15_transformed  \\\n",
       "count               21597.000000               21597.000000   \n",
       "mean                    4.894274                   0.000007   \n",
       "std                     1.466526                   0.999868   \n",
       "min                    -5.199338                  -5.199338   \n",
       "25%                     5.199338                  -0.665852   \n",
       "50%                     5.199338                   0.001255   \n",
       "75%                     5.199338                   0.670557   \n",
       "max                     5.199338                   5.199338   \n",
       "\n",
       "       sqft_lot15_transformed  \n",
       "count            21597.000000  \n",
       "mean                -0.000060  \n",
       "std                  1.000081  \n",
       "min                 -5.199338  \n",
       "25%                 -0.673702  \n",
       "50%                  0.000000  \n",
       "75%                  0.674476  \n",
       "max                  5.199338  "
      ]
     },
     "execution_count": 118,
     "metadata": {},
     "output_type": "execute_result"
    },
    {
     "data": {
      "image/png": "[encoded data removed]",
      "text/plain": [
       "<Figure size 402.375x360 with 1 Axes>"
      ]
     },
     "metadata": {
      "needs_background": "light"
     },
     "output_type": "display_data"
    },
    {
     "data": {
      "image/png": "[encoded data removed]",
      "text/plain": [
       "<Figure size 402.375x360 with 1 Axes>"
      ]
     },
     "metadata": {
      "needs_background": "light"
     },
     "output_type": "display_data"
    },
    {
     "data": {
      "image/png": "[encoded data removed]",
      "text/plain": [
       "<Figure size 402.375x360 with 1 Axes>"
      ]
     },
     "metadata": {
      "needs_background": "light"
     },
     "output_type": "display_data"
    },
    {
     "data": {
      "image/png": "[encoded data removed]",
      "text/plain": [
       "<Figure size 402.375x360 with 1 Axes>"
      ]
     },
     "metadata": {
      "needs_background": "light"
     },
     "output_type": "display_data"
    },
    {
     "data": {
      "image/png": "[encoded data removed]",
      "text/plain": [
       "<Figure size 402.375x360 with 1 Axes>"
      ]
     },
     "metadata": {
      "needs_background": "light"
     },
     "output_type": "display_data"
    },
    {
     "data": {
      "image/png": "[encoded data removed]",
      "text/plain": [
       "<Figure size 402.375x360 with 1 Axes>"
      ]
     },
     "metadata": {
      "needs_background": "light"
     },
     "output_type": "display_data"
    },
    {
     "data": {
      "image/png": "[encoded data removed]",
      "text/plain": [
       "<Figure size 402.375x360 with 1 Axes>"
      ]
     },
     "metadata": {
      "needs_background": "light"
     },
     "output_type": "display_data"
    }
   ],
   "source": [
    "\n",
    "pt = PowerTransformer()\n",
    "qt = QuantileTransformer(output_distribution=\"normal\")\n",
    "\n",
    "transformed_cols = []\n",
    "for i in to_trans.keys():\n",
    "    if list(to_trans.values())[0] == 'pt':\n",
    "        transformed = pt.fit_transform(hp_df[i].to_numpy().reshape(-1,1))\n",
    "    elif list(to_trans.values())[0] == 'qt':\n",
    "        transformed = qt.fit_transform(hp_df[i].to_numpy().reshape(-1,1))\n",
    "    else: \n",
    "        print('no transformer could be identified')\n",
    "    col_name = i+'_transformed'\n",
    "    sns.displot(transformed).set(title=f'Histogram of {col_name}')\n",
    "    hp_df[col_name] = transformed\n",
    "    transformed_cols = transformed_cols + [col_name]\n",
    "    hp_df = hp_df.drop(i, axis= 1)\n",
    "    \n",
    "    \n",
    "hp_df.describe()"
   ]
  },
  {
   "cell_type": "code",
   "execution_count": 119,
   "id": "a40f5920",
   "metadata": {},
   "outputs": [
    {
     "data": {
      "text/plain": [
       "['sqft_living_transformed',\n",
       " 'sqft_lot_transformed',\n",
       " 'yr_built_transformed',\n",
       " 'sqft_basement_transformed',\n",
       " 'yrs_since_ren_transformed',\n",
       " 'sqft_living15_transformed',\n",
       " 'sqft_lot15_transformed']"
      ]
     },
     "execution_count": 119,
     "metadata": {},
     "output_type": "execute_result"
    }
   ],
   "source": [
    "transformed_cols"
   ]
  },
  {
   "cell_type": "code",
   "execution_count": 120,
   "id": "090508f6",
   "metadata": {
    "scrolled": true
   },
   "outputs": [
    {
     "data": {
      "text/html": [
       "<div>\n",
       "<style scoped>\n",
       "    .dataframe tbody tr th:only-of-type {\n",
       "        vertical-align: middle;\n",
       "    }\n",
       "\n",
       "    .dataframe tbody tr th {\n",
       "        vertical-align: top;\n",
       "    }\n",
       "\n",
       "    .dataframe thead th {\n",
       "        text-align: right;\n",
       "    }\n",
       "</style>\n",
       "<table border=\"1\" class=\"dataframe\">\n",
       "  <thead>\n",
       "    <tr style=\"text-align: right;\">\n",
       "      <th></th>\n",
       "      <th>price</th>\n",
       "      <th>sqft_living_transformed</th>\n",
       "      <th>sqft_lot_transformed</th>\n",
       "      <th>yr_built_transformed</th>\n",
       "      <th>sqft_basement_transformed</th>\n",
       "      <th>yrs_since_ren_transformed</th>\n",
       "      <th>sqft_living15_transformed</th>\n",
       "      <th>sqft_lot15_transformed</th>\n",
       "    </tr>\n",
       "  </thead>\n",
       "  <tbody>\n",
       "    <tr>\n",
       "      <th>count</th>\n",
       "      <td>2.159700e+04</td>\n",
       "      <td>21597.000000</td>\n",
       "      <td>21597.000000</td>\n",
       "      <td>21597.000000</td>\n",
       "      <td>21597.000000</td>\n",
       "      <td>21597.000000</td>\n",
       "      <td>21597.000000</td>\n",
       "      <td>21597.000000</td>\n",
       "    </tr>\n",
       "    <tr>\n",
       "      <th>mean</th>\n",
       "      <td>5.402966e+05</td>\n",
       "      <td>0.000009</td>\n",
       "      <td>-0.000043</td>\n",
       "      <td>-0.007133</td>\n",
       "      <td>-2.771765</td>\n",
       "      <td>4.894274</td>\n",
       "      <td>0.000007</td>\n",
       "      <td>-0.000060</td>\n",
       "    </tr>\n",
       "    <tr>\n",
       "      <th>std</th>\n",
       "      <td>3.673681e+05</td>\n",
       "      <td>0.999686</td>\n",
       "      <td>0.999566</td>\n",
       "      <td>1.046026</td>\n",
       "      <td>3.037154</td>\n",
       "      <td>1.466526</td>\n",
       "      <td>0.999868</td>\n",
       "      <td>1.000081</td>\n",
       "    </tr>\n",
       "    <tr>\n",
       "      <th>min</th>\n",
       "      <td>7.800000e+04</td>\n",
       "      <td>-5.199338</td>\n",
       "      <td>-5.199338</td>\n",
       "      <td>-5.199338</td>\n",
       "      <td>-5.199338</td>\n",
       "      <td>-5.199338</td>\n",
       "      <td>-5.199338</td>\n",
       "      <td>-5.199338</td>\n",
       "    </tr>\n",
       "    <tr>\n",
       "      <th>25%</th>\n",
       "      <td>3.220000e+05</td>\n",
       "      <td>-0.667419</td>\n",
       "      <td>-0.676854</td>\n",
       "      <td>-0.689529</td>\n",
       "      <td>-5.199338</td>\n",
       "      <td>5.199338</td>\n",
       "      <td>-0.665852</td>\n",
       "      <td>-0.673702</td>\n",
       "    </tr>\n",
       "    <tr>\n",
       "      <th>50%</th>\n",
       "      <td>4.500000e+05</td>\n",
       "      <td>-0.003764</td>\n",
       "      <td>0.000418</td>\n",
       "      <td>0.003764</td>\n",
       "      <td>-5.199338</td>\n",
       "      <td>5.199338</td>\n",
       "      <td>0.001255</td>\n",
       "      <td>0.000000</td>\n",
       "    </tr>\n",
       "    <tr>\n",
       "      <th>75%</th>\n",
       "      <td>6.450000e+05</td>\n",
       "      <td>0.675277</td>\n",
       "      <td>0.674710</td>\n",
       "      <td>0.681594</td>\n",
       "      <td>0.670557</td>\n",
       "      <td>5.199338</td>\n",
       "      <td>0.670557</td>\n",
       "      <td>0.674476</td>\n",
       "    </tr>\n",
       "    <tr>\n",
       "      <th>max</th>\n",
       "      <td>7.700000e+06</td>\n",
       "      <td>5.199338</td>\n",
       "      <td>5.199338</td>\n",
       "      <td>5.199338</td>\n",
       "      <td>5.199338</td>\n",
       "      <td>5.199338</td>\n",
       "      <td>5.199338</td>\n",
       "      <td>5.199338</td>\n",
       "    </tr>\n",
       "  </tbody>\n",
       "</table>\n",
       "</div>"
      ],
      "text/plain": [
       "              price  sqft_living_transformed  sqft_lot_transformed  \\\n",
       "count  2.159700e+04             21597.000000          21597.000000   \n",
       "mean   5.402966e+05                 0.000009             -0.000043   \n",
       "std    3.673681e+05                 0.999686              0.999566   \n",
       "min    7.800000e+04                -5.199338             -5.199338   \n",
       "25%    3.220000e+05                -0.667419             -0.676854   \n",
       "50%    4.500000e+05                -0.003764              0.000418   \n",
       "75%    6.450000e+05                 0.675277              0.674710   \n",
       "max    7.700000e+06                 5.199338              5.199338   \n",
       "\n",
       "       yr_built_transformed  sqft_basement_transformed  \\\n",
       "count          21597.000000               21597.000000   \n",
       "mean              -0.007133                  -2.771765   \n",
       "std                1.046026                   3.037154   \n",
       "min               -5.199338                  -5.199338   \n",
       "25%               -0.689529                  -5.199338   \n",
       "50%                0.003764                  -5.199338   \n",
       "75%                0.681594                   0.670557   \n",
       "max                5.199338                   5.199338   \n",
       "\n",
       "       yrs_since_ren_transformed  sqft_living15_transformed  \\\n",
       "count               21597.000000               21597.000000   \n",
       "mean                    4.894274                   0.000007   \n",
       "std                     1.466526                   0.999868   \n",
       "min                    -5.199338                  -5.199338   \n",
       "25%                     5.199338                  -0.665852   \n",
       "50%                     5.199338                   0.001255   \n",
       "75%                     5.199338                   0.670557   \n",
       "max                     5.199338                   5.199338   \n",
       "\n",
       "       sqft_lot15_transformed  \n",
       "count            21597.000000  \n",
       "mean                -0.000060  \n",
       "std                  1.000081  \n",
       "min                 -5.199338  \n",
       "25%                 -0.673702  \n",
       "50%                  0.000000  \n",
       "75%                  0.674476  \n",
       "max                  5.199338  "
      ]
     },
     "execution_count": 120,
     "metadata": {},
     "output_type": "execute_result"
    }
   ],
   "source": [
    "hp_df.describe()"
   ]
  },
  {
   "cell_type": "code",
   "execution_count": 121,
   "id": "77dbfc22",
   "metadata": {},
   "outputs": [
    {
     "name": "stdout",
     "output_type": "stream",
     "text": [
      "<class 'pandas.core.frame.DataFrame'>\n",
      "RangeIndex: 21597 entries, 0 to 21596\n",
      "Data columns (total 16 columns):\n",
      " #   Column                     Non-Null Count  Dtype   \n",
      "---  ------                     --------------  -----   \n",
      " 0   bedrooms                   21597 non-null  category\n",
      " 1   bathrooms                  21597 non-null  category\n",
      " 2   floors                     21597 non-null  category\n",
      " 3   waterfront                 21597 non-null  category\n",
      " 4   view                       21597 non-null  category\n",
      " 5   condition                  21597 non-null  category\n",
      " 6   grade                      21597 non-null  category\n",
      " 7   zipcode                    21597 non-null  category\n",
      " 8   price                      21597 non-null  int64   \n",
      " 9   sqft_living_transformed    21597 non-null  float64 \n",
      " 10  sqft_lot_transformed       21597 non-null  float64 \n",
      " 11  yr_built_transformed       21597 non-null  float64 \n",
      " 12  sqft_basement_transformed  21597 non-null  float64 \n",
      " 13  yrs_since_ren_transformed  21597 non-null  float64 \n",
      " 14  sqft_living15_transformed  21597 non-null  float64 \n",
      " 15  sqft_lot15_transformed     21597 non-null  float64 \n",
      "dtypes: category(8), float64(7), int64(1)\n",
      "memory usage: 1.5 MB\n"
     ]
    }
   ],
   "source": [
    "hp_df.info()"
   ]
  },
  {
   "cell_type": "code",
   "execution_count": 122,
   "id": "b816fe0f",
   "metadata": {},
   "outputs": [
    {
     "data": {
      "text/plain": [
       "array([[<AxesSubplot:title={'center':'price'}>,\n",
       "        <AxesSubplot:title={'center':'sqft_living_transformed'}>,\n",
       "        <AxesSubplot:title={'center':'sqft_lot_transformed'}>],\n",
       "       [<AxesSubplot:title={'center':'yr_built_transformed'}>,\n",
       "        <AxesSubplot:title={'center':'sqft_basement_transformed'}>,\n",
       "        <AxesSubplot:title={'center':'yrs_since_ren_transformed'}>],\n",
       "       [<AxesSubplot:title={'center':'sqft_living15_transformed'}>,\n",
       "        <AxesSubplot:title={'center':'sqft_lot15_transformed'}>,\n",
       "        <AxesSubplot:>]], dtype=object)"
      ]
     },
     "execution_count": 122,
     "metadata": {},
     "output_type": "execute_result"
    },
    {
     "data": {
      "image/png": "[encoded data removed]",
      "text/plain": [
       "<Figure size 864x864 with 9 Axes>"
      ]
     },
     "metadata": {
      "needs_background": "light"
     },
     "output_type": "display_data"
    }
   ],
   "source": [
    "hp_df.select_dtypes(['int', 'float64']).hist(figsize=(12,12), bins=40)"
   ]
  },
  {
   "cell_type": "markdown",
   "id": "36274778",
   "metadata": {},
   "source": [
    "## One-hot encode categorical variables"
   ]
  },
  {
   "cell_type": "code",
   "execution_count": 123,
   "id": "f432f8d8",
   "metadata": {},
   "outputs": [
    {
     "data": {
      "text/plain": [
       "['bedrooms',\n",
       " 'bathrooms',\n",
       " 'floors',\n",
       " 'waterfront',\n",
       " 'view',\n",
       " 'condition',\n",
       " 'grade',\n",
       " 'zipcode']"
      ]
     },
     "execution_count": 123,
     "metadata": {},
     "output_type": "execute_result"
    }
   ],
   "source": [
    "col_names_object = list(hp_df.select_dtypes([\"object\" and 'category']).columns)\n",
    "col_names_object"
   ]
  },
  {
   "cell_type": "code",
   "execution_count": 124,
   "id": "b0e8c857",
   "metadata": {},
   "outputs": [],
   "source": [
    "cat_features =  pd.get_dummies(hp_df[col_names_object] , drop_first=True)"
   ]
  },
  {
   "cell_type": "code",
   "execution_count": 125,
   "id": "0ab8ae97",
   "metadata": {},
   "outputs": [],
   "source": [
    "hp_df = hp_df.drop(col_names_object, axis = 1)"
   ]
  },
  {
   "cell_type": "code",
   "execution_count": 126,
   "id": "9a0253b2",
   "metadata": {},
   "outputs": [
    {
     "name": "stderr",
     "output_type": "stream",
     "text": [
      "C:\\Users\\Lenovo\\AppData\\Local\\Temp\\ipykernel_20060\\1451664032.py:1: PerformanceWarning: DataFrame is highly fragmented.  This is usually the result of calling `frame.insert` many times, which has poor performance.  Consider joining all columns at once using pd.concat(axis=1) instead. To get a de-fragmented frame, use `newframe = frame.copy()`\n",
      "  hp_df[cat_features.columns] = cat_features\n",
      "C:\\Users\\Lenovo\\AppData\\Local\\Temp\\ipykernel_20060\\1451664032.py:1: PerformanceWarning: DataFrame is highly fragmented.  This is usually the result of calling `frame.insert` many times, which has poor performance.  Consider joining all columns at once using pd.concat(axis=1) instead. To get a de-fragmented frame, use `newframe = frame.copy()`\n",
      "  hp_df[cat_features.columns] = cat_features\n",
      "C:\\Users\\Lenovo\\AppData\\Local\\Temp\\ipykernel_20060\\1451664032.py:1: PerformanceWarning: DataFrame is highly fragmented.  This is usually the result of calling `frame.insert` many times, which has poor performance.  Consider joining all columns at once using pd.concat(axis=1) instead. To get a de-fragmented frame, use `newframe = frame.copy()`\n",
      "  hp_df[cat_features.columns] = cat_features\n",
      "C:\\Users\\Lenovo\\AppData\\Local\\Temp\\ipykernel_20060\\1451664032.py:1: PerformanceWarning: DataFrame is highly fragmented.  This is usually the result of calling `frame.insert` many times, which has poor performance.  Consider joining all columns at once using pd.concat(axis=1) instead. To get a de-fragmented frame, use `newframe = frame.copy()`\n",
      "  hp_df[cat_features.columns] = cat_features\n",
      "C:\\Users\\Lenovo\\AppData\\Local\\Temp\\ipykernel_20060\\1451664032.py:1: PerformanceWarning: DataFrame is highly fragmented.  This is usually the result of calling `frame.insert` many times, which has poor performance.  Consider joining all columns at once using pd.concat(axis=1) instead. To get a de-fragmented frame, use `newframe = frame.copy()`\n",
      "  hp_df[cat_features.columns] = cat_features\n",
      "C:\\Users\\Lenovo\\AppData\\Local\\Temp\\ipykernel_20060\\1451664032.py:1: PerformanceWarning: DataFrame is highly fragmented.  This is usually the result of calling `frame.insert` many times, which has poor performance.  Consider joining all columns at once using pd.concat(axis=1) instead. To get a de-fragmented frame, use `newframe = frame.copy()`\n",
      "  hp_df[cat_features.columns] = cat_features\n",
      "C:\\Users\\Lenovo\\AppData\\Local\\Temp\\ipykernel_20060\\1451664032.py:1: PerformanceWarning: DataFrame is highly fragmented.  This is usually the result of calling `frame.insert` many times, which has poor performance.  Consider joining all columns at once using pd.concat(axis=1) instead. To get a de-fragmented frame, use `newframe = frame.copy()`\n",
      "  hp_df[cat_features.columns] = cat_features\n",
      "C:\\Users\\Lenovo\\AppData\\Local\\Temp\\ipykernel_20060\\1451664032.py:1: PerformanceWarning: DataFrame is highly fragmented.  This is usually the result of calling `frame.insert` many times, which has poor performance.  Consider joining all columns at once using pd.concat(axis=1) instead. To get a de-fragmented frame, use `newframe = frame.copy()`\n",
      "  hp_df[cat_features.columns] = cat_features\n",
      "C:\\Users\\Lenovo\\AppData\\Local\\Temp\\ipykernel_20060\\1451664032.py:1: PerformanceWarning: DataFrame is highly fragmented.  This is usually the result of calling `frame.insert` many times, which has poor performance.  Consider joining all columns at once using pd.concat(axis=1) instead. To get a de-fragmented frame, use `newframe = frame.copy()`\n",
      "  hp_df[cat_features.columns] = cat_features\n",
      "C:\\Users\\Lenovo\\AppData\\Local\\Temp\\ipykernel_20060\\1451664032.py:1: PerformanceWarning: DataFrame is highly fragmented.  This is usually the result of calling `frame.insert` many times, which has poor performance.  Consider joining all columns at once using pd.concat(axis=1) instead. To get a de-fragmented frame, use `newframe = frame.copy()`\n",
      "  hp_df[cat_features.columns] = cat_features\n",
      "C:\\Users\\Lenovo\\AppData\\Local\\Temp\\ipykernel_20060\\1451664032.py:1: PerformanceWarning: DataFrame is highly fragmented.  This is usually the result of calling `frame.insert` many times, which has poor performance.  Consider joining all columns at once using pd.concat(axis=1) instead. To get a de-fragmented frame, use `newframe = frame.copy()`\n",
      "  hp_df[cat_features.columns] = cat_features\n",
      "C:\\Users\\Lenovo\\AppData\\Local\\Temp\\ipykernel_20060\\1451664032.py:1: PerformanceWarning: DataFrame is highly fragmented.  This is usually the result of calling `frame.insert` many times, which has poor performance.  Consider joining all columns at once using pd.concat(axis=1) instead. To get a de-fragmented frame, use `newframe = frame.copy()`\n",
      "  hp_df[cat_features.columns] = cat_features\n",
      "C:\\Users\\Lenovo\\AppData\\Local\\Temp\\ipykernel_20060\\1451664032.py:1: PerformanceWarning: DataFrame is highly fragmented.  This is usually the result of calling `frame.insert` many times, which has poor performance.  Consider joining all columns at once using pd.concat(axis=1) instead. To get a de-fragmented frame, use `newframe = frame.copy()`\n",
      "  hp_df[cat_features.columns] = cat_features\n",
      "C:\\Users\\Lenovo\\AppData\\Local\\Temp\\ipykernel_20060\\1451664032.py:1: PerformanceWarning: DataFrame is highly fragmented.  This is usually the result of calling `frame.insert` many times, which has poor performance.  Consider joining all columns at once using pd.concat(axis=1) instead. To get a de-fragmented frame, use `newframe = frame.copy()`\n",
      "  hp_df[cat_features.columns] = cat_features\n",
      "C:\\Users\\Lenovo\\AppData\\Local\\Temp\\ipykernel_20060\\1451664032.py:1: PerformanceWarning: DataFrame is highly fragmented.  This is usually the result of calling `frame.insert` many times, which has poor performance.  Consider joining all columns at once using pd.concat(axis=1) instead. To get a de-fragmented frame, use `newframe = frame.copy()`\n",
      "  hp_df[cat_features.columns] = cat_features\n",
      "C:\\Users\\Lenovo\\AppData\\Local\\Temp\\ipykernel_20060\\1451664032.py:1: PerformanceWarning: DataFrame is highly fragmented.  This is usually the result of calling `frame.insert` many times, which has poor performance.  Consider joining all columns at once using pd.concat(axis=1) instead. To get a de-fragmented frame, use `newframe = frame.copy()`\n",
      "  hp_df[cat_features.columns] = cat_features\n",
      "C:\\Users\\Lenovo\\AppData\\Local\\Temp\\ipykernel_20060\\1451664032.py:1: PerformanceWarning: DataFrame is highly fragmented.  This is usually the result of calling `frame.insert` many times, which has poor performance.  Consider joining all columns at once using pd.concat(axis=1) instead. To get a de-fragmented frame, use `newframe = frame.copy()`\n",
      "  hp_df[cat_features.columns] = cat_features\n",
      "C:\\Users\\Lenovo\\AppData\\Local\\Temp\\ipykernel_20060\\1451664032.py:1: PerformanceWarning: DataFrame is highly fragmented.  This is usually the result of calling `frame.insert` many times, which has poor performance.  Consider joining all columns at once using pd.concat(axis=1) instead. To get a de-fragmented frame, use `newframe = frame.copy()`\n",
      "  hp_df[cat_features.columns] = cat_features\n",
      "C:\\Users\\Lenovo\\AppData\\Local\\Temp\\ipykernel_20060\\1451664032.py:1: PerformanceWarning: DataFrame is highly fragmented.  This is usually the result of calling `frame.insert` many times, which has poor performance.  Consider joining all columns at once using pd.concat(axis=1) instead. To get a de-fragmented frame, use `newframe = frame.copy()`\n",
      "  hp_df[cat_features.columns] = cat_features\n",
      "C:\\Users\\Lenovo\\AppData\\Local\\Temp\\ipykernel_20060\\1451664032.py:1: PerformanceWarning: DataFrame is highly fragmented.  This is usually the result of calling `frame.insert` many times, which has poor performance.  Consider joining all columns at once using pd.concat(axis=1) instead. To get a de-fragmented frame, use `newframe = frame.copy()`\n",
      "  hp_df[cat_features.columns] = cat_features\n",
      "C:\\Users\\Lenovo\\AppData\\Local\\Temp\\ipykernel_20060\\1451664032.py:1: PerformanceWarning: DataFrame is highly fragmented.  This is usually the result of calling `frame.insert` many times, which has poor performance.  Consider joining all columns at once using pd.concat(axis=1) instead. To get a de-fragmented frame, use `newframe = frame.copy()`\n",
      "  hp_df[cat_features.columns] = cat_features\n",
      "C:\\Users\\Lenovo\\AppData\\Local\\Temp\\ipykernel_20060\\1451664032.py:1: PerformanceWarning: DataFrame is highly fragmented.  This is usually the result of calling `frame.insert` many times, which has poor performance.  Consider joining all columns at once using pd.concat(axis=1) instead. To get a de-fragmented frame, use `newframe = frame.copy()`\n",
      "  hp_df[cat_features.columns] = cat_features\n",
      "C:\\Users\\Lenovo\\AppData\\Local\\Temp\\ipykernel_20060\\1451664032.py:1: PerformanceWarning: DataFrame is highly fragmented.  This is usually the result of calling `frame.insert` many times, which has poor performance.  Consider joining all columns at once using pd.concat(axis=1) instead. To get a de-fragmented frame, use `newframe = frame.copy()`\n",
      "  hp_df[cat_features.columns] = cat_features\n",
      "C:\\Users\\Lenovo\\AppData\\Local\\Temp\\ipykernel_20060\\1451664032.py:1: PerformanceWarning: DataFrame is highly fragmented.  This is usually the result of calling `frame.insert` many times, which has poor performance.  Consider joining all columns at once using pd.concat(axis=1) instead. To get a de-fragmented frame, use `newframe = frame.copy()`\n",
      "  hp_df[cat_features.columns] = cat_features\n"
     ]
    },
    {
     "name": "stderr",
     "output_type": "stream",
     "text": [
      "C:\\Users\\Lenovo\\AppData\\Local\\Temp\\ipykernel_20060\\1451664032.py:1: PerformanceWarning: DataFrame is highly fragmented.  This is usually the result of calling `frame.insert` many times, which has poor performance.  Consider joining all columns at once using pd.concat(axis=1) instead. To get a de-fragmented frame, use `newframe = frame.copy()`\n",
      "  hp_df[cat_features.columns] = cat_features\n",
      "C:\\Users\\Lenovo\\AppData\\Local\\Temp\\ipykernel_20060\\1451664032.py:1: PerformanceWarning: DataFrame is highly fragmented.  This is usually the result of calling `frame.insert` many times, which has poor performance.  Consider joining all columns at once using pd.concat(axis=1) instead. To get a de-fragmented frame, use `newframe = frame.copy()`\n",
      "  hp_df[cat_features.columns] = cat_features\n",
      "C:\\Users\\Lenovo\\AppData\\Local\\Temp\\ipykernel_20060\\1451664032.py:1: PerformanceWarning: DataFrame is highly fragmented.  This is usually the result of calling `frame.insert` many times, which has poor performance.  Consider joining all columns at once using pd.concat(axis=1) instead. To get a de-fragmented frame, use `newframe = frame.copy()`\n",
      "  hp_df[cat_features.columns] = cat_features\n",
      "C:\\Users\\Lenovo\\AppData\\Local\\Temp\\ipykernel_20060\\1451664032.py:1: PerformanceWarning: DataFrame is highly fragmented.  This is usually the result of calling `frame.insert` many times, which has poor performance.  Consider joining all columns at once using pd.concat(axis=1) instead. To get a de-fragmented frame, use `newframe = frame.copy()`\n",
      "  hp_df[cat_features.columns] = cat_features\n",
      "C:\\Users\\Lenovo\\AppData\\Local\\Temp\\ipykernel_20060\\1451664032.py:1: PerformanceWarning: DataFrame is highly fragmented.  This is usually the result of calling `frame.insert` many times, which has poor performance.  Consider joining all columns at once using pd.concat(axis=1) instead. To get a de-fragmented frame, use `newframe = frame.copy()`\n",
      "  hp_df[cat_features.columns] = cat_features\n",
      "C:\\Users\\Lenovo\\AppData\\Local\\Temp\\ipykernel_20060\\1451664032.py:1: PerformanceWarning: DataFrame is highly fragmented.  This is usually the result of calling `frame.insert` many times, which has poor performance.  Consider joining all columns at once using pd.concat(axis=1) instead. To get a de-fragmented frame, use `newframe = frame.copy()`\n",
      "  hp_df[cat_features.columns] = cat_features\n",
      "C:\\Users\\Lenovo\\AppData\\Local\\Temp\\ipykernel_20060\\1451664032.py:1: PerformanceWarning: DataFrame is highly fragmented.  This is usually the result of calling `frame.insert` many times, which has poor performance.  Consider joining all columns at once using pd.concat(axis=1) instead. To get a de-fragmented frame, use `newframe = frame.copy()`\n",
      "  hp_df[cat_features.columns] = cat_features\n",
      "C:\\Users\\Lenovo\\AppData\\Local\\Temp\\ipykernel_20060\\1451664032.py:1: PerformanceWarning: DataFrame is highly fragmented.  This is usually the result of calling `frame.insert` many times, which has poor performance.  Consider joining all columns at once using pd.concat(axis=1) instead. To get a de-fragmented frame, use `newframe = frame.copy()`\n",
      "  hp_df[cat_features.columns] = cat_features\n",
      "C:\\Users\\Lenovo\\AppData\\Local\\Temp\\ipykernel_20060\\1451664032.py:1: PerformanceWarning: DataFrame is highly fragmented.  This is usually the result of calling `frame.insert` many times, which has poor performance.  Consider joining all columns at once using pd.concat(axis=1) instead. To get a de-fragmented frame, use `newframe = frame.copy()`\n",
      "  hp_df[cat_features.columns] = cat_features\n",
      "C:\\Users\\Lenovo\\AppData\\Local\\Temp\\ipykernel_20060\\1451664032.py:1: PerformanceWarning: DataFrame is highly fragmented.  This is usually the result of calling `frame.insert` many times, which has poor performance.  Consider joining all columns at once using pd.concat(axis=1) instead. To get a de-fragmented frame, use `newframe = frame.copy()`\n",
      "  hp_df[cat_features.columns] = cat_features\n"
     ]
    }
   ],
   "source": [
    "hp_df[cat_features.columns] = cat_features"
   ]
  },
  {
   "cell_type": "code",
   "execution_count": 127,
   "id": "f68ffbf1",
   "metadata": {
    "scrolled": true
   },
   "outputs": [
    {
     "data": {
      "text/plain": [
       "Index(['price', 'sqft_living_transformed', 'sqft_lot_transformed',\n",
       "       'yr_built_transformed', 'sqft_basement_transformed',\n",
       "       'yrs_since_ren_transformed', 'sqft_living15_transformed',\n",
       "       'sqft_lot15_transformed', 'bedrooms_2', 'bedrooms_3',\n",
       "       ...\n",
       "       'zipcode_98146', 'zipcode_98148', 'zipcode_98155', 'zipcode_98166',\n",
       "       'zipcode_98168', 'zipcode_98177', 'zipcode_98178', 'zipcode_98188',\n",
       "       'zipcode_98198', 'zipcode_98199'],\n",
       "      dtype='object', length=140)"
      ]
     },
     "execution_count": 127,
     "metadata": {},
     "output_type": "execute_result"
    }
   ],
   "source": [
    "hp_df.columns"
   ]
  },
  {
   "cell_type": "markdown",
   "id": "ed92da8e",
   "metadata": {},
   "source": [
    "## Remove outliers"
   ]
  },
  {
   "cell_type": "code",
   "execution_count": 128,
   "id": "fef2db04",
   "metadata": {},
   "outputs": [
    {
     "data": {
      "image/png": "[encoded data removed]",
      "text/plain": [
       "<Figure size 432x288 with 1 Axes>"
      ]
     },
     "metadata": {
      "needs_background": "light"
     },
     "output_type": "display_data"
    }
   ],
   "source": [
    "for i in transformed_cols:\n",
    "    sns.boxplot(data=hp_df[transformed_cols]).set(title='Boxplots of numerical variables showing outliers')\n",
    "    plt.xticks(rotation=90)"
   ]
  },
  {
   "cell_type": "code",
   "execution_count": 129,
   "id": "24c232e2",
   "metadata": {},
   "outputs": [],
   "source": [
    " len_before = hp_df.shape[0]"
   ]
  },
  {
   "cell_type": "code",
   "execution_count": 130,
   "id": "c16f7778",
   "metadata": {},
   "outputs": [],
   "source": [
    "def remove_outlier(df_in, col_name):\n",
    "    q1 = df_in[col_name].quantile(0.25)\n",
    "    q3 = df_in[col_name].quantile(0.75)\n",
    "    iqr = q3-q1 #Interquartile range\n",
    "    fence_low  = q1-2*iqr\n",
    "    fence_high = q3+2*iqr\n",
    "    df_out = df_in.loc[(df_in[col_name] > fence_low) & (df_in[col_name] < fence_high)]\n",
    "    return df_out\n",
    "\n",
    "#for i in transformed_cols: \n",
    "#    hp_df = remove_outlier(hp_df, i )"
   ]
  },
  {
   "cell_type": "code",
   "execution_count": 131,
   "id": "371d0377",
   "metadata": {},
   "outputs": [
    {
     "data": {
      "image/png": "[encoded data removed]",
      "text/plain": [
       "<Figure size 432x288 with 1 Axes>"
      ]
     },
     "metadata": {
      "needs_background": "light"
     },
     "output_type": "display_data"
    }
   ],
   "source": [
    "for i in transformed_cols:\n",
    "    sns.boxplot(data=hp_df[transformed_cols]).set(title='Boxplots of numerical variables showing outliers')\n",
    "    plt.xticks(rotation=90)"
   ]
  },
  {
   "cell_type": "code",
   "execution_count": 132,
   "id": "87cf610e",
   "metadata": {},
   "outputs": [],
   "source": [
    "len_after = hp_df.shape[0]"
   ]
  },
  {
   "cell_type": "code",
   "execution_count": 133,
   "id": "a9b2dff2",
   "metadata": {},
   "outputs": [
    {
     "name": "stdout",
     "output_type": "stream",
     "text": [
      "Of the original dataset 100.0% of rows remain\n"
     ]
    }
   ],
   "source": [
    "print(f'Of the original dataset {round(len_after/len_before * 100, 2)}% of rows remain')"
   ]
  },
  {
   "cell_type": "code",
   "execution_count": null,
   "id": "d33398e8",
   "metadata": {},
   "outputs": [],
   "source": []
  },
  {
   "cell_type": "markdown",
   "id": "7b47f885",
   "metadata": {},
   "source": [
    "## 1st Model only using numerical variables"
   ]
  },
  {
   "cell_type": "markdown",
   "id": "a82c36cb",
   "metadata": {},
   "source": [
    "###  1) Split X-y"
   ]
  },
  {
   "cell_type": "code",
   "execution_count": 134,
   "id": "8bec4769",
   "metadata": {
    "scrolled": true
   },
   "outputs": [],
   "source": [
    "X=hp_df.drop('price', axis=1)\n",
    "y=hp_df['price']\n"
   ]
  },
  {
   "cell_type": "code",
   "execution_count": 135,
   "id": "ac1296b5",
   "metadata": {},
   "outputs": [
    {
     "data": {
      "text/html": [
       "<div>\n",
       "<style scoped>\n",
       "    .dataframe tbody tr th:only-of-type {\n",
       "        vertical-align: middle;\n",
       "    }\n",
       "\n",
       "    .dataframe tbody tr th {\n",
       "        vertical-align: top;\n",
       "    }\n",
       "\n",
       "    .dataframe thead th {\n",
       "        text-align: right;\n",
       "    }\n",
       "</style>\n",
       "<table border=\"1\" class=\"dataframe\">\n",
       "  <thead>\n",
       "    <tr style=\"text-align: right;\">\n",
       "      <th></th>\n",
       "      <th>sqft_living_transformed</th>\n",
       "      <th>sqft_lot_transformed</th>\n",
       "      <th>yr_built_transformed</th>\n",
       "      <th>sqft_basement_transformed</th>\n",
       "      <th>yrs_since_ren_transformed</th>\n",
       "      <th>sqft_living15_transformed</th>\n",
       "      <th>sqft_lot15_transformed</th>\n",
       "      <th>bedrooms_2</th>\n",
       "      <th>bedrooms_3</th>\n",
       "      <th>bedrooms_4</th>\n",
       "      <th>...</th>\n",
       "      <th>zipcode_98146</th>\n",
       "      <th>zipcode_98148</th>\n",
       "      <th>zipcode_98155</th>\n",
       "      <th>zipcode_98166</th>\n",
       "      <th>zipcode_98168</th>\n",
       "      <th>zipcode_98177</th>\n",
       "      <th>zipcode_98178</th>\n",
       "      <th>zipcode_98188</th>\n",
       "      <th>zipcode_98198</th>\n",
       "      <th>zipcode_98199</th>\n",
       "    </tr>\n",
       "  </thead>\n",
       "  <tbody>\n",
       "    <tr>\n",
       "      <th>0</th>\n",
       "      <td>-1.109378</td>\n",
       "      <td>-0.517790</td>\n",
       "      <td>-0.549616</td>\n",
       "      <td>-5.199338</td>\n",
       "      <td>5.199338</td>\n",
       "      <td>-1.037937</td>\n",
       "      <td>-0.517790</td>\n",
       "      <td>0</td>\n",
       "      <td>1</td>\n",
       "      <td>0</td>\n",
       "      <td>...</td>\n",
       "      <td>0</td>\n",
       "      <td>0</td>\n",
       "      <td>0</td>\n",
       "      <td>0</td>\n",
       "      <td>0</td>\n",
       "      <td>0</td>\n",
       "      <td>1</td>\n",
       "      <td>0</td>\n",
       "      <td>0</td>\n",
       "      <td>0</td>\n",
       "    </tr>\n",
       "    <tr>\n",
       "      <th>1</th>\n",
       "      <td>0.694311</td>\n",
       "      <td>-0.115464</td>\n",
       "      <td>-0.689529</td>\n",
       "      <td>0.492137</td>\n",
       "      <td>-2.196894</td>\n",
       "      <td>-0.247134</td>\n",
       "      <td>0.007616</td>\n",
       "      <td>0</td>\n",
       "      <td>1</td>\n",
       "      <td>0</td>\n",
       "      <td>...</td>\n",
       "      <td>0</td>\n",
       "      <td>0</td>\n",
       "      <td>0</td>\n",
       "      <td>0</td>\n",
       "      <td>0</td>\n",
       "      <td>0</td>\n",
       "      <td>0</td>\n",
       "      <td>0</td>\n",
       "      <td>0</td>\n",
       "      <td>0</td>\n",
       "    </tr>\n",
       "    <tr>\n",
       "      <th>2</th>\n",
       "      <td>-2.131682</td>\n",
       "      <td>0.562796</td>\n",
       "      <td>-1.118711</td>\n",
       "      <td>-5.199338</td>\n",
       "      <td>5.199338</td>\n",
       "      <td>1.064091</td>\n",
       "      <td>0.154186</td>\n",
       "      <td>1</td>\n",
       "      <td>0</td>\n",
       "      <td>0</td>\n",
       "      <td>...</td>\n",
       "      <td>0</td>\n",
       "      <td>0</td>\n",
       "      <td>0</td>\n",
       "      <td>0</td>\n",
       "      <td>0</td>\n",
       "      <td>0</td>\n",
       "      <td>0</td>\n",
       "      <td>0</td>\n",
       "      <td>0</td>\n",
       "      <td>0</td>\n",
       "    </tr>\n",
       "    <tr>\n",
       "      <th>3</th>\n",
       "      <td>0.051460</td>\n",
       "      <td>-0.718462</td>\n",
       "      <td>-0.247134</td>\n",
       "      <td>1.192071</td>\n",
       "      <td>5.199338</td>\n",
       "      <td>-0.985610</td>\n",
       "      <td>-0.744694</td>\n",
       "      <td>0</td>\n",
       "      <td>0</td>\n",
       "      <td>1</td>\n",
       "      <td>...</td>\n",
       "      <td>0</td>\n",
       "      <td>0</td>\n",
       "      <td>0</td>\n",
       "      <td>0</td>\n",
       "      <td>0</td>\n",
       "      <td>0</td>\n",
       "      <td>0</td>\n",
       "      <td>0</td>\n",
       "      <td>0</td>\n",
       "      <td>0</td>\n",
       "    </tr>\n",
       "    <tr>\n",
       "      <th>4</th>\n",
       "      <td>-0.293986</td>\n",
       "      <td>0.128003</td>\n",
       "      <td>0.368215</td>\n",
       "      <td>-5.199338</td>\n",
       "      <td>5.199338</td>\n",
       "      <td>-0.062770</td>\n",
       "      <td>-0.040336</td>\n",
       "      <td>0</td>\n",
       "      <td>1</td>\n",
       "      <td>0</td>\n",
       "      <td>...</td>\n",
       "      <td>0</td>\n",
       "      <td>0</td>\n",
       "      <td>0</td>\n",
       "      <td>0</td>\n",
       "      <td>0</td>\n",
       "      <td>0</td>\n",
       "      <td>0</td>\n",
       "      <td>0</td>\n",
       "      <td>0</td>\n",
       "      <td>0</td>\n",
       "    </tr>\n",
       "    <tr>\n",
       "      <th>...</th>\n",
       "      <td>...</td>\n",
       "      <td>...</td>\n",
       "      <td>...</td>\n",
       "      <td>...</td>\n",
       "      <td>...</td>\n",
       "      <td>...</td>\n",
       "      <td>...</td>\n",
       "      <td>...</td>\n",
       "      <td>...</td>\n",
       "      <td>...</td>\n",
       "      <td>...</td>\n",
       "      <td>...</td>\n",
       "      <td>...</td>\n",
       "      <td>...</td>\n",
       "      <td>...</td>\n",
       "      <td>...</td>\n",
       "      <td>...</td>\n",
       "      <td>...</td>\n",
       "      <td>...</td>\n",
       "      <td>...</td>\n",
       "      <td>...</td>\n",
       "    </tr>\n",
       "    <tr>\n",
       "      <th>21592</th>\n",
       "      <td>-0.509202</td>\n",
       "      <td>-2.132221</td>\n",
       "      <td>1.529558</td>\n",
       "      <td>-5.199338</td>\n",
       "      <td>5.199338</td>\n",
       "      <td>-0.573115</td>\n",
       "      <td>-1.831578</td>\n",
       "      <td>0</td>\n",
       "      <td>1</td>\n",
       "      <td>0</td>\n",
       "      <td>...</td>\n",
       "      <td>0</td>\n",
       "      <td>0</td>\n",
       "      <td>0</td>\n",
       "      <td>0</td>\n",
       "      <td>0</td>\n",
       "      <td>0</td>\n",
       "      <td>0</td>\n",
       "      <td>0</td>\n",
       "      <td>0</td>\n",
       "      <td>0</td>\n",
       "    </tr>\n",
       "    <tr>\n",
       "      <th>21593</th>\n",
       "      <td>0.436240</td>\n",
       "      <td>-0.475178</td>\n",
       "      <td>2.183092</td>\n",
       "      <td>-5.199338</td>\n",
       "      <td>5.199338</td>\n",
       "      <td>-0.012546</td>\n",
       "      <td>-0.165095</td>\n",
       "      <td>0</td>\n",
       "      <td>0</td>\n",
       "      <td>1</td>\n",
       "      <td>...</td>\n",
       "      <td>1</td>\n",
       "      <td>0</td>\n",
       "      <td>0</td>\n",
       "      <td>0</td>\n",
       "      <td>0</td>\n",
       "      <td>0</td>\n",
       "      <td>0</td>\n",
       "      <td>0</td>\n",
       "      <td>0</td>\n",
       "      <td>0</td>\n",
       "    </tr>\n",
       "    <tr>\n",
       "      <th>21594</th>\n",
       "      <td>-1.428482</td>\n",
       "      <td>-1.837261</td>\n",
       "      <td>1.529558</td>\n",
       "      <td>-5.199338</td>\n",
       "      <td>5.199338</td>\n",
       "      <td>-2.043115</td>\n",
       "      <td>-1.644085</td>\n",
       "      <td>1</td>\n",
       "      <td>0</td>\n",
       "      <td>0</td>\n",
       "      <td>...</td>\n",
       "      <td>0</td>\n",
       "      <td>0</td>\n",
       "      <td>0</td>\n",
       "      <td>0</td>\n",
       "      <td>0</td>\n",
       "      <td>0</td>\n",
       "      <td>0</td>\n",
       "      <td>0</td>\n",
       "      <td>0</td>\n",
       "      <td>0</td>\n",
       "    </tr>\n",
       "    <tr>\n",
       "      <th>21595</th>\n",
       "      <td>-0.406079</td>\n",
       "      <td>-1.515547</td>\n",
       "      <td>1.008294</td>\n",
       "      <td>-5.199338</td>\n",
       "      <td>5.199338</td>\n",
       "      <td>-0.862544</td>\n",
       "      <td>-2.068024</td>\n",
       "      <td>0</td>\n",
       "      <td>1</td>\n",
       "      <td>0</td>\n",
       "      <td>...</td>\n",
       "      <td>0</td>\n",
       "      <td>0</td>\n",
       "      <td>0</td>\n",
       "      <td>0</td>\n",
       "      <td>0</td>\n",
       "      <td>0</td>\n",
       "      <td>0</td>\n",
       "      <td>0</td>\n",
       "      <td>0</td>\n",
       "      <td>0</td>\n",
       "    </tr>\n",
       "    <tr>\n",
       "      <th>21596</th>\n",
       "      <td>-1.428482</td>\n",
       "      <td>-2.220813</td>\n",
       "      <td>1.428482</td>\n",
       "      <td>-5.199338</td>\n",
       "      <td>5.199338</td>\n",
       "      <td>-2.043115</td>\n",
       "      <td>-1.954804</td>\n",
       "      <td>1</td>\n",
       "      <td>0</td>\n",
       "      <td>0</td>\n",
       "      <td>...</td>\n",
       "      <td>0</td>\n",
       "      <td>0</td>\n",
       "      <td>0</td>\n",
       "      <td>0</td>\n",
       "      <td>0</td>\n",
       "      <td>0</td>\n",
       "      <td>0</td>\n",
       "      <td>0</td>\n",
       "      <td>0</td>\n",
       "      <td>0</td>\n",
       "    </tr>\n",
       "  </tbody>\n",
       "</table>\n",
       "<p>21597 rows × 139 columns</p>\n",
       "</div>"
      ],
      "text/plain": [
       "       sqft_living_transformed  sqft_lot_transformed  yr_built_transformed  \\\n",
       "0                    -1.109378             -0.517790             -0.549616   \n",
       "1                     0.694311             -0.115464             -0.689529   \n",
       "2                    -2.131682              0.562796             -1.118711   \n",
       "3                     0.051460             -0.718462             -0.247134   \n",
       "4                    -0.293986              0.128003              0.368215   \n",
       "...                        ...                   ...                   ...   \n",
       "21592                -0.509202             -2.132221              1.529558   \n",
       "21593                 0.436240             -0.475178              2.183092   \n",
       "21594                -1.428482             -1.837261              1.529558   \n",
       "21595                -0.406079             -1.515547              1.008294   \n",
       "21596                -1.428482             -2.220813              1.428482   \n",
       "\n",
       "       sqft_basement_transformed  yrs_since_ren_transformed  \\\n",
       "0                      -5.199338                   5.199338   \n",
       "1                       0.492137                  -2.196894   \n",
       "2                      -5.199338                   5.199338   \n",
       "3                       1.192071                   5.199338   \n",
       "4                      -5.199338                   5.199338   \n",
       "...                          ...                        ...   \n",
       "21592                  -5.199338                   5.199338   \n",
       "21593                  -5.199338                   5.199338   \n",
       "21594                  -5.199338                   5.199338   \n",
       "21595                  -5.199338                   5.199338   \n",
       "21596                  -5.199338                   5.199338   \n",
       "\n",
       "       sqft_living15_transformed  sqft_lot15_transformed  bedrooms_2  \\\n",
       "0                      -1.037937               -0.517790           0   \n",
       "1                      -0.247134                0.007616           0   \n",
       "2                       1.064091                0.154186           1   \n",
       "3                      -0.985610               -0.744694           0   \n",
       "4                      -0.062770               -0.040336           0   \n",
       "...                          ...                     ...         ...   \n",
       "21592                  -0.573115               -1.831578           0   \n",
       "21593                  -0.012546               -0.165095           0   \n",
       "21594                  -2.043115               -1.644085           1   \n",
       "21595                  -0.862544               -2.068024           0   \n",
       "21596                  -2.043115               -1.954804           1   \n",
       "\n",
       "       bedrooms_3  bedrooms_4  ...  zipcode_98146  zipcode_98148  \\\n",
       "0               1           0  ...              0              0   \n",
       "1               1           0  ...              0              0   \n",
       "2               0           0  ...              0              0   \n",
       "3               0           1  ...              0              0   \n",
       "4               1           0  ...              0              0   \n",
       "...           ...         ...  ...            ...            ...   \n",
       "21592           1           0  ...              0              0   \n",
       "21593           0           1  ...              1              0   \n",
       "21594           0           0  ...              0              0   \n",
       "21595           1           0  ...              0              0   \n",
       "21596           0           0  ...              0              0   \n",
       "\n",
       "       zipcode_98155  zipcode_98166  zipcode_98168  zipcode_98177  \\\n",
       "0                  0              0              0              0   \n",
       "1                  0              0              0              0   \n",
       "2                  0              0              0              0   \n",
       "3                  0              0              0              0   \n",
       "4                  0              0              0              0   \n",
       "...              ...            ...            ...            ...   \n",
       "21592              0              0              0              0   \n",
       "21593              0              0              0              0   \n",
       "21594              0              0              0              0   \n",
       "21595              0              0              0              0   \n",
       "21596              0              0              0              0   \n",
       "\n",
       "       zipcode_98178  zipcode_98188  zipcode_98198  zipcode_98199  \n",
       "0                  1              0              0              0  \n",
       "1                  0              0              0              0  \n",
       "2                  0              0              0              0  \n",
       "3                  0              0              0              0  \n",
       "4                  0              0              0              0  \n",
       "...              ...            ...            ...            ...  \n",
       "21592              0              0              0              0  \n",
       "21593              0              0              0              0  \n",
       "21594              0              0              0              0  \n",
       "21595              0              0              0              0  \n",
       "21596              0              0              0              0  \n",
       "\n",
       "[21597 rows x 139 columns]"
      ]
     },
     "execution_count": 135,
     "metadata": {},
     "output_type": "execute_result"
    }
   ],
   "source": [
    "X"
   ]
  },
  {
   "cell_type": "code",
   "execution_count": 136,
   "id": "0b1524ee",
   "metadata": {},
   "outputs": [],
   "source": [
    "X=X.drop(cat_features.columns, axis=1)"
   ]
  },
  {
   "cell_type": "code",
   "execution_count": 137,
   "id": "8c69a0cc",
   "metadata": {},
   "outputs": [
    {
     "data": {
      "text/plain": [
       "Index(['sqft_living_transformed', 'sqft_lot_transformed',\n",
       "       'yr_built_transformed', 'sqft_basement_transformed',\n",
       "       'yrs_since_ren_transformed', 'sqft_living15_transformed',\n",
       "       'sqft_lot15_transformed'],\n",
       "      dtype='object')"
      ]
     },
     "execution_count": 137,
     "metadata": {},
     "output_type": "execute_result"
    }
   ],
   "source": [
    "X.columns"
   ]
  },
  {
   "cell_type": "code",
   "execution_count": 138,
   "id": "2d047396",
   "metadata": {},
   "outputs": [],
   "source": [
    "X_train, X_test, y_train, y_test=train_test_split(X, y, test_size=.30,random_state=100)"
   ]
  },
  {
   "cell_type": "code",
   "execution_count": 139,
   "id": "ae569673",
   "metadata": {},
   "outputs": [
    {
     "data": {
      "text/html": [
       "<div>\n",
       "<style scoped>\n",
       "    .dataframe tbody tr th:only-of-type {\n",
       "        vertical-align: middle;\n",
       "    }\n",
       "\n",
       "    .dataframe tbody tr th {\n",
       "        vertical-align: top;\n",
       "    }\n",
       "\n",
       "    .dataframe thead th {\n",
       "        text-align: right;\n",
       "    }\n",
       "</style>\n",
       "<table border=\"1\" class=\"dataframe\">\n",
       "  <thead>\n",
       "    <tr style=\"text-align: right;\">\n",
       "      <th></th>\n",
       "      <th>sqft_living_transformed</th>\n",
       "      <th>sqft_lot_transformed</th>\n",
       "      <th>yr_built_transformed</th>\n",
       "      <th>sqft_basement_transformed</th>\n",
       "      <th>yrs_since_ren_transformed</th>\n",
       "      <th>sqft_living15_transformed</th>\n",
       "      <th>sqft_lot15_transformed</th>\n",
       "    </tr>\n",
       "  </thead>\n",
       "  <tbody>\n",
       "    <tr>\n",
       "      <th>8816</th>\n",
       "      <td>0.132113</td>\n",
       "      <td>-0.079120</td>\n",
       "      <td>0.069056</td>\n",
       "      <td>1.068522</td>\n",
       "      <td>5.199338</td>\n",
       "      <td>0.161281</td>\n",
       "      <td>-0.101796</td>\n",
       "    </tr>\n",
       "    <tr>\n",
       "      <th>15679</th>\n",
       "      <td>0.153660</td>\n",
       "      <td>-0.429351</td>\n",
       "      <td>-1.844811</td>\n",
       "      <td>0.601439</td>\n",
       "      <td>5.199338</td>\n",
       "      <td>-0.096753</td>\n",
       "      <td>-1.128144</td>\n",
       "    </tr>\n",
       "    <tr>\n",
       "      <th>3091</th>\n",
       "      <td>0.165095</td>\n",
       "      <td>-0.052435</td>\n",
       "      <td>0.439001</td>\n",
       "      <td>-5.199338</td>\n",
       "      <td>5.199338</td>\n",
       "      <td>0.809168</td>\n",
       "      <td>0.049486</td>\n",
       "    </tr>\n",
       "    <tr>\n",
       "      <th>4410</th>\n",
       "      <td>0.269184</td>\n",
       "      <td>1.424313</td>\n",
       "      <td>0.513491</td>\n",
       "      <td>-5.199338</td>\n",
       "      <td>5.199338</td>\n",
       "      <td>0.243255</td>\n",
       "      <td>0.803958</td>\n",
       "    </tr>\n",
       "    <tr>\n",
       "      <th>14938</th>\n",
       "      <td>-1.968165</td>\n",
       "      <td>2.683605</td>\n",
       "      <td>-1.152175</td>\n",
       "      <td>-5.199338</td>\n",
       "      <td>-2.325972</td>\n",
       "      <td>-0.457033</td>\n",
       "      <td>0.192717</td>\n",
       "    </tr>\n",
       "    <tr>\n",
       "      <th>...</th>\n",
       "      <td>...</td>\n",
       "      <td>...</td>\n",
       "      <td>...</td>\n",
       "      <td>...</td>\n",
       "      <td>...</td>\n",
       "      <td>...</td>\n",
       "      <td>...</td>\n",
       "    </tr>\n",
       "    <tr>\n",
       "      <th>16304</th>\n",
       "      <td>-0.084155</td>\n",
       "      <td>1.127559</td>\n",
       "      <td>0.439001</td>\n",
       "      <td>-5.199338</td>\n",
       "      <td>5.199338</td>\n",
       "      <td>0.104318</td>\n",
       "      <td>1.199046</td>\n",
       "    </tr>\n",
       "    <tr>\n",
       "      <th>79</th>\n",
       "      <td>1.425011</td>\n",
       "      <td>1.585639</td>\n",
       "      <td>0.875354</td>\n",
       "      <td>-5.199338</td>\n",
       "      <td>5.199338</td>\n",
       "      <td>1.684464</td>\n",
       "      <td>1.697533</td>\n",
       "    </tr>\n",
       "    <tr>\n",
       "      <th>12119</th>\n",
       "      <td>-0.338834</td>\n",
       "      <td>0.551527</td>\n",
       "      <td>-0.186756</td>\n",
       "      <td>0.670557</td>\n",
       "      <td>5.199338</td>\n",
       "      <td>-0.502074</td>\n",
       "      <td>0.624145</td>\n",
       "    </tr>\n",
       "    <tr>\n",
       "      <th>14147</th>\n",
       "      <td>-0.015055</td>\n",
       "      <td>1.176446</td>\n",
       "      <td>-0.143512</td>\n",
       "      <td>0.752997</td>\n",
       "      <td>5.199338</td>\n",
       "      <td>0.116941</td>\n",
       "      <td>1.161976</td>\n",
       "    </tr>\n",
       "    <tr>\n",
       "      <th>5640</th>\n",
       "      <td>1.431971</td>\n",
       "      <td>-0.574595</td>\n",
       "      <td>1.744448</td>\n",
       "      <td>0.764710</td>\n",
       "      <td>5.199338</td>\n",
       "      <td>0.074087</td>\n",
       "      <td>-0.579039</td>\n",
       "    </tr>\n",
       "  </tbody>\n",
       "</table>\n",
       "<p>15117 rows × 7 columns</p>\n",
       "</div>"
      ],
      "text/plain": [
       "       sqft_living_transformed  sqft_lot_transformed  yr_built_transformed  \\\n",
       "8816                  0.132113             -0.079120              0.069056   \n",
       "15679                 0.153660             -0.429351             -1.844811   \n",
       "3091                  0.165095             -0.052435              0.439001   \n",
       "4410                  0.269184              1.424313              0.513491   \n",
       "14938                -1.968165              2.683605             -1.152175   \n",
       "...                        ...                   ...                   ...   \n",
       "16304                -0.084155              1.127559              0.439001   \n",
       "79                    1.425011              1.585639              0.875354   \n",
       "12119                -0.338834              0.551527             -0.186756   \n",
       "14147                -0.015055              1.176446             -0.143512   \n",
       "5640                  1.431971             -0.574595              1.744448   \n",
       "\n",
       "       sqft_basement_transformed  yrs_since_ren_transformed  \\\n",
       "8816                    1.068522                   5.199338   \n",
       "15679                   0.601439                   5.199338   \n",
       "3091                   -5.199338                   5.199338   \n",
       "4410                   -5.199338                   5.199338   \n",
       "14938                  -5.199338                  -2.325972   \n",
       "...                          ...                        ...   \n",
       "16304                  -5.199338                   5.199338   \n",
       "79                     -5.199338                   5.199338   \n",
       "12119                   0.670557                   5.199338   \n",
       "14147                   0.752997                   5.199338   \n",
       "5640                    0.764710                   5.199338   \n",
       "\n",
       "       sqft_living15_transformed  sqft_lot15_transformed  \n",
       "8816                    0.161281               -0.101796  \n",
       "15679                  -0.096753               -1.128144  \n",
       "3091                    0.809168                0.049486  \n",
       "4410                    0.243255                0.803958  \n",
       "14938                  -0.457033                0.192717  \n",
       "...                          ...                     ...  \n",
       "16304                   0.104318                1.199046  \n",
       "79                      1.684464                1.697533  \n",
       "12119                  -0.502074                0.624145  \n",
       "14147                   0.116941                1.161976  \n",
       "5640                    0.074087               -0.579039  \n",
       "\n",
       "[15117 rows x 7 columns]"
      ]
     },
     "execution_count": 139,
     "metadata": {},
     "output_type": "execute_result"
    }
   ],
   "source": [
    "X_train"
   ]
  },
  {
   "cell_type": "markdown",
   "id": "c66ea548",
   "metadata": {},
   "source": [
    "### Standardize"
   ]
  },
  {
   "cell_type": "code",
   "execution_count": 140,
   "id": "ec9bcdc4",
   "metadata": {},
   "outputs": [],
   "source": [
    "std_scaler=StandardScaler().fit(X_train)   ##. finding the parameters ( mean, variance from the training set )\n",
    "                                            ## \n",
    "X_train_scaled=std_scaler.transform(X_train)"
   ]
  },
  {
   "cell_type": "code",
   "execution_count": 141,
   "id": "afdb6ed4",
   "metadata": {},
   "outputs": [
    {
     "data": {
      "text/plain": [
       "(15117, 7)"
      ]
     },
     "execution_count": 141,
     "metadata": {},
     "output_type": "execute_result"
    }
   ],
   "source": [
    "X_train.shape"
   ]
  },
  {
   "cell_type": "code",
   "execution_count": 142,
   "id": "4a72b5e1",
   "metadata": {},
   "outputs": [
    {
     "data": {
      "text/plain": [
       "(6480, 7)"
      ]
     },
     "execution_count": 142,
     "metadata": {},
     "output_type": "execute_result"
    }
   ],
   "source": [
    "X_test_scaled=std_scaler.transform(X_test)\n",
    "X_test_scaled.shape"
   ]
  },
  {
   "cell_type": "markdown",
   "id": "adc28250",
   "metadata": {},
   "source": [
    "## Linear Regression"
   ]
  },
  {
   "cell_type": "code",
   "execution_count": 143,
   "id": "bb43c463",
   "metadata": {},
   "outputs": [
    {
     "name": "stdout",
     "output_type": "stream",
     "text": [
      "                            OLS Regression Results                            \n",
      "==============================================================================\n",
      "Dep. Variable:                  price   R-squared:                       0.440\n",
      "Model:                            OLS   Adj. R-squared:                  0.440\n",
      "Method:                 Least Squares   F-statistic:                     1698.\n",
      "Date:                Wed, 20 Apr 2022   Prob (F-statistic):               0.00\n",
      "Time:                        13:56:36   Log-Likelihood:            -2.1049e+05\n",
      "No. Observations:               15117   AIC:                         4.210e+05\n",
      "Df Residuals:                   15109   BIC:                         4.211e+05\n",
      "Df Model:                           7                                         \n",
      "Covariance Type:            nonrobust                                         \n",
      "==============================================================================\n",
      "                 coef    std err          t      P>|t|      [0.025      0.975]\n",
      "------------------------------------------------------------------------------\n",
      "const       5.427e+05   2194.709    247.269      0.000    5.38e+05    5.47e+05\n",
      "x1            1.9e+05   3649.676     52.049      0.000    1.83e+05    1.97e+05\n",
      "x2          -3.54e+04   5858.049     -6.042      0.000   -4.69e+04   -2.39e+04\n",
      "x3         -5.807e+04   2562.897    -22.659      0.000   -6.31e+04    -5.3e+04\n",
      "x4          7097.0905   2424.621      2.927      0.003    2344.539    1.18e+04\n",
      "x5         -2.005e+04   2269.159     -8.837      0.000   -2.45e+04   -1.56e+04\n",
      "x6          8.748e+04   3429.167     25.509      0.000    8.08e+04    9.42e+04\n",
      "x7         -6846.9083   5793.384     -1.182      0.237   -1.82e+04    4508.826\n",
      "==============================================================================\n",
      "Omnibus:                    12232.955   Durbin-Watson:                   2.028\n",
      "Prob(Omnibus):                  0.000   Jarque-Bera (JB):           596476.511\n",
      "Skew:                           3.539   Prob(JB):                         0.00\n",
      "Kurtosis:                      32.948   Cond. No.                         5.93\n",
      "==============================================================================\n",
      "\n",
      "Notes:\n",
      "[1] Standard Errors assume that the covariance matrix of the errors is correctly specified.\n"
     ]
    }
   ],
   "source": [
    "X_train_const_scaled = sm.add_constant(X_train_scaled) # adding a constant\n",
    "\n",
    "model = sm.OLS(y_train, X_train_const_scaled).fit()\n",
    "predictions_train = model.predict(X_train_const_scaled) \n",
    "\n",
    "X_test_const_scaled = sm.add_constant(X_test_scaled) # adding a constant\n",
    "predictions_test = model.predict(X_test_const_scaled) \n",
    "print_model = model.summary()\n",
    "print(print_model)"
   ]
  },
  {
   "cell_type": "code",
   "execution_count": 144,
   "id": "34169886",
   "metadata": {
    "scrolled": true
   },
   "outputs": [
    {
     "data": {
      "text/plain": [
       "LinearRegression()"
      ]
     },
     "execution_count": 144,
     "metadata": {},
     "output_type": "execute_result"
    }
   ],
   "source": [
    "model=LinearRegression()    # model\n",
    "model.fit(X_train_scaled, y_train)   # model train"
   ]
  },
  {
   "cell_type": "code",
   "execution_count": 145,
   "id": "d3b47555",
   "metadata": {},
   "outputs": [
    {
     "data": {
      "text/plain": [
       "array([189962.25142211, -35395.28878474, -58071.92355069,   7097.09050248,\n",
       "       -20052.35071363,  87475.9253914 ,  -6846.90827701])"
      ]
     },
     "execution_count": 145,
     "metadata": {},
     "output_type": "execute_result"
    }
   ],
   "source": [
    "model.coef_"
   ]
  },
  {
   "cell_type": "code",
   "execution_count": 146,
   "id": "5032a17c",
   "metadata": {},
   "outputs": [],
   "source": [
    "y_pred=model.predict(X_test_scaled)   # model prediction\n",
    "\n",
    "y_pred_train=model.predict(X_train_scaled)"
   ]
  },
  {
   "cell_type": "code",
   "execution_count": 147,
   "id": "c7b356ab",
   "metadata": {
    "scrolled": true
   },
   "outputs": [],
   "source": [
    "result=pd.DataFrame({\"y_test\":y_test,\"y_pred\":y_pred})"
   ]
  },
  {
   "cell_type": "code",
   "execution_count": 148,
   "id": "5f0a8b42",
   "metadata": {},
   "outputs": [
    {
     "data": {
      "text/plain": [
       "[<matplotlib.lines.Line2D at 0x215c8410d00>]"
      ]
     },
     "execution_count": 148,
     "metadata": {},
     "output_type": "execute_result"
    },
    {
     "data": {
      "image/png": "[encoded data removed]",
      "text/plain": [
       "<Figure size 1008x288 with 3 Axes>"
      ]
     },
     "metadata": {
      "needs_background": "light"
     },
     "output_type": "display_data"
    }
   ],
   "source": [
    "# Make an scatter plot y_pred vs y\n",
    "# What kind of plot you will get if all the all the predictions are ok?\n",
    "# A stright line\n",
    "\n",
    "fig, ax = plt.subplots(1,3,figsize=(14,4))\n",
    "ax[0].plot(y_pred, y_test, 'o')\n",
    "ax[0].set_xlabel(\"y_test\")\n",
    "ax[0].set_ylabel(\"y_pred\")\n",
    "ax[0].set_title(\"Test Set -Predicted vs real\")\n",
    "\n",
    "# Get a histogram of the residuals ie: y - y_pred.  Homoscdasticity\n",
    "# It resembles a normal distribution?\n",
    "ax[1].hist(y_test - y_pred)\n",
    "ax[1].set_xlabel(\"Test y-y_pred\")\n",
    "ax[1].set_title(\"Test Set Residual histogram\")\n",
    "\n",
    "ax[2].plot(y_pred,y_test - y_pred,\"o\")\n",
    "ax[2].set_xlabel(\"predicted\")\n",
    "ax[2].set_ylabel(\"residuals\")\n",
    "ax[2].set_title(\"Residuals by Predicted\")\n",
    "ax[2].plot(y_pred,np.zeros(len(y_pred)),linestyle='dashed')"
   ]
  },
  {
   "cell_type": "code",
   "execution_count": 149,
   "id": "9eb60cb6",
   "metadata": {
    "scrolled": true
   },
   "outputs": [
    {
     "name": "stdout",
     "output_type": "stream",
     "text": [
      "MSE test:  86976369332.80841\n",
      "MAE test:  178063.72416025482\n",
      "MSE train:  72776224693.40318\n",
      "RMSE test:  421.975975809352\n",
      "R2_test:  0.4059649735418869\n",
      "R2_train:  0.4402705379315587\n",
      "MSE train - MSE test:  -14200144639.405228\n",
      "R2_test/R2_train:  0.9220807175723289\n",
      "Adj_R2: 0.4053224758309464\n"
     ]
    }
   ],
   "source": [
    "print('MSE test: ',  mse(y_test,y_pred))\n",
    "print('MAE test: ', mae(y_test,y_pred))\n",
    "print('MSE train: ', mse(y_train,y_pred_train))\n",
    "print('RMSE test: ', np.sqrt(mae(y_test,y_pred)))\n",
    "R2_test=model.score(X_test_scaled,y_test)\n",
    "R2_train=model.score(X_train_scaled,y_train)\n",
    "print('R2_test: ', R2_test)\n",
    "print('R2_train: ', R2_train)\n",
    "\n",
    "print('MSE train - MSE test: ', mse(y_train,y_pred_train) - mse(y_test,y_pred) )\n",
    "print('R2_test/R2_train: ', R2_test/R2_train )\n",
    "Adj_R2= 1 - (1-R2_test)*(len(y_test)-1)/(len(y_test)-X_test.shape[1]-1)\n",
    "print('Adj_R2:', Adj_R2)"
   ]
  },
  {
   "cell_type": "code",
   "execution_count": 150,
   "id": "a7d1f50d",
   "metadata": {},
   "outputs": [],
   "source": [
    "features_importances = pd.DataFrame(data={\n",
    "    'Attribute': X_train.columns,\n",
    "    'Importance': abs(model.coef_)\n",
    "})\n",
    "features_importances = features_importances.sort_values(by='Importance', ascending=False)"
   ]
  },
  {
   "cell_type": "code",
   "execution_count": 151,
   "id": "e46fcc0d",
   "metadata": {},
   "outputs": [
    {
     "data": {
      "text/html": [
       "<div>\n",
       "<style scoped>\n",
       "    .dataframe tbody tr th:only-of-type {\n",
       "        vertical-align: middle;\n",
       "    }\n",
       "\n",
       "    .dataframe tbody tr th {\n",
       "        vertical-align: top;\n",
       "    }\n",
       "\n",
       "    .dataframe thead th {\n",
       "        text-align: right;\n",
       "    }\n",
       "</style>\n",
       "<table border=\"1\" class=\"dataframe\">\n",
       "  <thead>\n",
       "    <tr style=\"text-align: right;\">\n",
       "      <th></th>\n",
       "      <th>Attribute</th>\n",
       "      <th>Importance</th>\n",
       "    </tr>\n",
       "  </thead>\n",
       "  <tbody>\n",
       "    <tr>\n",
       "      <th>0</th>\n",
       "      <td>sqft_living_transformed</td>\n",
       "      <td>189962.251422</td>\n",
       "    </tr>\n",
       "    <tr>\n",
       "      <th>5</th>\n",
       "      <td>sqft_living15_transformed</td>\n",
       "      <td>87475.925391</td>\n",
       "    </tr>\n",
       "    <tr>\n",
       "      <th>2</th>\n",
       "      <td>yr_built_transformed</td>\n",
       "      <td>58071.923551</td>\n",
       "    </tr>\n",
       "    <tr>\n",
       "      <th>1</th>\n",
       "      <td>sqft_lot_transformed</td>\n",
       "      <td>35395.288785</td>\n",
       "    </tr>\n",
       "    <tr>\n",
       "      <th>4</th>\n",
       "      <td>yrs_since_ren_transformed</td>\n",
       "      <td>20052.350714</td>\n",
       "    </tr>\n",
       "    <tr>\n",
       "      <th>3</th>\n",
       "      <td>sqft_basement_transformed</td>\n",
       "      <td>7097.090502</td>\n",
       "    </tr>\n",
       "    <tr>\n",
       "      <th>6</th>\n",
       "      <td>sqft_lot15_transformed</td>\n",
       "      <td>6846.908277</td>\n",
       "    </tr>\n",
       "  </tbody>\n",
       "</table>\n",
       "</div>"
      ],
      "text/plain": [
       "                   Attribute     Importance\n",
       "0    sqft_living_transformed  189962.251422\n",
       "5  sqft_living15_transformed   87475.925391\n",
       "2       yr_built_transformed   58071.923551\n",
       "1       sqft_lot_transformed   35395.288785\n",
       "4  yrs_since_ren_transformed   20052.350714\n",
       "3  sqft_basement_transformed    7097.090502\n",
       "6     sqft_lot15_transformed    6846.908277"
      ]
     },
     "execution_count": 151,
     "metadata": {},
     "output_type": "execute_result"
    }
   ],
   "source": [
    "features_importances"
   ]
  },
  {
   "cell_type": "code",
   "execution_count": 152,
   "id": "2bec413f",
   "metadata": {},
   "outputs": [
    {
     "data": {
      "image/png": "[encoded data removed]",
      "text/plain": [
       "<Figure size 432x288 with 1 Axes>"
      ]
     },
     "metadata": {
      "needs_background": "light"
     },
     "output_type": "display_data"
    }
   ],
   "source": [
    "plt.bar(x=features_importances['Attribute'], height=features_importances['Importance'], color='#087E8B')\n",
    "plt.title('Feature importances obtained from coefficients', size=20)\n",
    "plt.xticks(rotation='vertical')\n",
    "plt.show()"
   ]
  },
  {
   "cell_type": "markdown",
   "id": "43e9d3c1",
   "metadata": {},
   "source": [
    "## 2nd model including categorical variables"
   ]
  },
  {
   "cell_type": "code",
   "execution_count": 153,
   "id": "f7df0d05",
   "metadata": {},
   "outputs": [
    {
     "name": "stdout",
     "output_type": "stream",
     "text": [
      "Index(['sqft_living_transformed', 'sqft_lot_transformed',\n",
      "       'yr_built_transformed', 'sqft_basement_transformed',\n",
      "       'yrs_since_ren_transformed', 'sqft_living15_transformed',\n",
      "       'sqft_lot15_transformed', 'bedrooms_2', 'bedrooms_3', 'bedrooms_4',\n",
      "       ...\n",
      "       'zipcode_98146', 'zipcode_98148', 'zipcode_98155', 'zipcode_98166',\n",
      "       'zipcode_98168', 'zipcode_98177', 'zipcode_98178', 'zipcode_98188',\n",
      "       'zipcode_98198', 'zipcode_98199'],\n",
      "      dtype='object', length=139)\n"
     ]
    }
   ],
   "source": [
    "def Xy_split(df, output_col):\n",
    "    \"\"\" Split the dataset into:\n",
    "        X = dataframe of input variables\n",
    "        y = predicted variable\n",
    "    \"\"\"\n",
    "    X=df.drop(output_col, axis=1)\n",
    "    y=df[output_col]\n",
    "    print(X.columns)\n",
    "    return X, y\n",
    "\n",
    "X,y = Xy_split(hp_df, 'price') "
   ]
  },
  {
   "cell_type": "code",
   "execution_count": 154,
   "id": "acf1c902",
   "metadata": {},
   "outputs": [],
   "source": [
    "X_train, X_test, y_train, y_test=train_test_split(X, y, test_size=.30,random_state=100)"
   ]
  },
  {
   "cell_type": "code",
   "execution_count": 155,
   "id": "cd08d3f9",
   "metadata": {},
   "outputs": [
    {
     "data": {
      "text/plain": [
       "(6480, 7)"
      ]
     },
     "execution_count": 155,
     "metadata": {},
     "output_type": "execute_result"
    }
   ],
   "source": [
    "std_scaler=StandardScaler().fit(X_train.select_dtypes(['int', 'float64']))   ##. finding the parameters ( mean, variance from the training set )\n",
    "                                            ## \n",
    "X_train_scaled=std_scaler.transform(X_train.select_dtypes(['int', 'float64']))\n",
    "\n",
    "X_test_scaled=std_scaler.transform(X_test.select_dtypes(['int', 'float64']))\n",
    "X_test_scaled.shape"
   ]
  },
  {
   "cell_type": "code",
   "execution_count": 156,
   "id": "af99d0e4",
   "metadata": {},
   "outputs": [
    {
     "data": {
      "text/html": [
       "<div>\n",
       "<style scoped>\n",
       "    .dataframe tbody tr th:only-of-type {\n",
       "        vertical-align: middle;\n",
       "    }\n",
       "\n",
       "    .dataframe tbody tr th {\n",
       "        vertical-align: top;\n",
       "    }\n",
       "\n",
       "    .dataframe thead th {\n",
       "        text-align: right;\n",
       "    }\n",
       "</style>\n",
       "<table border=\"1\" class=\"dataframe\">\n",
       "  <thead>\n",
       "    <tr style=\"text-align: right;\">\n",
       "      <th></th>\n",
       "      <th>sqft_living_transformed</th>\n",
       "      <th>sqft_lot_transformed</th>\n",
       "      <th>yr_built_transformed</th>\n",
       "      <th>sqft_basement_transformed</th>\n",
       "      <th>yrs_since_ren_transformed</th>\n",
       "      <th>sqft_living15_transformed</th>\n",
       "      <th>sqft_lot15_transformed</th>\n",
       "      <th>bedrooms_2</th>\n",
       "      <th>bedrooms_3</th>\n",
       "      <th>bedrooms_4</th>\n",
       "      <th>...</th>\n",
       "      <th>zipcode_98146</th>\n",
       "      <th>zipcode_98148</th>\n",
       "      <th>zipcode_98155</th>\n",
       "      <th>zipcode_98166</th>\n",
       "      <th>zipcode_98168</th>\n",
       "      <th>zipcode_98177</th>\n",
       "      <th>zipcode_98178</th>\n",
       "      <th>zipcode_98188</th>\n",
       "      <th>zipcode_98198</th>\n",
       "      <th>zipcode_98199</th>\n",
       "    </tr>\n",
       "  </thead>\n",
       "  <tbody>\n",
       "    <tr>\n",
       "      <th>8816</th>\n",
       "      <td>0.132113</td>\n",
       "      <td>-0.079120</td>\n",
       "      <td>0.069056</td>\n",
       "      <td>1.068522</td>\n",
       "      <td>5.199338</td>\n",
       "      <td>0.161281</td>\n",
       "      <td>-0.101796</td>\n",
       "      <td>0</td>\n",
       "      <td>1</td>\n",
       "      <td>0</td>\n",
       "      <td>...</td>\n",
       "      <td>0</td>\n",
       "      <td>0</td>\n",
       "      <td>0</td>\n",
       "      <td>0</td>\n",
       "      <td>0</td>\n",
       "      <td>0</td>\n",
       "      <td>0</td>\n",
       "      <td>0</td>\n",
       "      <td>0</td>\n",
       "      <td>0</td>\n",
       "    </tr>\n",
       "    <tr>\n",
       "      <th>15679</th>\n",
       "      <td>0.153660</td>\n",
       "      <td>-0.429351</td>\n",
       "      <td>-1.844811</td>\n",
       "      <td>0.601439</td>\n",
       "      <td>5.199338</td>\n",
       "      <td>-0.096753</td>\n",
       "      <td>-1.128144</td>\n",
       "      <td>0</td>\n",
       "      <td>1</td>\n",
       "      <td>0</td>\n",
       "      <td>...</td>\n",
       "      <td>0</td>\n",
       "      <td>0</td>\n",
       "      <td>0</td>\n",
       "      <td>0</td>\n",
       "      <td>0</td>\n",
       "      <td>0</td>\n",
       "      <td>0</td>\n",
       "      <td>0</td>\n",
       "      <td>0</td>\n",
       "      <td>0</td>\n",
       "    </tr>\n",
       "    <tr>\n",
       "      <th>3091</th>\n",
       "      <td>0.165095</td>\n",
       "      <td>-0.052435</td>\n",
       "      <td>0.439001</td>\n",
       "      <td>-5.199338</td>\n",
       "      <td>5.199338</td>\n",
       "      <td>0.809168</td>\n",
       "      <td>0.049486</td>\n",
       "      <td>0</td>\n",
       "      <td>1</td>\n",
       "      <td>0</td>\n",
       "      <td>...</td>\n",
       "      <td>0</td>\n",
       "      <td>0</td>\n",
       "      <td>0</td>\n",
       "      <td>0</td>\n",
       "      <td>0</td>\n",
       "      <td>0</td>\n",
       "      <td>0</td>\n",
       "      <td>0</td>\n",
       "      <td>0</td>\n",
       "      <td>0</td>\n",
       "    </tr>\n",
       "    <tr>\n",
       "      <th>4410</th>\n",
       "      <td>0.269184</td>\n",
       "      <td>1.424313</td>\n",
       "      <td>0.513491</td>\n",
       "      <td>-5.199338</td>\n",
       "      <td>5.199338</td>\n",
       "      <td>0.243255</td>\n",
       "      <td>0.803958</td>\n",
       "      <td>0</td>\n",
       "      <td>1</td>\n",
       "      <td>0</td>\n",
       "      <td>...</td>\n",
       "      <td>0</td>\n",
       "      <td>0</td>\n",
       "      <td>0</td>\n",
       "      <td>0</td>\n",
       "      <td>0</td>\n",
       "      <td>0</td>\n",
       "      <td>0</td>\n",
       "      <td>1</td>\n",
       "      <td>0</td>\n",
       "      <td>0</td>\n",
       "    </tr>\n",
       "    <tr>\n",
       "      <th>14938</th>\n",
       "      <td>-1.968165</td>\n",
       "      <td>2.683605</td>\n",
       "      <td>-1.152175</td>\n",
       "      <td>-5.199338</td>\n",
       "      <td>-2.325972</td>\n",
       "      <td>-0.457033</td>\n",
       "      <td>0.192717</td>\n",
       "      <td>1</td>\n",
       "      <td>0</td>\n",
       "      <td>0</td>\n",
       "      <td>...</td>\n",
       "      <td>0</td>\n",
       "      <td>0</td>\n",
       "      <td>0</td>\n",
       "      <td>0</td>\n",
       "      <td>0</td>\n",
       "      <td>0</td>\n",
       "      <td>0</td>\n",
       "      <td>0</td>\n",
       "      <td>0</td>\n",
       "      <td>0</td>\n",
       "    </tr>\n",
       "    <tr>\n",
       "      <th>...</th>\n",
       "      <td>...</td>\n",
       "      <td>...</td>\n",
       "      <td>...</td>\n",
       "      <td>...</td>\n",
       "      <td>...</td>\n",
       "      <td>...</td>\n",
       "      <td>...</td>\n",
       "      <td>...</td>\n",
       "      <td>...</td>\n",
       "      <td>...</td>\n",
       "      <td>...</td>\n",
       "      <td>...</td>\n",
       "      <td>...</td>\n",
       "      <td>...</td>\n",
       "      <td>...</td>\n",
       "      <td>...</td>\n",
       "      <td>...</td>\n",
       "      <td>...</td>\n",
       "      <td>...</td>\n",
       "      <td>...</td>\n",
       "      <td>...</td>\n",
       "    </tr>\n",
       "    <tr>\n",
       "      <th>16304</th>\n",
       "      <td>-0.084155</td>\n",
       "      <td>1.127559</td>\n",
       "      <td>0.439001</td>\n",
       "      <td>-5.199338</td>\n",
       "      <td>5.199338</td>\n",
       "      <td>0.104318</td>\n",
       "      <td>1.199046</td>\n",
       "      <td>0</td>\n",
       "      <td>1</td>\n",
       "      <td>0</td>\n",
       "      <td>...</td>\n",
       "      <td>0</td>\n",
       "      <td>0</td>\n",
       "      <td>0</td>\n",
       "      <td>0</td>\n",
       "      <td>0</td>\n",
       "      <td>0</td>\n",
       "      <td>0</td>\n",
       "      <td>0</td>\n",
       "      <td>0</td>\n",
       "      <td>0</td>\n",
       "    </tr>\n",
       "    <tr>\n",
       "      <th>79</th>\n",
       "      <td>1.425011</td>\n",
       "      <td>1.585639</td>\n",
       "      <td>0.875354</td>\n",
       "      <td>-5.199338</td>\n",
       "      <td>5.199338</td>\n",
       "      <td>1.684464</td>\n",
       "      <td>1.697533</td>\n",
       "      <td>0</td>\n",
       "      <td>0</td>\n",
       "      <td>1</td>\n",
       "      <td>...</td>\n",
       "      <td>0</td>\n",
       "      <td>0</td>\n",
       "      <td>0</td>\n",
       "      <td>0</td>\n",
       "      <td>0</td>\n",
       "      <td>0</td>\n",
       "      <td>0</td>\n",
       "      <td>0</td>\n",
       "      <td>0</td>\n",
       "      <td>0</td>\n",
       "    </tr>\n",
       "    <tr>\n",
       "      <th>12119</th>\n",
       "      <td>-0.338834</td>\n",
       "      <td>0.551527</td>\n",
       "      <td>-0.186756</td>\n",
       "      <td>0.670557</td>\n",
       "      <td>5.199338</td>\n",
       "      <td>-0.502074</td>\n",
       "      <td>0.624145</td>\n",
       "      <td>0</td>\n",
       "      <td>1</td>\n",
       "      <td>0</td>\n",
       "      <td>...</td>\n",
       "      <td>0</td>\n",
       "      <td>0</td>\n",
       "      <td>0</td>\n",
       "      <td>0</td>\n",
       "      <td>0</td>\n",
       "      <td>0</td>\n",
       "      <td>0</td>\n",
       "      <td>0</td>\n",
       "      <td>0</td>\n",
       "      <td>0</td>\n",
       "    </tr>\n",
       "    <tr>\n",
       "      <th>14147</th>\n",
       "      <td>-0.015055</td>\n",
       "      <td>1.176446</td>\n",
       "      <td>-0.143512</td>\n",
       "      <td>0.752997</td>\n",
       "      <td>5.199338</td>\n",
       "      <td>0.116941</td>\n",
       "      <td>1.161976</td>\n",
       "      <td>0</td>\n",
       "      <td>1</td>\n",
       "      <td>0</td>\n",
       "      <td>...</td>\n",
       "      <td>0</td>\n",
       "      <td>0</td>\n",
       "      <td>0</td>\n",
       "      <td>0</td>\n",
       "      <td>0</td>\n",
       "      <td>0</td>\n",
       "      <td>0</td>\n",
       "      <td>0</td>\n",
       "      <td>0</td>\n",
       "      <td>0</td>\n",
       "    </tr>\n",
       "    <tr>\n",
       "      <th>5640</th>\n",
       "      <td>1.431971</td>\n",
       "      <td>-0.574595</td>\n",
       "      <td>1.744448</td>\n",
       "      <td>0.764710</td>\n",
       "      <td>5.199338</td>\n",
       "      <td>0.074087</td>\n",
       "      <td>-0.579039</td>\n",
       "      <td>0</td>\n",
       "      <td>0</td>\n",
       "      <td>0</td>\n",
       "      <td>...</td>\n",
       "      <td>0</td>\n",
       "      <td>0</td>\n",
       "      <td>0</td>\n",
       "      <td>0</td>\n",
       "      <td>0</td>\n",
       "      <td>0</td>\n",
       "      <td>0</td>\n",
       "      <td>0</td>\n",
       "      <td>0</td>\n",
       "      <td>0</td>\n",
       "    </tr>\n",
       "  </tbody>\n",
       "</table>\n",
       "<p>15117 rows × 139 columns</p>\n",
       "</div>"
      ],
      "text/plain": [
       "       sqft_living_transformed  sqft_lot_transformed  yr_built_transformed  \\\n",
       "8816                  0.132113             -0.079120              0.069056   \n",
       "15679                 0.153660             -0.429351             -1.844811   \n",
       "3091                  0.165095             -0.052435              0.439001   \n",
       "4410                  0.269184              1.424313              0.513491   \n",
       "14938                -1.968165              2.683605             -1.152175   \n",
       "...                        ...                   ...                   ...   \n",
       "16304                -0.084155              1.127559              0.439001   \n",
       "79                    1.425011              1.585639              0.875354   \n",
       "12119                -0.338834              0.551527             -0.186756   \n",
       "14147                -0.015055              1.176446             -0.143512   \n",
       "5640                  1.431971             -0.574595              1.744448   \n",
       "\n",
       "       sqft_basement_transformed  yrs_since_ren_transformed  \\\n",
       "8816                    1.068522                   5.199338   \n",
       "15679                   0.601439                   5.199338   \n",
       "3091                   -5.199338                   5.199338   \n",
       "4410                   -5.199338                   5.199338   \n",
       "14938                  -5.199338                  -2.325972   \n",
       "...                          ...                        ...   \n",
       "16304                  -5.199338                   5.199338   \n",
       "79                     -5.199338                   5.199338   \n",
       "12119                   0.670557                   5.199338   \n",
       "14147                   0.752997                   5.199338   \n",
       "5640                    0.764710                   5.199338   \n",
       "\n",
       "       sqft_living15_transformed  sqft_lot15_transformed  bedrooms_2  \\\n",
       "8816                    0.161281               -0.101796           0   \n",
       "15679                  -0.096753               -1.128144           0   \n",
       "3091                    0.809168                0.049486           0   \n",
       "4410                    0.243255                0.803958           0   \n",
       "14938                  -0.457033                0.192717           1   \n",
       "...                          ...                     ...         ...   \n",
       "16304                   0.104318                1.199046           0   \n",
       "79                      1.684464                1.697533           0   \n",
       "12119                  -0.502074                0.624145           0   \n",
       "14147                   0.116941                1.161976           0   \n",
       "5640                    0.074087               -0.579039           0   \n",
       "\n",
       "       bedrooms_3  bedrooms_4  ...  zipcode_98146  zipcode_98148  \\\n",
       "8816            1           0  ...              0              0   \n",
       "15679           1           0  ...              0              0   \n",
       "3091            1           0  ...              0              0   \n",
       "4410            1           0  ...              0              0   \n",
       "14938           0           0  ...              0              0   \n",
       "...           ...         ...  ...            ...            ...   \n",
       "16304           1           0  ...              0              0   \n",
       "79              0           1  ...              0              0   \n",
       "12119           1           0  ...              0              0   \n",
       "14147           1           0  ...              0              0   \n",
       "5640            0           0  ...              0              0   \n",
       "\n",
       "       zipcode_98155  zipcode_98166  zipcode_98168  zipcode_98177  \\\n",
       "8816               0              0              0              0   \n",
       "15679              0              0              0              0   \n",
       "3091               0              0              0              0   \n",
       "4410               0              0              0              0   \n",
       "14938              0              0              0              0   \n",
       "...              ...            ...            ...            ...   \n",
       "16304              0              0              0              0   \n",
       "79                 0              0              0              0   \n",
       "12119              0              0              0              0   \n",
       "14147              0              0              0              0   \n",
       "5640               0              0              0              0   \n",
       "\n",
       "       zipcode_98178  zipcode_98188  zipcode_98198  zipcode_98199  \n",
       "8816               0              0              0              0  \n",
       "15679              0              0              0              0  \n",
       "3091               0              0              0              0  \n",
       "4410               0              1              0              0  \n",
       "14938              0              0              0              0  \n",
       "...              ...            ...            ...            ...  \n",
       "16304              0              0              0              0  \n",
       "79                 0              0              0              0  \n",
       "12119              0              0              0              0  \n",
       "14147              0              0              0              0  \n",
       "5640               0              0              0              0  \n",
       "\n",
       "[15117 rows x 139 columns]"
      ]
     },
     "execution_count": 156,
     "metadata": {},
     "output_type": "execute_result"
    }
   ],
   "source": [
    "X_train"
   ]
  },
  {
   "cell_type": "code",
   "execution_count": 157,
   "id": "df85e8d2",
   "metadata": {},
   "outputs": [
    {
     "name": "stdout",
     "output_type": "stream",
     "text": [
      "(15117, 139) (6480, 139)\n"
     ]
    }
   ],
   "source": [
    "X_train_scaled = np.concatenate((X_train_scaled, np.asarray(X_train[list(cat_features.columns)])), axis = 1) \n",
    "\n",
    "X_test_scaled = np.concatenate((X_test_scaled, np.asarray(X_test[list(cat_features.columns)])), axis =1)\n",
    "print(X_train_scaled.shape, X_test_scaled.shape)"
   ]
  },
  {
   "cell_type": "code",
   "execution_count": 158,
   "id": "04026b3f",
   "metadata": {
    "scrolled": true
   },
   "outputs": [
    {
     "name": "stdout",
     "output_type": "stream",
     "text": [
      "(15117,) (6480,)\n"
     ]
    }
   ],
   "source": [
    "print(y_train.shape, y_test.shape)"
   ]
  },
  {
   "cell_type": "code",
   "execution_count": 159,
   "id": "ef2860c1",
   "metadata": {
    "scrolled": false
   },
   "outputs": [
    {
     "data": {
      "text/plain": [
       "[<matplotlib.lines.Line2D at 0x215c8399b20>]"
      ]
     },
     "execution_count": 159,
     "metadata": {},
     "output_type": "execute_result"
    },
    {
     "data": {
      "image/png": "[encoded data removed]",
      "text/plain": [
       "<Figure size 1008x288 with 3 Axes>"
      ]
     },
     "metadata": {
      "needs_background": "light"
     },
     "output_type": "display_data"
    }
   ],
   "source": [
    "model=LinearRegression()    # model\n",
    "model.fit(X_train_scaled, y_train) \n",
    "\n",
    "\n",
    "y_pred=model.predict(X_test_scaled)   # model prediction\n",
    "y_pred_train=model.predict(X_train_scaled)\n",
    "\n",
    "\n",
    "result=pd.DataFrame({\"y_test\":y_test,\"y_pred\":y_pred})\n",
    "\n",
    "\n",
    "# Make an scatter plot y_pred vs y\n",
    "# What kind of plot you will get if all the all the predictions are ok?\n",
    "# A stright line\n",
    "\n",
    "fig, ax = plt.subplots(1,3,figsize=(14,4))\n",
    "ax[0].plot(y_pred, y_test, 'o')\n",
    "ax[0].set_xlabel(\"y_test\")\n",
    "ax[0].set_ylabel(\"y_pred\")\n",
    "ax[0].set_title(\"Test Set -Predicted vs real\")\n",
    "\n",
    "# Get a histogram of the residuals ie: y - y_pred.  Homoscdasticity\n",
    "# It resembles a normal distribution?\n",
    "ax[1].hist(y_test - y_pred)\n",
    "ax[1].set_xlabel(\"Test y-y_pred\")\n",
    "ax[1].set_title(\"Test Set Residual histogram\")\n",
    "\n",
    "ax[2].plot(y_pred,y_test - y_pred,\"o\")\n",
    "ax[2].set_xlabel(\"predicted\")\n",
    "ax[2].set_ylabel(\"residuals\")\n",
    "ax[2].set_title(\"Residuals by Predicted\")\n",
    "ax[2].plot(y_pred,np.zeros(len(y_pred)),linestyle='dashed')"
   ]
  },
  {
   "cell_type": "code",
   "execution_count": 160,
   "id": "f87c7260",
   "metadata": {},
   "outputs": [
    {
     "data": {
      "text/plain": [
       "7189      900000\n",
       "2751      346950\n",
       "17077     305000\n",
       "15151     507000\n",
       "985       283000\n",
       "          ...   \n",
       "11524     550000\n",
       "20461     355000\n",
       "4102     1040000\n",
       "3415      245000\n",
       "12154     718000\n",
       "Name: price, Length: 6480, dtype: int64"
      ]
     },
     "execution_count": 160,
     "metadata": {},
     "output_type": "execute_result"
    }
   ],
   "source": [
    "y_test"
   ]
  },
  {
   "cell_type": "code",
   "execution_count": 161,
   "id": "f2ce0170",
   "metadata": {},
   "outputs": [],
   "source": [
    "#sns.jointplot(y_pred, y_test)"
   ]
  },
  {
   "cell_type": "code",
   "execution_count": 162,
   "id": "1cd46ec8",
   "metadata": {},
   "outputs": [],
   "source": [
    "#sns.jointplot(x=y_pred,y = (y_test - y_pred))"
   ]
  },
  {
   "cell_type": "code",
   "execution_count": 163,
   "id": "600ab2c9",
   "metadata": {},
   "outputs": [
    {
     "name": "stdout",
     "output_type": "stream",
     "text": [
      "MSE test:  1.0011409557084133e+31\n",
      "MAE test:  39306114253977.6\n",
      "MSE train:  21325000664.95451\n",
      "RMSE test:  6269458.8485751785\n",
      "R2_test:  -6.837636460047269e+19\n",
      "R2_train:  0.8359872169641949\n",
      "MSE train - MSE test:  -1.0011409557084133e+31\n",
      "R2_test/R2_train:  -8.179116045431259e+19\n",
      "Adj_R2: -6.987546786221807e+19\n"
     ]
    }
   ],
   "source": [
    "print('MSE test: ',  mse(y_test,y_pred))\n",
    "print('MAE test: ', mae(y_test,y_pred))\n",
    "print('MSE train: ', mse(y_train,y_pred_train))\n",
    "print('RMSE test: ', np.sqrt(mae(y_test,y_pred)))\n",
    "R2_test=model.score(X_test_scaled,y_test)\n",
    "R2_train=model.score(X_train_scaled,y_train)\n",
    "print('R2_test: ', R2_test)\n",
    "print('R2_train: ', R2_train)\n",
    "\n",
    "print('MSE train - MSE test: ', mse(y_train,y_pred_train) - mse(y_test,y_pred) )\n",
    "print('R2_test/R2_train: ', R2_test/R2_train )\n",
    "Adj_R2= 1 - (1-R2_test)*(len(y_test)-1)/(len(y_test)-X_test.shape[1]-1)\n",
    "print('Adj_R2:', Adj_R2)"
   ]
  },
  {
   "cell_type": "code",
   "execution_count": 164,
   "id": "f9153175",
   "metadata": {},
   "outputs": [
    {
     "data": {
      "image/png": "[encoded data removed]",
      "text/plain": [
       "<Figure size 432x288 with 1 Axes>"
      ]
     },
     "metadata": {
      "needs_background": "light"
     },
     "output_type": "display_data"
    }
   ],
   "source": [
    "features_importances = pd.DataFrame(data={\n",
    "    'Attribute': X_train.columns,\n",
    "    'Importance': abs(model.coef_)\n",
    "})\n",
    "features_importances = features_importances.sort_values(by='Importance', ascending=False)\n",
    "features_importances\n",
    "plt.bar(x=features_importances['Attribute'], height=features_importances['Importance'], color='#087E8B')\n",
    "plt.title('Feature importances obtained from coefficients', size=20)\n",
    "plt.xticks(rotation='vertical')\n",
    "plt.show()"
   ]
  },
  {
   "cell_type": "markdown",
   "id": "2a8030c3",
   "metadata": {},
   "source": [
    "## Get P-values from model \n",
    "\n",
    "To filter the significant columns we get the p-value from the linear regression. If it is higher than 0.5 the column is dropped."
   ]
  },
  {
   "cell_type": "code",
   "execution_count": 165,
   "id": "eb8758bc",
   "metadata": {},
   "outputs": [
    {
     "name": "stdout",
     "output_type": "stream",
     "text": [
      "                            OLS Regression Results                            \n",
      "==============================================================================\n",
      "Dep. Variable:                  price   R-squared:                       0.836\n",
      "Model:                            OLS   Adj. R-squared:                  0.834\n",
      "Method:                 Least Squares   F-statistic:                     553.2\n",
      "Date:                Wed, 20 Apr 2022   Prob (F-statistic):               0.00\n",
      "Time:                        13:56:42   Log-Likelihood:            -2.0122e+05\n",
      "No. Observations:               15117   AIC:                         4.027e+05\n",
      "Df Residuals:                   14978   BIC:                         4.038e+05\n",
      "Df Model:                         138                                         \n",
      "Covariance Type:            nonrobust                                         \n",
      "==============================================================================\n",
      "                 coef    std err          t      P>|t|      [0.025      0.975]\n",
      "------------------------------------------------------------------------------\n",
      "const       4.375e+05   1.85e+05      2.368      0.018    7.54e+04       8e+05\n",
      "x1          1.043e+05   3051.695     34.194      0.000    9.84e+04     1.1e+05\n",
      "x2          2.747e+04   3316.295      8.285      0.000     2.1e+04     3.4e+04\n",
      "x3          5511.9855   2045.011      2.695      0.007    1503.513    9520.458\n",
      "x4         -1.312e+04   1662.568     -7.891      0.000   -1.64e+04   -9860.165\n",
      "x5         -9947.6005   1287.239     -7.728      0.000   -1.25e+04   -7424.455\n",
      "x6          1.638e+04   2111.641      7.758      0.000    1.22e+04    2.05e+04\n",
      "x7         -9335.7585   3298.807     -2.830      0.005   -1.58e+04   -2869.692\n",
      "x8         -1.042e+04   1.36e+04     -0.768      0.442    -3.7e+04    1.62e+04\n",
      "x9         -1.673e+04   1.37e+04     -1.223      0.221   -4.36e+04    1.01e+04\n",
      "x10        -2.689e+04   1.41e+04     -1.913      0.056   -5.44e+04     662.402\n",
      "x11        -2.899e+04   1.48e+04     -1.956      0.051    -5.8e+04      63.653\n",
      "x12        -4.607e+04   1.81e+04     -2.548      0.011   -8.15e+04   -1.06e+04\n",
      "x13        -1.772e+05   3.37e+04     -5.256      0.000   -2.43e+05   -1.11e+05\n",
      "x14        -5.298e+04   4.77e+04     -1.112      0.266   -1.46e+05    4.04e+04\n",
      "x15        -1.445e+05   8.69e+04     -1.662      0.096   -3.15e+05    2.59e+04\n",
      "x16        -4.466e+05   1.07e+05     -4.164      0.000   -6.57e+05   -2.36e+05\n",
      "x17        -3.014e+04   1.48e+05     -0.204      0.839    -3.2e+05     2.6e+05\n",
      "x18         8947.4771   1.48e+05      0.061      0.952    -2.8e+05    2.98e+05\n",
      "x19        -6.588e+04   1.06e+05     -0.619      0.536   -2.75e+05    1.43e+05\n",
      "x20        -6530.9895   1.04e+05     -0.063      0.950   -2.11e+05    1.98e+05\n",
      "x21        -8.237e+04   1.18e+05     -0.697      0.486   -3.14e+05    1.49e+05\n",
      "x22        -2.542e+04   1.04e+05     -0.244      0.807    -2.3e+05    1.79e+05\n",
      "x23        -3.002e+04   1.04e+05     -0.288      0.773   -2.34e+05    1.74e+05\n",
      "x24        -3.117e+04   1.04e+05     -0.299      0.765   -2.36e+05    1.73e+05\n",
      "x25        -1.349e+04   1.04e+05     -0.129      0.897   -2.18e+05    1.91e+05\n",
      "x26        -1.917e+04   1.04e+05     -0.184      0.854   -2.23e+05    1.85e+05\n",
      "x27        -1.536e+04   1.04e+05     -0.147      0.883    -2.2e+05    1.89e+05\n",
      "x28         1.615e+04   1.04e+05      0.155      0.877   -1.89e+05    2.21e+05\n",
      "x29         6.882e+04   1.05e+05      0.658      0.510   -1.36e+05    2.74e+05\n",
      "x30         3.209e+04   1.04e+05      0.307      0.759   -1.73e+05    2.37e+05\n",
      "x31         1.181e+05   1.05e+05      1.122      0.262   -8.82e+04    3.24e+05\n",
      "x32         1.138e+05   1.05e+05      1.080      0.280   -9.27e+04     3.2e+05\n",
      "x33         2.802e+05   1.06e+05      2.639      0.008    7.21e+04    4.88e+05\n",
      "x34         1.717e+05   1.06e+05      1.622      0.105   -3.58e+04    3.79e+05\n",
      "x35         3.899e+05   1.11e+05      3.502      0.000    1.72e+05    6.08e+05\n",
      "x36         2.144e+05   1.11e+05      1.928      0.054   -3519.371    4.32e+05\n",
      "x37         3.537e+05   1.13e+05      3.143      0.002    1.33e+05    5.74e+05\n",
      "x38         7.789e+05   1.21e+05      6.443      0.000    5.42e+05    1.02e+06\n",
      "x39         7.124e+05   1.38e+05      5.151      0.000    4.41e+05    9.84e+05\n",
      "x40          8.97e+05   1.22e+05      7.359      0.000    6.58e+05    1.14e+06\n",
      "x41         1.106e+06   1.53e+05      7.214      0.000    8.06e+05    1.41e+06\n",
      "x42         2.898e+05   1.48e+05      1.959      0.050    -188.603     5.8e+05\n",
      "x43         7.474e+05   1.49e+05      5.023      0.000    4.56e+05    1.04e+06\n",
      "x44        -2.021e+05      2e+05     -1.012      0.312   -5.94e+05    1.89e+05\n",
      "x45         -1.38e-09   1.29e-09     -1.072      0.284    -3.9e-09    1.14e-09\n",
      "x46         2.436e+05   1.85e+05      1.318      0.188   -1.19e+05    6.06e+05\n",
      "x47        -1478.6337   4880.946     -0.303      0.762    -1.1e+04    8088.618\n",
      "x48        -1.452e+04   4269.914     -3.401      0.001   -2.29e+04   -6153.621\n",
      "x49         8.154e+04    1.5e+04      5.423      0.000    5.21e+04    1.11e+05\n",
      "x50         -6.18e+04   9378.665     -6.589      0.000   -8.02e+04   -4.34e+04\n",
      "x51         6.863e+04   5.64e+04      1.217      0.224   -4.19e+04    1.79e+05\n",
      "x52         6.099e+05   1.78e+04     34.240      0.000    5.75e+05    6.45e+05\n",
      "x53         1.048e+05   9717.342     10.781      0.000    8.57e+04    1.24e+05\n",
      "x54         6.581e+04   6103.563     10.782      0.000    5.38e+04    7.78e+04\n",
      "x55         1.585e+05   8247.760     19.213      0.000    1.42e+05    1.75e+05\n",
      "x56         2.513e+05   1.28e+04     19.578      0.000    2.26e+05    2.76e+05\n",
      "x57         1.469e+05   3.43e+04      4.280      0.000    7.96e+04    2.14e+05\n",
      "x58         1.517e+05   3.18e+04      4.767      0.000    8.93e+04    2.14e+05\n",
      "x59         1.765e+05   3.18e+04      5.543      0.000    1.14e+05    2.39e+05\n",
      "x60         2.322e+05   3.21e+04      7.244      0.000    1.69e+05    2.95e+05\n",
      "x61        -1.488e+05   1.51e+05     -0.984      0.325   -4.45e+05    1.48e+05\n",
      "x62        -2.654e+05   1.49e+05     -1.776      0.076   -5.58e+05    2.76e+04\n",
      "x63        -2.862e+05   1.49e+05     -1.917      0.055   -5.79e+05    6397.376\n",
      "x64        -2.909e+05   1.49e+05     -1.948      0.051   -5.84e+05    1799.212\n",
      "x65        -2.595e+05   1.49e+05     -1.737      0.082   -5.52e+05    3.34e+04\n",
      "x66        -1.606e+05   1.49e+05     -1.074      0.283   -4.54e+05    1.32e+05\n",
      "x67        -7525.8055    1.5e+05     -0.050      0.960   -3.01e+05    2.86e+05\n",
      "x68          1.81e+05    1.5e+05      1.208      0.227   -1.13e+05    4.75e+05\n",
      "x69          5.94e+05   1.51e+05      3.934      0.000    2.98e+05     8.9e+05\n",
      "x70          1.16e+06   1.72e+05      6.757      0.000    8.23e+05     1.5e+06\n",
      "x71         6464.0807   1.57e+04      0.412      0.680   -2.43e+04    3.72e+04\n",
      "x72         5472.5553   1.43e+04      0.384      0.701   -2.25e+04    3.34e+04\n",
      "x73         7.395e+05   1.37e+04     54.031      0.000    7.13e+05    7.66e+05\n",
      "x74         3.035e+05   1.67e+04     18.163      0.000    2.71e+05    3.36e+05\n",
      "x75         2.478e+05   1.25e+04     19.854      0.000    2.23e+05    2.72e+05\n",
      "x76         2.543e+05   1.74e+04     14.595      0.000     2.2e+05    2.88e+05\n",
      "x77         2.786e+05   1.43e+04     19.487      0.000    2.51e+05    3.07e+05\n",
      "x78         5.396e+04   1.91e+04      2.827      0.005    1.66e+04    9.14e+04\n",
      "x79         1.406e+05   1.64e+04      8.590      0.000    1.09e+05    1.73e+05\n",
      "x80         9.157e+04   1.93e+04      4.732      0.000    5.36e+04    1.29e+05\n",
      "x81         8.971e+04   1.59e+04      5.642      0.000    5.85e+04    1.21e+05\n",
      "x82        -1.523e+04   1.51e+04     -1.011      0.312   -4.48e+04    1.43e+04\n",
      "x83        -2.931e+04   1.23e+04     -2.376      0.018   -5.35e+04   -5125.858\n",
      "x84         1.648e+05   2.24e+04      7.348      0.000    1.21e+05    2.09e+05\n",
      "x85         1.667e+05    1.3e+04     12.871      0.000    1.41e+05    1.92e+05\n",
      "x86         1.275e+05   1.38e+04      9.228      0.000       1e+05    1.55e+05\n",
      "x87         2.251e+05   1.39e+04     16.240      0.000    1.98e+05    2.52e+05\n",
      "x88          739.5391   1.44e+04      0.051      0.959   -2.76e+04    2.91e+04\n",
      "x89         1.674e+04   1.45e+04      1.154      0.248   -1.17e+04    4.52e+04\n",
      "x90         8307.6312   1.94e+04      0.428      0.669   -2.98e+04    4.64e+04\n",
      "x91         3.591e+05   1.25e+04     28.637      0.000    3.34e+05    3.84e+05\n",
      "x92         2.019e+05   1.21e+04     16.734      0.000    1.78e+05    2.26e+05\n",
      "x93         3.495e+04    1.2e+04      2.906      0.004    1.14e+04    5.85e+04\n",
      "x94         1.208e+06   2.66e+04     45.468      0.000    1.16e+06    1.26e+06\n",
      "x95         5.117e+05   1.45e+04     35.396      0.000    4.83e+05     5.4e+05\n",
      "x96         8082.0114   1.21e+04      0.667      0.505   -1.57e+04    3.18e+04\n",
      "x97         9.322e+04   1.49e+04      6.242      0.000    6.39e+04    1.22e+05\n",
      "x98         2.386e+05    1.2e+04     19.955      0.000    2.15e+05    2.62e+05\n",
      "x99         2.251e+05   1.29e+04     17.389      0.000       2e+05     2.5e+05\n",
      "x100        4.367e+04   1.43e+04      3.050      0.002    1.56e+04    7.17e+04\n",
      "x101        8.652e+04   1.31e+04      6.626      0.000    6.09e+04    1.12e+05\n",
      "x102        3.006e+04   1.24e+04      2.428      0.015    5795.197    5.43e+04\n",
      "x103        8.776e+04   1.26e+04      6.989      0.000    6.32e+04    1.12e+05\n",
      "x104        1.065e+05   1.38e+04      7.719      0.000    7.95e+04    1.34e+05\n",
      "x105       -3.096e+04    1.9e+04     -1.629      0.103   -6.82e+04    6290.119\n",
      "x106        1.596e+05   1.42e+04     11.204      0.000    1.32e+05    1.88e+05\n",
      "x107        1.795e+05   1.26e+04     14.226      0.000    1.55e+05    2.04e+05\n",
      "x108        1.688e+05   1.34e+04     12.557      0.000    1.42e+05    1.95e+05\n",
      "x109        1.085e+05   1.65e+04      6.584      0.000    7.62e+04    1.41e+05\n",
      "x110       -2.162e+04   1.33e+04     -1.630      0.103   -4.76e+04    4379.316\n",
      "x111        4.951e+05   1.99e+04     24.923      0.000    4.56e+05    5.34e+05\n",
      "x112        3.654e+05   1.27e+04     28.697      0.000     3.4e+05     3.9e+05\n",
      "x113         5.01e+05   1.56e+04     32.206      0.000    4.71e+05    5.31e+05\n",
      "x114        1.431e+05   1.37e+04     10.457      0.000    1.16e+05     1.7e+05\n",
      "x115        3.819e+05   1.48e+04     25.776      0.000    3.53e+05    4.11e+05\n",
      "x116        1.357e+05   1.59e+04      8.539      0.000    1.05e+05    1.67e+05\n",
      "x117        5.583e+05   2.04e+04     27.313      0.000    5.18e+05    5.98e+05\n",
      "x118        6.514e+05   1.53e+04     42.698      0.000    6.22e+05    6.81e+05\n",
      "x119         3.59e+05   1.24e+04     28.960      0.000    3.35e+05    3.83e+05\n",
      "x120          3.2e+05    1.4e+04     22.782      0.000    2.92e+05    3.48e+05\n",
      "x121        3.532e+05   1.25e+04     28.309      0.000    3.29e+05    3.78e+05\n",
      "x122        1.805e+05   1.27e+04     14.214      0.000    1.56e+05    2.05e+05\n",
      "x123         5.33e+05   1.71e+04     31.239      0.000       5e+05    5.66e+05\n",
      "x124        3.821e+05   1.47e+04     26.007      0.000    3.53e+05    4.11e+05\n",
      "x125        2.096e+05   1.28e+04     16.315      0.000    1.84e+05    2.35e+05\n",
      "x126         2.15e+05   1.37e+04     15.702      0.000    1.88e+05    2.42e+05\n",
      "x127        1.733e+05   1.24e+04     14.012      0.000    1.49e+05    1.98e+05\n",
      "x128        2.659e+05   1.44e+04     18.431      0.000    2.38e+05    2.94e+05\n",
      "x129        3.207e+05   1.38e+04     23.313      0.000    2.94e+05    3.48e+05\n",
      "x130         1.02e+05   1.41e+04      7.233      0.000    7.43e+04     1.3e+05\n",
      "x131        5.819e+04    2.6e+04      2.241      0.025    7290.702    1.09e+05\n",
      "x132         1.45e+05   1.27e+04     11.392      0.000     1.2e+05     1.7e+05\n",
      "x133        6.802e+04   1.45e+04      4.705      0.000    3.97e+04    9.64e+04\n",
      "x134        5.226e+04   1.45e+04      3.610      0.000    2.39e+04    8.06e+04\n",
      "x135        2.245e+05   1.45e+04     15.461      0.000    1.96e+05    2.53e+05\n",
      "x136         4.09e+04   1.47e+04      2.774      0.006     1.2e+04    6.98e+04\n",
      "x137        3.464e+04   1.72e+04      2.010      0.044     865.153    6.84e+04\n",
      "x138       -1368.9732   1.43e+04     -0.096      0.924   -2.93e+04    2.66e+04\n",
      "x139        4.026e+05   1.42e+04     28.447      0.000    3.75e+05     4.3e+05\n",
      "==============================================================================\n",
      "Omnibus:                     8650.208   Durbin-Watson:                   2.043\n",
      "Prob(Omnibus):                  0.000   Jarque-Bera (JB):           475010.599\n",
      "Skew:                           2.018   Prob(JB):                         0.00\n",
      "Kurtosis:                      30.163   Cond. No.                     1.39e+16\n",
      "==============================================================================\n",
      "\n",
      "Notes:\n",
      "[1] Standard Errors assume that the covariance matrix of the errors is correctly specified.\n",
      "[2] The smallest eigenvalue is 2.14e-28. This might indicate that there are\n",
      "strong multicollinearity problems or that the design matrix is singular.\n"
     ]
    }
   ],
   "source": [
    "X_train_const_scaled = sm.add_constant(X_train_scaled) # adding a constant\n",
    "\n",
    "model = sm.OLS(y_train, X_train_const_scaled).fit()\n",
    "predictions_train = model.predict(X_train_const_scaled) \n",
    "\n",
    "X_test_const_scaled = sm.add_constant(X_test_scaled) # adding a constant\n",
    "predictions_test = model.predict(X_test_const_scaled) \n",
    "print_model = model.summary()\n",
    "print(print_model)"
   ]
  },
  {
   "cell_type": "code",
   "execution_count": 171,
   "id": "6b00c4e2",
   "metadata": {},
   "outputs": [
    {
     "data": {
      "text/plain": [
       "x1      8.172191e-247\n",
       "x2       1.284387e-16\n",
       "x3       7.039689e-03\n",
       "x4       3.209127e-15\n",
       "x5       1.162904e-14\n",
       "            ...      \n",
       "x135     1.657814e-53\n",
       "x136     5.540359e-03\n",
       "x137     4.441404e-02\n",
       "x138     9.235709e-01\n",
       "x139    2.078035e-173\n",
       "Length: 139, dtype: float64"
      ]
     },
     "execution_count": 171,
     "metadata": {},
     "output_type": "execute_result"
    }
   ],
   "source": [
    "sign_cols = model.pvalues[1:len(model.pvalues)]  # remove constant\n",
    "\n",
    "sign_cols"
   ]
  },
  {
   "cell_type": "markdown",
   "id": "c82bf5bb",
   "metadata": {
    "scrolled": true
   },
   "source": [
    "Pseudo-Code: for i in range(0, len(X.column)) drop X.columns[i] if sign_cols[i]> 0.05\n",
    "        "
   ]
  },
  {
   "cell_type": "code",
   "execution_count": 172,
   "id": "c5189878",
   "metadata": {},
   "outputs": [
    {
     "data": {
      "text/html": [
       "<div>\n",
       "<style scoped>\n",
       "    .dataframe tbody tr th:only-of-type {\n",
       "        vertical-align: middle;\n",
       "    }\n",
       "\n",
       "    .dataframe tbody tr th {\n",
       "        vertical-align: top;\n",
       "    }\n",
       "\n",
       "    .dataframe thead th {\n",
       "        text-align: right;\n",
       "    }\n",
       "</style>\n",
       "<table border=\"1\" class=\"dataframe\">\n",
       "  <thead>\n",
       "    <tr style=\"text-align: right;\">\n",
       "      <th></th>\n",
       "      <th>x1</th>\n",
       "      <th>x2</th>\n",
       "      <th>x3</th>\n",
       "      <th>x4</th>\n",
       "      <th>x5</th>\n",
       "      <th>x6</th>\n",
       "      <th>x7</th>\n",
       "      <th>x8</th>\n",
       "      <th>x9</th>\n",
       "      <th>x10</th>\n",
       "      <th>...</th>\n",
       "      <th>x130</th>\n",
       "      <th>x131</th>\n",
       "      <th>x132</th>\n",
       "      <th>x133</th>\n",
       "      <th>x134</th>\n",
       "      <th>x135</th>\n",
       "      <th>x136</th>\n",
       "      <th>x137</th>\n",
       "      <th>x138</th>\n",
       "      <th>x139</th>\n",
       "    </tr>\n",
       "  </thead>\n",
       "  <tbody>\n",
       "    <tr>\n",
       "      <th>0</th>\n",
       "      <td>8.172191e-247</td>\n",
       "      <td>1.284387e-16</td>\n",
       "      <td>0.00704</td>\n",
       "      <td>3.209127e-15</td>\n",
       "      <td>1.162904e-14</td>\n",
       "      <td>9.165493e-15</td>\n",
       "      <td>0.00466</td>\n",
       "      <td>0.442266</td>\n",
       "      <td>0.221295</td>\n",
       "      <td>0.055768</td>\n",
       "      <td>...</td>\n",
       "      <td>4.947710e-13</td>\n",
       "      <td>0.025047</td>\n",
       "      <td>6.063078e-30</td>\n",
       "      <td>0.000003</td>\n",
       "      <td>0.000307</td>\n",
       "      <td>1.657814e-53</td>\n",
       "      <td>0.00554</td>\n",
       "      <td>0.044414</td>\n",
       "      <td>0.923571</td>\n",
       "      <td>2.078035e-173</td>\n",
       "    </tr>\n",
       "  </tbody>\n",
       "</table>\n",
       "<p>1 rows × 139 columns</p>\n",
       "</div>"
      ],
      "text/plain": [
       "              x1            x2       x3            x4            x5  \\\n",
       "0  8.172191e-247  1.284387e-16  0.00704  3.209127e-15  1.162904e-14   \n",
       "\n",
       "             x6       x7        x8        x9       x10  ...          x130  \\\n",
       "0  9.165493e-15  0.00466  0.442266  0.221295  0.055768  ...  4.947710e-13   \n",
       "\n",
       "       x131          x132      x133      x134          x135     x136  \\\n",
       "0  0.025047  6.063078e-30  0.000003  0.000307  1.657814e-53  0.00554   \n",
       "\n",
       "       x137      x138           x139  \n",
       "0  0.044414  0.923571  2.078035e-173  \n",
       "\n",
       "[1 rows x 139 columns]"
      ]
     },
     "execution_count": 172,
     "metadata": {},
     "output_type": "execute_result"
    }
   ],
   "source": [
    "sign_cols = pd.DataFrame([sign_cols])\n",
    "sign_cols"
   ]
  },
  {
   "cell_type": "code",
   "execution_count": null,
   "id": "1db0beb8",
   "metadata": {},
   "outputs": [],
   "source": []
  },
  {
   "cell_type": "code",
   "execution_count": 168,
   "id": "db09cee3",
   "metadata": {},
   "outputs": [
    {
     "data": {
      "text/plain": [
       "139"
      ]
     },
     "execution_count": 168,
     "metadata": {},
     "output_type": "execute_result"
    }
   ],
   "source": [
    "len(X.columns)"
   ]
  },
  {
   "cell_type": "code",
   "execution_count": 169,
   "id": "e4411a41",
   "metadata": {},
   "outputs": [
    {
     "data": {
      "text/plain": [
       "x1      False\n",
       "x2      False\n",
       "x3      False\n",
       "x4      False\n",
       "x5      False\n",
       "        ...  \n",
       "x135    False\n",
       "x136    False\n",
       "x137    False\n",
       "x138     True\n",
       "x139    False\n",
       "Name: 0, Length: 139, dtype: bool"
      ]
     },
     "execution_count": 169,
     "metadata": {},
     "output_type": "execute_result"
    }
   ],
   "source": [
    "sign_cols.iloc[0,:]>0.05"
   ]
  },
  {
   "cell_type": "code",
   "execution_count": 173,
   "id": "fd88a05d",
   "metadata": {
    "scrolled": false
   },
   "outputs": [
    {
     "name": "stdout",
     "output_type": "stream",
     "text": [
      "Variables dropped:  bedrooms_2 0.44226610603840455\n",
      "Variables dropped:  bedrooms_3 0.22129500987075898\n",
      "Variables dropped:  bedrooms_4 0.05576826607854408\n",
      "Variables dropped:  bedrooms_5 0.05050406345634087\n",
      "Variables dropped:  bedrooms_8 0.2663135583217885\n",
      "Variables dropped:  bedrooms_9 0.09646416724990435\n",
      "Variables dropped:  bedrooms_11 0.8386209101932129\n",
      "Variables dropped:  bedrooms_33 0.9516678507366306\n",
      "Variables dropped:  bathrooms_0.75 0.5359571021245302\n",
      "Variables dropped:  bathrooms_1.0 0.9500397109120499\n",
      "Variables dropped:  bathrooms_1.25 0.4855159375290048\n",
      "Variables dropped:  bathrooms_1.5 0.8074884692711927\n",
      "Variables dropped:  bathrooms_1.75 0.7733668994935688\n",
      "Variables dropped:  bathrooms_2.0 0.7649924897310308\n",
      "Variables dropped:  bathrooms_2.25 0.8970968254683659\n",
      "Variables dropped:  bathrooms_2.5 0.8541087257724961\n",
      "Variables dropped:  bathrooms_2.75 0.8829907180345671\n",
      "Variables dropped:  bathrooms_3.0 0.877094712766159\n",
      "Variables dropped:  bathrooms_3.25 0.5102780095795252\n",
      "Variables dropped:  bathrooms_3.5 0.758727253248859\n",
      "Variables dropped:  bathrooms_3.75 0.2617836302499173\n",
      "Variables dropped:  bathrooms_4.0 0.2801213766830862\n",
      "Variables dropped:  bathrooms_4.5 0.10492320230405239\n",
      "Variables dropped:  bathrooms_5.0 0.05381523074188199\n",
      "Variables dropped:  bathrooms_6.5 0.05014915161046226\n",
      "Variables dropped:  bathrooms_7.5 0.3115681956034177\n",
      "Variables dropped:  bathrooms_7.75 0.2838956711774038\n",
      "Variables dropped:  bathrooms_8.0 0.18765385278988822\n",
      "Variables dropped:  floors_1.5 0.7619398105037389\n",
      "Variables dropped:  floors_3.5 0.2235545381707075\n",
      "Variables dropped:  grade_4 0.32513014153703157\n",
      "Variables dropped:  grade_5 0.07582543866756443\n",
      "Variables dropped:  grade_6 0.055223001490146556\n",
      "Variables dropped:  grade_7 0.05142471243388889\n",
      "Variables dropped:  grade_8 0.08247209078440228\n",
      "Variables dropped:  grade_9 0.28283061286437006\n",
      "Variables dropped:  grade_10 0.9598823224772515\n",
      "Variables dropped:  grade_11 0.2271705719245861\n",
      "Variables dropped:  zipcode_98002 0.67998944140176\n",
      "Variables dropped:  zipcode_98003 0.7009652072693844\n",
      "Variables dropped:  zipcode_98022 0.3121281548368797\n",
      "Variables dropped:  zipcode_98030 0.9591773540587623\n",
      "Variables dropped:  zipcode_98031 0.24836344106138564\n",
      "Variables dropped:  zipcode_98032 0.6688643106663301\n",
      "Variables dropped:  zipcode_98042 0.5050038849911638\n",
      "Variables dropped:  zipcode_98070 0.1033000391677105\n",
      "Variables dropped:  zipcode_98092 0.10312771540210229\n",
      "Variables dropped:  zipcode_98198 0.9235708719210397\n"
     ]
    }
   ],
   "source": [
    "X_col_list = X.columns\n",
    "X_dropped_p = X\n",
    "for i in range(0,len(X.columns)):\n",
    "    if sign_cols.iloc[0,i]>0.05:\n",
    "        X_dropped_p = X_dropped_p.drop(X_col_list[i], axis=1)\n",
    "        print('Variables dropped: ', X.columns[i], sign_cols.iloc[0,i])"
   ]
  },
  {
   "cell_type": "code",
   "execution_count": 174,
   "id": "48073746",
   "metadata": {
    "scrolled": true
   },
   "outputs": [
    {
     "name": "stdout",
     "output_type": "stream",
     "text": [
      "(21597, 139) (21597, 91)\n"
     ]
    }
   ],
   "source": [
    "print(X.shape, X_dropped_p.shape)"
   ]
  },
  {
   "cell_type": "markdown",
   "id": "b7b2ae44",
   "metadata": {},
   "source": [
    "From 69 initial variables, 34 remain."
   ]
  },
  {
   "cell_type": "markdown",
   "id": "a1530207",
   "metadata": {},
   "source": [
    "## 3d linear Model only including variabels that had a siginificant p-value in the 2s Model"
   ]
  },
  {
   "cell_type": "code",
   "execution_count": null,
   "id": "c46dc45d",
   "metadata": {},
   "outputs": [],
   "source": [
    "X_train, X_test, y_train, y_test=train_test_split(X_dropped_p, y, test_size=.30,random_state=100)"
   ]
  },
  {
   "cell_type": "code",
   "execution_count": null,
   "id": "12ab82e7",
   "metadata": {},
   "outputs": [],
   "source": [
    "X_train_num = X_train.select_dtypes(['float64'])\n",
    "X_test_num = X_test.select_dtypes(['float64'])\n",
    "X_train_cat = X_train.select_dtypes(['uint8'])\n",
    "X_test_cat = X_test.select_dtypes(['uint8'])\n",
    "print(X_train_num.shape, X_test_num.shape, X_train_cat.shape, X_test_cat.shape)"
   ]
  },
  {
   "cell_type": "code",
   "execution_count": null,
   "id": "8ddd72a1",
   "metadata": {},
   "outputs": [],
   "source": [
    "X_train.info()"
   ]
  },
  {
   "cell_type": "code",
   "execution_count": null,
   "id": "67f7f083",
   "metadata": {},
   "outputs": [],
   "source": [
    "std_scaler=StandardScaler().fit(X_train_num)   ##. finding the parameters ( mean, variance from the training set )\n",
    "                                            ## \n",
    "X_train_scaled=std_scaler.transform(X_train_num)\n",
    "\n",
    "X_test_scaled=std_scaler.transform(X_test_num)\n",
    "X_test_scaled.shape"
   ]
  },
  {
   "cell_type": "code",
   "execution_count": null,
   "id": "ee35d6b7",
   "metadata": {},
   "outputs": [],
   "source": [
    "X_train_scaled = np.concatenate((X_train_scaled, np.asarray(X_train_cat)), axis = 1) \n",
    "\n",
    "X_test_scaled = np.concatenate((X_test_scaled, np.asarray(X_test_cat)), axis =1)\n",
    "print(X_train_scaled.shape, X_test_scaled.shape)"
   ]
  },
  {
   "cell_type": "code",
   "execution_count": null,
   "id": "11c68579",
   "metadata": {},
   "outputs": [],
   "source": [
    "model=LinearRegression()    # model\n",
    "model.fit(X_train_scaled, y_train) \n",
    "\n",
    "\n",
    "y_pred=model.predict(X_test_scaled)   # model prediction\n",
    "y_pred_train=model.predict(X_train_scaled)\n",
    "\n",
    "\n",
    "result=pd.DataFrame({\"y_test\":y_test,\"y_pred\":y_pred})\n",
    "\n",
    "\n",
    "# Make an scatter plot y_pred vs y\n",
    "# What kind of plot you will get if all the all the predictions are ok?\n",
    "# A stright line\n",
    "\n",
    "fig, ax = plt.subplots(1,3,figsize=(14,4))\n",
    "ax[0].plot(y_pred, y_test, 'o')\n",
    "ax[0].set_xlabel(\"y_test\")\n",
    "ax[0].set_ylabel(\"y_pred\")\n",
    "ax[0].set_title(\"Test Set -Predicted vs real\")\n",
    "\n",
    "# Get a histogram of the residuals ie: y - y_pred.  Homoscdasticity\n",
    "# It resembles a normal distribution?\n",
    "ax[1].hist(y_test - y_pred)\n",
    "ax[1].set_xlabel(\"Test y-y_pred\")\n",
    "ax[1].set_title(\"Test Set Residual histogram\")\n",
    "\n",
    "ax[2].plot(y_pred,y_test - y_pred,\"o\")\n",
    "ax[2].set_xlabel(\"predicted\")\n",
    "ax[2].set_ylabel(\"residuals\")\n",
    "ax[2].set_title(\"Residuals by Predicted\")\n",
    "ax[2].plot(y_pred,np.zeros(len(y_pred)),linestyle='dashed')"
   ]
  },
  {
   "cell_type": "code",
   "execution_count": null,
   "id": "84382604",
   "metadata": {},
   "outputs": [],
   "source": [
    "print('MSE test: ',  mse(y_test,y_pred))\n",
    "print('MAE test: ', mae(y_test,y_pred))\n",
    "print('MSE train: ', mse(y_train,y_pred_train))\n",
    "print('RMSE test: ', np.sqrt(mae(y_test,y_pred)))\n",
    "R2_test=model.score(X_test_scaled,y_test)\n",
    "R2_train=model.score(X_train_scaled,y_train)\n",
    "print('R2_test: ', R2_test)\n",
    "print('R2_train: ', R2_train)\n",
    "\n",
    "print('MSE train - MSE test: ', mse(y_train,y_pred_train) - mse(y_test,y_pred) )\n",
    "print('R2_test/R2_train: ', R2_test/R2_train )\n",
    "Adj_R2= 1 - (1-R2_test)*(len(y_test)-1)/(len(y_test)-X_test.shape[1]-1)\n",
    "print('Adj_R2:', Adj_R2)"
   ]
  },
  {
   "cell_type": "code",
   "execution_count": null,
   "id": "42908e97",
   "metadata": {},
   "outputs": [],
   "source": [
    "features_importances = pd.DataFrame(data={\n",
    "    'Attribute': X_train.columns,\n",
    "    'Importance': abs(model.coef_)\n",
    "})\n",
    "features_importances = features_importances.sort_values(by='Importance', ascending=False)\n",
    "features_importances\n",
    "plt.bar(x=features_importances['Attribute'], height=features_importances['Importance'], color='#087E8B')\n",
    "plt.title('Feature importances obtained from coefficients', size=20)\n",
    "plt.xticks(rotation='vertical')\n",
    "plt.show()"
   ]
  },
  {
   "cell_type": "code",
   "execution_count": null,
   "id": "2066f4cd",
   "metadata": {},
   "outputs": [],
   "source": [
    "X_train_const_scaled = sm.add_constant(X_train_scaled) # adding a constant\n",
    "\n",
    "model = sm.OLS(y_train, X_train_const_scaled).fit()\n",
    "predictions_train = model.predict(X_train_const_scaled) \n",
    "\n",
    "X_test_const_scaled = sm.add_constant(X_test_scaled) # adding a constant\n",
    "predictions_test = model.predict(X_test_const_scaled) \n",
    "print_model = model.summary()\n",
    "print(print_model)"
   ]
  },
  {
   "cell_type": "markdown",
   "id": "0f6c41e9",
   "metadata": {},
   "source": [
    "## KNN for zoning using lat and long variables to see if it as better predictor as Postcode\n",
    "\n",
    "(Maybe compare to waterfront as well)\n"
   ]
  },
  {
   "cell_type": "code",
   "execution_count": null,
   "id": "b0438920",
   "metadata": {},
   "outputs": [],
   "source": [
    "Pred = hp_df_org[['lat', 'long']]\n",
    "y = hp_df_org['zipcode']"
   ]
  },
  {
   "cell_type": "code",
   "execution_count": null,
   "id": "65b03e7b",
   "metadata": {},
   "outputs": [],
   "source": [
    "Pred"
   ]
  },
  {
   "cell_type": "code",
   "execution_count": null,
   "id": "b8b18403",
   "metadata": {},
   "outputs": [],
   "source": [
    "X_train, X_test, y_train, y_test = train_test_split(Pred, y, test_size=0.20)"
   ]
  },
  {
   "cell_type": "code",
   "execution_count": null,
   "id": "88078b81",
   "metadata": {},
   "outputs": [],
   "source": [
    "X_test[:,0]"
   ]
  },
  {
   "cell_type": "code",
   "execution_count": null,
   "id": "c8870d07",
   "metadata": {},
   "outputs": [],
   "source": [
    "from sklearn.preprocessing import StandardScaler\n",
    "scaler = StandardScaler()\n",
    "scaler.fit(X_train)\n",
    "X_train = scaler.transform(X_train)\n",
    "X_test = scaler.transform(X_test)\n",
    "from sklearn.neighbors import KNeighborsClassifier\n",
    "classifier = KNeighborsClassifier(n_neighbors=3)\n",
    "classifier.fit(X_train, y_train)\n",
    "y_pred = classifier.predict(X_test)\n",
    "from sklearn.metrics import classification_report, confusion_matrix\n",
    "print(confusion_matrix(y_test, y_pred))\n",
    "print(classification_report(y_test, y_pred))"
   ]
  },
  {
   "cell_type": "markdown",
   "id": "7b35493a",
   "metadata": {},
   "source": [
    "After testing n=3 as best model"
   ]
  },
  {
   "cell_type": "code",
   "execution_count": null,
   "id": "0350e3be",
   "metadata": {},
   "outputs": [],
   "source": [
    "len(y_pred)"
   ]
  },
  {
   "cell_type": "code",
   "execution_count": null,
   "id": "ccf92529",
   "metadata": {
    "scrolled": true
   },
   "outputs": [],
   "source": [
    "sns.jointplot(x=X_test[:,1], y=X_test[:,0], hue=y_pred)"
   ]
  },
  {
   "cell_type": "code",
   "execution_count": null,
   "id": "e3124400",
   "metadata": {
    "scrolled": true
   },
   "outputs": [],
   "source": [
    "sns.jointplot(x=X_test[:,1], y=X_test[:,0], hue=y_test)"
   ]
  },
  {
   "cell_type": "code",
   "execution_count": null,
   "id": "2b25b7d1",
   "metadata": {},
   "outputs": [],
   "source": [
    "sns.jointplot(x=X_train[:,1], y=X_train[:,0], hue=y_train)"
   ]
  },
  {
   "cell_type": "markdown",
   "id": "8b888fea",
   "metadata": {},
   "source": [
    "## Feature engineering to improve model:"
   ]
  },
  {
   "cell_type": "code",
   "execution_count": null,
   "id": "9a1f860c",
   "metadata": {},
   "outputs": [],
   "source": [
    "avg_price_zipcode = pd.DataFrame(hp_df['price'].groupby(hp_df['zipcode']).mean())\n",
    "\n",
    "avg_price_zipcode['avg_price_zip'] = avg_price_zipcode['price']\n",
    "avg_price_zipcode.drop('price', axis=1, inplace=True)"
   ]
  },
  {
   "cell_type": "code",
   "execution_count": null,
   "id": "f103c995",
   "metadata": {},
   "outputs": [],
   "source": [
    "sns.jointplot(data=hp_df, x='long', y='lat', hue='avg_price_zip')"
   ]
  },
  {
   "cell_type": "code",
   "execution_count": null,
   "id": "de353f3c",
   "metadata": {},
   "outputs": [],
   "source": [
    "hp_df = pd.merge(hp_df, avg_price_zipcode, left_on = 'zipcode', right_on = 'zipcode')\n",
    "hp_df.info()"
   ]
  },
  {
   "cell_type": "markdown",
   "id": "703168dc",
   "metadata": {},
   "source": [
    "## Simple model using distance"
   ]
  },
  {
   "cell_type": "code",
   "execution_count": null,
   "id": "04338ec5",
   "metadata": {},
   "outputs": [],
   "source": [
    "distance = pd.read_csv('C:/Users/Lenovo/Documents/GitHub/Houseprices/Data/distance.csv')"
   ]
  },
  {
   "cell_type": "code",
   "execution_count": null,
   "id": "0fbb1295",
   "metadata": {},
   "outputs": [],
   "source": [
    "distance"
   ]
  },
  {
   "cell_type": "code",
   "execution_count": null,
   "id": "9eb4f3b8",
   "metadata": {},
   "outputs": [],
   "source": [
    "hp_df_org['distanceM'] = distance['DistanceM'].astype('float64')"
   ]
  },
  {
   "cell_type": "code",
   "execution_count": null,
   "id": "9ac24976",
   "metadata": {},
   "outputs": [],
   "source": [
    "sns.jointplot(data=hp_df_org, x='long', y='lat', hue='distanceM')"
   ]
  },
  {
   "cell_type": "markdown",
   "id": "ecc977df",
   "metadata": {},
   "source": [
    "As expectet the travel distance seems to correlate with the linear distance"
   ]
  },
  {
   "cell_type": "code",
   "execution_count": null,
   "id": "89b6362d",
   "metadata": {},
   "outputs": [],
   "source": [
    "X = hp_df_org[['distanceM', 'sqft_living']]\n",
    "y = hp_df_org['price']"
   ]
  },
  {
   "cell_type": "code",
   "execution_count": null,
   "id": "a6a3fe43",
   "metadata": {},
   "outputs": [],
   "source": [
    "X_train, X_test, y_train, y_test=train_test_split(X,y, test_size=.30,random_state=100)"
   ]
  },
  {
   "cell_type": "code",
   "execution_count": null,
   "id": "dbdd28f8",
   "metadata": {},
   "outputs": [],
   "source": [
    "X_train_num = X_train.select_dtypes(['float64'])\n",
    "X_test_num = X_test.select_dtypes(['float64'])\n",
    "X_train_cat = X_train.select_dtypes(['uint8'])\n",
    "X_test_cat = X_test.select_dtypes(['uint8'])\n",
    "print(X_train_num.shape, X_test_num.shape, X_train_cat.shape, X_test_cat.shape)"
   ]
  },
  {
   "cell_type": "code",
   "execution_count": null,
   "id": "ed044977",
   "metadata": {},
   "outputs": [],
   "source": [
    "std_scaler=StandardScaler().fit(X_train_num)   ##. finding the parameters ( mean, variance from the training set )\n",
    "                                            ## \n",
    "X_train_scaled=std_scaler.transform(X_train_num)\n",
    "\n",
    "X_test_scaled=std_scaler.transform(X_test_num)\n",
    "X_test_scaled.shape"
   ]
  },
  {
   "cell_type": "code",
   "execution_count": null,
   "id": "6277e646",
   "metadata": {},
   "outputs": [],
   "source": [
    "X_train_scaled = np.concatenate((X_train_scaled, np.asarray(X_train_cat)), axis = 1) \n",
    "\n",
    "X_test_scaled = np.concatenate((X_test_scaled, np.asarray(X_test_cat)), axis =1)\n",
    "print(X_train_scaled.shape, X_test_scaled.shape)"
   ]
  },
  {
   "cell_type": "code",
   "execution_count": null,
   "id": "58894992",
   "metadata": {
    "scrolled": true
   },
   "outputs": [],
   "source": [
    "model=LinearRegression()    # model\n",
    "model.fit(X_train, y_train) \n",
    "\n",
    "\n",
    "y_pred=model.predict(X_test)   # model prediction\n",
    "y_pred_train=model.predict(X_train)\n",
    "\n",
    "\n",
    "result=pd.DataFrame({\"y_test\":y_test,\"y_pred\":y_pred})\n",
    "\n",
    "\n",
    "# Make an scatter plot y_pred vs y\n",
    "# What kind of plot you will get if all the all the predictions are ok?\n",
    "# A stright line\n",
    "\n",
    "fig, ax = plt.subplots(1,3,figsize=(14,4))\n",
    "ax[0].plot(y_pred, y_test, 'o')\n",
    "ax[0].set_xlabel(\"y_test\")\n",
    "ax[0].set_ylabel(\"y_pred\")\n",
    "ax[0].set_title(\"Test Set -Predicted vs real\")\n",
    "\n",
    "# Get a histogram of the residuals ie: y - y_pred.  Homoscdasticity\n",
    "# It resembles a normal distribution?\n",
    "ax[1].hist(y_test - y_pred)\n",
    "ax[1].set_xlabel(\"Test y-y_pred\")\n",
    "ax[1].set_title(\"Test Set Residual histogram\")\n",
    "\n",
    "ax[2].plot(y_pred,y_test - y_pred,\"o\")\n",
    "ax[2].set_xlabel(\"predicted\")\n",
    "ax[2].set_ylabel(\"residuals\")\n",
    "ax[2].set_title(\"Residuals by Predicted\")\n",
    "ax[2].plot(y_pred,np.zeros(len(y_pred)),linestyle='dashed')"
   ]
  },
  {
   "cell_type": "code",
   "execution_count": null,
   "id": "779ee31e",
   "metadata": {},
   "outputs": [],
   "source": [
    "print('MSE test: ',  mse(y_test,y_pred))\n",
    "print('MAE test: ', mae(y_test,y_pred))\n",
    "print('MSE train: ', mse(y_train,y_pred_train))\n",
    "print('RMSE test: ', np.sqrt(mae(y_test,y_pred)))\n",
    "R2_test=model.score(X_test_scaled,y_test)\n",
    "R2_train=model.score(X_train_scaled,y_train)\n",
    "print('R2_test: ', R2_test)\n",
    "print('R2_train: ', R2_train)\n",
    "\n",
    "print('MSE train - MSE test: ', mse(y_train,y_pred_train) - mse(y_test,y_pred) )\n",
    "print('R2_test/R2_train: ', R2_test/R2_train )\n",
    "Adj_R2= 1 - (1-R2_test)*(len(y_test)-1)/(len(y_test)-X_test.shape[1]-1)\n",
    "print('Adj_R2:', Adj_R2)"
   ]
  }
 ],
 "metadata": {
  "kernelspec": {
   "display_name": "Python 3 (ipykernel)",
   "language": "python",
   "name": "python3"
  },
  "language_info": {
   "codemirror_mode": {
    "name": "ipython",
    "version": 3
   },
   "file_extension": ".py",
   "mimetype": "text/x-python",
   "name": "python",
   "nbconvert_exporter": "python",
   "pygments_lexer": "ipython3",
   "version": "3.9.7"
  }
 },
 "nbformat": 4,
 "nbformat_minor": 5
}
