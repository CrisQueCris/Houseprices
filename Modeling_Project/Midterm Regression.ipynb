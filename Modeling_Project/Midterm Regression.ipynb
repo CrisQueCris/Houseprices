{
 "cells": [
  {
   "cell_type": "code",
   "execution_count": 599,
   "id": "f4573615",
   "metadata": {},
   "outputs": [],
   "source": [
    "import pandas as pd\n",
    "import getpass\n",
    "import sqlalchemy as sa\n",
    "import numpy as np\n",
    "import seaborn as sns\n",
    "import matplotlib as plt\n",
    "import numpy as np\n",
    "import pandas as pd\n",
    "import matplotlib.pyplot as plt\n",
    "%matplotlib inline\n",
    "import seaborn as sns\n",
    "from sklearn.preprocessing import StandardScaler\n",
    "from sklearn.preprocessing import quantile_transform\n",
    "from sklearn.preprocessing import QuantileTransformer\n",
    "from sklearn.preprocessing import minmax_scale\n",
    "from sklearn.preprocessing import MinMaxScaler\n",
    "from sklearn.preprocessing import OneHotEncoder  ##. better to use dummy from pandas \n",
    "from sklearn.preprocessing import PowerTransformer\n",
    "from scipy.stats import boxcox\n",
    "from sklearn.linear_model import LinearRegression\n",
    "from sklearn.model_selection import train_test_split\n",
    "import statsmodels.api as sm\n",
    "from scipy.stats import boxcox\n",
    "from sklearn.model_selection import train_test_split\n",
    "from sklearn.metrics import r2_score\n",
    "from sklearn.metrics import mean_squared_error as mse\n",
    "from sklearn.metrics import mean_absolute_error as mae\n",
    "from sklearn.feature_selection import RFE\n",
    "pd.options.display.max_rows = 50\n",
    "## Install xlrd package to load Excel files\n",
    "# conda install openpyxl\n",
    "## conda install xlrd"
   ]
  },
  {
   "cell_type": "markdown",
   "id": "613dccbd",
   "metadata": {},
   "source": [
    "## Importing Dataset."
   ]
  },
  {
   "cell_type": "code",
   "execution_count": 600,
   "id": "71384a3b",
   "metadata": {
    "scrolled": true
   },
   "outputs": [
    {
     "name": "stdout",
     "output_type": "stream",
     "text": [
      "<class 'pandas.core.frame.DataFrame'>\n",
      "RangeIndex: 21597 entries, 0 to 21596\n",
      "Data columns (total 22 columns):\n",
      " #   Column         Non-Null Count  Dtype  \n",
      "---  ------         --------------  -----  \n",
      " 0   Unnamed: 0     21597 non-null  int64  \n",
      " 1   id             21597 non-null  int64  \n",
      " 2   date           21597 non-null  object \n",
      " 3   bedrooms       21597 non-null  int64  \n",
      " 4   bathrooms      21597 non-null  float64\n",
      " 5   sqft_living    21597 non-null  int64  \n",
      " 6   sqft_lot       21597 non-null  int64  \n",
      " 7   floors         21597 non-null  float64\n",
      " 8   waterfront     21597 non-null  int64  \n",
      " 9   view           21597 non-null  int64  \n",
      " 10  condition      21597 non-null  int64  \n",
      " 11  grade          21597 non-null  int64  \n",
      " 12  sqft_above     21597 non-null  int64  \n",
      " 13  sqft_basement  21597 non-null  int64  \n",
      " 14  yr_built       21597 non-null  int64  \n",
      " 15  yr_renovated   21597 non-null  int64  \n",
      " 16  zipcode        21597 non-null  int64  \n",
      " 17  lat            21597 non-null  float64\n",
      " 18  long           21597 non-null  float64\n",
      " 19  sqft_living15  21597 non-null  int64  \n",
      " 20  sqft_lot15     21597 non-null  int64  \n",
      " 21  price          21597 non-null  int64  \n",
      "dtypes: float64(4), int64(17), object(1)\n",
      "memory usage: 3.6+ MB\n"
     ]
    },
    {
     "data": {
      "text/html": [
       "<div>\n",
       "<style scoped>\n",
       "    .dataframe tbody tr th:only-of-type {\n",
       "        vertical-align: middle;\n",
       "    }\n",
       "\n",
       "    .dataframe tbody tr th {\n",
       "        vertical-align: top;\n",
       "    }\n",
       "\n",
       "    .dataframe thead th {\n",
       "        text-align: right;\n",
       "    }\n",
       "</style>\n",
       "<table border=\"1\" class=\"dataframe\">\n",
       "  <thead>\n",
       "    <tr style=\"text-align: right;\">\n",
       "      <th></th>\n",
       "      <th>Unnamed: 0</th>\n",
       "      <th>id</th>\n",
       "      <th>date</th>\n",
       "      <th>bedrooms</th>\n",
       "      <th>bathrooms</th>\n",
       "      <th>sqft_living</th>\n",
       "      <th>sqft_lot</th>\n",
       "      <th>floors</th>\n",
       "      <th>waterfront</th>\n",
       "      <th>view</th>\n",
       "      <th>...</th>\n",
       "      <th>sqft_above</th>\n",
       "      <th>sqft_basement</th>\n",
       "      <th>yr_built</th>\n",
       "      <th>yr_renovated</th>\n",
       "      <th>zipcode</th>\n",
       "      <th>lat</th>\n",
       "      <th>long</th>\n",
       "      <th>sqft_living15</th>\n",
       "      <th>sqft_lot15</th>\n",
       "      <th>price</th>\n",
       "    </tr>\n",
       "  </thead>\n",
       "  <tbody>\n",
       "    <tr>\n",
       "      <th>0</th>\n",
       "      <td>0</td>\n",
       "      <td>7129300520</td>\n",
       "      <td>2014-10-13</td>\n",
       "      <td>3</td>\n",
       "      <td>1.00</td>\n",
       "      <td>1180</td>\n",
       "      <td>5650</td>\n",
       "      <td>1.0</td>\n",
       "      <td>0</td>\n",
       "      <td>0</td>\n",
       "      <td>...</td>\n",
       "      <td>1180</td>\n",
       "      <td>0</td>\n",
       "      <td>1955</td>\n",
       "      <td>0</td>\n",
       "      <td>98178</td>\n",
       "      <td>47.5112</td>\n",
       "      <td>-122.257</td>\n",
       "      <td>1340</td>\n",
       "      <td>5650</td>\n",
       "      <td>221900</td>\n",
       "    </tr>\n",
       "    <tr>\n",
       "      <th>1</th>\n",
       "      <td>1</td>\n",
       "      <td>6414100192</td>\n",
       "      <td>2014-12-09</td>\n",
       "      <td>3</td>\n",
       "      <td>2.25</td>\n",
       "      <td>2570</td>\n",
       "      <td>7242</td>\n",
       "      <td>2.0</td>\n",
       "      <td>0</td>\n",
       "      <td>0</td>\n",
       "      <td>...</td>\n",
       "      <td>2170</td>\n",
       "      <td>400</td>\n",
       "      <td>1951</td>\n",
       "      <td>1991</td>\n",
       "      <td>98125</td>\n",
       "      <td>47.7210</td>\n",
       "      <td>-122.319</td>\n",
       "      <td>1690</td>\n",
       "      <td>7639</td>\n",
       "      <td>538000</td>\n",
       "    </tr>\n",
       "    <tr>\n",
       "      <th>2</th>\n",
       "      <td>2</td>\n",
       "      <td>5631500400</td>\n",
       "      <td>2015-02-25</td>\n",
       "      <td>2</td>\n",
       "      <td>1.00</td>\n",
       "      <td>770</td>\n",
       "      <td>10000</td>\n",
       "      <td>1.0</td>\n",
       "      <td>0</td>\n",
       "      <td>0</td>\n",
       "      <td>...</td>\n",
       "      <td>770</td>\n",
       "      <td>0</td>\n",
       "      <td>1933</td>\n",
       "      <td>0</td>\n",
       "      <td>98028</td>\n",
       "      <td>47.7379</td>\n",
       "      <td>-122.233</td>\n",
       "      <td>2720</td>\n",
       "      <td>8062</td>\n",
       "      <td>180000</td>\n",
       "    </tr>\n",
       "    <tr>\n",
       "      <th>3</th>\n",
       "      <td>3</td>\n",
       "      <td>2487200875</td>\n",
       "      <td>2014-12-09</td>\n",
       "      <td>4</td>\n",
       "      <td>3.00</td>\n",
       "      <td>1960</td>\n",
       "      <td>5000</td>\n",
       "      <td>1.0</td>\n",
       "      <td>0</td>\n",
       "      <td>0</td>\n",
       "      <td>...</td>\n",
       "      <td>1050</td>\n",
       "      <td>910</td>\n",
       "      <td>1965</td>\n",
       "      <td>0</td>\n",
       "      <td>98136</td>\n",
       "      <td>47.5208</td>\n",
       "      <td>-122.393</td>\n",
       "      <td>1360</td>\n",
       "      <td>5000</td>\n",
       "      <td>604000</td>\n",
       "    </tr>\n",
       "    <tr>\n",
       "      <th>4</th>\n",
       "      <td>4</td>\n",
       "      <td>1954400510</td>\n",
       "      <td>2015-02-18</td>\n",
       "      <td>3</td>\n",
       "      <td>2.00</td>\n",
       "      <td>1680</td>\n",
       "      <td>8080</td>\n",
       "      <td>1.0</td>\n",
       "      <td>0</td>\n",
       "      <td>0</td>\n",
       "      <td>...</td>\n",
       "      <td>1680</td>\n",
       "      <td>0</td>\n",
       "      <td>1987</td>\n",
       "      <td>0</td>\n",
       "      <td>98074</td>\n",
       "      <td>47.6168</td>\n",
       "      <td>-122.045</td>\n",
       "      <td>1800</td>\n",
       "      <td>7503</td>\n",
       "      <td>510000</td>\n",
       "    </tr>\n",
       "    <tr>\n",
       "      <th>...</th>\n",
       "      <td>...</td>\n",
       "      <td>...</td>\n",
       "      <td>...</td>\n",
       "      <td>...</td>\n",
       "      <td>...</td>\n",
       "      <td>...</td>\n",
       "      <td>...</td>\n",
       "      <td>...</td>\n",
       "      <td>...</td>\n",
       "      <td>...</td>\n",
       "      <td>...</td>\n",
       "      <td>...</td>\n",
       "      <td>...</td>\n",
       "      <td>...</td>\n",
       "      <td>...</td>\n",
       "      <td>...</td>\n",
       "      <td>...</td>\n",
       "      <td>...</td>\n",
       "      <td>...</td>\n",
       "      <td>...</td>\n",
       "      <td>...</td>\n",
       "    </tr>\n",
       "    <tr>\n",
       "      <th>21592</th>\n",
       "      <td>21592</td>\n",
       "      <td>263000018</td>\n",
       "      <td>2014-05-21</td>\n",
       "      <td>3</td>\n",
       "      <td>2.50</td>\n",
       "      <td>1530</td>\n",
       "      <td>1131</td>\n",
       "      <td>3.0</td>\n",
       "      <td>0</td>\n",
       "      <td>0</td>\n",
       "      <td>...</td>\n",
       "      <td>1530</td>\n",
       "      <td>0</td>\n",
       "      <td>2009</td>\n",
       "      <td>0</td>\n",
       "      <td>98103</td>\n",
       "      <td>47.6993</td>\n",
       "      <td>-122.346</td>\n",
       "      <td>1530</td>\n",
       "      <td>1509</td>\n",
       "      <td>360000</td>\n",
       "    </tr>\n",
       "    <tr>\n",
       "      <th>21593</th>\n",
       "      <td>21593</td>\n",
       "      <td>6600060120</td>\n",
       "      <td>2015-02-23</td>\n",
       "      <td>4</td>\n",
       "      <td>2.50</td>\n",
       "      <td>2310</td>\n",
       "      <td>5813</td>\n",
       "      <td>2.0</td>\n",
       "      <td>0</td>\n",
       "      <td>0</td>\n",
       "      <td>...</td>\n",
       "      <td>2310</td>\n",
       "      <td>0</td>\n",
       "      <td>2014</td>\n",
       "      <td>0</td>\n",
       "      <td>98146</td>\n",
       "      <td>47.5107</td>\n",
       "      <td>-122.362</td>\n",
       "      <td>1830</td>\n",
       "      <td>7200</td>\n",
       "      <td>400000</td>\n",
       "    </tr>\n",
       "    <tr>\n",
       "      <th>21594</th>\n",
       "      <td>21594</td>\n",
       "      <td>1523300141</td>\n",
       "      <td>2014-06-23</td>\n",
       "      <td>2</td>\n",
       "      <td>0.75</td>\n",
       "      <td>1020</td>\n",
       "      <td>1350</td>\n",
       "      <td>2.0</td>\n",
       "      <td>0</td>\n",
       "      <td>0</td>\n",
       "      <td>...</td>\n",
       "      <td>1020</td>\n",
       "      <td>0</td>\n",
       "      <td>2009</td>\n",
       "      <td>0</td>\n",
       "      <td>98144</td>\n",
       "      <td>47.5944</td>\n",
       "      <td>-122.299</td>\n",
       "      <td>1020</td>\n",
       "      <td>2007</td>\n",
       "      <td>402101</td>\n",
       "    </tr>\n",
       "    <tr>\n",
       "      <th>21595</th>\n",
       "      <td>21595</td>\n",
       "      <td>291310100</td>\n",
       "      <td>2015-01-16</td>\n",
       "      <td>3</td>\n",
       "      <td>2.50</td>\n",
       "      <td>1600</td>\n",
       "      <td>2388</td>\n",
       "      <td>2.0</td>\n",
       "      <td>0</td>\n",
       "      <td>0</td>\n",
       "      <td>...</td>\n",
       "      <td>1600</td>\n",
       "      <td>0</td>\n",
       "      <td>2004</td>\n",
       "      <td>0</td>\n",
       "      <td>98027</td>\n",
       "      <td>47.5345</td>\n",
       "      <td>-122.069</td>\n",
       "      <td>1410</td>\n",
       "      <td>1287</td>\n",
       "      <td>400000</td>\n",
       "    </tr>\n",
       "    <tr>\n",
       "      <th>21596</th>\n",
       "      <td>21596</td>\n",
       "      <td>1523300157</td>\n",
       "      <td>2014-10-15</td>\n",
       "      <td>2</td>\n",
       "      <td>0.75</td>\n",
       "      <td>1020</td>\n",
       "      <td>1076</td>\n",
       "      <td>2.0</td>\n",
       "      <td>0</td>\n",
       "      <td>0</td>\n",
       "      <td>...</td>\n",
       "      <td>1020</td>\n",
       "      <td>0</td>\n",
       "      <td>2008</td>\n",
       "      <td>0</td>\n",
       "      <td>98144</td>\n",
       "      <td>47.5941</td>\n",
       "      <td>-122.299</td>\n",
       "      <td>1020</td>\n",
       "      <td>1357</td>\n",
       "      <td>325000</td>\n",
       "    </tr>\n",
       "  </tbody>\n",
       "</table>\n",
       "<p>21597 rows × 22 columns</p>\n",
       "</div>"
      ],
      "text/plain": [
       "       Unnamed: 0          id        date  bedrooms  bathrooms  sqft_living  \\\n",
       "0               0  7129300520  2014-10-13         3       1.00         1180   \n",
       "1               1  6414100192  2014-12-09         3       2.25         2570   \n",
       "2               2  5631500400  2015-02-25         2       1.00          770   \n",
       "3               3  2487200875  2014-12-09         4       3.00         1960   \n",
       "4               4  1954400510  2015-02-18         3       2.00         1680   \n",
       "...           ...         ...         ...       ...        ...          ...   \n",
       "21592       21592   263000018  2014-05-21         3       2.50         1530   \n",
       "21593       21593  6600060120  2015-02-23         4       2.50         2310   \n",
       "21594       21594  1523300141  2014-06-23         2       0.75         1020   \n",
       "21595       21595   291310100  2015-01-16         3       2.50         1600   \n",
       "21596       21596  1523300157  2014-10-15         2       0.75         1020   \n",
       "\n",
       "       sqft_lot  floors  waterfront  view  ...  sqft_above  sqft_basement  \\\n",
       "0          5650     1.0           0     0  ...        1180              0   \n",
       "1          7242     2.0           0     0  ...        2170            400   \n",
       "2         10000     1.0           0     0  ...         770              0   \n",
       "3          5000     1.0           0     0  ...        1050            910   \n",
       "4          8080     1.0           0     0  ...        1680              0   \n",
       "...         ...     ...         ...   ...  ...         ...            ...   \n",
       "21592      1131     3.0           0     0  ...        1530              0   \n",
       "21593      5813     2.0           0     0  ...        2310              0   \n",
       "21594      1350     2.0           0     0  ...        1020              0   \n",
       "21595      2388     2.0           0     0  ...        1600              0   \n",
       "21596      1076     2.0           0     0  ...        1020              0   \n",
       "\n",
       "       yr_built  yr_renovated  zipcode      lat     long  sqft_living15  \\\n",
       "0          1955             0    98178  47.5112 -122.257           1340   \n",
       "1          1951          1991    98125  47.7210 -122.319           1690   \n",
       "2          1933             0    98028  47.7379 -122.233           2720   \n",
       "3          1965             0    98136  47.5208 -122.393           1360   \n",
       "4          1987             0    98074  47.6168 -122.045           1800   \n",
       "...         ...           ...      ...      ...      ...            ...   \n",
       "21592      2009             0    98103  47.6993 -122.346           1530   \n",
       "21593      2014             0    98146  47.5107 -122.362           1830   \n",
       "21594      2009             0    98144  47.5944 -122.299           1020   \n",
       "21595      2004             0    98027  47.5345 -122.069           1410   \n",
       "21596      2008             0    98144  47.5941 -122.299           1020   \n",
       "\n",
       "       sqft_lot15   price  \n",
       "0            5650  221900  \n",
       "1            7639  538000  \n",
       "2            8062  180000  \n",
       "3            5000  604000  \n",
       "4            7503  510000  \n",
       "...           ...     ...  \n",
       "21592        1509  360000  \n",
       "21593        7200  400000  \n",
       "21594        2007  402101  \n",
       "21595        1287  400000  \n",
       "21596        1357  325000  \n",
       "\n",
       "[21597 rows x 22 columns]"
      ]
     },
     "execution_count": 600,
     "metadata": {},
     "output_type": "execute_result"
    }
   ],
   "source": [
    "hp_df_org = pd.read_csv('C:/Users/Lenovo/Documents/GitHub/Houseprices/Data/house_price_df.csv')\n",
    "hp_df = hp_df_org\n",
    "hp_df.info()\n",
    "hp_df"
   ]
  },
  {
   "cell_type": "code",
   "execution_count": 601,
   "id": "92dec88e",
   "metadata": {},
   "outputs": [],
   "source": [
    "# house_price_df.to_csv('C:/Users/Lenovo/Documents/GitHub/IronChristoph/MidTerm_Project/Data/house_price_df.csv')"
   ]
  },
  {
   "cell_type": "code",
   "execution_count": 602,
   "id": "3aabbcb9",
   "metadata": {},
   "outputs": [
    {
     "data": {
      "text/html": [
       "<div>\n",
       "<style scoped>\n",
       "    .dataframe tbody tr th:only-of-type {\n",
       "        vertical-align: middle;\n",
       "    }\n",
       "\n",
       "    .dataframe tbody tr th {\n",
       "        vertical-align: top;\n",
       "    }\n",
       "\n",
       "    .dataframe thead th {\n",
       "        text-align: right;\n",
       "    }\n",
       "</style>\n",
       "<table border=\"1\" class=\"dataframe\">\n",
       "  <thead>\n",
       "    <tr style=\"text-align: right;\">\n",
       "      <th></th>\n",
       "      <th>bedrooms</th>\n",
       "      <th>sqft_living</th>\n",
       "      <th>sqft_lot</th>\n",
       "      <th>yr_built</th>\n",
       "      <th>price</th>\n",
       "    </tr>\n",
       "  </thead>\n",
       "  <tbody>\n",
       "    <tr>\n",
       "      <th>count</th>\n",
       "      <td>21597.000000</td>\n",
       "      <td>21597.000000</td>\n",
       "      <td>2.159700e+04</td>\n",
       "      <td>21597.000000</td>\n",
       "      <td>2.159700e+04</td>\n",
       "    </tr>\n",
       "    <tr>\n",
       "      <th>mean</th>\n",
       "      <td>3.373200</td>\n",
       "      <td>2080.321850</td>\n",
       "      <td>1.509941e+04</td>\n",
       "      <td>1970.999676</td>\n",
       "      <td>5.402966e+05</td>\n",
       "    </tr>\n",
       "    <tr>\n",
       "      <th>std</th>\n",
       "      <td>0.926299</td>\n",
       "      <td>918.106125</td>\n",
       "      <td>4.141264e+04</td>\n",
       "      <td>29.375234</td>\n",
       "      <td>3.673681e+05</td>\n",
       "    </tr>\n",
       "    <tr>\n",
       "      <th>min</th>\n",
       "      <td>1.000000</td>\n",
       "      <td>370.000000</td>\n",
       "      <td>5.200000e+02</td>\n",
       "      <td>1900.000000</td>\n",
       "      <td>7.800000e+04</td>\n",
       "    </tr>\n",
       "    <tr>\n",
       "      <th>25%</th>\n",
       "      <td>3.000000</td>\n",
       "      <td>1430.000000</td>\n",
       "      <td>5.040000e+03</td>\n",
       "      <td>1951.000000</td>\n",
       "      <td>3.220000e+05</td>\n",
       "    </tr>\n",
       "    <tr>\n",
       "      <th>50%</th>\n",
       "      <td>3.000000</td>\n",
       "      <td>1910.000000</td>\n",
       "      <td>7.618000e+03</td>\n",
       "      <td>1975.000000</td>\n",
       "      <td>4.500000e+05</td>\n",
       "    </tr>\n",
       "    <tr>\n",
       "      <th>75%</th>\n",
       "      <td>4.000000</td>\n",
       "      <td>2550.000000</td>\n",
       "      <td>1.068500e+04</td>\n",
       "      <td>1997.000000</td>\n",
       "      <td>6.450000e+05</td>\n",
       "    </tr>\n",
       "    <tr>\n",
       "      <th>max</th>\n",
       "      <td>33.000000</td>\n",
       "      <td>13540.000000</td>\n",
       "      <td>1.651359e+06</td>\n",
       "      <td>2015.000000</td>\n",
       "      <td>7.700000e+06</td>\n",
       "    </tr>\n",
       "  </tbody>\n",
       "</table>\n",
       "</div>"
      ],
      "text/plain": [
       "           bedrooms   sqft_living      sqft_lot      yr_built         price\n",
       "count  21597.000000  21597.000000  2.159700e+04  21597.000000  2.159700e+04\n",
       "mean       3.373200   2080.321850  1.509941e+04   1970.999676  5.402966e+05\n",
       "std        0.926299    918.106125  4.141264e+04     29.375234  3.673681e+05\n",
       "min        1.000000    370.000000  5.200000e+02   1900.000000  7.800000e+04\n",
       "25%        3.000000   1430.000000  5.040000e+03   1951.000000  3.220000e+05\n",
       "50%        3.000000   1910.000000  7.618000e+03   1975.000000  4.500000e+05\n",
       "75%        4.000000   2550.000000  1.068500e+04   1997.000000  6.450000e+05\n",
       "max       33.000000  13540.000000  1.651359e+06   2015.000000  7.700000e+06"
      ]
     },
     "execution_count": 602,
     "metadata": {},
     "output_type": "execute_result"
    }
   ],
   "source": [
    "hp_df[['bedrooms', 'sqft_living',  'sqft_lot', 'yr_built', 'price']].describe()"
   ]
  },
  {
   "cell_type": "markdown",
   "id": "7354a4ad",
   "metadata": {},
   "source": [
    "## Define which columns are going to be numerical and which are going to be dummies"
   ]
  },
  {
   "cell_type": "code",
   "execution_count": 603,
   "id": "a8a9ca56",
   "metadata": {},
   "outputs": [
    {
     "name": "stdout",
     "output_type": "stream",
     "text": [
      "<class 'pandas.core.frame.DataFrame'>\n",
      "RangeIndex: 21597 entries, 0 to 21596\n",
      "Data columns (total 22 columns):\n",
      " #   Column         Non-Null Count  Dtype  \n",
      "---  ------         --------------  -----  \n",
      " 0   Unnamed: 0     21597 non-null  int64  \n",
      " 1   id             21597 non-null  int64  \n",
      " 2   date           21597 non-null  object \n",
      " 3   bedrooms       21597 non-null  int64  \n",
      " 4   bathrooms      21597 non-null  float64\n",
      " 5   sqft_living    21597 non-null  int64  \n",
      " 6   sqft_lot       21597 non-null  int64  \n",
      " 7   floors         21597 non-null  float64\n",
      " 8   waterfront     21597 non-null  int64  \n",
      " 9   view           21597 non-null  int64  \n",
      " 10  condition      21597 non-null  int64  \n",
      " 11  grade          21597 non-null  int64  \n",
      " 12  sqft_above     21597 non-null  int64  \n",
      " 13  sqft_basement  21597 non-null  int64  \n",
      " 14  yr_built       21597 non-null  int64  \n",
      " 15  yr_renovated   21597 non-null  int64  \n",
      " 16  zipcode        21597 non-null  int64  \n",
      " 17  lat            21597 non-null  float64\n",
      " 18  long           21597 non-null  float64\n",
      " 19  sqft_living15  21597 non-null  int64  \n",
      " 20  sqft_lot15     21597 non-null  int64  \n",
      " 21  price          21597 non-null  int64  \n",
      "dtypes: float64(4), int64(17), object(1)\n",
      "memory usage: 3.6+ MB\n"
     ]
    }
   ],
   "source": [
    "hp_df.info()"
   ]
  },
  {
   "cell_type": "code",
   "execution_count": 604,
   "id": "730bf39d",
   "metadata": {},
   "outputs": [
    {
     "data": {
      "text/plain": [
       "count          21597\n",
       "unique           372\n",
       "top       2014-06-23\n",
       "freq             142\n",
       "Name: date, dtype: object"
      ]
     },
     "execution_count": 604,
     "metadata": {},
     "output_type": "execute_result"
    }
   ],
   "source": [
    "hp_df['date'].describe()"
   ]
  },
  {
   "cell_type": "code",
   "execution_count": 605,
   "id": "72a3815b",
   "metadata": {},
   "outputs": [
    {
     "data": {
      "text/plain": [
       "2.50    5377\n",
       "1.00    3851\n",
       "1.75    3048\n",
       "2.25    2047\n",
       "2.00    1930\n",
       "1.50    1445\n",
       "2.75    1185\n",
       "3.00     753\n",
       "3.50     731\n",
       "3.25     589\n",
       "3.75     155\n",
       "4.00     136\n",
       "4.50     100\n",
       "4.25      79\n",
       "0.75      71\n",
       "4.75      23\n",
       "5.00      21\n",
       "5.25      13\n",
       "5.50      10\n",
       "1.25       9\n",
       "6.00       6\n",
       "0.50       4\n",
       "5.75       4\n",
       "6.75       2\n",
       "8.00       2\n",
       "6.25       2\n",
       "6.50       2\n",
       "7.50       1\n",
       "7.75       1\n",
       "Name: bathrooms, dtype: int64"
      ]
     },
     "execution_count": 605,
     "metadata": {},
     "output_type": "execute_result"
    }
   ],
   "source": [
    "hp_df['bathrooms'].value_counts()"
   ]
  },
  {
   "cell_type": "code",
   "execution_count": 606,
   "id": "bc74f89d",
   "metadata": {},
   "outputs": [
    {
     "data": {
      "text/plain": [
       "Index(['Unnamed: 0', 'id', 'date', 'bedrooms', 'bathrooms', 'sqft_living',\n",
       "       'sqft_lot', 'floors', 'waterfront', 'view', 'condition', 'grade',\n",
       "       'sqft_above', 'sqft_basement', 'yr_built', 'yr_renovated', 'zipcode',\n",
       "       'lat', 'long', 'sqft_living15', 'sqft_lot15', 'price'],\n",
       "      dtype='object')"
      ]
     },
     "execution_count": 606,
     "metadata": {},
     "output_type": "execute_result"
    }
   ],
   "source": [
    "hp_df.columns"
   ]
  },
  {
   "cell_type": "code",
   "execution_count": 607,
   "id": "c748eb9c",
   "metadata": {},
   "outputs": [],
   "source": [
    "col_drop = ['Unnamed: 0',\\\n",
    "            'id',\\\n",
    "            'date',\\\n",
    "           'long',\\\n",
    "           'lat']   \n",
    "# 'Unnamed: 0' : id from import without information\n",
    "# 'id': random or consequtive values without values\n",
    "# 'date': probably the date the house was added to the database, no additional information for houseprice\n",
    "# 'lang', 'lat': Geografical data, not usable in linear regression like this, can be converted to zones using knn. \n",
    "#    Task for later. But zip codes are enough, probably"
   ]
  },
  {
   "cell_type": "code",
   "execution_count": 608,
   "id": "b62cf06d",
   "metadata": {},
   "outputs": [
    {
     "name": "stdout",
     "output_type": "stream",
     "text": [
      "<class 'pandas.core.frame.DataFrame'>\n",
      "RangeIndex: 21597 entries, 0 to 21596\n",
      "Data columns (total 22 columns):\n",
      " #   Column         Non-Null Count  Dtype   \n",
      "---  ------         --------------  -----   \n",
      " 0   Unnamed: 0     21597 non-null  int64   \n",
      " 1   id             21597 non-null  int64   \n",
      " 2   date           21597 non-null  object  \n",
      " 3   bedrooms       21597 non-null  category\n",
      " 4   bathrooms      21597 non-null  category\n",
      " 5   sqft_living    21597 non-null  int64   \n",
      " 6   sqft_lot       21597 non-null  int64   \n",
      " 7   floors         21597 non-null  category\n",
      " 8   waterfront     21597 non-null  category\n",
      " 9   view           21597 non-null  category\n",
      " 10  condition      21597 non-null  category\n",
      " 11  grade          21597 non-null  category\n",
      " 12  sqft_above     21597 non-null  int64   \n",
      " 13  sqft_basement  21597 non-null  int64   \n",
      " 14  yr_built       21597 non-null  int64   \n",
      " 15  yr_renovated   21597 non-null  int64   \n",
      " 16  zipcode        21597 non-null  int64   \n",
      " 17  lat            21597 non-null  float64 \n",
      " 18  long           21597 non-null  float64 \n",
      " 19  sqft_living15  21597 non-null  int64   \n",
      " 20  sqft_lot15     21597 non-null  int64   \n",
      " 21  price          21597 non-null  int64   \n",
      "dtypes: category(7), float64(2), int64(12), object(1)\n",
      "memory usage: 2.6+ MB\n"
     ]
    }
   ],
   "source": [
    "# From the pairplot we can see which columns are categorical/dummies:\n",
    "#  bderooms, bathrooms, floors, waterfront, view, condition, grade\n",
    "ordinal_var = ['bedrooms', 'bathrooms', 'floors', 'waterfront', 'view', 'condition', 'grade']\n",
    "hp_df[ordinal_var] = hp_df[ordinal_var].astype('category')\n",
    "hp_df.info()"
   ]
  },
  {
   "cell_type": "code",
   "execution_count": 609,
   "id": "66d901dc",
   "metadata": {},
   "outputs": [],
   "source": [
    "hp_df = hp_df.drop(col_drop, axis= 1)"
   ]
  },
  {
   "cell_type": "code",
   "execution_count": 610,
   "id": "d91c783f",
   "metadata": {},
   "outputs": [
    {
     "data": {
      "text/plain": [
       "(21597, 17)"
      ]
     },
     "execution_count": 610,
     "metadata": {},
     "output_type": "execute_result"
    }
   ],
   "source": [
    "hp_df.shape"
   ]
  },
  {
   "cell_type": "code",
   "execution_count": 611,
   "id": "b0fc4753",
   "metadata": {
    "scrolled": true
   },
   "outputs": [
    {
     "data": {
      "image/png": "[encoded data removed]",
      "text/plain": [
       "<Figure size 648x504 with 2 Axes>"
      ]
     },
     "metadata": {},
     "output_type": "display_data"
    }
   ],
   "source": [
    "corr = hp_df.corr()\n",
    "mask = np.zeros_like(corr)\n",
    "mask[np.triu_indices_from(mask)] = True\n",
    "with sns.axes_style(\"white\"):\n",
    "    f, ax = plt.subplots(figsize=(9, 7))\n",
    "    ax = sns.heatmap(corr, mask=mask,cmap='coolwarm', vmin=-1,vmax=1,annot=True, square=True)"
   ]
  },
  {
   "cell_type": "markdown",
   "id": "a598a819",
   "metadata": {},
   "source": [
    "As expected there is a lot of correlation between sqf_above, sqf_living and other measures of size. \n",
    "- First: Drop sqf_above"
   ]
  },
  {
   "cell_type": "code",
   "execution_count": 612,
   "id": "0bd5eb60",
   "metadata": {},
   "outputs": [
    {
     "data": {
      "text/plain": [
       "(21597, 16)"
      ]
     },
     "execution_count": 612,
     "metadata": {},
     "output_type": "execute_result"
    }
   ],
   "source": [
    "corr_matrix=hp_df.corr().abs()\n",
    "upper_triangle=corr_matrix.where(np.triu(np.ones(corr_matrix.shape),k=1).astype(bool))\n",
    "corr_var = [column for column in upper_triangle.columns if any(upper_triangle[column] > 0.80)]\n",
    "hp_df = hp_df.drop(corr_var, axis= 1)\n",
    "hp_df.shape"
   ]
  },
  {
   "cell_type": "markdown",
   "id": "00d398a8",
   "metadata": {},
   "source": [
    "The Dataframe is reduced from 21 columns to 16 columns."
   ]
  },
  {
   "cell_type": "code",
   "execution_count": 613,
   "id": "22505d05",
   "metadata": {},
   "outputs": [
    {
     "data": {
      "image/png": "[encoded data removed]",
      "text/plain": [
       "<Figure size 648x504 with 2 Axes>"
      ]
     },
     "metadata": {},
     "output_type": "display_data"
    }
   ],
   "source": [
    "corr = hp_df.corr()\n",
    "mask = np.zeros_like(corr)\n",
    "mask[np.triu_indices_from(mask)] = True\n",
    "with sns.axes_style(\"white\"):\n",
    "    f, ax = plt.subplots(figsize=(9, 7))\n",
    "    ax = sns.heatmap(corr, mask=mask,cmap='coolwarm', vmin=-1,vmax=1,annot=True, square=True)"
   ]
  },
  {
   "cell_type": "markdown",
   "id": "75b9cf9b",
   "metadata": {},
   "source": [
    "The new dataframe does not contain anymore variables with a higher correlation than 0.8, but the variable sqf_living15 should be examined later."
   ]
  },
  {
   "cell_type": "markdown",
   "id": "b3ceba64",
   "metadata": {},
   "source": [
    "# Normalization"
   ]
  },
  {
   "cell_type": "markdown",
   "id": "73a9e89b",
   "metadata": {},
   "source": [
    "## Histograms\n",
    "To check for the assumtion of normal distributions we check the histograms of the numerical variables"
   ]
  },
  {
   "cell_type": "code",
   "execution_count": 614,
   "id": "c377572f",
   "metadata": {
    "scrolled": true
   },
   "outputs": [
    {
     "data": {
      "text/plain": [
       "array([[<AxesSubplot:title={'center':'sqft_living'}>,\n",
       "        <AxesSubplot:title={'center':'sqft_lot'}>,\n",
       "        <AxesSubplot:title={'center':'sqft_basement'}>],\n",
       "       [<AxesSubplot:title={'center':'yr_built'}>,\n",
       "        <AxesSubplot:title={'center':'yr_renovated'}>,\n",
       "        <AxesSubplot:title={'center':'zipcode'}>],\n",
       "       [<AxesSubplot:title={'center':'sqft_living15'}>,\n",
       "        <AxesSubplot:title={'center':'sqft_lot15'}>,\n",
       "        <AxesSubplot:title={'center':'price'}>]], dtype=object)"
      ]
     },
     "execution_count": 614,
     "metadata": {},
     "output_type": "execute_result"
    },
    {
     "data": {
      "image/png": "[encoded data removed]",
      "text/plain": [
       "<Figure size 864x864 with 9 Axes>"
      ]
     },
     "metadata": {
      "needs_background": "light"
     },
     "output_type": "display_data"
    }
   ],
   "source": [
    "hp_df.select_dtypes('int').hist(figsize=(12,12), bins=40)\n"
   ]
  },
  {
   "cell_type": "markdown",
   "id": "3d208350",
   "metadata": {},
   "source": [
    "All numerical varibales are non-normaly distributed and need to be transformed. Additionally there are variables that need closer look:\n",
    "    - sqft_basement: Many 0 values, maybe we should transform to dummy?\n",
    "    - yr_renovated: 0 values mean not renovated and to not correspond to the scale of the acutal variable. How do deal with it not sure yet. \n",
    "    \n",
    "    First try: drop sqft_basement and yr_renovated."
   ]
  },
  {
   "cell_type": "code",
   "execution_count": 615,
   "id": "8e04fff0",
   "metadata": {},
   "outputs": [],
   "source": [
    "hp_df = hp_df.drop(['sqft_basement', 'yr_renovated'], axis=1)"
   ]
  },
  {
   "cell_type": "markdown",
   "id": "a9192c43",
   "metadata": {},
   "source": [
    "## Transforming to normal distribution"
   ]
  },
  {
   "cell_type": "code",
   "execution_count": null,
   "id": "3cd80908",
   "metadata": {},
   "outputs": [],
   "source": []
  },
  {
   "cell_type": "code",
   "execution_count": 616,
   "id": "12465832",
   "metadata": {},
   "outputs": [],
   "source": [
    "# List of variables names to be transformed: \n",
    "to_trans =  {'sqft_living': 'qt',\\\n",
    "             'sqft_lot': 'qt',\\\n",
    "             'yr_built': 'qt',\\\n",
    "             'zipcode': 'qt', \\\n",
    "             'sqft_living15': 'qt',\\\n",
    "             'sqft_lot15': 'qt'}"
   ]
  },
  {
   "cell_type": "code",
   "execution_count": 617,
   "id": "8cab4152",
   "metadata": {
    "scrolled": true
   },
   "outputs": [
    {
     "data": {
      "text/html": [
       "<div>\n",
       "<style scoped>\n",
       "    .dataframe tbody tr th:only-of-type {\n",
       "        vertical-align: middle;\n",
       "    }\n",
       "\n",
       "    .dataframe tbody tr th {\n",
       "        vertical-align: top;\n",
       "    }\n",
       "\n",
       "    .dataframe thead th {\n",
       "        text-align: right;\n",
       "    }\n",
       "</style>\n",
       "<table border=\"1\" class=\"dataframe\">\n",
       "  <thead>\n",
       "    <tr style=\"text-align: right;\">\n",
       "      <th></th>\n",
       "      <th>price</th>\n",
       "      <th>sqft_living_transformed</th>\n",
       "      <th>sqft_lot_transformed</th>\n",
       "      <th>yr_built_transformed</th>\n",
       "      <th>zipcode_transformed</th>\n",
       "      <th>sqft_living15_transformed</th>\n",
       "      <th>sqft_lot15_transformed</th>\n",
       "    </tr>\n",
       "  </thead>\n",
       "  <tbody>\n",
       "    <tr>\n",
       "      <th>count</th>\n",
       "      <td>2.159700e+04</td>\n",
       "      <td>21597.000000</td>\n",
       "      <td>21597.000000</td>\n",
       "      <td>21597.000000</td>\n",
       "      <td>21597.000000</td>\n",
       "      <td>21597.000000</td>\n",
       "      <td>21597.000000</td>\n",
       "    </tr>\n",
       "    <tr>\n",
       "      <th>mean</th>\n",
       "      <td>5.402966e+05</td>\n",
       "      <td>0.000009</td>\n",
       "      <td>-0.000043</td>\n",
       "      <td>-0.007133</td>\n",
       "      <td>-0.006377</td>\n",
       "      <td>0.000007</td>\n",
       "      <td>-0.000060</td>\n",
       "    </tr>\n",
       "    <tr>\n",
       "      <th>std</th>\n",
       "      <td>3.673681e+05</td>\n",
       "      <td>0.999686</td>\n",
       "      <td>0.999566</td>\n",
       "      <td>1.046026</td>\n",
       "      <td>1.283571</td>\n",
       "      <td>0.999868</td>\n",
       "      <td>1.000081</td>\n",
       "    </tr>\n",
       "    <tr>\n",
       "      <th>min</th>\n",
       "      <td>7.800000e+04</td>\n",
       "      <td>-5.199338</td>\n",
       "      <td>-5.199338</td>\n",
       "      <td>-5.199338</td>\n",
       "      <td>-5.199338</td>\n",
       "      <td>-5.199338</td>\n",
       "      <td>-5.199338</td>\n",
       "    </tr>\n",
       "    <tr>\n",
       "      <th>25%</th>\n",
       "      <td>3.220000e+05</td>\n",
       "      <td>-0.667419</td>\n",
       "      <td>-0.676854</td>\n",
       "      <td>-0.689529</td>\n",
       "      <td>-0.653377</td>\n",
       "      <td>-0.665852</td>\n",
       "      <td>-0.673702</td>\n",
       "    </tr>\n",
       "    <tr>\n",
       "      <th>50%</th>\n",
       "      <td>4.500000e+05</td>\n",
       "      <td>-0.003764</td>\n",
       "      <td>0.000418</td>\n",
       "      <td>0.003764</td>\n",
       "      <td>-0.007527</td>\n",
       "      <td>0.001255</td>\n",
       "      <td>0.000000</td>\n",
       "    </tr>\n",
       "    <tr>\n",
       "      <th>75%</th>\n",
       "      <td>6.450000e+05</td>\n",
       "      <td>0.675277</td>\n",
       "      <td>0.674710</td>\n",
       "      <td>0.681594</td>\n",
       "      <td>0.710366</td>\n",
       "      <td>0.670557</td>\n",
       "      <td>0.674476</td>\n",
       "    </tr>\n",
       "    <tr>\n",
       "      <th>max</th>\n",
       "      <td>7.700000e+06</td>\n",
       "      <td>5.199338</td>\n",
       "      <td>5.199338</td>\n",
       "      <td>5.199338</td>\n",
       "      <td>5.199338</td>\n",
       "      <td>5.199338</td>\n",
       "      <td>5.199338</td>\n",
       "    </tr>\n",
       "  </tbody>\n",
       "</table>\n",
       "</div>"
      ],
      "text/plain": [
       "              price  sqft_living_transformed  sqft_lot_transformed  \\\n",
       "count  2.159700e+04             21597.000000          21597.000000   \n",
       "mean   5.402966e+05                 0.000009             -0.000043   \n",
       "std    3.673681e+05                 0.999686              0.999566   \n",
       "min    7.800000e+04                -5.199338             -5.199338   \n",
       "25%    3.220000e+05                -0.667419             -0.676854   \n",
       "50%    4.500000e+05                -0.003764              0.000418   \n",
       "75%    6.450000e+05                 0.675277              0.674710   \n",
       "max    7.700000e+06                 5.199338              5.199338   \n",
       "\n",
       "       yr_built_transformed  zipcode_transformed  sqft_living15_transformed  \\\n",
       "count          21597.000000         21597.000000               21597.000000   \n",
       "mean              -0.007133            -0.006377                   0.000007   \n",
       "std                1.046026             1.283571                   0.999868   \n",
       "min               -5.199338            -5.199338                  -5.199338   \n",
       "25%               -0.689529            -0.653377                  -0.665852   \n",
       "50%                0.003764            -0.007527                   0.001255   \n",
       "75%                0.681594             0.710366                   0.670557   \n",
       "max                5.199338             5.199338                   5.199338   \n",
       "\n",
       "       sqft_lot15_transformed  \n",
       "count            21597.000000  \n",
       "mean                -0.000060  \n",
       "std                  1.000081  \n",
       "min                 -5.199338  \n",
       "25%                 -0.673702  \n",
       "50%                  0.000000  \n",
       "75%                  0.674476  \n",
       "max                  5.199338  "
      ]
     },
     "execution_count": 617,
     "metadata": {},
     "output_type": "execute_result"
    },
    {
     "data": {
      "image/png": "[encoded data removed]",
      "text/plain": [
       "<Figure size 402.375x360 with 1 Axes>"
      ]
     },
     "metadata": {
      "needs_background": "light"
     },
     "output_type": "display_data"
    },
    {
     "data": {
      "image/png": "[encoded data removed]",
      "text/plain": [
       "<Figure size 402.375x360 with 1 Axes>"
      ]
     },
     "metadata": {
      "needs_background": "light"
     },
     "output_type": "display_data"
    },
    {
     "data": {
      "image/png": "[encoded data removed]",
      "text/plain": [
       "<Figure size 402.375x360 with 1 Axes>"
      ]
     },
     "metadata": {
      "needs_background": "light"
     },
     "output_type": "display_data"
    },
    {
     "data": {
      "image/png": "[encoded data removed]",
      "text/plain": [
       "<Figure size 402.375x360 with 1 Axes>"
      ]
     },
     "metadata": {
      "needs_background": "light"
     },
     "output_type": "display_data"
    },
    {
     "data": {
      "image/png": "[encoded data removed]",
      "text/plain": [
       "<Figure size 402.375x360 with 1 Axes>"
      ]
     },
     "metadata": {
      "needs_background": "light"
     },
     "output_type": "display_data"
    },
    {
     "data": {
      "image/png": "[encoded data removed]",
      "text/plain": [
       "<Figure size 402.375x360 with 1 Axes>"
      ]
     },
     "metadata": {
      "needs_background": "light"
     },
     "output_type": "display_data"
    }
   ],
   "source": [
    "\n",
    "pt = PowerTransformer()\n",
    "qt = QuantileTransformer(output_distribution=\"normal\")\n",
    "\n",
    "transformed_cols = []\n",
    "for i in to_trans.keys():\n",
    "    if list(to_trans.values())[0] == 'pt':\n",
    "        transformed = pt.fit_transform(hp_df[i].to_numpy().reshape(-1,1))\n",
    "    elif list(to_trans.values())[0] == 'qt':\n",
    "        transformed = qt.fit_transform(hp_df[i].to_numpy().reshape(-1,1))\n",
    "    else: \n",
    "        print('no transformer could be identified')\n",
    "    sns.displot(transformed)\n",
    "    col_name = i+'_transformed'\n",
    "    hp_df[col_name] = transformed\n",
    "    transformed_cols = transformed_cols + [col_name]\n",
    "    hp_df = hp_df.drop(i, axis= 1)\n",
    "    \n",
    "    \n",
    "hp_df.describe()"
   ]
  },
  {
   "cell_type": "code",
   "execution_count": 618,
   "id": "a40f5920",
   "metadata": {},
   "outputs": [
    {
     "data": {
      "text/plain": [
       "['sqft_living_transformed',\n",
       " 'sqft_lot_transformed',\n",
       " 'yr_built_transformed',\n",
       " 'zipcode_transformed',\n",
       " 'sqft_living15_transformed',\n",
       " 'sqft_lot15_transformed']"
      ]
     },
     "execution_count": 618,
     "metadata": {},
     "output_type": "execute_result"
    }
   ],
   "source": [
    "transformed_cols"
   ]
  },
  {
   "cell_type": "code",
   "execution_count": 619,
   "id": "090508f6",
   "metadata": {
    "scrolled": true
   },
   "outputs": [
    {
     "data": {
      "text/html": [
       "<div>\n",
       "<style scoped>\n",
       "    .dataframe tbody tr th:only-of-type {\n",
       "        vertical-align: middle;\n",
       "    }\n",
       "\n",
       "    .dataframe tbody tr th {\n",
       "        vertical-align: top;\n",
       "    }\n",
       "\n",
       "    .dataframe thead th {\n",
       "        text-align: right;\n",
       "    }\n",
       "</style>\n",
       "<table border=\"1\" class=\"dataframe\">\n",
       "  <thead>\n",
       "    <tr style=\"text-align: right;\">\n",
       "      <th></th>\n",
       "      <th>price</th>\n",
       "      <th>sqft_living_transformed</th>\n",
       "      <th>sqft_lot_transformed</th>\n",
       "      <th>yr_built_transformed</th>\n",
       "      <th>zipcode_transformed</th>\n",
       "      <th>sqft_living15_transformed</th>\n",
       "      <th>sqft_lot15_transformed</th>\n",
       "    </tr>\n",
       "  </thead>\n",
       "  <tbody>\n",
       "    <tr>\n",
       "      <th>count</th>\n",
       "      <td>2.159700e+04</td>\n",
       "      <td>21597.000000</td>\n",
       "      <td>21597.000000</td>\n",
       "      <td>21597.000000</td>\n",
       "      <td>21597.000000</td>\n",
       "      <td>21597.000000</td>\n",
       "      <td>21597.000000</td>\n",
       "    </tr>\n",
       "    <tr>\n",
       "      <th>mean</th>\n",
       "      <td>5.402966e+05</td>\n",
       "      <td>0.000009</td>\n",
       "      <td>-0.000043</td>\n",
       "      <td>-0.007133</td>\n",
       "      <td>-0.006377</td>\n",
       "      <td>0.000007</td>\n",
       "      <td>-0.000060</td>\n",
       "    </tr>\n",
       "    <tr>\n",
       "      <th>std</th>\n",
       "      <td>3.673681e+05</td>\n",
       "      <td>0.999686</td>\n",
       "      <td>0.999566</td>\n",
       "      <td>1.046026</td>\n",
       "      <td>1.283571</td>\n",
       "      <td>0.999868</td>\n",
       "      <td>1.000081</td>\n",
       "    </tr>\n",
       "    <tr>\n",
       "      <th>min</th>\n",
       "      <td>7.800000e+04</td>\n",
       "      <td>-5.199338</td>\n",
       "      <td>-5.199338</td>\n",
       "      <td>-5.199338</td>\n",
       "      <td>-5.199338</td>\n",
       "      <td>-5.199338</td>\n",
       "      <td>-5.199338</td>\n",
       "    </tr>\n",
       "    <tr>\n",
       "      <th>25%</th>\n",
       "      <td>3.220000e+05</td>\n",
       "      <td>-0.667419</td>\n",
       "      <td>-0.676854</td>\n",
       "      <td>-0.689529</td>\n",
       "      <td>-0.653377</td>\n",
       "      <td>-0.665852</td>\n",
       "      <td>-0.673702</td>\n",
       "    </tr>\n",
       "    <tr>\n",
       "      <th>50%</th>\n",
       "      <td>4.500000e+05</td>\n",
       "      <td>-0.003764</td>\n",
       "      <td>0.000418</td>\n",
       "      <td>0.003764</td>\n",
       "      <td>-0.007527</td>\n",
       "      <td>0.001255</td>\n",
       "      <td>0.000000</td>\n",
       "    </tr>\n",
       "    <tr>\n",
       "      <th>75%</th>\n",
       "      <td>6.450000e+05</td>\n",
       "      <td>0.675277</td>\n",
       "      <td>0.674710</td>\n",
       "      <td>0.681594</td>\n",
       "      <td>0.710366</td>\n",
       "      <td>0.670557</td>\n",
       "      <td>0.674476</td>\n",
       "    </tr>\n",
       "    <tr>\n",
       "      <th>max</th>\n",
       "      <td>7.700000e+06</td>\n",
       "      <td>5.199338</td>\n",
       "      <td>5.199338</td>\n",
       "      <td>5.199338</td>\n",
       "      <td>5.199338</td>\n",
       "      <td>5.199338</td>\n",
       "      <td>5.199338</td>\n",
       "    </tr>\n",
       "  </tbody>\n",
       "</table>\n",
       "</div>"
      ],
      "text/plain": [
       "              price  sqft_living_transformed  sqft_lot_transformed  \\\n",
       "count  2.159700e+04             21597.000000          21597.000000   \n",
       "mean   5.402966e+05                 0.000009             -0.000043   \n",
       "std    3.673681e+05                 0.999686              0.999566   \n",
       "min    7.800000e+04                -5.199338             -5.199338   \n",
       "25%    3.220000e+05                -0.667419             -0.676854   \n",
       "50%    4.500000e+05                -0.003764              0.000418   \n",
       "75%    6.450000e+05                 0.675277              0.674710   \n",
       "max    7.700000e+06                 5.199338              5.199338   \n",
       "\n",
       "       yr_built_transformed  zipcode_transformed  sqft_living15_transformed  \\\n",
       "count          21597.000000         21597.000000               21597.000000   \n",
       "mean              -0.007133            -0.006377                   0.000007   \n",
       "std                1.046026             1.283571                   0.999868   \n",
       "min               -5.199338            -5.199338                  -5.199338   \n",
       "25%               -0.689529            -0.653377                  -0.665852   \n",
       "50%                0.003764            -0.007527                   0.001255   \n",
       "75%                0.681594             0.710366                   0.670557   \n",
       "max                5.199338             5.199338                   5.199338   \n",
       "\n",
       "       sqft_lot15_transformed  \n",
       "count            21597.000000  \n",
       "mean                -0.000060  \n",
       "std                  1.000081  \n",
       "min                 -5.199338  \n",
       "25%                 -0.673702  \n",
       "50%                  0.000000  \n",
       "75%                  0.674476  \n",
       "max                  5.199338  "
      ]
     },
     "execution_count": 619,
     "metadata": {},
     "output_type": "execute_result"
    }
   ],
   "source": [
    "hp_df.describe()"
   ]
  },
  {
   "cell_type": "code",
   "execution_count": 620,
   "id": "77dbfc22",
   "metadata": {},
   "outputs": [
    {
     "name": "stdout",
     "output_type": "stream",
     "text": [
      "<class 'pandas.core.frame.DataFrame'>\n",
      "RangeIndex: 21597 entries, 0 to 21596\n",
      "Data columns (total 14 columns):\n",
      " #   Column                     Non-Null Count  Dtype   \n",
      "---  ------                     --------------  -----   \n",
      " 0   bedrooms                   21597 non-null  category\n",
      " 1   bathrooms                  21597 non-null  category\n",
      " 2   floors                     21597 non-null  category\n",
      " 3   waterfront                 21597 non-null  category\n",
      " 4   view                       21597 non-null  category\n",
      " 5   condition                  21597 non-null  category\n",
      " 6   grade                      21597 non-null  category\n",
      " 7   price                      21597 non-null  int64   \n",
      " 8   sqft_living_transformed    21597 non-null  float64 \n",
      " 9   sqft_lot_transformed       21597 non-null  float64 \n",
      " 10  yr_built_transformed       21597 non-null  float64 \n",
      " 11  zipcode_transformed        21597 non-null  float64 \n",
      " 12  sqft_living15_transformed  21597 non-null  float64 \n",
      " 13  sqft_lot15_transformed     21597 non-null  float64 \n",
      "dtypes: category(7), float64(6), int64(1)\n",
      "memory usage: 1.3 MB\n"
     ]
    }
   ],
   "source": [
    "hp_df.info()"
   ]
  },
  {
   "cell_type": "code",
   "execution_count": 621,
   "id": "b816fe0f",
   "metadata": {},
   "outputs": [
    {
     "data": {
      "text/plain": [
       "array([[<AxesSubplot:title={'center':'price'}>,\n",
       "        <AxesSubplot:title={'center':'sqft_living_transformed'}>,\n",
       "        <AxesSubplot:title={'center':'sqft_lot_transformed'}>],\n",
       "       [<AxesSubplot:title={'center':'yr_built_transformed'}>,\n",
       "        <AxesSubplot:title={'center':'zipcode_transformed'}>,\n",
       "        <AxesSubplot:title={'center':'sqft_living15_transformed'}>],\n",
       "       [<AxesSubplot:title={'center':'sqft_lot15_transformed'}>,\n",
       "        <AxesSubplot:>, <AxesSubplot:>]], dtype=object)"
      ]
     },
     "execution_count": 621,
     "metadata": {},
     "output_type": "execute_result"
    },
    {
     "data": {
      "image/png": "[encoded data removed]",
      "text/plain": [
       "<Figure size 864x864 with 9 Axes>"
      ]
     },
     "metadata": {
      "needs_background": "light"
     },
     "output_type": "display_data"
    }
   ],
   "source": [
    "hp_df.select_dtypes(['int', 'float64']).hist(figsize=(12,12), bins=40)"
   ]
  },
  {
   "cell_type": "markdown",
   "id": "36274778",
   "metadata": {},
   "source": [
    "## One-hot encode categorical variables"
   ]
  },
  {
   "cell_type": "code",
   "execution_count": 622,
   "id": "f432f8d8",
   "metadata": {},
   "outputs": [
    {
     "data": {
      "text/plain": [
       "['bedrooms', 'bathrooms', 'floors', 'waterfront', 'view', 'condition', 'grade']"
      ]
     },
     "execution_count": 622,
     "metadata": {},
     "output_type": "execute_result"
    }
   ],
   "source": [
    "col_names_object = list(hp_df.select_dtypes([\"object\" and 'category']).columns)\n",
    "col_names_object"
   ]
  },
  {
   "cell_type": "code",
   "execution_count": 623,
   "id": "b0e8c857",
   "metadata": {},
   "outputs": [],
   "source": [
    "cat_features =  pd.get_dummies(hp_df[col_names_object] , drop_first=True)"
   ]
  },
  {
   "cell_type": "code",
   "execution_count": 624,
   "id": "0ab8ae97",
   "metadata": {},
   "outputs": [],
   "source": [
    "hp_df = hp_df.drop(col_names_object, axis = 1)"
   ]
  },
  {
   "cell_type": "code",
   "execution_count": 625,
   "id": "9a0253b2",
   "metadata": {},
   "outputs": [],
   "source": [
    "hp_df[cat_features.columns] = cat_features"
   ]
  },
  {
   "cell_type": "code",
   "execution_count": 626,
   "id": "f68ffbf1",
   "metadata": {
    "scrolled": true
   },
   "outputs": [
    {
     "data": {
      "text/html": [
       "<div>\n",
       "<style scoped>\n",
       "    .dataframe tbody tr th:only-of-type {\n",
       "        vertical-align: middle;\n",
       "    }\n",
       "\n",
       "    .dataframe tbody tr th {\n",
       "        vertical-align: top;\n",
       "    }\n",
       "\n",
       "    .dataframe thead th {\n",
       "        text-align: right;\n",
       "    }\n",
       "</style>\n",
       "<table border=\"1\" class=\"dataframe\">\n",
       "  <thead>\n",
       "    <tr style=\"text-align: right;\">\n",
       "      <th></th>\n",
       "      <th>price</th>\n",
       "      <th>sqft_living_transformed</th>\n",
       "      <th>sqft_lot_transformed</th>\n",
       "      <th>yr_built_transformed</th>\n",
       "      <th>zipcode_transformed</th>\n",
       "      <th>sqft_living15_transformed</th>\n",
       "      <th>sqft_lot15_transformed</th>\n",
       "      <th>bedrooms_2</th>\n",
       "      <th>bedrooms_3</th>\n",
       "      <th>bedrooms_4</th>\n",
       "      <th>...</th>\n",
       "      <th>grade_4</th>\n",
       "      <th>grade_5</th>\n",
       "      <th>grade_6</th>\n",
       "      <th>grade_7</th>\n",
       "      <th>grade_8</th>\n",
       "      <th>grade_9</th>\n",
       "      <th>grade_10</th>\n",
       "      <th>grade_11</th>\n",
       "      <th>grade_12</th>\n",
       "      <th>grade_13</th>\n",
       "    </tr>\n",
       "  </thead>\n",
       "  <tbody>\n",
       "    <tr>\n",
       "      <th>0</th>\n",
       "      <td>221900</td>\n",
       "      <td>-1.109378</td>\n",
       "      <td>-0.517790</td>\n",
       "      <td>-0.549616</td>\n",
       "      <td>1.756055</td>\n",
       "      <td>-1.037937</td>\n",
       "      <td>-0.517790</td>\n",
       "      <td>0</td>\n",
       "      <td>1</td>\n",
       "      <td>0</td>\n",
       "      <td>...</td>\n",
       "      <td>0</td>\n",
       "      <td>0</td>\n",
       "      <td>0</td>\n",
       "      <td>1</td>\n",
       "      <td>0</td>\n",
       "      <td>0</td>\n",
       "      <td>0</td>\n",
       "      <td>0</td>\n",
       "      <td>0</td>\n",
       "      <td>0</td>\n",
       "    </tr>\n",
       "    <tr>\n",
       "      <th>1</th>\n",
       "      <td>538000</td>\n",
       "      <td>0.694311</td>\n",
       "      <td>-0.115464</td>\n",
       "      <td>-0.689529</td>\n",
       "      <td>0.858910</td>\n",
       "      <td>-0.247134</td>\n",
       "      <td>0.007616</td>\n",
       "      <td>0</td>\n",
       "      <td>1</td>\n",
       "      <td>0</td>\n",
       "      <td>...</td>\n",
       "      <td>0</td>\n",
       "      <td>0</td>\n",
       "      <td>0</td>\n",
       "      <td>1</td>\n",
       "      <td>0</td>\n",
       "      <td>0</td>\n",
       "      <td>0</td>\n",
       "      <td>0</td>\n",
       "      <td>0</td>\n",
       "      <td>0</td>\n",
       "    </tr>\n",
       "    <tr>\n",
       "      <th>2</th>\n",
       "      <td>180000</td>\n",
       "      <td>-2.131682</td>\n",
       "      <td>0.562796</td>\n",
       "      <td>-1.118711</td>\n",
       "      <td>-0.858910</td>\n",
       "      <td>1.064091</td>\n",
       "      <td>0.154186</td>\n",
       "      <td>1</td>\n",
       "      <td>0</td>\n",
       "      <td>0</td>\n",
       "      <td>...</td>\n",
       "      <td>0</td>\n",
       "      <td>0</td>\n",
       "      <td>1</td>\n",
       "      <td>0</td>\n",
       "      <td>0</td>\n",
       "      <td>0</td>\n",
       "      <td>0</td>\n",
       "      <td>0</td>\n",
       "      <td>0</td>\n",
       "      <td>0</td>\n",
       "    </tr>\n",
       "    <tr>\n",
       "      <th>3</th>\n",
       "      <td>604000</td>\n",
       "      <td>0.051460</td>\n",
       "      <td>-0.718462</td>\n",
       "      <td>-0.247134</td>\n",
       "      <td>1.077446</td>\n",
       "      <td>-0.985610</td>\n",
       "      <td>-0.744694</td>\n",
       "      <td>0</td>\n",
       "      <td>0</td>\n",
       "      <td>1</td>\n",
       "      <td>...</td>\n",
       "      <td>0</td>\n",
       "      <td>0</td>\n",
       "      <td>0</td>\n",
       "      <td>1</td>\n",
       "      <td>0</td>\n",
       "      <td>0</td>\n",
       "      <td>0</td>\n",
       "      <td>0</td>\n",
       "      <td>0</td>\n",
       "      <td>0</td>\n",
       "    </tr>\n",
       "    <tr>\n",
       "      <th>4</th>\n",
       "      <td>510000</td>\n",
       "      <td>-0.293986</td>\n",
       "      <td>0.128003</td>\n",
       "      <td>0.368215</td>\n",
       "      <td>0.080379</td>\n",
       "      <td>-0.062770</td>\n",
       "      <td>-0.040336</td>\n",
       "      <td>0</td>\n",
       "      <td>1</td>\n",
       "      <td>0</td>\n",
       "      <td>...</td>\n",
       "      <td>0</td>\n",
       "      <td>0</td>\n",
       "      <td>0</td>\n",
       "      <td>0</td>\n",
       "      <td>1</td>\n",
       "      <td>0</td>\n",
       "      <td>0</td>\n",
       "      <td>0</td>\n",
       "      <td>0</td>\n",
       "      <td>0</td>\n",
       "    </tr>\n",
       "    <tr>\n",
       "      <th>...</th>\n",
       "      <td>...</td>\n",
       "      <td>...</td>\n",
       "      <td>...</td>\n",
       "      <td>...</td>\n",
       "      <td>...</td>\n",
       "      <td>...</td>\n",
       "      <td>...</td>\n",
       "      <td>...</td>\n",
       "      <td>...</td>\n",
       "      <td>...</td>\n",
       "      <td>...</td>\n",
       "      <td>...</td>\n",
       "      <td>...</td>\n",
       "      <td>...</td>\n",
       "      <td>...</td>\n",
       "      <td>...</td>\n",
       "      <td>...</td>\n",
       "      <td>...</td>\n",
       "      <td>...</td>\n",
       "      <td>...</td>\n",
       "      <td>...</td>\n",
       "    </tr>\n",
       "    <tr>\n",
       "      <th>21592</th>\n",
       "      <td>360000</td>\n",
       "      <td>-0.509202</td>\n",
       "      <td>-2.132221</td>\n",
       "      <td>1.529558</td>\n",
       "      <td>0.261387</td>\n",
       "      <td>-0.573115</td>\n",
       "      <td>-1.831578</td>\n",
       "      <td>0</td>\n",
       "      <td>1</td>\n",
       "      <td>0</td>\n",
       "      <td>...</td>\n",
       "      <td>0</td>\n",
       "      <td>0</td>\n",
       "      <td>0</td>\n",
       "      <td>0</td>\n",
       "      <td>1</td>\n",
       "      <td>0</td>\n",
       "      <td>0</td>\n",
       "      <td>0</td>\n",
       "      <td>0</td>\n",
       "      <td>0</td>\n",
       "    </tr>\n",
       "    <tr>\n",
       "      <th>21593</th>\n",
       "      <td>400000</td>\n",
       "      <td>0.436240</td>\n",
       "      <td>-0.475178</td>\n",
       "      <td>2.183092</td>\n",
       "      <td>1.215372</td>\n",
       "      <td>-0.012546</td>\n",
       "      <td>-0.165095</td>\n",
       "      <td>0</td>\n",
       "      <td>0</td>\n",
       "      <td>1</td>\n",
       "      <td>...</td>\n",
       "      <td>0</td>\n",
       "      <td>0</td>\n",
       "      <td>0</td>\n",
       "      <td>0</td>\n",
       "      <td>1</td>\n",
       "      <td>0</td>\n",
       "      <td>0</td>\n",
       "      <td>0</td>\n",
       "      <td>0</td>\n",
       "      <td>0</td>\n",
       "    </tr>\n",
       "    <tr>\n",
       "      <th>21594</th>\n",
       "      <td>402101</td>\n",
       "      <td>-1.428482</td>\n",
       "      <td>-1.837261</td>\n",
       "      <td>1.529558</td>\n",
       "      <td>1.142483</td>\n",
       "      <td>-2.043115</td>\n",
       "      <td>-1.644085</td>\n",
       "      <td>1</td>\n",
       "      <td>0</td>\n",
       "      <td>0</td>\n",
       "      <td>...</td>\n",
       "      <td>0</td>\n",
       "      <td>0</td>\n",
       "      <td>0</td>\n",
       "      <td>1</td>\n",
       "      <td>0</td>\n",
       "      <td>0</td>\n",
       "      <td>0</td>\n",
       "      <td>0</td>\n",
       "      <td>0</td>\n",
       "      <td>0</td>\n",
       "    </tr>\n",
       "    <tr>\n",
       "      <th>21595</th>\n",
       "      <td>400000</td>\n",
       "      <td>-0.406079</td>\n",
       "      <td>-1.515547</td>\n",
       "      <td>1.008294</td>\n",
       "      <td>-0.918498</td>\n",
       "      <td>-0.862544</td>\n",
       "      <td>-2.068024</td>\n",
       "      <td>0</td>\n",
       "      <td>1</td>\n",
       "      <td>0</td>\n",
       "      <td>...</td>\n",
       "      <td>0</td>\n",
       "      <td>0</td>\n",
       "      <td>0</td>\n",
       "      <td>0</td>\n",
       "      <td>1</td>\n",
       "      <td>0</td>\n",
       "      <td>0</td>\n",
       "      <td>0</td>\n",
       "      <td>0</td>\n",
       "      <td>0</td>\n",
       "    </tr>\n",
       "    <tr>\n",
       "      <th>21596</th>\n",
       "      <td>325000</td>\n",
       "      <td>-1.428482</td>\n",
       "      <td>-2.220813</td>\n",
       "      <td>1.428482</td>\n",
       "      <td>1.142483</td>\n",
       "      <td>-2.043115</td>\n",
       "      <td>-1.954804</td>\n",
       "      <td>1</td>\n",
       "      <td>0</td>\n",
       "      <td>0</td>\n",
       "      <td>...</td>\n",
       "      <td>0</td>\n",
       "      <td>0</td>\n",
       "      <td>0</td>\n",
       "      <td>1</td>\n",
       "      <td>0</td>\n",
       "      <td>0</td>\n",
       "      <td>0</td>\n",
       "      <td>0</td>\n",
       "      <td>0</td>\n",
       "      <td>0</td>\n",
       "    </tr>\n",
       "  </tbody>\n",
       "</table>\n",
       "<p>21597 rows × 70 columns</p>\n",
       "</div>"
      ],
      "text/plain": [
       "        price  sqft_living_transformed  sqft_lot_transformed  \\\n",
       "0      221900                -1.109378             -0.517790   \n",
       "1      538000                 0.694311             -0.115464   \n",
       "2      180000                -2.131682              0.562796   \n",
       "3      604000                 0.051460             -0.718462   \n",
       "4      510000                -0.293986              0.128003   \n",
       "...       ...                      ...                   ...   \n",
       "21592  360000                -0.509202             -2.132221   \n",
       "21593  400000                 0.436240             -0.475178   \n",
       "21594  402101                -1.428482             -1.837261   \n",
       "21595  400000                -0.406079             -1.515547   \n",
       "21596  325000                -1.428482             -2.220813   \n",
       "\n",
       "       yr_built_transformed  zipcode_transformed  sqft_living15_transformed  \\\n",
       "0                 -0.549616             1.756055                  -1.037937   \n",
       "1                 -0.689529             0.858910                  -0.247134   \n",
       "2                 -1.118711            -0.858910                   1.064091   \n",
       "3                 -0.247134             1.077446                  -0.985610   \n",
       "4                  0.368215             0.080379                  -0.062770   \n",
       "...                     ...                  ...                        ...   \n",
       "21592              1.529558             0.261387                  -0.573115   \n",
       "21593              2.183092             1.215372                  -0.012546   \n",
       "21594              1.529558             1.142483                  -2.043115   \n",
       "21595              1.008294            -0.918498                  -0.862544   \n",
       "21596              1.428482             1.142483                  -2.043115   \n",
       "\n",
       "       sqft_lot15_transformed  bedrooms_2  bedrooms_3  bedrooms_4  ...  \\\n",
       "0                   -0.517790           0           1           0  ...   \n",
       "1                    0.007616           0           1           0  ...   \n",
       "2                    0.154186           1           0           0  ...   \n",
       "3                   -0.744694           0           0           1  ...   \n",
       "4                   -0.040336           0           1           0  ...   \n",
       "...                       ...         ...         ...         ...  ...   \n",
       "21592               -1.831578           0           1           0  ...   \n",
       "21593               -0.165095           0           0           1  ...   \n",
       "21594               -1.644085           1           0           0  ...   \n",
       "21595               -2.068024           0           1           0  ...   \n",
       "21596               -1.954804           1           0           0  ...   \n",
       "\n",
       "       grade_4  grade_5  grade_6  grade_7  grade_8  grade_9  grade_10  \\\n",
       "0            0        0        0        1        0        0         0   \n",
       "1            0        0        0        1        0        0         0   \n",
       "2            0        0        1        0        0        0         0   \n",
       "3            0        0        0        1        0        0         0   \n",
       "4            0        0        0        0        1        0         0   \n",
       "...        ...      ...      ...      ...      ...      ...       ...   \n",
       "21592        0        0        0        0        1        0         0   \n",
       "21593        0        0        0        0        1        0         0   \n",
       "21594        0        0        0        1        0        0         0   \n",
       "21595        0        0        0        0        1        0         0   \n",
       "21596        0        0        0        1        0        0         0   \n",
       "\n",
       "       grade_11  grade_12  grade_13  \n",
       "0             0         0         0  \n",
       "1             0         0         0  \n",
       "2             0         0         0  \n",
       "3             0         0         0  \n",
       "4             0         0         0  \n",
       "...         ...       ...       ...  \n",
       "21592         0         0         0  \n",
       "21593         0         0         0  \n",
       "21594         0         0         0  \n",
       "21595         0         0         0  \n",
       "21596         0         0         0  \n",
       "\n",
       "[21597 rows x 70 columns]"
      ]
     },
     "execution_count": 626,
     "metadata": {},
     "output_type": "execute_result"
    }
   ],
   "source": [
    "hp_df"
   ]
  },
  {
   "cell_type": "markdown",
   "id": "ed92da8e",
   "metadata": {},
   "source": [
    "## Remove outliers"
   ]
  },
  {
   "cell_type": "code",
   "execution_count": 627,
   "id": "fef2db04",
   "metadata": {},
   "outputs": [
    {
     "data": {
      "image/png": "[encoded data removed]",
      "text/plain": [
       "<Figure size 432x288 with 1 Axes>"
      ]
     },
     "metadata": {
      "needs_background": "light"
     },
     "output_type": "display_data"
    }
   ],
   "source": [
    "for i in transformed_cols:\n",
    "    sns.boxplot(data=hp_df[transformed_cols]).set(title='Boxplots of numerical variables showing outliers')\n",
    "    plt.xticks(rotation=90)"
   ]
  },
  {
   "cell_type": "code",
   "execution_count": 628,
   "id": "24c232e2",
   "metadata": {},
   "outputs": [],
   "source": [
    " len_before = hp_df.shape[0]"
   ]
  },
  {
   "cell_type": "code",
   "execution_count": 629,
   "id": "c16f7778",
   "metadata": {},
   "outputs": [],
   "source": [
    "def remove_outlier(df_in, col_name):\n",
    "    q1 = df_in[col_name].quantile(0.25)\n",
    "    q3 = df_in[col_name].quantile(0.75)\n",
    "    iqr = q3-q1 #Interquartile range\n",
    "    fence_low  = q1-2*iqr\n",
    "    fence_high = q3+2*iqr\n",
    "    df_out = df_in.loc[(df_in[col_name] > fence_low) & (df_in[col_name] < fence_high)]\n",
    "    return df_out\n",
    "\n",
    "for i in transformed_cols: \n",
    "    hp_df = remove_outlier(hp_df, i )"
   ]
  },
  {
   "cell_type": "code",
   "execution_count": 630,
   "id": "371d0377",
   "metadata": {},
   "outputs": [
    {
     "data": {
      "image/png": "[encoded data removed]",
      "text/plain": [
       "<Figure size 432x288 with 1 Axes>"
      ]
     },
     "metadata": {
      "needs_background": "light"
     },
     "output_type": "display_data"
    }
   ],
   "source": [
    "for i in transformed_cols:\n",
    "    sns.boxplot(data=hp_df[transformed_cols]).set(title='Boxplots of numerical variables showing outliers')\n",
    "    plt.xticks(rotation=90)"
   ]
  },
  {
   "cell_type": "code",
   "execution_count": 631,
   "id": "87cf610e",
   "metadata": {},
   "outputs": [],
   "source": [
    "len_after = hp_df.shape[0]"
   ]
  },
  {
   "cell_type": "code",
   "execution_count": 632,
   "id": "a9b2dff2",
   "metadata": {},
   "outputs": [
    {
     "name": "stdout",
     "output_type": "stream",
     "text": [
      "Of the original dataset 96.17% of rows remain\n"
     ]
    }
   ],
   "source": [
    "print(f'Of the original dataset {round(len_after/len_before * 100, 2)}% of rows remain')"
   ]
  },
  {
   "cell_type": "code",
   "execution_count": null,
   "id": "284b21b3",
   "metadata": {},
   "outputs": [],
   "source": []
  },
  {
   "cell_type": "markdown",
   "id": "7b47f885",
   "metadata": {},
   "source": [
    "## 1st Model only using numerical variables"
   ]
  },
  {
   "cell_type": "markdown",
   "id": "a82c36cb",
   "metadata": {},
   "source": [
    "###  1) Split X-y"
   ]
  },
  {
   "cell_type": "code",
   "execution_count": 633,
   "id": "8bec4769",
   "metadata": {
    "scrolled": true
   },
   "outputs": [],
   "source": [
    "X=hp_df.drop('price', axis=1)\n",
    "y=hp_df['price']\n"
   ]
  },
  {
   "cell_type": "code",
   "execution_count": 634,
   "id": "0b1524ee",
   "metadata": {},
   "outputs": [],
   "source": [
    "X=X.drop(cat_features.columns, axis=1)"
   ]
  },
  {
   "cell_type": "code",
   "execution_count": 635,
   "id": "8c69a0cc",
   "metadata": {},
   "outputs": [
    {
     "data": {
      "text/plain": [
       "Index(['sqft_living_transformed', 'sqft_lot_transformed',\n",
       "       'yr_built_transformed', 'zipcode_transformed',\n",
       "       'sqft_living15_transformed', 'sqft_lot15_transformed'],\n",
       "      dtype='object')"
      ]
     },
     "execution_count": 635,
     "metadata": {},
     "output_type": "execute_result"
    }
   ],
   "source": [
    "X.columns"
   ]
  },
  {
   "cell_type": "code",
   "execution_count": 636,
   "id": "2d047396",
   "metadata": {},
   "outputs": [],
   "source": [
    "X_train, X_test, y_train, y_test=train_test_split(X, y, test_size=.30,random_state=100)"
   ]
  },
  {
   "cell_type": "code",
   "execution_count": 637,
   "id": "cf05c090",
   "metadata": {},
   "outputs": [
    {
     "data": {
      "text/html": [
       "<div>\n",
       "<style scoped>\n",
       "    .dataframe tbody tr th:only-of-type {\n",
       "        vertical-align: middle;\n",
       "    }\n",
       "\n",
       "    .dataframe tbody tr th {\n",
       "        vertical-align: top;\n",
       "    }\n",
       "\n",
       "    .dataframe thead th {\n",
       "        text-align: right;\n",
       "    }\n",
       "</style>\n",
       "<table border=\"1\" class=\"dataframe\">\n",
       "  <thead>\n",
       "    <tr style=\"text-align: right;\">\n",
       "      <th></th>\n",
       "      <th>sqft_living_transformed</th>\n",
       "      <th>sqft_lot_transformed</th>\n",
       "      <th>yr_built_transformed</th>\n",
       "      <th>zipcode_transformed</th>\n",
       "      <th>sqft_living15_transformed</th>\n",
       "      <th>sqft_lot15_transformed</th>\n",
       "    </tr>\n",
       "  </thead>\n",
       "  <tbody>\n",
       "    <tr>\n",
       "      <th>366</th>\n",
       "      <td>1.055293</td>\n",
       "      <td>0.636387</td>\n",
       "      <td>0.875354</td>\n",
       "      <td>1.431971</td>\n",
       "      <td>0.415634</td>\n",
       "      <td>1.271089</td>\n",
       "    </tr>\n",
       "    <tr>\n",
       "      <th>17574</th>\n",
       "      <td>1.368450</td>\n",
       "      <td>-0.247645</td>\n",
       "      <td>1.097845</td>\n",
       "      <td>-0.295296</td>\n",
       "      <td>1.844811</td>\n",
       "      <td>-0.250368</td>\n",
       "    </tr>\n",
       "    <tr>\n",
       "      <th>2811</th>\n",
       "      <td>-2.575483</td>\n",
       "      <td>-0.888309</td>\n",
       "      <td>-2.241016</td>\n",
       "      <td>0.412900</td>\n",
       "      <td>-1.421556</td>\n",
       "      <td>-0.930036</td>\n",
       "    </tr>\n",
       "    <tr>\n",
       "      <th>18643</th>\n",
       "      <td>0.548158</td>\n",
       "      <td>0.602943</td>\n",
       "      <td>-0.329548</td>\n",
       "      <td>-0.583496</td>\n",
       "      <td>0.533636</td>\n",
       "      <td>0.589456</td>\n",
       "    </tr>\n",
       "    <tr>\n",
       "      <th>9813</th>\n",
       "      <td>-0.072829</td>\n",
       "      <td>-0.429351</td>\n",
       "      <td>-0.903301</td>\n",
       "      <td>1.756055</td>\n",
       "      <td>-1.239352</td>\n",
       "      <td>-0.278302</td>\n",
       "    </tr>\n",
       "    <tr>\n",
       "      <th>...</th>\n",
       "      <td>...</td>\n",
       "      <td>...</td>\n",
       "      <td>...</td>\n",
       "      <td>...</td>\n",
       "      <td>...</td>\n",
       "      <td>...</td>\n",
       "    </tr>\n",
       "    <tr>\n",
       "      <th>16925</th>\n",
       "      <td>-1.192071</td>\n",
       "      <td>1.004157</td>\n",
       "      <td>-0.758004</td>\n",
       "      <td>-1.210137</td>\n",
       "      <td>0.415634</td>\n",
       "      <td>0.618565</td>\n",
       "    </tr>\n",
       "    <tr>\n",
       "      <th>82</th>\n",
       "      <td>0.120731</td>\n",
       "      <td>-0.257495</td>\n",
       "      <td>-0.791884</td>\n",
       "      <td>0.710366</td>\n",
       "      <td>-0.194422</td>\n",
       "      <td>-0.257495</td>\n",
       "    </tr>\n",
       "    <tr>\n",
       "      <th>12565</th>\n",
       "      <td>2.067306</td>\n",
       "      <td>1.430926</td>\n",
       "      <td>0.711981</td>\n",
       "      <td>-1.575613</td>\n",
       "      <td>2.162646</td>\n",
       "      <td>1.573776</td>\n",
       "    </tr>\n",
       "    <tr>\n",
       "      <th>14676</th>\n",
       "      <td>1.817968</td>\n",
       "      <td>0.282727</td>\n",
       "      <td>1.199766</td>\n",
       "      <td>-1.135284</td>\n",
       "      <td>1.694923</td>\n",
       "      <td>0.344487</td>\n",
       "    </tr>\n",
       "    <tr>\n",
       "      <th>5848</th>\n",
       "      <td>-0.392492</td>\n",
       "      <td>-0.148584</td>\n",
       "      <td>0.030114</td>\n",
       "      <td>-1.355761</td>\n",
       "      <td>-0.593940</td>\n",
       "      <td>0.115390</td>\n",
       "    </tr>\n",
       "  </tbody>\n",
       "</table>\n",
       "<p>14538 rows × 6 columns</p>\n",
       "</div>"
      ],
      "text/plain": [
       "       sqft_living_transformed  sqft_lot_transformed  yr_built_transformed  \\\n",
       "366                   1.055293              0.636387              0.875354   \n",
       "17574                 1.368450             -0.247645              1.097845   \n",
       "2811                 -2.575483             -0.888309             -2.241016   \n",
       "18643                 0.548158              0.602943             -0.329548   \n",
       "9813                 -0.072829             -0.429351             -0.903301   \n",
       "...                        ...                   ...                   ...   \n",
       "16925                -1.192071              1.004157             -0.758004   \n",
       "82                    0.120731             -0.257495             -0.791884   \n",
       "12565                 2.067306              1.430926              0.711981   \n",
       "14676                 1.817968              0.282727              1.199766   \n",
       "5848                 -0.392492             -0.148584              0.030114   \n",
       "\n",
       "       zipcode_transformed  sqft_living15_transformed  sqft_lot15_transformed  \n",
       "366               1.431971                   0.415634                1.271089  \n",
       "17574            -0.295296                   1.844811               -0.250368  \n",
       "2811              0.412900                  -1.421556               -0.930036  \n",
       "18643            -0.583496                   0.533636                0.589456  \n",
       "9813              1.756055                  -1.239352               -0.278302  \n",
       "...                    ...                        ...                     ...  \n",
       "16925            -1.210137                   0.415634                0.618565  \n",
       "82                0.710366                  -0.194422               -0.257495  \n",
       "12565            -1.575613                   2.162646                1.573776  \n",
       "14676            -1.135284                   1.694923                0.344487  \n",
       "5848             -1.355761                  -0.593940                0.115390  \n",
       "\n",
       "[14538 rows x 6 columns]"
      ]
     },
     "execution_count": 637,
     "metadata": {},
     "output_type": "execute_result"
    }
   ],
   "source": [
    "X_train"
   ]
  },
  {
   "cell_type": "markdown",
   "id": "c66ea548",
   "metadata": {},
   "source": [
    "### Standardize"
   ]
  },
  {
   "cell_type": "code",
   "execution_count": 638,
   "id": "ec9bcdc4",
   "metadata": {},
   "outputs": [],
   "source": [
    "std_scaler=StandardScaler().fit(X_train)   ##. finding the parameters ( mean, variance from the training set )\n",
    "                                            ## \n",
    "X_train_scaled=std_scaler.transform(X_train)"
   ]
  },
  {
   "cell_type": "code",
   "execution_count": 639,
   "id": "afdb6ed4",
   "metadata": {},
   "outputs": [
    {
     "data": {
      "text/plain": [
       "(14538, 6)"
      ]
     },
     "execution_count": 639,
     "metadata": {},
     "output_type": "execute_result"
    }
   ],
   "source": [
    "X_train.shape"
   ]
  },
  {
   "cell_type": "code",
   "execution_count": 640,
   "id": "4a72b5e1",
   "metadata": {},
   "outputs": [
    {
     "data": {
      "text/plain": [
       "(6231, 6)"
      ]
     },
     "execution_count": 640,
     "metadata": {},
     "output_type": "execute_result"
    }
   ],
   "source": [
    "X_test_scaled=std_scaler.transform(X_test)\n",
    "X_test_scaled.shape"
   ]
  },
  {
   "cell_type": "markdown",
   "id": "adc28250",
   "metadata": {},
   "source": [
    "## Linear Regression"
   ]
  },
  {
   "cell_type": "code",
   "execution_count": 641,
   "id": "d581f596",
   "metadata": {},
   "outputs": [
    {
     "name": "stdout",
     "output_type": "stream",
     "text": [
      "                            OLS Regression Results                            \n",
      "==============================================================================\n",
      "Dep. Variable:                  price   R-squared:                       0.428\n",
      "Model:                            OLS   Adj. R-squared:                  0.427\n",
      "Method:                 Least Squares   F-statistic:                     1810.\n",
      "Date:                Tue, 19 Apr 2022   Prob (F-statistic):               0.00\n",
      "Time:                        13:43:00   Log-Likelihood:            -2.0274e+05\n",
      "No. Observations:               14538   AIC:                         4.055e+05\n",
      "Df Residuals:                   14531   BIC:                         4.056e+05\n",
      "Df Model:                           6                                         \n",
      "Covariance Type:            nonrobust                                         \n",
      "==============================================================================\n",
      "                 coef    std err          t      P>|t|      [0.025      0.975]\n",
      "------------------------------------------------------------------------------\n",
      "const       5.399e+05   2286.432    236.144      0.000    5.35e+05    5.44e+05\n",
      "x1          1.997e+05   3521.541     56.701      0.000    1.93e+05    2.07e+05\n",
      "x2         -4.023e+04   6186.388     -6.502      0.000   -5.24e+04   -2.81e+04\n",
      "x3         -7.263e+04   2597.890    -27.958      0.000   -7.77e+04   -6.75e+04\n",
      "x4         -3917.6766   2501.008     -1.566      0.117   -8819.971     984.618\n",
      "x5          8.555e+04   3572.708     23.944      0.000    7.85e+04    9.25e+04\n",
      "x6         -5267.4058   6146.438     -0.857      0.391   -1.73e+04    6780.395\n",
      "==============================================================================\n",
      "Omnibus:                    13807.922   Durbin-Watson:                   1.972\n",
      "Prob(Omnibus):                  0.000   Jarque-Bera (JB):          1483365.641\n",
      "Skew:                           4.286   Prob(JB):                         0.00\n",
      "Kurtosis:                      51.737   Cond. No.                         6.21\n",
      "==============================================================================\n",
      "\n",
      "Notes:\n",
      "[1] Standard Errors assume that the covariance matrix of the errors is correctly specified.\n"
     ]
    }
   ],
   "source": [
    "X_train_const_scaled = sm.add_constant(X_train_scaled) # adding a constant\n",
    "\n",
    "model = sm.OLS(y_train, X_train_const_scaled).fit()\n",
    "predictions_train = model.predict(X_train_const_scaled) \n",
    "\n",
    "X_test_const_scaled = sm.add_constant(X_test_scaled) # adding a constant\n",
    "predictions_test = model.predict(X_test_const_scaled) \n",
    "print_model = model.summary()\n",
    "print(print_model)"
   ]
  },
  {
   "cell_type": "code",
   "execution_count": 642,
   "id": "34169886",
   "metadata": {
    "scrolled": true
   },
   "outputs": [
    {
     "data": {
      "text/plain": [
       "LinearRegression()"
      ]
     },
     "execution_count": 642,
     "metadata": {},
     "output_type": "execute_result"
    }
   ],
   "source": [
    "model=LinearRegression()    # model\n",
    "model.fit(X_train_scaled, y_train)   # model train"
   ]
  },
  {
   "cell_type": "code",
   "execution_count": 643,
   "id": "d3b47555",
   "metadata": {},
   "outputs": [
    {
     "data": {
      "text/plain": [
       "array([199675.3064959 , -40226.33271277, -72630.73706728,  -3917.67655982,\n",
       "        85545.17500833,  -5267.4058314 ])"
      ]
     },
     "execution_count": 643,
     "metadata": {},
     "output_type": "execute_result"
    }
   ],
   "source": [
    "model.coef_"
   ]
  },
  {
   "cell_type": "code",
   "execution_count": 644,
   "id": "5032a17c",
   "metadata": {},
   "outputs": [],
   "source": [
    "y_pred=model.predict(X_test_scaled)   # model prediction\n",
    "\n",
    "y_pred_train=model.predict(X_train_scaled)"
   ]
  },
  {
   "cell_type": "code",
   "execution_count": 645,
   "id": "c7b356ab",
   "metadata": {
    "scrolled": true
   },
   "outputs": [],
   "source": [
    "result=pd.DataFrame({\"y_test\":y_test,\"y_pred\":y_pred})"
   ]
  },
  {
   "cell_type": "code",
   "execution_count": 646,
   "id": "5f0a8b42",
   "metadata": {},
   "outputs": [
    {
     "data": {
      "text/plain": [
       "[<matplotlib.lines.Line2D at 0x28b917c9310>]"
      ]
     },
     "execution_count": 646,
     "metadata": {},
     "output_type": "execute_result"
    },
    {
     "data": {
      "image/png": "[encoded data removed]",
      "text/plain": [
       "<Figure size 1008x288 with 3 Axes>"
      ]
     },
     "metadata": {
      "needs_background": "light"
     },
     "output_type": "display_data"
    }
   ],
   "source": [
    "# Make an scatter plot y_pred vs y\n",
    "# What kind of plot you will get if all the all the predictions are ok?\n",
    "# A stright line\n",
    "\n",
    "fig, ax = plt.subplots(1,3,figsize=(14,4))\n",
    "ax[0].plot(y_pred, y_test, 'o')\n",
    "ax[0].set_xlabel(\"y_test\")\n",
    "ax[0].set_ylabel(\"y_pred\")\n",
    "ax[0].set_title(\"Test Set -Predicted vs real\")\n",
    "\n",
    "# Get a histogram of the residuals ie: y - y_pred.  Homoscdasticity\n",
    "# It resembles a normal distribution?\n",
    "ax[1].hist(y_test - y_pred)\n",
    "ax[1].set_xlabel(\"Test y-y_pred\")\n",
    "ax[1].set_title(\"Test Set Residual histogram\")\n",
    "\n",
    "ax[2].plot(y_pred,y_test - y_pred,\"o\")\n",
    "ax[2].set_xlabel(\"predicted\")\n",
    "ax[2].set_ylabel(\"residuals\")\n",
    "ax[2].set_title(\"Residuals by Predicted\")\n",
    "ax[2].plot(y_pred,np.zeros(len(y_pred)),linestyle='dashed')"
   ]
  },
  {
   "cell_type": "code",
   "execution_count": 647,
   "id": "9eb60cb6",
   "metadata": {
    "scrolled": true
   },
   "outputs": [
    {
     "name": "stdout",
     "output_type": "stream",
     "text": [
      "MSE test:  72912925167.62769\n",
      "MAE test:  172170.97815457953\n",
      "MSE train:  75964736714.36739\n",
      "RMSE test:  414.93490833452364\n",
      "R2_test:  0.4294883641759426\n",
      "R2_train:  0.4277108043928304\n",
      "MSE train - MSE test:  3051811546.7397003\n",
      "R2_test/R2_train:  1.0041559852237907\n",
      "Adj_R2: 0.42893838509256466\n"
     ]
    }
   ],
   "source": [
    "print('MSE test: ',  mse(y_test,y_pred))\n",
    "print('MAE test: ', mae(y_test,y_pred))\n",
    "print('MSE train: ', mse(y_train,y_pred_train))\n",
    "print('RMSE test: ', np.sqrt(mae(y_test,y_pred)))\n",
    "R2_test=model.score(X_test_scaled,y_test)\n",
    "R2_train=model.score(X_train_scaled,y_train)\n",
    "print('R2_test: ', R2_test)\n",
    "print('R2_train: ', R2_train)\n",
    "\n",
    "print('MSE train - MSE test: ', mse(y_train,y_pred_train) - mse(y_test,y_pred) )\n",
    "print('R2_test/R2_train: ', R2_test/R2_train )\n",
    "Adj_R2= 1 - (1-R2_test)*(len(y_test)-1)/(len(y_test)-X_test.shape[1]-1)\n",
    "print('Adj_R2:', Adj_R2)"
   ]
  },
  {
   "cell_type": "code",
   "execution_count": null,
   "id": "178aafb4",
   "metadata": {},
   "outputs": [],
   "source": []
  },
  {
   "cell_type": "code",
   "execution_count": null,
   "id": "31d046b6",
   "metadata": {
    "scrolled": true
   },
   "outputs": [],
   "source": []
  },
  {
   "cell_type": "code",
   "execution_count": 648,
   "id": "e68b1c75",
   "metadata": {},
   "outputs": [],
   "source": [
    "features_importances = pd.DataFrame(data={\n",
    "    'Attribute': X_train.columns,\n",
    "    'Importance': abs(model.coef_)\n",
    "})\n",
    "features_importances = features_importances.sort_values(by='Importance', ascending=False)"
   ]
  },
  {
   "cell_type": "code",
   "execution_count": 649,
   "id": "b18430a1",
   "metadata": {},
   "outputs": [
    {
     "data": {
      "text/html": [
       "<div>\n",
       "<style scoped>\n",
       "    .dataframe tbody tr th:only-of-type {\n",
       "        vertical-align: middle;\n",
       "    }\n",
       "\n",
       "    .dataframe tbody tr th {\n",
       "        vertical-align: top;\n",
       "    }\n",
       "\n",
       "    .dataframe thead th {\n",
       "        text-align: right;\n",
       "    }\n",
       "</style>\n",
       "<table border=\"1\" class=\"dataframe\">\n",
       "  <thead>\n",
       "    <tr style=\"text-align: right;\">\n",
       "      <th></th>\n",
       "      <th>Attribute</th>\n",
       "      <th>Importance</th>\n",
       "    </tr>\n",
       "  </thead>\n",
       "  <tbody>\n",
       "    <tr>\n",
       "      <th>0</th>\n",
       "      <td>sqft_living_transformed</td>\n",
       "      <td>199675.306496</td>\n",
       "    </tr>\n",
       "    <tr>\n",
       "      <th>4</th>\n",
       "      <td>sqft_living15_transformed</td>\n",
       "      <td>85545.175008</td>\n",
       "    </tr>\n",
       "    <tr>\n",
       "      <th>2</th>\n",
       "      <td>yr_built_transformed</td>\n",
       "      <td>72630.737067</td>\n",
       "    </tr>\n",
       "    <tr>\n",
       "      <th>1</th>\n",
       "      <td>sqft_lot_transformed</td>\n",
       "      <td>40226.332713</td>\n",
       "    </tr>\n",
       "    <tr>\n",
       "      <th>5</th>\n",
       "      <td>sqft_lot15_transformed</td>\n",
       "      <td>5267.405831</td>\n",
       "    </tr>\n",
       "    <tr>\n",
       "      <th>3</th>\n",
       "      <td>zipcode_transformed</td>\n",
       "      <td>3917.676560</td>\n",
       "    </tr>\n",
       "  </tbody>\n",
       "</table>\n",
       "</div>"
      ],
      "text/plain": [
       "                   Attribute     Importance\n",
       "0    sqft_living_transformed  199675.306496\n",
       "4  sqft_living15_transformed   85545.175008\n",
       "2       yr_built_transformed   72630.737067\n",
       "1       sqft_lot_transformed   40226.332713\n",
       "5     sqft_lot15_transformed    5267.405831\n",
       "3        zipcode_transformed    3917.676560"
      ]
     },
     "execution_count": 649,
     "metadata": {},
     "output_type": "execute_result"
    }
   ],
   "source": [
    "features_importances"
   ]
  },
  {
   "cell_type": "code",
   "execution_count": 650,
   "id": "16f02c9a",
   "metadata": {},
   "outputs": [
    {
     "data": {
      "image/png": "[encoded data removed]",
      "text/plain": [
       "<Figure size 432x288 with 1 Axes>"
      ]
     },
     "metadata": {
      "needs_background": "light"
     },
     "output_type": "display_data"
    }
   ],
   "source": [
    "plt.bar(x=features_importances['Attribute'], height=features_importances['Importance'], color='#087E8B')\n",
    "plt.title('Feature importances obtained from coefficients', size=20)\n",
    "plt.xticks(rotation='vertical')\n",
    "plt.show()"
   ]
  },
  {
   "cell_type": "markdown",
   "id": "43e9d3c1",
   "metadata": {},
   "source": [
    "## 2nd model including categorical variables"
   ]
  },
  {
   "cell_type": "code",
   "execution_count": 651,
   "id": "f7df0d05",
   "metadata": {},
   "outputs": [
    {
     "name": "stdout",
     "output_type": "stream",
     "text": [
      "Index(['sqft_living_transformed', 'sqft_lot_transformed',\n",
      "       'yr_built_transformed', 'zipcode_transformed',\n",
      "       'sqft_living15_transformed', 'sqft_lot15_transformed', 'bedrooms_2',\n",
      "       'bedrooms_3', 'bedrooms_4', 'bedrooms_5', 'bedrooms_6', 'bedrooms_7',\n",
      "       'bedrooms_8', 'bedrooms_9', 'bedrooms_10', 'bedrooms_11', 'bedrooms_33',\n",
      "       'bathrooms_0.75', 'bathrooms_1.0', 'bathrooms_1.25', 'bathrooms_1.5',\n",
      "       'bathrooms_1.75', 'bathrooms_2.0', 'bathrooms_2.25', 'bathrooms_2.5',\n",
      "       'bathrooms_2.75', 'bathrooms_3.0', 'bathrooms_3.25', 'bathrooms_3.5',\n",
      "       'bathrooms_3.75', 'bathrooms_4.0', 'bathrooms_4.25', 'bathrooms_4.5',\n",
      "       'bathrooms_4.75', 'bathrooms_5.0', 'bathrooms_5.25', 'bathrooms_5.5',\n",
      "       'bathrooms_5.75', 'bathrooms_6.0', 'bathrooms_6.25', 'bathrooms_6.5',\n",
      "       'bathrooms_6.75', 'bathrooms_7.5', 'bathrooms_7.75', 'bathrooms_8.0',\n",
      "       'floors_1.5', 'floors_2.0', 'floors_2.5', 'floors_3.0', 'floors_3.5',\n",
      "       'waterfront_1', 'view_1', 'view_2', 'view_3', 'view_4', 'condition_2',\n",
      "       'condition_3', 'condition_4', 'condition_5', 'grade_4', 'grade_5',\n",
      "       'grade_6', 'grade_7', 'grade_8', 'grade_9', 'grade_10', 'grade_11',\n",
      "       'grade_12', 'grade_13'],\n",
      "      dtype='object')\n"
     ]
    }
   ],
   "source": [
    "def Xy_split(df, output_col):\n",
    "    \"\"\" Split the dataset into:\n",
    "        X = dataframe of input variables\n",
    "        y = predicted variable\n",
    "    \"\"\"\n",
    "    X=df.drop(output_col, axis=1)\n",
    "    y=df[output_col]\n",
    "    print(X.columns)\n",
    "    return X, y\n",
    "\n",
    "X,y = Xy_split(hp_df, 'price') "
   ]
  },
  {
   "cell_type": "code",
   "execution_count": 652,
   "id": "12665023",
   "metadata": {},
   "outputs": [],
   "source": [
    "X_train, X_test, y_train, y_test=train_test_split(X, y, test_size=.30,random_state=100)"
   ]
  },
  {
   "cell_type": "code",
   "execution_count": 653,
   "id": "3ae5d2e7",
   "metadata": {},
   "outputs": [
    {
     "data": {
      "text/plain": [
       "(6231, 6)"
      ]
     },
     "execution_count": 653,
     "metadata": {},
     "output_type": "execute_result"
    }
   ],
   "source": [
    "std_scaler=StandardScaler().fit(X_train.select_dtypes(['int', 'float64']))   ##. finding the parameters ( mean, variance from the training set )\n",
    "                                            ## \n",
    "X_train_scaled=std_scaler.transform(X_train.select_dtypes(['int', 'float64']))\n",
    "\n",
    "X_test_scaled=std_scaler.transform(X_test.select_dtypes(['int', 'float64']))\n",
    "X_test_scaled.shape"
   ]
  },
  {
   "cell_type": "code",
   "execution_count": 654,
   "id": "94f865ab",
   "metadata": {},
   "outputs": [
    {
     "data": {
      "text/html": [
       "<div>\n",
       "<style scoped>\n",
       "    .dataframe tbody tr th:only-of-type {\n",
       "        vertical-align: middle;\n",
       "    }\n",
       "\n",
       "    .dataframe tbody tr th {\n",
       "        vertical-align: top;\n",
       "    }\n",
       "\n",
       "    .dataframe thead th {\n",
       "        text-align: right;\n",
       "    }\n",
       "</style>\n",
       "<table border=\"1\" class=\"dataframe\">\n",
       "  <thead>\n",
       "    <tr style=\"text-align: right;\">\n",
       "      <th></th>\n",
       "      <th>sqft_living_transformed</th>\n",
       "      <th>sqft_lot_transformed</th>\n",
       "      <th>yr_built_transformed</th>\n",
       "      <th>zipcode_transformed</th>\n",
       "      <th>sqft_living15_transformed</th>\n",
       "      <th>sqft_lot15_transformed</th>\n",
       "      <th>bedrooms_2</th>\n",
       "      <th>bedrooms_3</th>\n",
       "      <th>bedrooms_4</th>\n",
       "      <th>bedrooms_5</th>\n",
       "      <th>...</th>\n",
       "      <th>grade_4</th>\n",
       "      <th>grade_5</th>\n",
       "      <th>grade_6</th>\n",
       "      <th>grade_7</th>\n",
       "      <th>grade_8</th>\n",
       "      <th>grade_9</th>\n",
       "      <th>grade_10</th>\n",
       "      <th>grade_11</th>\n",
       "      <th>grade_12</th>\n",
       "      <th>grade_13</th>\n",
       "    </tr>\n",
       "  </thead>\n",
       "  <tbody>\n",
       "    <tr>\n",
       "      <th>366</th>\n",
       "      <td>1.055293</td>\n",
       "      <td>0.636387</td>\n",
       "      <td>0.875354</td>\n",
       "      <td>1.431971</td>\n",
       "      <td>0.415634</td>\n",
       "      <td>1.271089</td>\n",
       "      <td>0</td>\n",
       "      <td>0</td>\n",
       "      <td>1</td>\n",
       "      <td>0</td>\n",
       "      <td>...</td>\n",
       "      <td>0</td>\n",
       "      <td>0</td>\n",
       "      <td>0</td>\n",
       "      <td>0</td>\n",
       "      <td>0</td>\n",
       "      <td>1</td>\n",
       "      <td>0</td>\n",
       "      <td>0</td>\n",
       "      <td>0</td>\n",
       "      <td>0</td>\n",
       "    </tr>\n",
       "    <tr>\n",
       "      <th>17574</th>\n",
       "      <td>1.368450</td>\n",
       "      <td>-0.247645</td>\n",
       "      <td>1.097845</td>\n",
       "      <td>-0.295296</td>\n",
       "      <td>1.844811</td>\n",
       "      <td>-0.250368</td>\n",
       "      <td>0</td>\n",
       "      <td>0</td>\n",
       "      <td>1</td>\n",
       "      <td>0</td>\n",
       "      <td>...</td>\n",
       "      <td>0</td>\n",
       "      <td>0</td>\n",
       "      <td>0</td>\n",
       "      <td>0</td>\n",
       "      <td>0</td>\n",
       "      <td>1</td>\n",
       "      <td>0</td>\n",
       "      <td>0</td>\n",
       "      <td>0</td>\n",
       "      <td>0</td>\n",
       "    </tr>\n",
       "    <tr>\n",
       "      <th>2811</th>\n",
       "      <td>-2.575483</td>\n",
       "      <td>-0.888309</td>\n",
       "      <td>-2.241016</td>\n",
       "      <td>0.412900</td>\n",
       "      <td>-1.421556</td>\n",
       "      <td>-0.930036</td>\n",
       "      <td>1</td>\n",
       "      <td>0</td>\n",
       "      <td>0</td>\n",
       "      <td>0</td>\n",
       "      <td>...</td>\n",
       "      <td>0</td>\n",
       "      <td>1</td>\n",
       "      <td>0</td>\n",
       "      <td>0</td>\n",
       "      <td>0</td>\n",
       "      <td>0</td>\n",
       "      <td>0</td>\n",
       "      <td>0</td>\n",
       "      <td>0</td>\n",
       "      <td>0</td>\n",
       "    </tr>\n",
       "    <tr>\n",
       "      <th>18643</th>\n",
       "      <td>0.548158</td>\n",
       "      <td>0.602943</td>\n",
       "      <td>-0.329548</td>\n",
       "      <td>-0.583496</td>\n",
       "      <td>0.533636</td>\n",
       "      <td>0.589456</td>\n",
       "      <td>0</td>\n",
       "      <td>0</td>\n",
       "      <td>1</td>\n",
       "      <td>0</td>\n",
       "      <td>...</td>\n",
       "      <td>0</td>\n",
       "      <td>0</td>\n",
       "      <td>0</td>\n",
       "      <td>0</td>\n",
       "      <td>1</td>\n",
       "      <td>0</td>\n",
       "      <td>0</td>\n",
       "      <td>0</td>\n",
       "      <td>0</td>\n",
       "      <td>0</td>\n",
       "    </tr>\n",
       "    <tr>\n",
       "      <th>9813</th>\n",
       "      <td>-0.072829</td>\n",
       "      <td>-0.429351</td>\n",
       "      <td>-0.903301</td>\n",
       "      <td>1.756055</td>\n",
       "      <td>-1.239352</td>\n",
       "      <td>-0.278302</td>\n",
       "      <td>0</td>\n",
       "      <td>0</td>\n",
       "      <td>1</td>\n",
       "      <td>0</td>\n",
       "      <td>...</td>\n",
       "      <td>0</td>\n",
       "      <td>0</td>\n",
       "      <td>1</td>\n",
       "      <td>0</td>\n",
       "      <td>0</td>\n",
       "      <td>0</td>\n",
       "      <td>0</td>\n",
       "      <td>0</td>\n",
       "      <td>0</td>\n",
       "      <td>0</td>\n",
       "    </tr>\n",
       "    <tr>\n",
       "      <th>...</th>\n",
       "      <td>...</td>\n",
       "      <td>...</td>\n",
       "      <td>...</td>\n",
       "      <td>...</td>\n",
       "      <td>...</td>\n",
       "      <td>...</td>\n",
       "      <td>...</td>\n",
       "      <td>...</td>\n",
       "      <td>...</td>\n",
       "      <td>...</td>\n",
       "      <td>...</td>\n",
       "      <td>...</td>\n",
       "      <td>...</td>\n",
       "      <td>...</td>\n",
       "      <td>...</td>\n",
       "      <td>...</td>\n",
       "      <td>...</td>\n",
       "      <td>...</td>\n",
       "      <td>...</td>\n",
       "      <td>...</td>\n",
       "      <td>...</td>\n",
       "    </tr>\n",
       "    <tr>\n",
       "      <th>16925</th>\n",
       "      <td>-1.192071</td>\n",
       "      <td>1.004157</td>\n",
       "      <td>-0.758004</td>\n",
       "      <td>-1.210137</td>\n",
       "      <td>0.415634</td>\n",
       "      <td>0.618565</td>\n",
       "      <td>1</td>\n",
       "      <td>0</td>\n",
       "      <td>0</td>\n",
       "      <td>0</td>\n",
       "      <td>...</td>\n",
       "      <td>0</td>\n",
       "      <td>0</td>\n",
       "      <td>0</td>\n",
       "      <td>1</td>\n",
       "      <td>0</td>\n",
       "      <td>0</td>\n",
       "      <td>0</td>\n",
       "      <td>0</td>\n",
       "      <td>0</td>\n",
       "      <td>0</td>\n",
       "    </tr>\n",
       "    <tr>\n",
       "      <th>82</th>\n",
       "      <td>0.120731</td>\n",
       "      <td>-0.257495</td>\n",
       "      <td>-0.791884</td>\n",
       "      <td>0.710366</td>\n",
       "      <td>-0.194422</td>\n",
       "      <td>-0.257495</td>\n",
       "      <td>1</td>\n",
       "      <td>0</td>\n",
       "      <td>0</td>\n",
       "      <td>0</td>\n",
       "      <td>...</td>\n",
       "      <td>0</td>\n",
       "      <td>0</td>\n",
       "      <td>0</td>\n",
       "      <td>1</td>\n",
       "      <td>0</td>\n",
       "      <td>0</td>\n",
       "      <td>0</td>\n",
       "      <td>0</td>\n",
       "      <td>0</td>\n",
       "      <td>0</td>\n",
       "    </tr>\n",
       "    <tr>\n",
       "      <th>12565</th>\n",
       "      <td>2.067306</td>\n",
       "      <td>1.430926</td>\n",
       "      <td>0.711981</td>\n",
       "      <td>-1.575613</td>\n",
       "      <td>2.162646</td>\n",
       "      <td>1.573776</td>\n",
       "      <td>0</td>\n",
       "      <td>0</td>\n",
       "      <td>1</td>\n",
       "      <td>0</td>\n",
       "      <td>...</td>\n",
       "      <td>0</td>\n",
       "      <td>0</td>\n",
       "      <td>0</td>\n",
       "      <td>0</td>\n",
       "      <td>0</td>\n",
       "      <td>0</td>\n",
       "      <td>0</td>\n",
       "      <td>0</td>\n",
       "      <td>1</td>\n",
       "      <td>0</td>\n",
       "    </tr>\n",
       "    <tr>\n",
       "      <th>14676</th>\n",
       "      <td>1.817968</td>\n",
       "      <td>0.282727</td>\n",
       "      <td>1.199766</td>\n",
       "      <td>-1.135284</td>\n",
       "      <td>1.694923</td>\n",
       "      <td>0.344487</td>\n",
       "      <td>0</td>\n",
       "      <td>1</td>\n",
       "      <td>0</td>\n",
       "      <td>0</td>\n",
       "      <td>...</td>\n",
       "      <td>0</td>\n",
       "      <td>0</td>\n",
       "      <td>0</td>\n",
       "      <td>0</td>\n",
       "      <td>0</td>\n",
       "      <td>1</td>\n",
       "      <td>0</td>\n",
       "      <td>0</td>\n",
       "      <td>0</td>\n",
       "      <td>0</td>\n",
       "    </tr>\n",
       "    <tr>\n",
       "      <th>5848</th>\n",
       "      <td>-0.392492</td>\n",
       "      <td>-0.148584</td>\n",
       "      <td>0.030114</td>\n",
       "      <td>-1.355761</td>\n",
       "      <td>-0.593940</td>\n",
       "      <td>0.115390</td>\n",
       "      <td>0</td>\n",
       "      <td>1</td>\n",
       "      <td>0</td>\n",
       "      <td>0</td>\n",
       "      <td>...</td>\n",
       "      <td>0</td>\n",
       "      <td>0</td>\n",
       "      <td>0</td>\n",
       "      <td>1</td>\n",
       "      <td>0</td>\n",
       "      <td>0</td>\n",
       "      <td>0</td>\n",
       "      <td>0</td>\n",
       "      <td>0</td>\n",
       "      <td>0</td>\n",
       "    </tr>\n",
       "  </tbody>\n",
       "</table>\n",
       "<p>14538 rows × 69 columns</p>\n",
       "</div>"
      ],
      "text/plain": [
       "       sqft_living_transformed  sqft_lot_transformed  yr_built_transformed  \\\n",
       "366                   1.055293              0.636387              0.875354   \n",
       "17574                 1.368450             -0.247645              1.097845   \n",
       "2811                 -2.575483             -0.888309             -2.241016   \n",
       "18643                 0.548158              0.602943             -0.329548   \n",
       "9813                 -0.072829             -0.429351             -0.903301   \n",
       "...                        ...                   ...                   ...   \n",
       "16925                -1.192071              1.004157             -0.758004   \n",
       "82                    0.120731             -0.257495             -0.791884   \n",
       "12565                 2.067306              1.430926              0.711981   \n",
       "14676                 1.817968              0.282727              1.199766   \n",
       "5848                 -0.392492             -0.148584              0.030114   \n",
       "\n",
       "       zipcode_transformed  sqft_living15_transformed  sqft_lot15_transformed  \\\n",
       "366               1.431971                   0.415634                1.271089   \n",
       "17574            -0.295296                   1.844811               -0.250368   \n",
       "2811              0.412900                  -1.421556               -0.930036   \n",
       "18643            -0.583496                   0.533636                0.589456   \n",
       "9813              1.756055                  -1.239352               -0.278302   \n",
       "...                    ...                        ...                     ...   \n",
       "16925            -1.210137                   0.415634                0.618565   \n",
       "82                0.710366                  -0.194422               -0.257495   \n",
       "12565            -1.575613                   2.162646                1.573776   \n",
       "14676            -1.135284                   1.694923                0.344487   \n",
       "5848             -1.355761                  -0.593940                0.115390   \n",
       "\n",
       "       bedrooms_2  bedrooms_3  bedrooms_4  bedrooms_5  ...  grade_4  grade_5  \\\n",
       "366             0           0           1           0  ...        0        0   \n",
       "17574           0           0           1           0  ...        0        0   \n",
       "2811            1           0           0           0  ...        0        1   \n",
       "18643           0           0           1           0  ...        0        0   \n",
       "9813            0           0           1           0  ...        0        0   \n",
       "...           ...         ...         ...         ...  ...      ...      ...   \n",
       "16925           1           0           0           0  ...        0        0   \n",
       "82              1           0           0           0  ...        0        0   \n",
       "12565           0           0           1           0  ...        0        0   \n",
       "14676           0           1           0           0  ...        0        0   \n",
       "5848            0           1           0           0  ...        0        0   \n",
       "\n",
       "       grade_6  grade_7  grade_8  grade_9  grade_10  grade_11  grade_12  \\\n",
       "366          0        0        0        1         0         0         0   \n",
       "17574        0        0        0        1         0         0         0   \n",
       "2811         0        0        0        0         0         0         0   \n",
       "18643        0        0        1        0         0         0         0   \n",
       "9813         1        0        0        0         0         0         0   \n",
       "...        ...      ...      ...      ...       ...       ...       ...   \n",
       "16925        0        1        0        0         0         0         0   \n",
       "82           0        1        0        0         0         0         0   \n",
       "12565        0        0        0        0         0         0         1   \n",
       "14676        0        0        0        1         0         0         0   \n",
       "5848         0        1        0        0         0         0         0   \n",
       "\n",
       "       grade_13  \n",
       "366           0  \n",
       "17574         0  \n",
       "2811          0  \n",
       "18643         0  \n",
       "9813          0  \n",
       "...         ...  \n",
       "16925         0  \n",
       "82            0  \n",
       "12565         0  \n",
       "14676         0  \n",
       "5848          0  \n",
       "\n",
       "[14538 rows x 69 columns]"
      ]
     },
     "execution_count": 654,
     "metadata": {},
     "output_type": "execute_result"
    }
   ],
   "source": [
    "X_train"
   ]
  },
  {
   "cell_type": "code",
   "execution_count": 655,
   "id": "b16841e9",
   "metadata": {},
   "outputs": [
    {
     "name": "stdout",
     "output_type": "stream",
     "text": [
      "(14538, 69) (6231, 69)\n"
     ]
    }
   ],
   "source": [
    "X_train_scaled = np.concatenate((X_train_scaled, np.asarray(X_train[list(cat_features.columns)])), axis = 1) \n",
    "\n",
    "X_test_scaled = np.concatenate((X_test_scaled, np.asarray(X_test[list(cat_features.columns)])), axis =1)\n",
    "print(X_train_scaled.shape, X_test_scaled.shape)"
   ]
  },
  {
   "cell_type": "code",
   "execution_count": 656,
   "id": "846ef081",
   "metadata": {
    "scrolled": true
   },
   "outputs": [
    {
     "name": "stdout",
     "output_type": "stream",
     "text": [
      "(14538,) (6231,)\n"
     ]
    }
   ],
   "source": [
    "print(y_train.shape, y_test.shape)"
   ]
  },
  {
   "cell_type": "code",
   "execution_count": 657,
   "id": "ef2860c1",
   "metadata": {
    "scrolled": true
   },
   "outputs": [
    {
     "data": {
      "text/plain": [
       "[<matplotlib.lines.Line2D at 0x28b9966f9d0>]"
      ]
     },
     "execution_count": 657,
     "metadata": {},
     "output_type": "execute_result"
    },
    {
     "data": {
      "image/png": "[encoded data removed]",
      "text/plain": [
       "<Figure size 1008x288 with 3 Axes>"
      ]
     },
     "metadata": {
      "needs_background": "light"
     },
     "output_type": "display_data"
    }
   ],
   "source": [
    "model=LinearRegression()    # model\n",
    "model.fit(X_train_scaled, y_train) \n",
    "\n",
    "\n",
    "y_pred=model.predict(X_test_scaled)   # model prediction\n",
    "y_pred_train=model.predict(X_train_scaled)\n",
    "\n",
    "\n",
    "result=pd.DataFrame({\"y_test\":y_test,\"y_pred\":y_pred})\n",
    "\n",
    "\n",
    "# Make an scatter plot y_pred vs y\n",
    "# What kind of plot you will get if all the all the predictions are ok?\n",
    "# A stright line\n",
    "\n",
    "fig, ax = plt.subplots(1,3,figsize=(14,4))\n",
    "ax[0].plot(y_pred, y_test, 'o')\n",
    "ax[0].set_xlabel(\"y_test\")\n",
    "ax[0].set_ylabel(\"y_pred\")\n",
    "ax[0].set_title(\"Test Set -Predicted vs real\")\n",
    "\n",
    "# Get a histogram of the residuals ie: y - y_pred.  Homoscdasticity\n",
    "# It resembles a normal distribution?\n",
    "ax[1].hist(y_test - y_pred)\n",
    "ax[1].set_xlabel(\"Test y-y_pred\")\n",
    "ax[1].set_title(\"Test Set Residual histogram\")\n",
    "\n",
    "ax[2].plot(y_pred,y_test - y_pred,\"o\")\n",
    "ax[2].set_xlabel(\"predicted\")\n",
    "ax[2].set_ylabel(\"residuals\")\n",
    "ax[2].set_title(\"Residuals by Predicted\")\n",
    "ax[2].plot(y_pred,np.zeros(len(y_pred)),linestyle='dashed')"
   ]
  },
  {
   "cell_type": "code",
   "execution_count": 658,
   "id": "b8b81880",
   "metadata": {},
   "outputs": [
    {
     "name": "stderr",
     "output_type": "stream",
     "text": [
      "C:\\Users\\Lenovo\\anaconda3\\envs\\DA_Env\\lib\\site-packages\\seaborn\\_decorators.py:36: FutureWarning: Pass the following variables as keyword args: x, y. From version 0.12, the only valid positional argument will be `data`, and passing other arguments without an explicit keyword will result in an error or misinterpretation.\n",
      "  warnings.warn(\n"
     ]
    },
    {
     "data": {
      "text/plain": [
       "<seaborn.axisgrid.JointGrid at 0x28b996b6070>"
      ]
     },
     "execution_count": 658,
     "metadata": {},
     "output_type": "execute_result"
    },
    {
     "data": {
      "image/png": "[encoded data removed]",
      "text/plain": [
       "<Figure size 432x432 with 3 Axes>"
      ]
     },
     "metadata": {
      "needs_background": "light"
     },
     "output_type": "display_data"
    }
   ],
   "source": [
    "#sns.jointplot(y_pred, y_test)"
   ]
  },
  {
   "cell_type": "code",
   "execution_count": 659,
   "id": "38e85f93",
   "metadata": {},
   "outputs": [
    {
     "data": {
      "text/plain": [
       "<seaborn.axisgrid.JointGrid at 0x28b99a00580>"
      ]
     },
     "execution_count": 659,
     "metadata": {},
     "output_type": "execute_result"
    },
    {
     "data": {
      "image/png": "[encoded data removed]",
      "text/plain": [
       "<Figure size 432x432 with 3 Axes>"
      ]
     },
     "metadata": {
      "needs_background": "light"
     },
     "output_type": "display_data"
    }
   ],
   "source": [
    "#sns.jointplot(x=y_pred,y = (y_test - y_pred))"
   ]
  },
  {
   "cell_type": "code",
   "execution_count": 660,
   "id": "600ab2c9",
   "metadata": {},
   "outputs": [
    {
     "name": "stdout",
     "output_type": "stream",
     "text": [
      "MSE test:  40389143095.84939\n",
      "MAE test:  132794.0031615251\n",
      "MSE train:  42291913516.071815\n",
      "RMSE test:  364.4091150911638\n",
      "R2_test:  0.6839726832496427\n",
      "R2_train:  0.6813889415847456\n",
      "MSE train - MSE test:  1902770420.2224274\n",
      "R2_test/R2_train:  1.0037918749589447\n",
      "Adj_R2: 0.6804333414454267\n"
     ]
    }
   ],
   "source": [
    "print('MSE test: ',  mse(y_test,y_pred))\n",
    "print('MAE test: ', mae(y_test,y_pred))\n",
    "print('MSE train: ', mse(y_train,y_pred_train))\n",
    "print('RMSE test: ', np.sqrt(mae(y_test,y_pred)))\n",
    "R2_test=model.score(X_test_scaled,y_test)\n",
    "R2_train=model.score(X_train_scaled,y_train)\n",
    "print('R2_test: ', R2_test)\n",
    "print('R2_train: ', R2_train)\n",
    "\n",
    "print('MSE train - MSE test: ', mse(y_train,y_pred_train) - mse(y_test,y_pred) )\n",
    "print('R2_test/R2_train: ', R2_test/R2_train )\n",
    "Adj_R2= 1 - (1-R2_test)*(len(y_test)-1)/(len(y_test)-X_test.shape[1]-1)\n",
    "print('Adj_R2:', Adj_R2)"
   ]
  },
  {
   "cell_type": "markdown",
   "id": "2a8030c3",
   "metadata": {},
   "source": [
    "## Get P-values from model \n",
    "\n",
    "To filter the significant columns"
   ]
  },
  {
   "cell_type": "code",
   "execution_count": 661,
   "id": "eb8758bc",
   "metadata": {
    "scrolled": true
   },
   "outputs": [
    {
     "name": "stdout",
     "output_type": "stream",
     "text": [
      "                            OLS Regression Results                            \n",
      "==============================================================================\n",
      "Dep. Variable:                  price   R-squared:                       0.681\n",
      "Model:                            OLS   Adj. R-squared:                  0.680\n",
      "Method:                 Least Squares   F-statistic:                     461.9\n",
      "Date:                Tue, 19 Apr 2022   Prob (F-statistic):               0.00\n",
      "Time:                        13:43:10   Log-Likelihood:            -1.9849e+05\n",
      "No. Observations:               14538   AIC:                         3.971e+05\n",
      "Df Residuals:                   14470   BIC:                         3.976e+05\n",
      "Df Model:                          67                                         \n",
      "Covariance Type:            nonrobust                                         \n",
      "==============================================================================\n",
      "                 coef    std err          t      P>|t|      [0.025      0.975]\n",
      "------------------------------------------------------------------------------\n",
      "const       3.789e+05   2.45e+05      1.548      0.122   -1.01e+05    8.59e+05\n",
      "x1          9.831e+04   4073.384     24.135      0.000    9.03e+04    1.06e+05\n",
      "x2         -2.368e+04   4687.960     -5.051      0.000   -3.29e+04   -1.45e+04\n",
      "x3          -7.97e+04   2641.623    -30.172      0.000   -8.49e+04   -7.45e+04\n",
      "x4          -2.01e+04   1929.792    -10.414      0.000   -2.39e+04   -1.63e+04\n",
      "x5          3.774e+04   2871.183     13.143      0.000    3.21e+04    4.34e+04\n",
      "x6         -2.394e+04   4662.511     -5.135      0.000   -3.31e+04   -1.48e+04\n",
      "x7         -1.262e+04   1.99e+04     -0.635      0.525   -5.15e+04    2.63e+04\n",
      "x8         -4.969e+04      2e+04     -2.482      0.013   -8.89e+04   -1.04e+04\n",
      "x9         -6.368e+04   2.05e+04     -3.099      0.002   -1.04e+05   -2.34e+04\n",
      "x10        -3.563e+04   2.16e+04     -1.651      0.099   -7.79e+04    6680.992\n",
      "x11        -1.013e+05   2.58e+04     -3.925      0.000   -1.52e+05   -5.07e+04\n",
      "x12        -1.359e+05   4.66e+04     -2.917      0.004   -2.27e+05   -4.46e+04\n",
      "x13         7.012e+04   7.82e+04      0.897      0.370   -8.32e+04    2.23e+05\n",
      "x14        -1.892e+05   1.22e+05     -1.553      0.120   -4.28e+05    4.95e+04\n",
      "x15         -4.55e+04   1.23e+05     -0.369      0.712   -2.87e+05    1.96e+05\n",
      "x16         -2.12e+05   2.08e+05     -1.022      0.307   -6.19e+05    1.95e+05\n",
      "x17        -1.535e-08   4.95e-09     -3.099      0.002   -2.51e-08   -5.64e-09\n",
      "x18         4.269e+04   1.23e+05      0.347      0.729   -1.99e+05    2.84e+05\n",
      "x19         7.384e+04   1.19e+05      0.619      0.536    -1.6e+05    3.08e+05\n",
      "x20         1.362e+04   1.43e+05      0.095      0.924   -2.66e+05    2.93e+05\n",
      "x21         5.658e+04    1.2e+05      0.473      0.636   -1.78e+05    2.91e+05\n",
      "x22         5.229e+04    1.2e+05      0.437      0.662   -1.82e+05    2.87e+05\n",
      "x23         5.667e+04    1.2e+05      0.474      0.636   -1.78e+05    2.91e+05\n",
      "x24         6.293e+04    1.2e+05      0.526      0.599   -1.72e+05    2.98e+05\n",
      "x25         3.869e+04    1.2e+05      0.323      0.746   -1.96e+05    2.73e+05\n",
      "x26         6.378e+04    1.2e+05      0.532      0.595   -1.71e+05    2.99e+05\n",
      "x27         1.074e+05    1.2e+05      0.895      0.371   -1.28e+05    3.43e+05\n",
      "x28         1.753e+05    1.2e+05      1.458      0.145   -6.03e+04    4.11e+05\n",
      "x29          1.41e+05    1.2e+05      1.174      0.241   -9.45e+04    3.77e+05\n",
      "x30         2.565e+05   1.22e+05      2.111      0.035    1.83e+04    4.95e+05\n",
      "x31         2.222e+05   1.22e+05      1.823      0.068   -1.68e+04    4.61e+05\n",
      "x32         2.921e+05   1.23e+05      2.370      0.018    5.05e+04    5.34e+05\n",
      "x33         3.443e+05   1.22e+05      2.814      0.005    1.04e+05    5.84e+05\n",
      "x34         5.056e+05   1.32e+05      3.819      0.000    2.46e+05    7.65e+05\n",
      "x35         4.218e+05    1.3e+05      3.237      0.001    1.66e+05    6.77e+05\n",
      "x36         2.661e+05   1.39e+05      1.912      0.056   -6711.056    5.39e+05\n",
      "x37         6.664e+05   1.53e+05      4.353      0.000    3.66e+05    9.66e+05\n",
      "x38         7.281e+05   1.61e+05      4.513      0.000    4.12e+05    1.04e+06\n",
      "x39           9.8e+05   1.54e+05      6.368      0.000    6.78e+05    1.28e+06\n",
      "x40         -2.05e+05   2.58e+05     -0.793      0.428   -7.12e+05    3.02e+05\n",
      "x41         3.439e+05    1.9e+05      1.811      0.070   -2.82e+04    7.16e+05\n",
      "x42         7.819e+05   1.91e+05      4.095      0.000    4.08e+05    1.16e+06\n",
      "x43         1.362e+05   2.67e+05      0.510      0.610   -3.87e+05     6.6e+05\n",
      "x44         3.867e+06   2.59e+05     14.929      0.000    3.36e+06    4.37e+06\n",
      "x45        -7.067e-09   1.37e-09     -5.159      0.000   -9.75e-09   -4.38e-09\n",
      "x46         -159.0905   6652.864     -0.024      0.981   -1.32e+04    1.29e+04\n",
      "x47        -5300.6649   5398.360     -0.982      0.326   -1.59e+04    5280.812\n",
      "x48          1.35e+05   2.18e+04      6.184      0.000    9.22e+04    1.78e+05\n",
      "x49         8.377e+04   1.22e+04      6.863      0.000    5.98e+04    1.08e+05\n",
      "x50         2.373e+05   9.39e+04      2.526      0.012    5.31e+04    4.21e+05\n",
      "x51         5.781e+05   2.41e+04     23.975      0.000    5.31e+05    6.25e+05\n",
      "x52         1.311e+05   1.45e+04      9.045      0.000    1.03e+05    1.59e+05\n",
      "x53         4.967e+04   8573.033      5.794      0.000    3.29e+04    6.65e+04\n",
      "x54         1.115e+05   1.18e+04      9.426      0.000    8.83e+04    1.35e+05\n",
      "x55         2.151e+05   1.83e+04     11.766      0.000    1.79e+05    2.51e+05\n",
      "x56         4635.7999   4.83e+04      0.096      0.924   -9.01e+04    9.93e+04\n",
      "x57         1.747e+04   4.46e+04      0.392      0.695   -6.99e+04    1.05e+05\n",
      "x58          4.12e+04   4.46e+04      0.923      0.356   -4.63e+04    1.29e+05\n",
      "x59         8.457e+04   4.49e+04      1.882      0.060   -3495.938    1.73e+05\n",
      "x60        -7.388e+04   2.15e+05     -0.343      0.731   -4.96e+05    3.48e+05\n",
      "x61        -9.828e+04   2.09e+05     -0.469      0.639   -5.09e+05    3.12e+05\n",
      "x62        -6.226e+04   2.09e+05     -0.298      0.766   -4.72e+05    3.48e+05\n",
      "x63         3393.9999   2.09e+05      0.016      0.987   -4.07e+05    4.14e+05\n",
      "x64         9.464e+04   2.09e+05      0.452      0.651   -3.16e+05    5.05e+05\n",
      "x65         2.647e+05   2.09e+05      1.263      0.206   -1.46e+05    6.75e+05\n",
      "x66         4.494e+05    2.1e+05      2.144      0.032    3.86e+04     8.6e+05\n",
      "x67         7.128e+05    2.1e+05      3.395      0.001    3.01e+05    1.12e+06\n",
      "x68         1.112e+06   2.12e+05      5.257      0.000    6.97e+05    1.53e+06\n",
      "x69         2.232e+06   2.31e+05      9.647      0.000    1.78e+06    2.69e+06\n",
      "==============================================================================\n",
      "Omnibus:                     9723.133   Durbin-Watson:                   1.977\n",
      "Prob(Omnibus):                  0.000   Jarque-Bera (JB):           626798.829\n",
      "Skew:                           2.522   Prob(JB):                         0.00\n",
      "Kurtosis:                      34.770   Cond. No.                     1.41e+16\n",
      "==============================================================================\n",
      "\n",
      "Notes:\n",
      "[1] Standard Errors assume that the covariance matrix of the errors is correctly specified.\n",
      "[2] The smallest eigenvalue is 2.13e-28. This might indicate that there are\n",
      "strong multicollinearity problems or that the design matrix is singular.\n"
     ]
    }
   ],
   "source": [
    "X_train_const_scaled = sm.add_constant(X_train_scaled) # adding a constant\n",
    "\n",
    "model = sm.OLS(y_train, X_train_const_scaled).fit()\n",
    "predictions_train = model.predict(X_train_const_scaled) \n",
    "\n",
    "X_test_const_scaled = sm.add_constant(X_test_scaled) # adding a constant\n",
    "#predictions_test = model.predict(X_test_const_scaled) \n",
    "print_model = model.summary()\n",
    "print(print_model)"
   ]
  },
  {
   "cell_type": "code",
   "execution_count": 662,
   "id": "6b00c4e2",
   "metadata": {},
   "outputs": [
    {
     "data": {
      "text/plain": [
       "69"
      ]
     },
     "execution_count": 662,
     "metadata": {},
     "output_type": "execute_result"
    }
   ],
   "source": [
    "sign_cols = model.pvalues[1:70]  # remove constant\n",
    "len(sign_cols)"
   ]
  },
  {
   "cell_type": "code",
   "execution_count": 663,
   "id": "b6755d9b",
   "metadata": {},
   "outputs": [
    {
     "data": {
      "text/plain": [
       "4.457350246188992e-07"
      ]
     },
     "execution_count": 663,
     "metadata": {},
     "output_type": "execute_result"
    }
   ],
   "source": [
    "sign_cols[1]"
   ]
  },
  {
   "cell_type": "markdown",
   "id": "d94bca8a",
   "metadata": {
    "scrolled": true
   },
   "source": [
    "Pseudo-Code: for i in range(0, len(X.column)) drop X.columns[i] if sign_cols[i]> 0.05\n",
    "        "
   ]
  },
  {
   "cell_type": "code",
   "execution_count": 673,
   "id": "fd88a05d",
   "metadata": {
    "scrolled": true
   },
   "outputs": [
    {
     "name": "stdout",
     "output_type": "stream",
     "text": [
      "Variables dropped:  bedrooms_2 0.5251372551831754\n",
      "Variables dropped:  bedrooms_5 0.09883775578777487\n",
      "Variables dropped:  bedrooms_8 0.36987195748880497\n",
      "Variables dropped:  bedrooms_9 0.1203539719191056\n",
      "Variables dropped:  bedrooms_10 0.7121751966353012\n",
      "Variables dropped:  bedrooms_11 0.3070084481922423\n",
      "Variables dropped:  bathrooms_0.75 0.7289139498446382\n",
      "Variables dropped:  bathrooms_1.0 0.5361628819982597\n",
      "Variables dropped:  bathrooms_1.25 0.9239452563166892\n",
      "Variables dropped:  bathrooms_1.5 0.6361981854252722\n",
      "Variables dropped:  bathrooms_1.75 0.6618839521822362\n",
      "Variables dropped:  bathrooms_2.0 0.6356675573836141\n",
      "Variables dropped:  bathrooms_2.25 0.5990411926579031\n",
      "Variables dropped:  bathrooms_2.5 0.7464701663296184\n",
      "Variables dropped:  bathrooms_2.75 0.5945838645657722\n",
      "Variables dropped:  bathrooms_3.0 0.3709354818924998\n",
      "Variables dropped:  bathrooms_3.25 0.1447269920503617\n",
      "Variables dropped:  bathrooms_3.5 0.24060644002850187\n",
      "Variables dropped:  bathrooms_4.0 0.06838917887169307\n",
      "Variables dropped:  bathrooms_5.25 0.05590778286204753\n",
      "Variables dropped:  bathrooms_6.25 0.42771570833101846\n",
      "Variables dropped:  bathrooms_6.5 0.07009964156780617\n",
      "Variables dropped:  bathrooms_7.5 0.6101405349190954\n",
      "Variables dropped:  floors_1.5 0.9809222646790263\n",
      "Variables dropped:  floors_2.0 0.3261641793378547\n",
      "Variables dropped:  condition_2 0.9235490249409555\n",
      "Variables dropped:  condition_3 0.6951838845676714\n",
      "Variables dropped:  condition_4 0.3558383168515932\n",
      "Variables dropped:  condition_5 0.05981320912127207\n",
      "Variables dropped:  grade_4 0.7313053742653481\n",
      "Variables dropped:  grade_5 0.6388253912387409\n",
      "Variables dropped:  grade_6 0.7660211019547227\n",
      "Variables dropped:  grade_7 0.9870614086005932\n",
      "Variables dropped:  grade_8 0.6512581017243273\n",
      "Variables dropped:  grade_9 0.2064405264769309\n"
     ]
    }
   ],
   "source": [
    "X_col_list = X.columns\n",
    "X_dropped_p = X\n",
    "for i in range(0,len(X.columns)):\n",
    "    if sign_cols[i]>0.05:\n",
    "        X_dropped_p = X_dropped_p.drop(X_col_list[i], axis=1)\n",
    "        print('Variables dropped: ', X.columns[i], sign_cols[i])"
   ]
  },
  {
   "cell_type": "code",
   "execution_count": 674,
   "id": "dc4e975d",
   "metadata": {
    "scrolled": true
   },
   "outputs": [
    {
     "name": "stdout",
     "output_type": "stream",
     "text": [
      "(20769, 69) (20769, 34)\n"
     ]
    }
   ],
   "source": [
    "print(X.shape, X_dropped_p.shape)"
   ]
  },
  {
   "cell_type": "markdown",
   "id": "accb3a90",
   "metadata": {},
   "source": [
    "From 69 initial variables, 34 remain."
   ]
  },
  {
   "cell_type": "markdown",
   "id": "ed0f7a1f",
   "metadata": {},
   "source": [
    "## 3d linear Model only including variabels that had a siginificant p-value in the 2s Model"
   ]
  },
  {
   "cell_type": "markdown",
   "id": "e46f9b7a",
   "metadata": {},
   "source": [
    "## KNN for zoning using lat and long variables to see if it as better predictor as Postcode\n",
    "\n",
    "(Maybe compare to waterfront as well)\n"
   ]
  },
  {
   "cell_type": "code",
   "execution_count": 117,
   "id": "e7b8d932",
   "metadata": {},
   "outputs": [],
   "source": [
    "Pred = hp_df_org[['lat', 'long']]\n",
    "y = hp_df_org['zipcode']"
   ]
  },
  {
   "cell_type": "code",
   "execution_count": 118,
   "id": "e8884da0",
   "metadata": {},
   "outputs": [
    {
     "data": {
      "text/html": [
       "<div>\n",
       "<style scoped>\n",
       "    .dataframe tbody tr th:only-of-type {\n",
       "        vertical-align: middle;\n",
       "    }\n",
       "\n",
       "    .dataframe tbody tr th {\n",
       "        vertical-align: top;\n",
       "    }\n",
       "\n",
       "    .dataframe thead th {\n",
       "        text-align: right;\n",
       "    }\n",
       "</style>\n",
       "<table border=\"1\" class=\"dataframe\">\n",
       "  <thead>\n",
       "    <tr style=\"text-align: right;\">\n",
       "      <th></th>\n",
       "      <th>lat</th>\n",
       "      <th>long</th>\n",
       "    </tr>\n",
       "  </thead>\n",
       "  <tbody>\n",
       "    <tr>\n",
       "      <th>0</th>\n",
       "      <td>47.5112</td>\n",
       "      <td>-122.257</td>\n",
       "    </tr>\n",
       "    <tr>\n",
       "      <th>1</th>\n",
       "      <td>47.7210</td>\n",
       "      <td>-122.319</td>\n",
       "    </tr>\n",
       "    <tr>\n",
       "      <th>2</th>\n",
       "      <td>47.7379</td>\n",
       "      <td>-122.233</td>\n",
       "    </tr>\n",
       "    <tr>\n",
       "      <th>3</th>\n",
       "      <td>47.5208</td>\n",
       "      <td>-122.393</td>\n",
       "    </tr>\n",
       "    <tr>\n",
       "      <th>4</th>\n",
       "      <td>47.6168</td>\n",
       "      <td>-122.045</td>\n",
       "    </tr>\n",
       "    <tr>\n",
       "      <th>...</th>\n",
       "      <td>...</td>\n",
       "      <td>...</td>\n",
       "    </tr>\n",
       "    <tr>\n",
       "      <th>21592</th>\n",
       "      <td>47.6993</td>\n",
       "      <td>-122.346</td>\n",
       "    </tr>\n",
       "    <tr>\n",
       "      <th>21593</th>\n",
       "      <td>47.5107</td>\n",
       "      <td>-122.362</td>\n",
       "    </tr>\n",
       "    <tr>\n",
       "      <th>21594</th>\n",
       "      <td>47.5944</td>\n",
       "      <td>-122.299</td>\n",
       "    </tr>\n",
       "    <tr>\n",
       "      <th>21595</th>\n",
       "      <td>47.5345</td>\n",
       "      <td>-122.069</td>\n",
       "    </tr>\n",
       "    <tr>\n",
       "      <th>21596</th>\n",
       "      <td>47.5941</td>\n",
       "      <td>-122.299</td>\n",
       "    </tr>\n",
       "  </tbody>\n",
       "</table>\n",
       "<p>21597 rows × 2 columns</p>\n",
       "</div>"
      ],
      "text/plain": [
       "           lat     long\n",
       "0      47.5112 -122.257\n",
       "1      47.7210 -122.319\n",
       "2      47.7379 -122.233\n",
       "3      47.5208 -122.393\n",
       "4      47.6168 -122.045\n",
       "...        ...      ...\n",
       "21592  47.6993 -122.346\n",
       "21593  47.5107 -122.362\n",
       "21594  47.5944 -122.299\n",
       "21595  47.5345 -122.069\n",
       "21596  47.5941 -122.299\n",
       "\n",
       "[21597 rows x 2 columns]"
      ]
     },
     "execution_count": 118,
     "metadata": {},
     "output_type": "execute_result"
    }
   ],
   "source": [
    "Pred"
   ]
  },
  {
   "cell_type": "code",
   "execution_count": 119,
   "id": "88e236aa",
   "metadata": {},
   "outputs": [],
   "source": [
    "X_train, X_test, y_train, y_test = train_test_split(Pred, y, test_size=0.20)"
   ]
  },
  {
   "cell_type": "code",
   "execution_count": 129,
   "id": "767ba544",
   "metadata": {},
   "outputs": [
    {
     "name": "stdout",
     "output_type": "stream",
     "text": [
      "[[66  1  0 ...  0  0  0]\n",
      " [ 0 45  0 ...  0  0  0]\n",
      " [ 0  0 51 ...  0  2  0]\n",
      " ...\n",
      " [ 0  0  0 ... 29  0  0]\n",
      " [ 0  0  0 ...  0 61  0]\n",
      " [ 0  0  0 ...  0  0 61]]\n",
      "              precision    recall  f1-score   support\n",
      "\n",
      "       98001       1.00      0.99      0.99        67\n",
      "       98002       0.98      1.00      0.99        45\n",
      "       98003       1.00      0.91      0.95        56\n",
      "       98004       1.00      0.99      0.99        67\n",
      "       98005       1.00      0.95      0.97        41\n",
      "       98006       0.97      1.00      0.99       104\n",
      "       98007       0.86      0.96      0.91        25\n",
      "       98008       0.98      0.96      0.97        48\n",
      "       98010       0.91      1.00      0.95        21\n",
      "       98011       0.97      0.92      0.94        37\n",
      "       98014       1.00      1.00      1.00        27\n",
      "       98019       1.00      1.00      1.00        37\n",
      "       98022       0.98      1.00      0.99        47\n",
      "       98023       0.97      1.00      0.99       111\n",
      "       98024       1.00      0.79      0.88        19\n",
      "       98027       0.99      0.99      0.99        81\n",
      "       98028       0.94      0.94      0.94        54\n",
      "       98029       0.97      0.97      0.97        68\n",
      "       98030       1.00      1.00      1.00        49\n",
      "       98031       1.00      0.95      0.97        56\n",
      "       98032       1.00      1.00      1.00        28\n",
      "       98033       0.98      0.99      0.98        83\n",
      "       98034       0.99      0.99      0.99       115\n",
      "       98038       0.99      0.99      0.99       123\n",
      "       98039       1.00      1.00      1.00        11\n",
      "       98040       1.00      1.00      1.00        61\n",
      "       98042       0.99      0.97      0.98       111\n",
      "       98045       1.00      0.98      0.99        47\n",
      "       98052       0.98      0.97      0.98       125\n",
      "       98053       0.97      0.99      0.98        73\n",
      "       98055       0.93      1.00      0.96        52\n",
      "       98056       0.97      0.97      0.97        65\n",
      "       98058       0.97      0.92      0.94        83\n",
      "       98059       0.96      0.99      0.98       103\n",
      "       98065       0.92      1.00      0.96        60\n",
      "       98070       1.00      1.00      1.00        22\n",
      "       98072       0.97      0.98      0.97        58\n",
      "       98074       0.97      0.97      0.97        77\n",
      "       98075       0.97      0.95      0.96        60\n",
      "       98077       0.97      1.00      0.99        36\n",
      "       98092       1.00      0.99      0.99        77\n",
      "       98102       1.00      0.86      0.92        21\n",
      "       98103       1.00      0.98      0.99       126\n",
      "       98105       0.97      1.00      0.98        57\n",
      "       98106       1.00      0.99      0.99        71\n",
      "       98107       0.95      0.98      0.97        43\n",
      "       98108       0.97      0.90      0.94        42\n",
      "       98109       0.91      0.95      0.93        22\n",
      "       98112       0.95      0.98      0.97        59\n",
      "       98115       0.97      0.97      0.97       119\n",
      "       98116       0.94      0.98      0.96        66\n",
      "       98117       0.96      0.99      0.97       110\n",
      "       98118       0.99      1.00      0.99        78\n",
      "       98119       1.00      0.95      0.97        41\n",
      "       98122       0.95      0.97      0.96        61\n",
      "       98125       0.97      0.94      0.96        72\n",
      "       98126       0.99      0.98      0.98        86\n",
      "       98133       0.99      0.96      0.97        95\n",
      "       98136       0.93      0.93      0.93        41\n",
      "       98144       0.96      0.99      0.97        69\n",
      "       98146       1.00      0.98      0.99        58\n",
      "       98148       0.89      0.89      0.89         9\n",
      "       98155       0.95      0.98      0.96        89\n",
      "       98166       0.97      0.97      0.97        39\n",
      "       98168       0.98      0.98      0.98        53\n",
      "       98177       0.98      0.96      0.97        51\n",
      "       98178       1.00      1.00      1.00        61\n",
      "       98188       0.97      1.00      0.98        29\n",
      "       98198       0.97      1.00      0.98        61\n",
      "       98199       1.00      1.00      1.00        61\n",
      "\n",
      "    accuracy                           0.98      4320\n",
      "   macro avg       0.97      0.97      0.97      4320\n",
      "weighted avg       0.98      0.98      0.98      4320\n",
      "\n"
     ]
    }
   ],
   "source": [
    "from sklearn.preprocessing import StandardScaler\n",
    "scaler = StandardScaler()\n",
    "scaler.fit(X_train)\n",
    "X_train = scaler.transform(X_train)\n",
    "X_test = scaler.transform(X_test)\n",
    "from sklearn.neighbors import KNeighborsClassifier\n",
    "classifier = KNeighborsClassifier(n_neighbors=3)\n",
    "classifier.fit(X_train, y_train)\n",
    "y_pred = classifier.predict(X_test)\n",
    "from sklearn.metrics import classification_report, confusion_matrix\n",
    "print(confusion_matrix(y_test, y_pred))\n",
    "print(classification_report(y_test, y_pred))"
   ]
  },
  {
   "cell_type": "markdown",
   "id": "926ebffb",
   "metadata": {},
   "source": [
    "After testing n=3 as best model"
   ]
  },
  {
   "cell_type": "code",
   "execution_count": 130,
   "id": "f25ca11e",
   "metadata": {},
   "outputs": [
    {
     "data": {
      "text/plain": [
       "array([98024, 98002, 98125, ..., 98058, 98115, 98178], dtype=int64)"
      ]
     },
     "execution_count": 130,
     "metadata": {},
     "output_type": "execute_result"
    }
   ],
   "source": [
    "y_pred"
   ]
  },
  {
   "cell_type": "code",
   "execution_count": 132,
   "id": "c8b99b00",
   "metadata": {},
   "outputs": [
    {
     "ename": "ValueError",
     "evalue": "array length 4320 does not match index length 21597",
     "output_type": "error",
     "traceback": [
      "\u001b[1;31m---------------------------------------------------------------------------\u001b[0m",
      "\u001b[1;31mValueError\u001b[0m                                Traceback (most recent call last)",
      "Input \u001b[1;32mIn [132]\u001b[0m, in \u001b[0;36m<cell line: 1>\u001b[1;34m()\u001b[0m\n\u001b[1;32m----> 1\u001b[0m \u001b[43msns\u001b[49m\u001b[38;5;241;43m.\u001b[39;49m\u001b[43mjointplot\u001b[49m\u001b[43m(\u001b[49m\u001b[43mx\u001b[49m\u001b[38;5;241;43m=\u001b[39;49m\u001b[43mPred\u001b[49m\u001b[43m[\u001b[49m\u001b[38;5;124;43m'\u001b[39;49m\u001b[38;5;124;43mlat\u001b[39;49m\u001b[38;5;124;43m'\u001b[39;49m\u001b[43m]\u001b[49m\u001b[43m,\u001b[49m\u001b[43m \u001b[49m\u001b[43my\u001b[49m\u001b[38;5;241;43m=\u001b[39;49m\u001b[43mPred\u001b[49m\u001b[43m[\u001b[49m\u001b[38;5;124;43m'\u001b[39;49m\u001b[38;5;124;43mlong\u001b[39;49m\u001b[38;5;124;43m'\u001b[39;49m\u001b[43m]\u001b[49m\u001b[43m,\u001b[49m\u001b[43m \u001b[49m\u001b[43mhue\u001b[49m\u001b[38;5;241;43m=\u001b[39;49m\u001b[43my_pred\u001b[49m\u001b[43m)\u001b[49m\n",
      "File \u001b[1;32m~\\anaconda3\\envs\\DA_Env\\lib\\site-packages\\seaborn\\_decorators.py:46\u001b[0m, in \u001b[0;36m_deprecate_positional_args.<locals>.inner_f\u001b[1;34m(*args, **kwargs)\u001b[0m\n\u001b[0;32m     36\u001b[0m     warnings\u001b[38;5;241m.\u001b[39mwarn(\n\u001b[0;32m     37\u001b[0m         \u001b[38;5;124m\"\u001b[39m\u001b[38;5;124mPass the following variable\u001b[39m\u001b[38;5;132;01m{}\u001b[39;00m\u001b[38;5;124m as \u001b[39m\u001b[38;5;132;01m{}\u001b[39;00m\u001b[38;5;124mkeyword arg\u001b[39m\u001b[38;5;132;01m{}\u001b[39;00m\u001b[38;5;124m: \u001b[39m\u001b[38;5;132;01m{}\u001b[39;00m\u001b[38;5;124m. \u001b[39m\u001b[38;5;124m\"\u001b[39m\n\u001b[0;32m     38\u001b[0m         \u001b[38;5;124m\"\u001b[39m\u001b[38;5;124mFrom version 0.12, the only valid positional argument \u001b[39m\u001b[38;5;124m\"\u001b[39m\n\u001b[1;32m   (...)\u001b[0m\n\u001b[0;32m     43\u001b[0m         \u001b[38;5;167;01mFutureWarning\u001b[39;00m\n\u001b[0;32m     44\u001b[0m     )\n\u001b[0;32m     45\u001b[0m kwargs\u001b[38;5;241m.\u001b[39mupdate({k: arg \u001b[38;5;28;01mfor\u001b[39;00m k, arg \u001b[38;5;129;01min\u001b[39;00m \u001b[38;5;28mzip\u001b[39m(sig\u001b[38;5;241m.\u001b[39mparameters, args)})\n\u001b[1;32m---> 46\u001b[0m \u001b[38;5;28;01mreturn\u001b[39;00m f(\u001b[38;5;241m*\u001b[39m\u001b[38;5;241m*\u001b[39mkwargs)\n",
      "File \u001b[1;32m~\\anaconda3\\envs\\DA_Env\\lib\\site-packages\\seaborn\\axisgrid.py:2230\u001b[0m, in \u001b[0;36mjointplot\u001b[1;34m(x, y, data, kind, color, height, ratio, space, dropna, xlim, ylim, marginal_ticks, joint_kws, marginal_kws, hue, palette, hue_order, hue_norm, **kwargs)\u001b[0m\n\u001b[0;32m   2227\u001b[0m     dropna \u001b[38;5;241m=\u001b[39m \u001b[38;5;28;01mTrue\u001b[39;00m\n\u001b[0;32m   2229\u001b[0m \u001b[38;5;66;03m# Initialize the JointGrid object\u001b[39;00m\n\u001b[1;32m-> 2230\u001b[0m grid \u001b[38;5;241m=\u001b[39m \u001b[43mJointGrid\u001b[49m\u001b[43m(\u001b[49m\n\u001b[0;32m   2231\u001b[0m \u001b[43m    \u001b[49m\u001b[43mdata\u001b[49m\u001b[38;5;241;43m=\u001b[39;49m\u001b[43mdata\u001b[49m\u001b[43m,\u001b[49m\u001b[43m \u001b[49m\u001b[43mx\u001b[49m\u001b[38;5;241;43m=\u001b[39;49m\u001b[43mx\u001b[49m\u001b[43m,\u001b[49m\u001b[43m \u001b[49m\u001b[43my\u001b[49m\u001b[38;5;241;43m=\u001b[39;49m\u001b[43my\u001b[49m\u001b[43m,\u001b[49m\u001b[43m \u001b[49m\u001b[43mhue\u001b[49m\u001b[38;5;241;43m=\u001b[39;49m\u001b[43mhue\u001b[49m\u001b[43m,\u001b[49m\n\u001b[0;32m   2232\u001b[0m \u001b[43m    \u001b[49m\u001b[43mpalette\u001b[49m\u001b[38;5;241;43m=\u001b[39;49m\u001b[43mpalette\u001b[49m\u001b[43m,\u001b[49m\u001b[43m \u001b[49m\u001b[43mhue_order\u001b[49m\u001b[38;5;241;43m=\u001b[39;49m\u001b[43mhue_order\u001b[49m\u001b[43m,\u001b[49m\u001b[43m \u001b[49m\u001b[43mhue_norm\u001b[49m\u001b[38;5;241;43m=\u001b[39;49m\u001b[43mhue_norm\u001b[49m\u001b[43m,\u001b[49m\n\u001b[0;32m   2233\u001b[0m \u001b[43m    \u001b[49m\u001b[43mdropna\u001b[49m\u001b[38;5;241;43m=\u001b[39;49m\u001b[43mdropna\u001b[49m\u001b[43m,\u001b[49m\u001b[43m \u001b[49m\u001b[43mheight\u001b[49m\u001b[38;5;241;43m=\u001b[39;49m\u001b[43mheight\u001b[49m\u001b[43m,\u001b[49m\u001b[43m \u001b[49m\u001b[43mratio\u001b[49m\u001b[38;5;241;43m=\u001b[39;49m\u001b[43mratio\u001b[49m\u001b[43m,\u001b[49m\u001b[43m \u001b[49m\u001b[43mspace\u001b[49m\u001b[38;5;241;43m=\u001b[39;49m\u001b[43mspace\u001b[49m\u001b[43m,\u001b[49m\n\u001b[0;32m   2234\u001b[0m \u001b[43m    \u001b[49m\u001b[43mxlim\u001b[49m\u001b[38;5;241;43m=\u001b[39;49m\u001b[43mxlim\u001b[49m\u001b[43m,\u001b[49m\u001b[43m \u001b[49m\u001b[43mylim\u001b[49m\u001b[38;5;241;43m=\u001b[39;49m\u001b[43mylim\u001b[49m\u001b[43m,\u001b[49m\u001b[43m \u001b[49m\u001b[43mmarginal_ticks\u001b[49m\u001b[38;5;241;43m=\u001b[39;49m\u001b[43mmarginal_ticks\u001b[49m\u001b[43m,\u001b[49m\n\u001b[0;32m   2235\u001b[0m \u001b[43m\u001b[49m\u001b[43m)\u001b[49m\n\u001b[0;32m   2237\u001b[0m \u001b[38;5;28;01mif\u001b[39;00m grid\u001b[38;5;241m.\u001b[39mhue \u001b[38;5;129;01mis\u001b[39;00m \u001b[38;5;129;01mnot\u001b[39;00m \u001b[38;5;28;01mNone\u001b[39;00m:\n\u001b[0;32m   2238\u001b[0m     marginal_kws\u001b[38;5;241m.\u001b[39msetdefault(\u001b[38;5;124m\"\u001b[39m\u001b[38;5;124mlegend\u001b[39m\u001b[38;5;124m\"\u001b[39m, \u001b[38;5;28;01mFalse\u001b[39;00m)\n",
      "File \u001b[1;32m~\\anaconda3\\envs\\DA_Env\\lib\\site-packages\\seaborn\\_decorators.py:46\u001b[0m, in \u001b[0;36m_deprecate_positional_args.<locals>.inner_f\u001b[1;34m(*args, **kwargs)\u001b[0m\n\u001b[0;32m     36\u001b[0m     warnings\u001b[38;5;241m.\u001b[39mwarn(\n\u001b[0;32m     37\u001b[0m         \u001b[38;5;124m\"\u001b[39m\u001b[38;5;124mPass the following variable\u001b[39m\u001b[38;5;132;01m{}\u001b[39;00m\u001b[38;5;124m as \u001b[39m\u001b[38;5;132;01m{}\u001b[39;00m\u001b[38;5;124mkeyword arg\u001b[39m\u001b[38;5;132;01m{}\u001b[39;00m\u001b[38;5;124m: \u001b[39m\u001b[38;5;132;01m{}\u001b[39;00m\u001b[38;5;124m. \u001b[39m\u001b[38;5;124m\"\u001b[39m\n\u001b[0;32m     38\u001b[0m         \u001b[38;5;124m\"\u001b[39m\u001b[38;5;124mFrom version 0.12, the only valid positional argument \u001b[39m\u001b[38;5;124m\"\u001b[39m\n\u001b[1;32m   (...)\u001b[0m\n\u001b[0;32m     43\u001b[0m         \u001b[38;5;167;01mFutureWarning\u001b[39;00m\n\u001b[0;32m     44\u001b[0m     )\n\u001b[0;32m     45\u001b[0m kwargs\u001b[38;5;241m.\u001b[39mupdate({k: arg \u001b[38;5;28;01mfor\u001b[39;00m k, arg \u001b[38;5;129;01min\u001b[39;00m \u001b[38;5;28mzip\u001b[39m(sig\u001b[38;5;241m.\u001b[39mparameters, args)})\n\u001b[1;32m---> 46\u001b[0m \u001b[38;5;28;01mreturn\u001b[39;00m f(\u001b[38;5;241m*\u001b[39m\u001b[38;5;241m*\u001b[39mkwargs)\n",
      "File \u001b[1;32m~\\anaconda3\\envs\\DA_Env\\lib\\site-packages\\seaborn\\axisgrid.py:1702\u001b[0m, in \u001b[0;36mJointGrid.__init__\u001b[1;34m(self, x, y, data, height, ratio, space, dropna, xlim, ylim, size, marginal_ticks, hue, palette, hue_order, hue_norm)\u001b[0m\n\u001b[0;32m   1699\u001b[0m     ax_marg_y\u001b[38;5;241m.\u001b[39mxaxis\u001b[38;5;241m.\u001b[39mgrid(\u001b[38;5;28;01mFalse\u001b[39;00m)\n\u001b[0;32m   1701\u001b[0m \u001b[38;5;66;03m# Process the input variables\u001b[39;00m\n\u001b[1;32m-> 1702\u001b[0m p \u001b[38;5;241m=\u001b[39m \u001b[43mVectorPlotter\u001b[49m\u001b[43m(\u001b[49m\u001b[43mdata\u001b[49m\u001b[38;5;241;43m=\u001b[39;49m\u001b[43mdata\u001b[49m\u001b[43m,\u001b[49m\u001b[43m \u001b[49m\u001b[43mvariables\u001b[49m\u001b[38;5;241;43m=\u001b[39;49m\u001b[38;5;28;43mdict\u001b[39;49m\u001b[43m(\u001b[49m\u001b[43mx\u001b[49m\u001b[38;5;241;43m=\u001b[39;49m\u001b[43mx\u001b[49m\u001b[43m,\u001b[49m\u001b[43m \u001b[49m\u001b[43my\u001b[49m\u001b[38;5;241;43m=\u001b[39;49m\u001b[43my\u001b[49m\u001b[43m,\u001b[49m\u001b[43m \u001b[49m\u001b[43mhue\u001b[49m\u001b[38;5;241;43m=\u001b[39;49m\u001b[43mhue\u001b[49m\u001b[43m)\u001b[49m\u001b[43m)\u001b[49m\n\u001b[0;32m   1703\u001b[0m plot_data \u001b[38;5;241m=\u001b[39m p\u001b[38;5;241m.\u001b[39mplot_data\u001b[38;5;241m.\u001b[39mloc[:, p\u001b[38;5;241m.\u001b[39mplot_data\u001b[38;5;241m.\u001b[39mnotna()\u001b[38;5;241m.\u001b[39many()]\n\u001b[0;32m   1705\u001b[0m \u001b[38;5;66;03m# Possibly drop NA\u001b[39;00m\n",
      "File \u001b[1;32m~\\anaconda3\\envs\\DA_Env\\lib\\site-packages\\seaborn\\_core.py:605\u001b[0m, in \u001b[0;36mVectorPlotter.__init__\u001b[1;34m(self, data, variables)\u001b[0m\n\u001b[0;32m    603\u001b[0m \u001b[38;5;28;01mdef\u001b[39;00m \u001b[38;5;21m__init__\u001b[39m(\u001b[38;5;28mself\u001b[39m, data\u001b[38;5;241m=\u001b[39m\u001b[38;5;28;01mNone\u001b[39;00m, variables\u001b[38;5;241m=\u001b[39m{}):\n\u001b[1;32m--> 605\u001b[0m     \u001b[38;5;28;43mself\u001b[39;49m\u001b[38;5;241;43m.\u001b[39;49m\u001b[43massign_variables\u001b[49m\u001b[43m(\u001b[49m\u001b[43mdata\u001b[49m\u001b[43m,\u001b[49m\u001b[43m \u001b[49m\u001b[43mvariables\u001b[49m\u001b[43m)\u001b[49m\n\u001b[0;32m    607\u001b[0m     \u001b[38;5;28;01mfor\u001b[39;00m var, \u001b[38;5;28mcls\u001b[39m \u001b[38;5;129;01min\u001b[39;00m \u001b[38;5;28mself\u001b[39m\u001b[38;5;241m.\u001b[39m_semantic_mappings\u001b[38;5;241m.\u001b[39mitems():\n\u001b[0;32m    608\u001b[0m \n\u001b[0;32m    609\u001b[0m         \u001b[38;5;66;03m# Create the mapping function\u001b[39;00m\n\u001b[0;32m    610\u001b[0m         map_func \u001b[38;5;241m=\u001b[39m partial(\u001b[38;5;28mcls\u001b[39m\u001b[38;5;241m.\u001b[39mmap, plotter\u001b[38;5;241m=\u001b[39m\u001b[38;5;28mself\u001b[39m)\n",
      "File \u001b[1;32m~\\anaconda3\\envs\\DA_Env\\lib\\site-packages\\seaborn\\_core.py:668\u001b[0m, in \u001b[0;36mVectorPlotter.assign_variables\u001b[1;34m(self, data, variables)\u001b[0m\n\u001b[0;32m    666\u001b[0m \u001b[38;5;28;01melse\u001b[39;00m:\n\u001b[0;32m    667\u001b[0m     \u001b[38;5;28mself\u001b[39m\u001b[38;5;241m.\u001b[39minput_format \u001b[38;5;241m=\u001b[39m \u001b[38;5;124m\"\u001b[39m\u001b[38;5;124mlong\u001b[39m\u001b[38;5;124m\"\u001b[39m\n\u001b[1;32m--> 668\u001b[0m     plot_data, variables \u001b[38;5;241m=\u001b[39m \u001b[38;5;28mself\u001b[39m\u001b[38;5;241m.\u001b[39m_assign_variables_longform(\n\u001b[0;32m    669\u001b[0m         data, \u001b[38;5;241m*\u001b[39m\u001b[38;5;241m*\u001b[39mvariables,\n\u001b[0;32m    670\u001b[0m     )\n\u001b[0;32m    672\u001b[0m \u001b[38;5;28mself\u001b[39m\u001b[38;5;241m.\u001b[39mplot_data \u001b[38;5;241m=\u001b[39m plot_data\n\u001b[0;32m    673\u001b[0m \u001b[38;5;28mself\u001b[39m\u001b[38;5;241m.\u001b[39mvariables \u001b[38;5;241m=\u001b[39m variables\n",
      "File \u001b[1;32m~\\anaconda3\\envs\\DA_Env\\lib\\site-packages\\seaborn\\_core.py:927\u001b[0m, in \u001b[0;36mVectorPlotter._assign_variables_longform\u001b[1;34m(self, data, **kwargs)\u001b[0m\n\u001b[0;32m    923\u001b[0m         variables[key] \u001b[38;5;241m=\u001b[39m \u001b[38;5;28mgetattr\u001b[39m(val, \u001b[38;5;124m\"\u001b[39m\u001b[38;5;124mname\u001b[39m\u001b[38;5;124m\"\u001b[39m, \u001b[38;5;28;01mNone\u001b[39;00m)\n\u001b[0;32m    925\u001b[0m \u001b[38;5;66;03m# Construct a tidy plot DataFrame. This will convert a number of\u001b[39;00m\n\u001b[0;32m    926\u001b[0m \u001b[38;5;66;03m# types automatically, aligning on index in case of pandas objects\u001b[39;00m\n\u001b[1;32m--> 927\u001b[0m plot_data \u001b[38;5;241m=\u001b[39m \u001b[43mpd\u001b[49m\u001b[38;5;241;43m.\u001b[39;49m\u001b[43mDataFrame\u001b[49m\u001b[43m(\u001b[49m\u001b[43mplot_data\u001b[49m\u001b[43m)\u001b[49m\n\u001b[0;32m    929\u001b[0m \u001b[38;5;66;03m# Reduce the variables dictionary to fields with valid data\u001b[39;00m\n\u001b[0;32m    930\u001b[0m variables \u001b[38;5;241m=\u001b[39m {\n\u001b[0;32m    931\u001b[0m     var: name\n\u001b[0;32m    932\u001b[0m     \u001b[38;5;28;01mfor\u001b[39;00m var, name \u001b[38;5;129;01min\u001b[39;00m variables\u001b[38;5;241m.\u001b[39mitems()\n\u001b[0;32m    933\u001b[0m     \u001b[38;5;28;01mif\u001b[39;00m plot_data[var]\u001b[38;5;241m.\u001b[39mnotnull()\u001b[38;5;241m.\u001b[39many()\n\u001b[0;32m    934\u001b[0m }\n",
      "File \u001b[1;32m~\\anaconda3\\envs\\DA_Env\\lib\\site-packages\\pandas\\core\\frame.py:636\u001b[0m, in \u001b[0;36mDataFrame.__init__\u001b[1;34m(self, data, index, columns, dtype, copy)\u001b[0m\n\u001b[0;32m    630\u001b[0m     mgr \u001b[38;5;241m=\u001b[39m \u001b[38;5;28mself\u001b[39m\u001b[38;5;241m.\u001b[39m_init_mgr(\n\u001b[0;32m    631\u001b[0m         data, axes\u001b[38;5;241m=\u001b[39m{\u001b[38;5;124m\"\u001b[39m\u001b[38;5;124mindex\u001b[39m\u001b[38;5;124m\"\u001b[39m: index, \u001b[38;5;124m\"\u001b[39m\u001b[38;5;124mcolumns\u001b[39m\u001b[38;5;124m\"\u001b[39m: columns}, dtype\u001b[38;5;241m=\u001b[39mdtype, copy\u001b[38;5;241m=\u001b[39mcopy\n\u001b[0;32m    632\u001b[0m     )\n\u001b[0;32m    634\u001b[0m \u001b[38;5;28;01melif\u001b[39;00m \u001b[38;5;28misinstance\u001b[39m(data, \u001b[38;5;28mdict\u001b[39m):\n\u001b[0;32m    635\u001b[0m     \u001b[38;5;66;03m# GH#38939 de facto copy defaults to False only in non-dict cases\u001b[39;00m\n\u001b[1;32m--> 636\u001b[0m     mgr \u001b[38;5;241m=\u001b[39m \u001b[43mdict_to_mgr\u001b[49m\u001b[43m(\u001b[49m\u001b[43mdata\u001b[49m\u001b[43m,\u001b[49m\u001b[43m \u001b[49m\u001b[43mindex\u001b[49m\u001b[43m,\u001b[49m\u001b[43m \u001b[49m\u001b[43mcolumns\u001b[49m\u001b[43m,\u001b[49m\u001b[43m \u001b[49m\u001b[43mdtype\u001b[49m\u001b[38;5;241;43m=\u001b[39;49m\u001b[43mdtype\u001b[49m\u001b[43m,\u001b[49m\u001b[43m \u001b[49m\u001b[43mcopy\u001b[49m\u001b[38;5;241;43m=\u001b[39;49m\u001b[43mcopy\u001b[49m\u001b[43m,\u001b[49m\u001b[43m \u001b[49m\u001b[43mtyp\u001b[49m\u001b[38;5;241;43m=\u001b[39;49m\u001b[43mmanager\u001b[49m\u001b[43m)\u001b[49m\n\u001b[0;32m    637\u001b[0m \u001b[38;5;28;01melif\u001b[39;00m \u001b[38;5;28misinstance\u001b[39m(data, ma\u001b[38;5;241m.\u001b[39mMaskedArray):\n\u001b[0;32m    638\u001b[0m     \u001b[38;5;28;01mimport\u001b[39;00m \u001b[38;5;21;01mnumpy\u001b[39;00m\u001b[38;5;21;01m.\u001b[39;00m\u001b[38;5;21;01mma\u001b[39;00m\u001b[38;5;21;01m.\u001b[39;00m\u001b[38;5;21;01mmrecords\u001b[39;00m \u001b[38;5;28;01mas\u001b[39;00m \u001b[38;5;21;01mmrecords\u001b[39;00m\n",
      "File \u001b[1;32m~\\anaconda3\\envs\\DA_Env\\lib\\site-packages\\pandas\\core\\internals\\construction.py:502\u001b[0m, in \u001b[0;36mdict_to_mgr\u001b[1;34m(data, index, columns, dtype, typ, copy)\u001b[0m\n\u001b[0;32m    494\u001b[0m     arrays \u001b[38;5;241m=\u001b[39m [\n\u001b[0;32m    495\u001b[0m         x\n\u001b[0;32m    496\u001b[0m         \u001b[38;5;28;01mif\u001b[39;00m \u001b[38;5;129;01mnot\u001b[39;00m \u001b[38;5;28mhasattr\u001b[39m(x, \u001b[38;5;124m\"\u001b[39m\u001b[38;5;124mdtype\u001b[39m\u001b[38;5;124m\"\u001b[39m) \u001b[38;5;129;01mor\u001b[39;00m \u001b[38;5;129;01mnot\u001b[39;00m \u001b[38;5;28misinstance\u001b[39m(x\u001b[38;5;241m.\u001b[39mdtype, ExtensionDtype)\n\u001b[0;32m    497\u001b[0m         \u001b[38;5;28;01melse\u001b[39;00m x\u001b[38;5;241m.\u001b[39mcopy()\n\u001b[0;32m    498\u001b[0m         \u001b[38;5;28;01mfor\u001b[39;00m x \u001b[38;5;129;01min\u001b[39;00m arrays\n\u001b[0;32m    499\u001b[0m     ]\n\u001b[0;32m    500\u001b[0m     \u001b[38;5;66;03m# TODO: can we get rid of the dt64tz special case above?\u001b[39;00m\n\u001b[1;32m--> 502\u001b[0m \u001b[38;5;28;01mreturn\u001b[39;00m \u001b[43marrays_to_mgr\u001b[49m\u001b[43m(\u001b[49m\u001b[43marrays\u001b[49m\u001b[43m,\u001b[49m\u001b[43m \u001b[49m\u001b[43mcolumns\u001b[49m\u001b[43m,\u001b[49m\u001b[43m \u001b[49m\u001b[43mindex\u001b[49m\u001b[43m,\u001b[49m\u001b[43m \u001b[49m\u001b[43mdtype\u001b[49m\u001b[38;5;241;43m=\u001b[39;49m\u001b[43mdtype\u001b[49m\u001b[43m,\u001b[49m\u001b[43m \u001b[49m\u001b[43mtyp\u001b[49m\u001b[38;5;241;43m=\u001b[39;49m\u001b[43mtyp\u001b[49m\u001b[43m,\u001b[49m\u001b[43m \u001b[49m\u001b[43mconsolidate\u001b[49m\u001b[38;5;241;43m=\u001b[39;49m\u001b[43mcopy\u001b[49m\u001b[43m)\u001b[49m\n",
      "File \u001b[1;32m~\\anaconda3\\envs\\DA_Env\\lib\\site-packages\\pandas\\core\\internals\\construction.py:120\u001b[0m, in \u001b[0;36marrays_to_mgr\u001b[1;34m(arrays, columns, index, dtype, verify_integrity, typ, consolidate)\u001b[0m\n\u001b[0;32m    117\u001b[0m \u001b[38;5;28;01mif\u001b[39;00m verify_integrity:\n\u001b[0;32m    118\u001b[0m     \u001b[38;5;66;03m# figure out the index, if necessary\u001b[39;00m\n\u001b[0;32m    119\u001b[0m     \u001b[38;5;28;01mif\u001b[39;00m index \u001b[38;5;129;01mis\u001b[39;00m \u001b[38;5;28;01mNone\u001b[39;00m:\n\u001b[1;32m--> 120\u001b[0m         index \u001b[38;5;241m=\u001b[39m \u001b[43m_extract_index\u001b[49m\u001b[43m(\u001b[49m\u001b[43marrays\u001b[49m\u001b[43m)\u001b[49m\n\u001b[0;32m    121\u001b[0m     \u001b[38;5;28;01melse\u001b[39;00m:\n\u001b[0;32m    122\u001b[0m         index \u001b[38;5;241m=\u001b[39m ensure_index(index)\n",
      "File \u001b[1;32m~\\anaconda3\\envs\\DA_Env\\lib\\site-packages\\pandas\\core\\internals\\construction.py:688\u001b[0m, in \u001b[0;36m_extract_index\u001b[1;34m(data)\u001b[0m\n\u001b[0;32m    683\u001b[0m     \u001b[38;5;28;01mif\u001b[39;00m lengths[\u001b[38;5;241m0\u001b[39m] \u001b[38;5;241m!=\u001b[39m \u001b[38;5;28mlen\u001b[39m(index):\n\u001b[0;32m    684\u001b[0m         msg \u001b[38;5;241m=\u001b[39m (\n\u001b[0;32m    685\u001b[0m             \u001b[38;5;124mf\u001b[39m\u001b[38;5;124m\"\u001b[39m\u001b[38;5;124marray length \u001b[39m\u001b[38;5;132;01m{\u001b[39;00mlengths[\u001b[38;5;241m0\u001b[39m]\u001b[38;5;132;01m}\u001b[39;00m\u001b[38;5;124m does not match index \u001b[39m\u001b[38;5;124m\"\u001b[39m\n\u001b[0;32m    686\u001b[0m             \u001b[38;5;124mf\u001b[39m\u001b[38;5;124m\"\u001b[39m\u001b[38;5;124mlength \u001b[39m\u001b[38;5;132;01m{\u001b[39;00m\u001b[38;5;28mlen\u001b[39m(index)\u001b[38;5;132;01m}\u001b[39;00m\u001b[38;5;124m\"\u001b[39m\n\u001b[0;32m    687\u001b[0m         )\n\u001b[1;32m--> 688\u001b[0m         \u001b[38;5;28;01mraise\u001b[39;00m \u001b[38;5;167;01mValueError\u001b[39;00m(msg)\n\u001b[0;32m    689\u001b[0m \u001b[38;5;28;01melse\u001b[39;00m:\n\u001b[0;32m    690\u001b[0m     index \u001b[38;5;241m=\u001b[39m default_index(lengths[\u001b[38;5;241m0\u001b[39m])\n",
      "\u001b[1;31mValueError\u001b[0m: array length 4320 does not match index length 21597"
     ]
    },
    {
     "data": {
      "image/png": "[encoded data removed]",
      "text/plain": [
       "<Figure size 432x432 with 3 Axes>"
      ]
     },
     "metadata": {
      "needs_background": "light"
     },
     "output_type": "display_data"
    }
   ],
   "source": [
    "sns.jointplot(x=Pred['lat'], y=Pred['long'], hue=y_pred)"
   ]
  }
 ],
 "metadata": {
  "kernelspec": {
   "display_name": "Python 3 (ipykernel)",
   "language": "python",
   "name": "python3"
  },
  "language_info": {
   "codemirror_mode": {
    "name": "ipython",
    "version": 3
   },
   "file_extension": ".py",
   "mimetype": "text/x-python",
   "name": "python",
   "nbconvert_exporter": "python",
   "pygments_lexer": "ipython3",
   "version": "3.9.7"
  }
 },
 "nbformat": 4,
 "nbformat_minor": 5
}
