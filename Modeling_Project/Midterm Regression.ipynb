{
 "cells": [
  {
   "cell_type": "code",
   "execution_count": 116,
   "id": "f4573615",
   "metadata": {},
   "outputs": [],
   "source": [
    "import pandas as pd\n",
    "import getpass\n",
    "import sqlalchemy as sa\n",
    "import numpy as np\n",
    "import seaborn as sns\n",
    "import matplotlib as plt\n",
    "import numpy as np\n",
    "import pandas as pd\n",
    "import matplotlib.pyplot as plt\n",
    "%matplotlib inline\n",
    "import seaborn as sns\n",
    "from sklearn.preprocessing import StandardScaler\n",
    "from sklearn.preprocessing import quantile_transform\n",
    "from sklearn.preprocessing import QuantileTransformer\n",
    "from sklearn.preprocessing import minmax_scale\n",
    "from sklearn.preprocessing import MinMaxScaler\n",
    "from sklearn.preprocessing import OneHotEncoder  ##. better to use dummy from pandas \n",
    "from sklearn.preprocessing import PowerTransformer\n",
    "from scipy.stats import boxcox\n",
    "from sklearn.linear_model import LinearRegression\n",
    "from sklearn.model_selection import train_test_split\n",
    "import statsmodels.api as sm\n",
    "from scipy.stats import boxcox\n",
    "from sklearn.model_selection import train_test_split\n",
    "from sklearn.metrics import r2_score\n",
    "from sklearn.metrics import mean_squared_error as mse\n",
    "from sklearn.metrics import mean_absolute_error as mae\n",
    "from sklearn.feature_selection import RFE\n",
    "pd.options.display.max_rows = 50\n",
    "## Install xlrd package to load Excel files\n",
    "# conda install openpyxl\n",
    "## conda install xlrd"
   ]
  },
  {
   "cell_type": "markdown",
   "id": "613dccbd",
   "metadata": {},
   "source": [
    "## Importing Dataset."
   ]
  },
  {
   "cell_type": "code",
   "execution_count": 117,
   "id": "71384a3b",
   "metadata": {
    "scrolled": false
   },
   "outputs": [],
   "source": [
    "hp_df_org = pd.read_csv('C:/Users/Lenovo/Documents/GitHub/Houseprices/Data/house_price_df.csv')\n",
    "hp_df = hp_df_org"
   ]
  },
  {
   "cell_type": "markdown",
   "id": "4e2e1483",
   "metadata": {},
   "source": [
    "## EDA"
   ]
  },
  {
   "cell_type": "code",
   "execution_count": 118,
   "id": "493a5f10",
   "metadata": {},
   "outputs": [
    {
     "name": "stdout",
     "output_type": "stream",
     "text": [
      "<class 'pandas.core.frame.DataFrame'>\n",
      "RangeIndex: 21597 entries, 0 to 21596\n",
      "Data columns (total 22 columns):\n",
      " #   Column         Non-Null Count  Dtype  \n",
      "---  ------         --------------  -----  \n",
      " 0   Unnamed: 0     21597 non-null  int64  \n",
      " 1   id             21597 non-null  int64  \n",
      " 2   date           21597 non-null  object \n",
      " 3   bedrooms       21597 non-null  int64  \n",
      " 4   bathrooms      21597 non-null  float64\n",
      " 5   sqft_living    21597 non-null  int64  \n",
      " 6   sqft_lot       21597 non-null  int64  \n",
      " 7   floors         21597 non-null  float64\n",
      " 8   waterfront     21597 non-null  int64  \n",
      " 9   view           21597 non-null  int64  \n",
      " 10  condition      21597 non-null  int64  \n",
      " 11  grade          21597 non-null  int64  \n",
      " 12  sqft_above     21597 non-null  int64  \n",
      " 13  sqft_basement  21597 non-null  int64  \n",
      " 14  yr_built       21597 non-null  int64  \n",
      " 15  yr_renovated   21597 non-null  int64  \n",
      " 16  zipcode        21597 non-null  int64  \n",
      " 17  lat            21597 non-null  float64\n",
      " 18  long           21597 non-null  float64\n",
      " 19  sqft_living15  21597 non-null  int64  \n",
      " 20  sqft_lot15     21597 non-null  int64  \n",
      " 21  price          21597 non-null  int64  \n",
      "dtypes: float64(4), int64(17), object(1)\n",
      "memory usage: 3.6+ MB\n"
     ]
    }
   ],
   "source": [
    "hp_df.info()"
   ]
  },
  {
   "cell_type": "markdown",
   "id": "ba015ee1",
   "metadata": {},
   "source": [
    "The Dataset consists of 21597 Houses containing 21 features. Price is to be the predicted variables. "
   ]
  },
  {
   "cell_type": "code",
   "execution_count": 119,
   "id": "3aabbcb9",
   "metadata": {
    "scrolled": true
   },
   "outputs": [
    {
     "data": {
      "text/html": [
       "<div>\n",
       "<style scoped>\n",
       "    .dataframe tbody tr th:only-of-type {\n",
       "        vertical-align: middle;\n",
       "    }\n",
       "\n",
       "    .dataframe tbody tr th {\n",
       "        vertical-align: top;\n",
       "    }\n",
       "\n",
       "    .dataframe thead th {\n",
       "        text-align: right;\n",
       "    }\n",
       "</style>\n",
       "<table border=\"1\" class=\"dataframe\">\n",
       "  <thead>\n",
       "    <tr style=\"text-align: right;\">\n",
       "      <th></th>\n",
       "      <th>bedrooms</th>\n",
       "      <th>sqft_living</th>\n",
       "      <th>sqft_lot</th>\n",
       "      <th>yr_built</th>\n",
       "      <th>price</th>\n",
       "    </tr>\n",
       "  </thead>\n",
       "  <tbody>\n",
       "    <tr>\n",
       "      <th>count</th>\n",
       "      <td>21597.000000</td>\n",
       "      <td>21597.000000</td>\n",
       "      <td>2.159700e+04</td>\n",
       "      <td>21597.000000</td>\n",
       "      <td>2.159700e+04</td>\n",
       "    </tr>\n",
       "    <tr>\n",
       "      <th>mean</th>\n",
       "      <td>3.373200</td>\n",
       "      <td>2080.321850</td>\n",
       "      <td>1.509941e+04</td>\n",
       "      <td>1970.999676</td>\n",
       "      <td>5.402966e+05</td>\n",
       "    </tr>\n",
       "    <tr>\n",
       "      <th>std</th>\n",
       "      <td>0.926299</td>\n",
       "      <td>918.106125</td>\n",
       "      <td>4.141264e+04</td>\n",
       "      <td>29.375234</td>\n",
       "      <td>3.673681e+05</td>\n",
       "    </tr>\n",
       "    <tr>\n",
       "      <th>min</th>\n",
       "      <td>1.000000</td>\n",
       "      <td>370.000000</td>\n",
       "      <td>5.200000e+02</td>\n",
       "      <td>1900.000000</td>\n",
       "      <td>7.800000e+04</td>\n",
       "    </tr>\n",
       "    <tr>\n",
       "      <th>25%</th>\n",
       "      <td>3.000000</td>\n",
       "      <td>1430.000000</td>\n",
       "      <td>5.040000e+03</td>\n",
       "      <td>1951.000000</td>\n",
       "      <td>3.220000e+05</td>\n",
       "    </tr>\n",
       "    <tr>\n",
       "      <th>50%</th>\n",
       "      <td>3.000000</td>\n",
       "      <td>1910.000000</td>\n",
       "      <td>7.618000e+03</td>\n",
       "      <td>1975.000000</td>\n",
       "      <td>4.500000e+05</td>\n",
       "    </tr>\n",
       "    <tr>\n",
       "      <th>75%</th>\n",
       "      <td>4.000000</td>\n",
       "      <td>2550.000000</td>\n",
       "      <td>1.068500e+04</td>\n",
       "      <td>1997.000000</td>\n",
       "      <td>6.450000e+05</td>\n",
       "    </tr>\n",
       "    <tr>\n",
       "      <th>max</th>\n",
       "      <td>33.000000</td>\n",
       "      <td>13540.000000</td>\n",
       "      <td>1.651359e+06</td>\n",
       "      <td>2015.000000</td>\n",
       "      <td>7.700000e+06</td>\n",
       "    </tr>\n",
       "  </tbody>\n",
       "</table>\n",
       "</div>"
      ],
      "text/plain": [
       "           bedrooms   sqft_living      sqft_lot      yr_built         price\n",
       "count  21597.000000  21597.000000  2.159700e+04  21597.000000  2.159700e+04\n",
       "mean       3.373200   2080.321850  1.509941e+04   1970.999676  5.402966e+05\n",
       "std        0.926299    918.106125  4.141264e+04     29.375234  3.673681e+05\n",
       "min        1.000000    370.000000  5.200000e+02   1900.000000  7.800000e+04\n",
       "25%        3.000000   1430.000000  5.040000e+03   1951.000000  3.220000e+05\n",
       "50%        3.000000   1910.000000  7.618000e+03   1975.000000  4.500000e+05\n",
       "75%        4.000000   2550.000000  1.068500e+04   1997.000000  6.450000e+05\n",
       "max       33.000000  13540.000000  1.651359e+06   2015.000000  7.700000e+06"
      ]
     },
     "execution_count": 119,
     "metadata": {},
     "output_type": "execute_result"
    }
   ],
   "source": [
    "hp_df[['bedrooms', 'sqft_living',  'sqft_lot', 'yr_built', 'price']].describe()"
   ]
  },
  {
   "cell_type": "markdown",
   "id": "7decc53c",
   "metadata": {},
   "source": [
    "The average house has about 3 bedrooms, 2080 sqft of living area, a lot size of 15000 sqft, was built in 1970 and has a price of 540000 $. The mean and the median differ alot in the variable sqft lot, where the median is much lower then the mean. This leads to the conculusion that many houses don't have a big lot but a few house with a big lot change the distribution."
   ]
  },
  {
   "cell_type": "code",
   "execution_count": 120,
   "id": "730bf39d",
   "metadata": {},
   "outputs": [
    {
     "name": "stdout",
     "output_type": "stream",
     "text": [
      "2014-05-02 2015-05-27\n"
     ]
    }
   ],
   "source": [
    "print(hp_df['date'].min(), hp_df['date'].max())"
   ]
  },
  {
   "cell_type": "markdown",
   "id": "a7890bf7",
   "metadata": {},
   "source": [
    "The date variable displays the date when the house was sold. Data is between May 2014 and May 2015. "
   ]
  },
  {
   "cell_type": "code",
   "execution_count": 121,
   "id": "72a3815b",
   "metadata": {},
   "outputs": [
    {
     "data": {
      "text/plain": [
       "2.50    5377\n",
       "1.00    3851\n",
       "1.75    3048\n",
       "2.25    2047\n",
       "2.00    1930\n",
       "1.50    1445\n",
       "2.75    1185\n",
       "3.00     753\n",
       "3.50     731\n",
       "3.25     589\n",
       "3.75     155\n",
       "4.00     136\n",
       "4.50     100\n",
       "4.25      79\n",
       "0.75      71\n",
       "4.75      23\n",
       "5.00      21\n",
       "5.25      13\n",
       "5.50      10\n",
       "1.25       9\n",
       "6.00       6\n",
       "0.50       4\n",
       "5.75       4\n",
       "6.75       2\n",
       "8.00       2\n",
       "6.25       2\n",
       "6.50       2\n",
       "7.50       1\n",
       "7.75       1\n",
       "Name: bathrooms, dtype: int64"
      ]
     },
     "execution_count": 121,
     "metadata": {},
     "output_type": "execute_result"
    }
   ],
   "source": [
    "hp_df['bathrooms'].value_counts()"
   ]
  },
  {
   "cell_type": "markdown",
   "id": "f10b73fd",
   "metadata": {},
   "source": [
    "Most houses have 2,5 bathrooms, a lot also only . A view outliers have a very high number of bathrooms."
   ]
  },
  {
   "cell_type": "markdown",
   "id": "b7c93e42",
   "metadata": {},
   "source": [
    "## Location\n",
    "\n",
    "For the location the datasets offers three features. Latitute and Longitude (only useful combined) and zipcodes. Let's look at both of them."
   ]
  },
  {
   "cell_type": "code",
   "execution_count": 122,
   "id": "4c592eae",
   "metadata": {
    "scrolled": true
   },
   "outputs": [],
   "source": [
    "# sns.jointplot(data=hp_df, x='long', y='lat', hue = 'sqft_lot').set(title='Lot size and geographical location')"
   ]
  },
  {
   "cell_type": "markdown",
   "id": "e4385a7e",
   "metadata": {},
   "source": [
    "Looking at the geographical location of the houses and displaying the lot size it is visual, that the properties at the are outskirts and the countryside get bigger. "
   ]
  },
  {
   "cell_type": "code",
   "execution_count": 123,
   "id": "83796a34",
   "metadata": {},
   "outputs": [],
   "source": [
    "# sns.jointplot(data=hp_df, x='long', y='lat', hue = 'zipcode').set(title='Zipcode and geographical location')"
   ]
  },
  {
   "cell_type": "markdown",
   "id": "b240be6c",
   "metadata": {},
   "source": [
    "The zipcodes are not in a logicla order so the variables should not be used as a numerical variables.\n",
    "And alternative idea would be to use the travel distance from the house to the city center."
   ]
  },
  {
   "cell_type": "code",
   "execution_count": 124,
   "id": "a51f8473",
   "metadata": {},
   "outputs": [],
   "source": [
    "distance = pd.read_csv('C:/Users/Lenovo/Documents/GitHub/Houseprices/Data/distance.csv')"
   ]
  },
  {
   "cell_type": "code",
   "execution_count": 125,
   "id": "643851d5",
   "metadata": {},
   "outputs": [],
   "source": [
    "hp_df['distanceM'] = distance['DistanceM'].astype('float64')"
   ]
  },
  {
   "cell_type": "markdown",
   "id": "5c558344",
   "metadata": {},
   "source": [
    "## Year renovated"
   ]
  },
  {
   "cell_type": "code",
   "execution_count": 126,
   "id": "a34be705",
   "metadata": {},
   "outputs": [
    {
     "data": {
      "text/plain": [
       "<AxesSubplot:xlabel='yr_renovated', ylabel='Count'>"
      ]
     },
     "execution_count": 126,
     "metadata": {},
     "output_type": "execute_result"
    },
    {
     "data": {
      "image/png": "[encoded data removed]",
      "text/plain": [
       "<Figure size 432x288 with 1 Axes>"
      ]
     },
     "metadata": {
      "needs_background": "light"
     },
     "output_type": "display_data"
    }
   ],
   "source": [
    "sns.histplot(data=hp_df, x='yr_renovated')"
   ]
  },
  {
   "cell_type": "markdown",
   "id": "48680aaf",
   "metadata": {},
   "source": [
    "The year renovated displays a 0 if the house was not yet renovated. This is not useful information in a linear regression. \n",
    "\n",
    "Workaround:\n",
    "\n",
    "introduce boolean variable: Renovated: Yes/N0\n",
    "Put zero values as No  \n"
   ]
  },
  {
   "cell_type": "code",
   "execution_count": 127,
   "id": "afc6f533",
   "metadata": {},
   "outputs": [],
   "source": [
    "hp_df['renovated'] = bool"
   ]
  },
  {
   "cell_type": "code",
   "execution_count": 128,
   "id": "0a95bf24",
   "metadata": {},
   "outputs": [
    {
     "data": {
      "text/plain": [
       "0         True\n",
       "1        False\n",
       "2         True\n",
       "3         True\n",
       "4         True\n",
       "         ...  \n",
       "21592     True\n",
       "21593     True\n",
       "21594     True\n",
       "21595     True\n",
       "21596     True\n",
       "Name: yr_renovated, Length: 21597, dtype: bool"
      ]
     },
     "execution_count": 128,
     "metadata": {},
     "output_type": "execute_result"
    }
   ],
   "source": [
    "hp_df['yr_renovated'] == 0"
   ]
  },
  {
   "cell_type": "code",
   "execution_count": 129,
   "id": "43d2bcb5",
   "metadata": {
    "scrolled": true
   },
   "outputs": [],
   "source": [
    "hp_df.loc[hp_df['yr_renovated'] == 0, 'renovated'] = False"
   ]
  },
  {
   "cell_type": "code",
   "execution_count": 130,
   "id": "74b43371",
   "metadata": {},
   "outputs": [],
   "source": [
    "hp_df.loc[hp_df['yr_renovated'] != 0, 'renovated'] = True"
   ]
  },
  {
   "cell_type": "markdown",
   "id": "acb56f67",
   "metadata": {},
   "source": [
    "## Basement"
   ]
  },
  {
   "cell_type": "code",
   "execution_count": 131,
   "id": "c6306aa9",
   "metadata": {},
   "outputs": [
    {
     "data": {
      "text/plain": [
       "<AxesSubplot:xlabel='sqft_basement', ylabel='Count'>"
      ]
     },
     "execution_count": 131,
     "metadata": {},
     "output_type": "execute_result"
    },
    {
     "data": {
      "image/png": "[encoded data removed]",
      "text/plain": [
       "<Figure size 432x288 with 1 Axes>"
      ]
     },
     "metadata": {
      "needs_background": "light"
     },
     "output_type": "display_data"
    }
   ],
   "source": [
    "sns.histplot(data=hp_df, x='sqft_basement')"
   ]
  },
  {
   "cell_type": "markdown",
   "id": "07907b25",
   "metadata": {},
   "source": [
    "Most Houses don't have a basement, so a dummy will be introduced checking for basement or not:"
   ]
  },
  {
   "cell_type": "code",
   "execution_count": 132,
   "id": "4c377a91",
   "metadata": {},
   "outputs": [],
   "source": [
    "hp_df.loc[hp_df['sqft_basement'] == 0, 'basement'] = False\n",
    "hp_df.loc[hp_df['sqft_basement'] != 0, 'basement'] = True"
   ]
  },
  {
   "cell_type": "markdown",
   "id": "3f6c0b8d",
   "metadata": {},
   "source": [
    "## Grade"
   ]
  },
  {
   "cell_type": "markdown",
   "id": "ee487a25",
   "metadata": {},
   "source": [
    "Bin grade to have a better classification:"
   ]
  },
  {
   "cell_type": "code",
   "execution_count": 133,
   "id": "5c52dda3",
   "metadata": {},
   "outputs": [],
   "source": [
    "grade_mean = hp_df['grade'].mean()"
   ]
  },
  {
   "cell_type": "code",
   "execution_count": 134,
   "id": "9c77155c",
   "metadata": {
    "scrolled": true
   },
   "outputs": [
    {
     "name": "stderr",
     "output_type": "stream",
     "text": [
      "C:\\Users\\Lenovo\\AppData\\Local\\Temp\\ipykernel_18772\\79735779.py:3: SettingWithCopyWarning: \n",
      "A value is trying to be set on a copy of a slice from a DataFrame\n",
      "\n",
      "See the caveats in the documentation: https://pandas.pydata.org/pandas-docs/stable/user_guide/indexing.html#returning-a-view-versus-a-copy\n",
      "  hp_df['grade'][i] = 'below_avg'\n"
     ]
    }
   ],
   "source": [
    "for i in range(0,len(hp_df)):\n",
    "    if hp_df['grade'][i]<grade_mean:\n",
    "        hp_df['grade'][i] = 'below_avg'\n",
    "    else:\n",
    "        hp_df['grade'][i] = 'avg_or_better'\n",
    "        "
   ]
  },
  {
   "cell_type": "code",
   "execution_count": 135,
   "id": "786c0a94",
   "metadata": {},
   "outputs": [
    {
     "data": {
      "text/plain": [
       "<AxesSubplot:xlabel='grade', ylabel='Count'>"
      ]
     },
     "execution_count": 135,
     "metadata": {},
     "output_type": "execute_result"
    },
    {
     "data": {
      "image/png": "[encoded data removed]",
      "text/plain": [
       "<Figure size 432x288 with 1 Axes>"
      ]
     },
     "metadata": {
      "needs_background": "light"
     },
     "output_type": "display_data"
    }
   ],
   "source": [
    "sns.histplot(hp_df['grade'])"
   ]
  },
  {
   "cell_type": "markdown",
   "id": "5a6a3bfd",
   "metadata": {},
   "source": [
    "## Floors"
   ]
  },
  {
   "cell_type": "code",
   "execution_count": 136,
   "id": "d882a0e6",
   "metadata": {},
   "outputs": [
    {
     "data": {
      "text/plain": [
       "<AxesSubplot:xlabel='floors', ylabel='Count'>"
      ]
     },
     "execution_count": 136,
     "metadata": {},
     "output_type": "execute_result"
    },
    {
     "data": {
      "image/png": "[encoded data removed]",
      "text/plain": [
       "<Figure size 432x288 with 1 Axes>"
      ]
     },
     "metadata": {
      "needs_background": "light"
     },
     "output_type": "display_data"
    }
   ],
   "source": [
    "sns.histplot(hp_df['floors'])"
   ]
  },
  {
   "cell_type": "code",
   "execution_count": 137,
   "id": "ebfa3d73",
   "metadata": {},
   "outputs": [
    {
     "data": {
      "text/plain": [
       "1.0    10673\n",
       "2.0     8235\n",
       "1.5     1910\n",
       "3.0      611\n",
       "2.5      161\n",
       "3.5        7\n",
       "Name: floors, dtype: int64"
      ]
     },
     "execution_count": 137,
     "metadata": {},
     "output_type": "execute_result"
    }
   ],
   "source": [
    "hp_df['floors'].value_counts()"
   ]
  },
  {
   "cell_type": "markdown",
   "id": "a8a550e9",
   "metadata": {},
   "source": [
    "bin floors to be more equal"
   ]
  },
  {
   "cell_type": "code",
   "execution_count": 138,
   "id": "d1589017",
   "metadata": {},
   "outputs": [],
   "source": [
    "for i in range(0, len(hp_df)):\n",
    "    if hp_df.loc[i, 'floors'] <= 1.0:\n",
    "        hp_df.loc[i,'floors'] = 'one'\n",
    "    else: \n",
    "        hp_df.loc[i, 'floors'] = 'more_than_one'"
   ]
  },
  {
   "cell_type": "code",
   "execution_count": 139,
   "id": "03a5f283",
   "metadata": {},
   "outputs": [
    {
     "data": {
      "text/plain": [
       "<AxesSubplot:xlabel='floors', ylabel='Count'>"
      ]
     },
     "execution_count": 139,
     "metadata": {},
     "output_type": "execute_result"
    },
    {
     "data": {
      "image/png": "[encoded data removed]",
      "text/plain": [
       "<Figure size 432x288 with 1 Axes>"
      ]
     },
     "metadata": {
      "needs_background": "light"
     },
     "output_type": "display_data"
    }
   ],
   "source": [
    "sns.histplot(hp_df['floors'])"
   ]
  },
  {
   "cell_type": "markdown",
   "id": "35ca0b83",
   "metadata": {},
   "source": [
    "## Dropping columns:\n",
    "\n",
    "For now the columns Unnamed, id, date and long, lat will be dropped from the dataframe."
   ]
  },
  {
   "cell_type": "code",
   "execution_count": 140,
   "id": "c748eb9c",
   "metadata": {},
   "outputs": [],
   "source": [
    "col_drop = ['Unnamed: 0',\\\n",
    "            'id',\\\n",
    "            'date',\\\n",
    "           'long',\\\n",
    "            'sqft_basement',\\\n",
    "            'yr_renovated',\\\n",
    "           'lat']   \n",
    "# 'Unnamed: 0' : id from import without information\n",
    "# 'id': random or consequtive values without values\n",
    "# 'date': probably the date the house was added to the database, no additional information for houseprice\n",
    "# 'lang', 'lat': Geografical data, not usable in linear regression like this, can be converted to zones using knn. \n",
    "#    Task for later. But zip codes are enough, probably\n"
   ]
  },
  {
   "cell_type": "code",
   "execution_count": 141,
   "id": "57635f2e",
   "metadata": {},
   "outputs": [],
   "source": [
    "hp_df = hp_df.drop(col_drop, axis= 1)"
   ]
  },
  {
   "cell_type": "markdown",
   "id": "ff110eef",
   "metadata": {},
   "source": [
    "## Changing datatypes\n"
   ]
  },
  {
   "cell_type": "markdown",
   "id": "2b6dd6e1",
   "metadata": {},
   "source": [
    "The format of the features are mostly numerical (int or float). Many of the variables have to be transformed to category to give meaningful results in a regression.\n",
    "These are:\n",
    "\n",
    "'zipcode, 'bedrooms', 'bathrooms', 'floors', 'waterfront', 'view', 'condition', 'grade'"
   ]
  },
  {
   "cell_type": "code",
   "execution_count": 142,
   "id": "d9f8a436",
   "metadata": {},
   "outputs": [
    {
     "name": "stdout",
     "output_type": "stream",
     "text": [
      "<class 'pandas.core.frame.DataFrame'>\n",
      "RangeIndex: 21597 entries, 0 to 21596\n",
      "Data columns (total 18 columns):\n",
      " #   Column         Non-Null Count  Dtype  \n",
      "---  ------         --------------  -----  \n",
      " 0   bedrooms       21597 non-null  int64  \n",
      " 1   bathrooms      21597 non-null  float64\n",
      " 2   sqft_living    21597 non-null  int64  \n",
      " 3   sqft_lot       21597 non-null  int64  \n",
      " 4   floors         21597 non-null  object \n",
      " 5   waterfront     21597 non-null  int64  \n",
      " 6   view           21597 non-null  int64  \n",
      " 7   condition      21597 non-null  int64  \n",
      " 8   grade          21597 non-null  object \n",
      " 9   sqft_above     21597 non-null  int64  \n",
      " 10  yr_built       21597 non-null  int64  \n",
      " 11  zipcode        21597 non-null  int64  \n",
      " 12  sqft_living15  21597 non-null  int64  \n",
      " 13  sqft_lot15     21597 non-null  int64  \n",
      " 14  price          21597 non-null  int64  \n",
      " 15  distanceM      21597 non-null  float64\n",
      " 16  renovated      21597 non-null  object \n",
      " 17  basement       21597 non-null  object \n",
      "dtypes: float64(2), int64(12), object(4)\n",
      "memory usage: 3.0+ MB\n"
     ]
    }
   ],
   "source": [
    "hp_df.info()"
   ]
  },
  {
   "cell_type": "code",
   "execution_count": 143,
   "id": "b62cf06d",
   "metadata": {},
   "outputs": [
    {
     "name": "stdout",
     "output_type": "stream",
     "text": [
      "<class 'pandas.core.frame.DataFrame'>\n",
      "RangeIndex: 21597 entries, 0 to 21596\n",
      "Data columns (total 18 columns):\n",
      " #   Column         Non-Null Count  Dtype   \n",
      "---  ------         --------------  -----   \n",
      " 0   bedrooms       21597 non-null  int64   \n",
      " 1   bathrooms      21597 non-null  float64 \n",
      " 2   sqft_living    21597 non-null  int64   \n",
      " 3   sqft_lot       21597 non-null  int64   \n",
      " 4   floors         21597 non-null  category\n",
      " 5   waterfront     21597 non-null  category\n",
      " 6   view           21597 non-null  category\n",
      " 7   condition      21597 non-null  category\n",
      " 8   grade          21597 non-null  category\n",
      " 9   sqft_above     21597 non-null  int64   \n",
      " 10  yr_built       21597 non-null  int64   \n",
      " 11  zipcode        21597 non-null  category\n",
      " 12  sqft_living15  21597 non-null  int64   \n",
      " 13  sqft_lot15     21597 non-null  int64   \n",
      " 14  price          21597 non-null  int64   \n",
      " 15  distanceM      21597 non-null  float64 \n",
      " 16  renovated      21597 non-null  object  \n",
      " 17  basement       21597 non-null  object  \n",
      "dtypes: category(6), float64(2), int64(8), object(2)\n",
      "memory usage: 2.1+ MB\n"
     ]
    }
   ],
   "source": [
    "# From the pairplot we can see which columns are categorical/dummies:\n",
    "#  bderooms, bathrooms, floors, waterfront, view, condition, grade\n",
    "ordinal_var = ['zipcode', 'floors', 'waterfront', 'view', 'condition', 'grade']\n",
    "hp_df[ordinal_var] = hp_df[ordinal_var].astype('category')\n",
    "hp_df.info()"
   ]
  },
  {
   "cell_type": "code",
   "execution_count": 144,
   "id": "d91c783f",
   "metadata": {},
   "outputs": [
    {
     "data": {
      "text/plain": [
       "(21597, 18)"
      ]
     },
     "execution_count": 144,
     "metadata": {},
     "output_type": "execute_result"
    }
   ],
   "source": [
    "hp_df.shape"
   ]
  },
  {
   "cell_type": "markdown",
   "id": "135fafbb",
   "metadata": {},
   "source": [
    "## Checking correlation of numerical variables"
   ]
  },
  {
   "cell_type": "code",
   "execution_count": 145,
   "id": "b0fc4753",
   "metadata": {
    "scrolled": true
   },
   "outputs": [
    {
     "data": {
      "image/png": "[encoded data removed]",
      "text/plain": [
       "<Figure size 648x504 with 2 Axes>"
      ]
     },
     "metadata": {},
     "output_type": "display_data"
    }
   ],
   "source": [
    "corr = hp_df.corr()\n",
    "mask = np.zeros_like(corr)\n",
    "mask[np.triu_indices_from(mask)] = True\n",
    "with sns.axes_style(\"white\"):\n",
    "    f, ax = plt.subplots(figsize=(9, 7))\n",
    "    ax = sns.heatmap(corr, mask=mask,cmap='coolwarm', vmin=-1,vmax=1,annot=True, square=True)"
   ]
  },
  {
   "cell_type": "markdown",
   "id": "a598a819",
   "metadata": {},
   "source": [
    "The features should not be correlated in order to fulfill the asumtions of linear regression.\n",
    "As expected there is a lot of correlation between sqf_above, sqf_living and other measures of size. \n",
    "- First: Drop sqf_above"
   ]
  },
  {
   "cell_type": "code",
   "execution_count": 146,
   "id": "0bd5eb60",
   "metadata": {},
   "outputs": [
    {
     "data": {
      "text/plain": [
       "(21597, 17)"
      ]
     },
     "execution_count": 146,
     "metadata": {},
     "output_type": "execute_result"
    }
   ],
   "source": [
    "corr_matrix=hp_df.corr().abs()\n",
    "upper_triangle=corr_matrix.where(np.triu(np.ones(corr_matrix.shape),k=1).astype(bool))\n",
    "corr_var = [column for column in upper_triangle.columns if any(upper_triangle[column] > 0.80)]\n",
    "hp_df = hp_df.drop(corr_var, axis= 1)\n",
    "hp_df.shape"
   ]
  },
  {
   "cell_type": "code",
   "execution_count": 147,
   "id": "22505d05",
   "metadata": {},
   "outputs": [
    {
     "data": {
      "image/png": "[encoded data removed]",
      "text/plain": [
       "<Figure size 648x504 with 2 Axes>"
      ]
     },
     "metadata": {},
     "output_type": "display_data"
    }
   ],
   "source": [
    "corr = hp_df.corr()\n",
    "mask = np.zeros_like(corr)\n",
    "mask[np.triu_indices_from(mask)] = True\n",
    "with sns.axes_style(\"white\"):\n",
    "    f, ax = plt.subplots(figsize=(9, 7))\n",
    "    ax = sns.heatmap(corr, mask=mask,cmap='coolwarm', vmin=-1,vmax=1,annot=True, square=True)"
   ]
  },
  {
   "cell_type": "markdown",
   "id": "75b9cf9b",
   "metadata": {},
   "source": [
    "The new dataframe does not contain anymore variables with a higher correlation than 0.8, but some variable still have high correlation which could be analysed later."
   ]
  },
  {
   "cell_type": "markdown",
   "id": "b3ceba64",
   "metadata": {},
   "source": [
    "# Normalization"
   ]
  },
  {
   "cell_type": "markdown",
   "id": "73a9e89b",
   "metadata": {},
   "source": [
    "## Histograms\n",
    "To check for the assumtion of normal distributions we check the histograms of the numerical variables"
   ]
  },
  {
   "cell_type": "code",
   "execution_count": 148,
   "id": "c377572f",
   "metadata": {
    "scrolled": true
   },
   "outputs": [
    {
     "data": {
      "text/plain": [
       "array([[<AxesSubplot:title={'center':'bedrooms'}>,\n",
       "        <AxesSubplot:title={'center':'bathrooms'}>,\n",
       "        <AxesSubplot:title={'center':'sqft_living'}>],\n",
       "       [<AxesSubplot:title={'center':'sqft_lot'}>,\n",
       "        <AxesSubplot:title={'center':'yr_built'}>,\n",
       "        <AxesSubplot:title={'center':'sqft_living15'}>],\n",
       "       [<AxesSubplot:title={'center':'sqft_lot15'}>,\n",
       "        <AxesSubplot:title={'center':'price'}>,\n",
       "        <AxesSubplot:title={'center':'distanceM'}>]], dtype=object)"
      ]
     },
     "execution_count": 148,
     "metadata": {},
     "output_type": "execute_result"
    },
    {
     "data": {
      "image/png": "[encoded data removed]",
      "text/plain": [
       "<Figure size 864x864 with 9 Axes>"
      ]
     },
     "metadata": {
      "needs_background": "light"
     },
     "output_type": "display_data"
    }
   ],
   "source": [
    "hp_df.select_dtypes(['int64','float']).hist(figsize=(12,12), bins=40)\n"
   ]
  },
  {
   "cell_type": "markdown",
   "id": "3d208350",
   "metadata": {},
   "source": [
    "All numerical varibales are non-normaly distributed and need to be transformed. "
   ]
  },
  {
   "cell_type": "markdown",
   "id": "a9192c43",
   "metadata": {},
   "source": [
    "## Transforming to normal distribution"
   ]
  },
  {
   "cell_type": "code",
   "execution_count": 149,
   "id": "3cd80908",
   "metadata": {},
   "outputs": [
    {
     "data": {
      "text/plain": [
       "Index(['bedrooms', 'bathrooms', 'sqft_living', 'sqft_lot', 'yr_built',\n",
       "       'sqft_living15', 'sqft_lot15', 'price', 'distanceM'],\n",
       "      dtype='object')"
      ]
     },
     "execution_count": 149,
     "metadata": {},
     "output_type": "execute_result"
    }
   ],
   "source": [
    "hp_df.select_dtypes(['int64','float']).columns"
   ]
  },
  {
   "cell_type": "code",
   "execution_count": 150,
   "id": "12465832",
   "metadata": {},
   "outputs": [],
   "source": [
    "# List of variables names to be transformed: \n",
    "to_trans =  {'sqft_living': 'qt',\\\n",
    "             'sqft_lot': 'qt',\\\n",
    "             'yr_built': 'qt',\\\n",
    "             'sqft_living15': 'qt',\\\n",
    "             'sqft_lot15': 'qt',\\\n",
    "            'bedrooms': 'qt',\\\n",
    "            'bathrooms': 'qt',\\\n",
    "            'distanceM': 'qt'}"
   ]
  },
  {
   "cell_type": "code",
   "execution_count": 151,
   "id": "8cab4152",
   "metadata": {
    "scrolled": false
   },
   "outputs": [
    {
     "data": {
      "text/html": [
       "<div>\n",
       "<style scoped>\n",
       "    .dataframe tbody tr th:only-of-type {\n",
       "        vertical-align: middle;\n",
       "    }\n",
       "\n",
       "    .dataframe tbody tr th {\n",
       "        vertical-align: top;\n",
       "    }\n",
       "\n",
       "    .dataframe thead th {\n",
       "        text-align: right;\n",
       "    }\n",
       "</style>\n",
       "<table border=\"1\" class=\"dataframe\">\n",
       "  <thead>\n",
       "    <tr style=\"text-align: right;\">\n",
       "      <th></th>\n",
       "      <th>price</th>\n",
       "      <th>sqft_living_transformed</th>\n",
       "      <th>sqft_lot_transformed</th>\n",
       "      <th>yr_built_transformed</th>\n",
       "      <th>sqft_living15_transformed</th>\n",
       "      <th>sqft_lot15_transformed</th>\n",
       "      <th>bedrooms_transformed</th>\n",
       "      <th>bathrooms_transformed</th>\n",
       "      <th>distanceM_transformed</th>\n",
       "    </tr>\n",
       "  </thead>\n",
       "  <tbody>\n",
       "    <tr>\n",
       "      <th>count</th>\n",
       "      <td>2.159700e+04</td>\n",
       "      <td>21597.000000</td>\n",
       "      <td>21597.000000</td>\n",
       "      <td>21597.000000</td>\n",
       "      <td>21597.000000</td>\n",
       "      <td>21597.000000</td>\n",
       "      <td>21597.000000</td>\n",
       "      <td>21597.000000</td>\n",
       "      <td>21597.000000</td>\n",
       "    </tr>\n",
       "    <tr>\n",
       "      <th>mean</th>\n",
       "      <td>5.402966e+05</td>\n",
       "      <td>0.000009</td>\n",
       "      <td>-0.000043</td>\n",
       "      <td>-0.007133</td>\n",
       "      <td>0.000007</td>\n",
       "      <td>-0.000060</td>\n",
       "      <td>-0.015954</td>\n",
       "      <td>0.014393</td>\n",
       "      <td>0.000292</td>\n",
       "    </tr>\n",
       "    <tr>\n",
       "      <th>std</th>\n",
       "      <td>3.673681e+05</td>\n",
       "      <td>0.999686</td>\n",
       "      <td>0.999566</td>\n",
       "      <td>1.046026</td>\n",
       "      <td>0.999868</td>\n",
       "      <td>1.000081</td>\n",
       "      <td>1.003797</td>\n",
       "      <td>0.950943</td>\n",
       "      <td>1.001638</td>\n",
       "    </tr>\n",
       "    <tr>\n",
       "      <th>min</th>\n",
       "      <td>7.800000e+04</td>\n",
       "      <td>-5.199338</td>\n",
       "      <td>-5.199338</td>\n",
       "      <td>-5.199338</td>\n",
       "      <td>-5.199338</td>\n",
       "      <td>-5.199338</td>\n",
       "      <td>-5.199338</td>\n",
       "      <td>-5.199338</td>\n",
       "      <td>-5.199338</td>\n",
       "    </tr>\n",
       "    <tr>\n",
       "      <th>25%</th>\n",
       "      <td>3.220000e+05</td>\n",
       "      <td>-0.667419</td>\n",
       "      <td>-0.676854</td>\n",
       "      <td>-0.689529</td>\n",
       "      <td>-0.665852</td>\n",
       "      <td>-0.673702</td>\n",
       "      <td>-0.346817</td>\n",
       "      <td>-0.469603</td>\n",
       "      <td>-0.674452</td>\n",
       "    </tr>\n",
       "    <tr>\n",
       "      <th>50%</th>\n",
       "      <td>4.500000e+05</td>\n",
       "      <td>-0.003764</td>\n",
       "      <td>0.000418</td>\n",
       "      <td>0.003764</td>\n",
       "      <td>0.001255</td>\n",
       "      <td>0.000000</td>\n",
       "      <td>-0.346817</td>\n",
       "      <td>0.067799</td>\n",
       "      <td>-0.000254</td>\n",
       "    </tr>\n",
       "    <tr>\n",
       "      <th>75%</th>\n",
       "      <td>6.450000e+05</td>\n",
       "      <td>0.675277</td>\n",
       "      <td>0.674710</td>\n",
       "      <td>0.681594</td>\n",
       "      <td>0.670557</td>\n",
       "      <td>0.674476</td>\n",
       "      <td>0.678433</td>\n",
       "      <td>0.520661</td>\n",
       "      <td>0.674567</td>\n",
       "    </tr>\n",
       "    <tr>\n",
       "      <th>max</th>\n",
       "      <td>7.700000e+06</td>\n",
       "      <td>5.199338</td>\n",
       "      <td>5.199338</td>\n",
       "      <td>5.199338</td>\n",
       "      <td>5.199338</td>\n",
       "      <td>5.199338</td>\n",
       "      <td>5.199338</td>\n",
       "      <td>5.199338</td>\n",
       "      <td>5.199338</td>\n",
       "    </tr>\n",
       "  </tbody>\n",
       "</table>\n",
       "</div>"
      ],
      "text/plain": [
       "              price  sqft_living_transformed  sqft_lot_transformed  \\\n",
       "count  2.159700e+04             21597.000000          21597.000000   \n",
       "mean   5.402966e+05                 0.000009             -0.000043   \n",
       "std    3.673681e+05                 0.999686              0.999566   \n",
       "min    7.800000e+04                -5.199338             -5.199338   \n",
       "25%    3.220000e+05                -0.667419             -0.676854   \n",
       "50%    4.500000e+05                -0.003764              0.000418   \n",
       "75%    6.450000e+05                 0.675277              0.674710   \n",
       "max    7.700000e+06                 5.199338              5.199338   \n",
       "\n",
       "       yr_built_transformed  sqft_living15_transformed  \\\n",
       "count          21597.000000               21597.000000   \n",
       "mean              -0.007133                   0.000007   \n",
       "std                1.046026                   0.999868   \n",
       "min               -5.199338                  -5.199338   \n",
       "25%               -0.689529                  -0.665852   \n",
       "50%                0.003764                   0.001255   \n",
       "75%                0.681594                   0.670557   \n",
       "max                5.199338                   5.199338   \n",
       "\n",
       "       sqft_lot15_transformed  bedrooms_transformed  bathrooms_transformed  \\\n",
       "count            21597.000000          21597.000000           21597.000000   \n",
       "mean                -0.000060             -0.015954               0.014393   \n",
       "std                  1.000081              1.003797               0.950943   \n",
       "min                 -5.199338             -5.199338              -5.199338   \n",
       "25%                 -0.673702             -0.346817              -0.469603   \n",
       "50%                  0.000000             -0.346817               0.067799   \n",
       "75%                  0.674476              0.678433               0.520661   \n",
       "max                  5.199338              5.199338               5.199338   \n",
       "\n",
       "       distanceM_transformed  \n",
       "count           21597.000000  \n",
       "mean                0.000292  \n",
       "std                 1.001638  \n",
       "min                -5.199338  \n",
       "25%                -0.674452  \n",
       "50%                -0.000254  \n",
       "75%                 0.674567  \n",
       "max                 5.199338  "
      ]
     },
     "execution_count": 151,
     "metadata": {},
     "output_type": "execute_result"
    },
    {
     "data": {
      "image/png": "[encoded data removed]",
      "text/plain": [
       "<Figure size 402.375x360 with 1 Axes>"
      ]
     },
     "metadata": {
      "needs_background": "light"
     },
     "output_type": "display_data"
    },
    {
     "data": {
      "image/png": "[encoded data removed]",
      "text/plain": [
       "<Figure size 402.375x360 with 1 Axes>"
      ]
     },
     "metadata": {
      "needs_background": "light"
     },
     "output_type": "display_data"
    },
    {
     "data": {
      "image/png": "[encoded data removed]",
      "text/plain": [
       "<Figure size 402.375x360 with 1 Axes>"
      ]
     },
     "metadata": {
      "needs_background": "light"
     },
     "output_type": "display_data"
    },
    {
     "data": {
      "image/png": "[encoded data removed]",
      "text/plain": [
       "<Figure size 402.375x360 with 1 Axes>"
      ]
     },
     "metadata": {
      "needs_background": "light"
     },
     "output_type": "display_data"
    },
    {
     "data": {
      "image/png": "[encoded data removed]",
      "text/plain": [
       "<Figure size 402.375x360 with 1 Axes>"
      ]
     },
     "metadata": {
      "needs_background": "light"
     },
     "output_type": "display_data"
    },
    {
     "data": {
      "image/png": "[encoded data removed]",
      "text/plain": [
       "<Figure size 402.375x360 with 1 Axes>"
      ]
     },
     "metadata": {
      "needs_background": "light"
     },
     "output_type": "display_data"
    },
    {
     "data": {
      "image/png": "[encoded data removed]",
      "text/plain": [
       "<Figure size 402.375x360 with 1 Axes>"
      ]
     },
     "metadata": {
      "needs_background": "light"
     },
     "output_type": "display_data"
    },
    {
     "data": {
      "image/png": "[encoded data removed]",
      "text/plain": [
       "<Figure size 402.375x360 with 1 Axes>"
      ]
     },
     "metadata": {
      "needs_background": "light"
     },
     "output_type": "display_data"
    }
   ],
   "source": [
    "\n",
    "pt = PowerTransformer()\n",
    "qt = QuantileTransformer(output_distribution=\"normal\")\n",
    "\n",
    "transformed_cols = []\n",
    "for i in to_trans.keys():\n",
    "    if list(to_trans.values())[0] == 'pt':\n",
    "        transformed = pt.fit_transform(hp_df[i].to_numpy().reshape(-1,1))\n",
    "    elif list(to_trans.values())[0] == 'qt':\n",
    "        transformed = qt.fit_transform(hp_df[i].to_numpy().reshape(-1,1))\n",
    "    else: \n",
    "        print('no transformer could be identified')\n",
    "    col_name = i+'_transformed'\n",
    "    sns.displot(transformed).set(title=f'Histogram of {col_name}')\n",
    "    hp_df[col_name] = transformed\n",
    "    transformed_cols = transformed_cols + [col_name]\n",
    "    hp_df = hp_df.drop(i, axis= 1)\n",
    "    \n",
    "    \n",
    "hp_df.describe()"
   ]
  },
  {
   "cell_type": "code",
   "execution_count": 152,
   "id": "a40f5920",
   "metadata": {},
   "outputs": [
    {
     "data": {
      "text/plain": [
       "['sqft_living_transformed',\n",
       " 'sqft_lot_transformed',\n",
       " 'yr_built_transformed',\n",
       " 'sqft_living15_transformed',\n",
       " 'sqft_lot15_transformed',\n",
       " 'bedrooms_transformed',\n",
       " 'bathrooms_transformed',\n",
       " 'distanceM_transformed']"
      ]
     },
     "execution_count": 152,
     "metadata": {},
     "output_type": "execute_result"
    }
   ],
   "source": [
    "transformed_cols"
   ]
  },
  {
   "cell_type": "code",
   "execution_count": 153,
   "id": "090508f6",
   "metadata": {
    "scrolled": true
   },
   "outputs": [
    {
     "data": {
      "text/html": [
       "<div>\n",
       "<style scoped>\n",
       "    .dataframe tbody tr th:only-of-type {\n",
       "        vertical-align: middle;\n",
       "    }\n",
       "\n",
       "    .dataframe tbody tr th {\n",
       "        vertical-align: top;\n",
       "    }\n",
       "\n",
       "    .dataframe thead th {\n",
       "        text-align: right;\n",
       "    }\n",
       "</style>\n",
       "<table border=\"1\" class=\"dataframe\">\n",
       "  <thead>\n",
       "    <tr style=\"text-align: right;\">\n",
       "      <th></th>\n",
       "      <th>price</th>\n",
       "      <th>sqft_living_transformed</th>\n",
       "      <th>sqft_lot_transformed</th>\n",
       "      <th>yr_built_transformed</th>\n",
       "      <th>sqft_living15_transformed</th>\n",
       "      <th>sqft_lot15_transformed</th>\n",
       "      <th>bedrooms_transformed</th>\n",
       "      <th>bathrooms_transformed</th>\n",
       "      <th>distanceM_transformed</th>\n",
       "    </tr>\n",
       "  </thead>\n",
       "  <tbody>\n",
       "    <tr>\n",
       "      <th>count</th>\n",
       "      <td>2.159700e+04</td>\n",
       "      <td>21597.000000</td>\n",
       "      <td>21597.000000</td>\n",
       "      <td>21597.000000</td>\n",
       "      <td>21597.000000</td>\n",
       "      <td>21597.000000</td>\n",
       "      <td>21597.000000</td>\n",
       "      <td>21597.000000</td>\n",
       "      <td>21597.000000</td>\n",
       "    </tr>\n",
       "    <tr>\n",
       "      <th>mean</th>\n",
       "      <td>5.402966e+05</td>\n",
       "      <td>0.000009</td>\n",
       "      <td>-0.000043</td>\n",
       "      <td>-0.007133</td>\n",
       "      <td>0.000007</td>\n",
       "      <td>-0.000060</td>\n",
       "      <td>-0.015954</td>\n",
       "      <td>0.014393</td>\n",
       "      <td>0.000292</td>\n",
       "    </tr>\n",
       "    <tr>\n",
       "      <th>std</th>\n",
       "      <td>3.673681e+05</td>\n",
       "      <td>0.999686</td>\n",
       "      <td>0.999566</td>\n",
       "      <td>1.046026</td>\n",
       "      <td>0.999868</td>\n",
       "      <td>1.000081</td>\n",
       "      <td>1.003797</td>\n",
       "      <td>0.950943</td>\n",
       "      <td>1.001638</td>\n",
       "    </tr>\n",
       "    <tr>\n",
       "      <th>min</th>\n",
       "      <td>7.800000e+04</td>\n",
       "      <td>-5.199338</td>\n",
       "      <td>-5.199338</td>\n",
       "      <td>-5.199338</td>\n",
       "      <td>-5.199338</td>\n",
       "      <td>-5.199338</td>\n",
       "      <td>-5.199338</td>\n",
       "      <td>-5.199338</td>\n",
       "      <td>-5.199338</td>\n",
       "    </tr>\n",
       "    <tr>\n",
       "      <th>25%</th>\n",
       "      <td>3.220000e+05</td>\n",
       "      <td>-0.667419</td>\n",
       "      <td>-0.676854</td>\n",
       "      <td>-0.689529</td>\n",
       "      <td>-0.665852</td>\n",
       "      <td>-0.673702</td>\n",
       "      <td>-0.346817</td>\n",
       "      <td>-0.469603</td>\n",
       "      <td>-0.674452</td>\n",
       "    </tr>\n",
       "    <tr>\n",
       "      <th>50%</th>\n",
       "      <td>4.500000e+05</td>\n",
       "      <td>-0.003764</td>\n",
       "      <td>0.000418</td>\n",
       "      <td>0.003764</td>\n",
       "      <td>0.001255</td>\n",
       "      <td>0.000000</td>\n",
       "      <td>-0.346817</td>\n",
       "      <td>0.067799</td>\n",
       "      <td>-0.000254</td>\n",
       "    </tr>\n",
       "    <tr>\n",
       "      <th>75%</th>\n",
       "      <td>6.450000e+05</td>\n",
       "      <td>0.675277</td>\n",
       "      <td>0.674710</td>\n",
       "      <td>0.681594</td>\n",
       "      <td>0.670557</td>\n",
       "      <td>0.674476</td>\n",
       "      <td>0.678433</td>\n",
       "      <td>0.520661</td>\n",
       "      <td>0.674567</td>\n",
       "    </tr>\n",
       "    <tr>\n",
       "      <th>max</th>\n",
       "      <td>7.700000e+06</td>\n",
       "      <td>5.199338</td>\n",
       "      <td>5.199338</td>\n",
       "      <td>5.199338</td>\n",
       "      <td>5.199338</td>\n",
       "      <td>5.199338</td>\n",
       "      <td>5.199338</td>\n",
       "      <td>5.199338</td>\n",
       "      <td>5.199338</td>\n",
       "    </tr>\n",
       "  </tbody>\n",
       "</table>\n",
       "</div>"
      ],
      "text/plain": [
       "              price  sqft_living_transformed  sqft_lot_transformed  \\\n",
       "count  2.159700e+04             21597.000000          21597.000000   \n",
       "mean   5.402966e+05                 0.000009             -0.000043   \n",
       "std    3.673681e+05                 0.999686              0.999566   \n",
       "min    7.800000e+04                -5.199338             -5.199338   \n",
       "25%    3.220000e+05                -0.667419             -0.676854   \n",
       "50%    4.500000e+05                -0.003764              0.000418   \n",
       "75%    6.450000e+05                 0.675277              0.674710   \n",
       "max    7.700000e+06                 5.199338              5.199338   \n",
       "\n",
       "       yr_built_transformed  sqft_living15_transformed  \\\n",
       "count          21597.000000               21597.000000   \n",
       "mean              -0.007133                   0.000007   \n",
       "std                1.046026                   0.999868   \n",
       "min               -5.199338                  -5.199338   \n",
       "25%               -0.689529                  -0.665852   \n",
       "50%                0.003764                   0.001255   \n",
       "75%                0.681594                   0.670557   \n",
       "max                5.199338                   5.199338   \n",
       "\n",
       "       sqft_lot15_transformed  bedrooms_transformed  bathrooms_transformed  \\\n",
       "count            21597.000000          21597.000000           21597.000000   \n",
       "mean                -0.000060             -0.015954               0.014393   \n",
       "std                  1.000081              1.003797               0.950943   \n",
       "min                 -5.199338             -5.199338              -5.199338   \n",
       "25%                 -0.673702             -0.346817              -0.469603   \n",
       "50%                  0.000000             -0.346817               0.067799   \n",
       "75%                  0.674476              0.678433               0.520661   \n",
       "max                  5.199338              5.199338               5.199338   \n",
       "\n",
       "       distanceM_transformed  \n",
       "count           21597.000000  \n",
       "mean                0.000292  \n",
       "std                 1.001638  \n",
       "min                -5.199338  \n",
       "25%                -0.674452  \n",
       "50%                -0.000254  \n",
       "75%                 0.674567  \n",
       "max                 5.199338  "
      ]
     },
     "execution_count": 153,
     "metadata": {},
     "output_type": "execute_result"
    }
   ],
   "source": [
    "hp_df.describe()"
   ]
  },
  {
   "cell_type": "code",
   "execution_count": 154,
   "id": "77dbfc22",
   "metadata": {},
   "outputs": [
    {
     "name": "stdout",
     "output_type": "stream",
     "text": [
      "<class 'pandas.core.frame.DataFrame'>\n",
      "RangeIndex: 21597 entries, 0 to 21596\n",
      "Data columns (total 17 columns):\n",
      " #   Column                     Non-Null Count  Dtype   \n",
      "---  ------                     --------------  -----   \n",
      " 0   floors                     21597 non-null  category\n",
      " 1   waterfront                 21597 non-null  category\n",
      " 2   view                       21597 non-null  category\n",
      " 3   condition                  21597 non-null  category\n",
      " 4   grade                      21597 non-null  category\n",
      " 5   zipcode                    21597 non-null  category\n",
      " 6   price                      21597 non-null  int64   \n",
      " 7   renovated                  21597 non-null  object  \n",
      " 8   basement                   21597 non-null  object  \n",
      " 9   sqft_living_transformed    21597 non-null  float64 \n",
      " 10  sqft_lot_transformed       21597 non-null  float64 \n",
      " 11  yr_built_transformed       21597 non-null  float64 \n",
      " 12  sqft_living15_transformed  21597 non-null  float64 \n",
      " 13  sqft_lot15_transformed     21597 non-null  float64 \n",
      " 14  bedrooms_transformed       21597 non-null  float64 \n",
      " 15  bathrooms_transformed      21597 non-null  float64 \n",
      " 16  distanceM_transformed      21597 non-null  float64 \n",
      "dtypes: category(6), float64(8), int64(1), object(2)\n",
      "memory usage: 1.9+ MB\n"
     ]
    }
   ],
   "source": [
    "hp_df.info()"
   ]
  },
  {
   "cell_type": "code",
   "execution_count": 155,
   "id": "b816fe0f",
   "metadata": {
    "scrolled": true
   },
   "outputs": [
    {
     "data": {
      "text/plain": [
       "array([[<AxesSubplot:title={'center':'price'}>,\n",
       "        <AxesSubplot:title={'center':'sqft_living_transformed'}>,\n",
       "        <AxesSubplot:title={'center':'sqft_lot_transformed'}>],\n",
       "       [<AxesSubplot:title={'center':'yr_built_transformed'}>,\n",
       "        <AxesSubplot:title={'center':'sqft_living15_transformed'}>,\n",
       "        <AxesSubplot:title={'center':'sqft_lot15_transformed'}>],\n",
       "       [<AxesSubplot:title={'center':'bedrooms_transformed'}>,\n",
       "        <AxesSubplot:title={'center':'bathrooms_transformed'}>,\n",
       "        <AxesSubplot:title={'center':'distanceM_transformed'}>]],\n",
       "      dtype=object)"
      ]
     },
     "execution_count": 155,
     "metadata": {},
     "output_type": "execute_result"
    },
    {
     "data": {
      "image/png": "[encoded data removed]",
      "text/plain": [
       "<Figure size 864x864 with 9 Axes>"
      ]
     },
     "metadata": {
      "needs_background": "light"
     },
     "output_type": "display_data"
    }
   ],
   "source": [
    "hp_df.select_dtypes(['int', 'float64']).hist(figsize=(12,12), bins=40)"
   ]
  },
  {
   "cell_type": "markdown",
   "id": "b9fc6dd2",
   "metadata": {},
   "source": [
    "## Remove outliers"
   ]
  },
  {
   "cell_type": "code",
   "execution_count": 156,
   "id": "3298aceb",
   "metadata": {},
   "outputs": [
    {
     "data": {
      "image/png": "[encoded data removed]",
      "text/plain": [
       "<Figure size 432x288 with 1 Axes>"
      ]
     },
     "metadata": {
      "needs_background": "light"
     },
     "output_type": "display_data"
    }
   ],
   "source": [
    "for i in transformed_cols:\n",
    "    sns.boxplot(data=hp_df[transformed_cols]).set(title='Boxplots of numerical variables showing outliers')\n",
    "    plt.xticks(rotation=90)"
   ]
  },
  {
   "cell_type": "code",
   "execution_count": 157,
   "id": "775308b7",
   "metadata": {},
   "outputs": [],
   "source": [
    " len_before = hp_df.shape[0]"
   ]
  },
  {
   "cell_type": "code",
   "execution_count": 158,
   "id": "772c0254",
   "metadata": {},
   "outputs": [],
   "source": [
    "def remove_outlier(df_in, col_name):\n",
    "    q1 = df_in[col_name].quantile(0.25)\n",
    "    q3 = df_in[col_name].quantile(0.75)\n",
    "    iqr = q3-q1 #Interquartile range\n",
    "    fence_low  = q1-2*iqr\n",
    "    fence_high = q3+2*iqr\n",
    "    df_out = df_in.loc[(df_in[col_name] > fence_low) & (df_in[col_name] < fence_high)]\n",
    "    return df_out\n",
    "\n",
    "#for i in transformed_cols: \n",
    "hp_df = remove_outlier(hp_df, i )"
   ]
  },
  {
   "cell_type": "code",
   "execution_count": 159,
   "id": "a4f276cf",
   "metadata": {
    "scrolled": false
   },
   "outputs": [
    {
     "data": {
      "image/png": "[encoded data removed]",
      "text/plain": [
       "<Figure size 432x288 with 1 Axes>"
      ]
     },
     "metadata": {
      "needs_background": "light"
     },
     "output_type": "display_data"
    }
   ],
   "source": [
    "for i in transformed_cols:\n",
    "    sns.boxplot(data=hp_df[transformed_cols]).set(title='Boxplots of numerical variables showing outliers')\n",
    "    plt.xticks(rotation=90)"
   ]
  },
  {
   "cell_type": "code",
   "execution_count": 160,
   "id": "340b502f",
   "metadata": {},
   "outputs": [],
   "source": [
    "len_after = hp_df.shape[0]"
   ]
  },
  {
   "cell_type": "code",
   "execution_count": 161,
   "id": "eaaea842",
   "metadata": {
    "scrolled": true
   },
   "outputs": [
    {
     "name": "stdout",
     "output_type": "stream",
     "text": [
      "Of the original dataset 99.89% of rows remain\n"
     ]
    }
   ],
   "source": [
    "print(f'Of the original dataset {round(len_after/len_before * 100, 2)}% of rows remain')"
   ]
  },
  {
   "cell_type": "markdown",
   "id": "36274778",
   "metadata": {},
   "source": [
    "## One-hot encode categorical variables"
   ]
  },
  {
   "cell_type": "code",
   "execution_count": 162,
   "id": "f432f8d8",
   "metadata": {},
   "outputs": [
    {
     "data": {
      "text/plain": [
       "['renovated',\n",
       " 'basement',\n",
       " 'floors',\n",
       " 'waterfront',\n",
       " 'view',\n",
       " 'condition',\n",
       " 'grade',\n",
       " 'zipcode']"
      ]
     },
     "execution_count": 162,
     "metadata": {},
     "output_type": "execute_result"
    }
   ],
   "source": [
    "col_names_object = list(hp_df.select_dtypes(\"object\").columns)\n",
    "col_names_object.extend(hp_df.select_dtypes(\"category\").columns)\n",
    "col_names_object"
   ]
  },
  {
   "cell_type": "code",
   "execution_count": 163,
   "id": "b0e8c857",
   "metadata": {},
   "outputs": [],
   "source": [
    "cat_features =  pd.get_dummies(hp_df[col_names_object] , drop_first=True)"
   ]
  },
  {
   "cell_type": "code",
   "execution_count": 164,
   "id": "0ab8ae97",
   "metadata": {},
   "outputs": [],
   "source": [
    "hp_df = hp_df.drop(col_names_object, axis = 1)"
   ]
  },
  {
   "cell_type": "code",
   "execution_count": 165,
   "id": "9a0253b2",
   "metadata": {},
   "outputs": [],
   "source": [
    "hp_df[cat_features.columns] = cat_features"
   ]
  },
  {
   "cell_type": "code",
   "execution_count": 166,
   "id": "f68ffbf1",
   "metadata": {
    "scrolled": false
   },
   "outputs": [
    {
     "data": {
      "text/plain": [
       "['price',\n",
       " 'sqft_living_transformed',\n",
       " 'sqft_lot_transformed',\n",
       " 'yr_built_transformed',\n",
       " 'sqft_living15_transformed',\n",
       " 'sqft_lot15_transformed',\n",
       " 'bedrooms_transformed',\n",
       " 'bathrooms_transformed',\n",
       " 'distanceM_transformed',\n",
       " 'renovated_True',\n",
       " 'basement_True',\n",
       " 'floors_one',\n",
       " 'waterfront_1',\n",
       " 'view_1',\n",
       " 'view_2',\n",
       " 'view_3',\n",
       " 'view_4',\n",
       " 'condition_2',\n",
       " 'condition_3',\n",
       " 'condition_4',\n",
       " 'condition_5',\n",
       " 'grade_below_avg',\n",
       " 'zipcode_98002',\n",
       " 'zipcode_98003',\n",
       " 'zipcode_98004',\n",
       " 'zipcode_98005',\n",
       " 'zipcode_98006',\n",
       " 'zipcode_98007',\n",
       " 'zipcode_98008',\n",
       " 'zipcode_98010',\n",
       " 'zipcode_98011',\n",
       " 'zipcode_98014',\n",
       " 'zipcode_98019',\n",
       " 'zipcode_98022',\n",
       " 'zipcode_98023',\n",
       " 'zipcode_98024',\n",
       " 'zipcode_98027',\n",
       " 'zipcode_98028',\n",
       " 'zipcode_98029',\n",
       " 'zipcode_98030',\n",
       " 'zipcode_98031',\n",
       " 'zipcode_98032',\n",
       " 'zipcode_98033',\n",
       " 'zipcode_98034',\n",
       " 'zipcode_98038',\n",
       " 'zipcode_98039',\n",
       " 'zipcode_98040',\n",
       " 'zipcode_98042',\n",
       " 'zipcode_98045',\n",
       " 'zipcode_98052',\n",
       " 'zipcode_98053',\n",
       " 'zipcode_98055',\n",
       " 'zipcode_98056',\n",
       " 'zipcode_98058',\n",
       " 'zipcode_98059',\n",
       " 'zipcode_98065',\n",
       " 'zipcode_98070',\n",
       " 'zipcode_98072',\n",
       " 'zipcode_98074',\n",
       " 'zipcode_98075',\n",
       " 'zipcode_98077',\n",
       " 'zipcode_98092',\n",
       " 'zipcode_98102',\n",
       " 'zipcode_98103',\n",
       " 'zipcode_98105',\n",
       " 'zipcode_98106',\n",
       " 'zipcode_98107',\n",
       " 'zipcode_98108',\n",
       " 'zipcode_98109',\n",
       " 'zipcode_98112',\n",
       " 'zipcode_98115',\n",
       " 'zipcode_98116',\n",
       " 'zipcode_98117',\n",
       " 'zipcode_98118',\n",
       " 'zipcode_98119',\n",
       " 'zipcode_98122',\n",
       " 'zipcode_98125',\n",
       " 'zipcode_98126',\n",
       " 'zipcode_98133',\n",
       " 'zipcode_98136',\n",
       " 'zipcode_98144',\n",
       " 'zipcode_98146',\n",
       " 'zipcode_98148',\n",
       " 'zipcode_98155',\n",
       " 'zipcode_98166',\n",
       " 'zipcode_98168',\n",
       " 'zipcode_98177',\n",
       " 'zipcode_98178',\n",
       " 'zipcode_98188',\n",
       " 'zipcode_98198',\n",
       " 'zipcode_98199']"
      ]
     },
     "execution_count": 166,
     "metadata": {},
     "output_type": "execute_result"
    }
   ],
   "source": [
    "list(hp_df.columns)"
   ]
  },
  {
   "cell_type": "markdown",
   "id": "7b47f885",
   "metadata": {},
   "source": [
    "## 1st Model only using numerical variables"
   ]
  },
  {
   "cell_type": "markdown",
   "id": "a82c36cb",
   "metadata": {},
   "source": [
    "###  1) Split X-y"
   ]
  },
  {
   "cell_type": "code",
   "execution_count": 167,
   "id": "8bec4769",
   "metadata": {
    "scrolled": true
   },
   "outputs": [],
   "source": [
    "X=hp_df.drop('price', axis=1)\n",
    "y=hp_df['price']\n"
   ]
  },
  {
   "cell_type": "code",
   "execution_count": 168,
   "id": "ac1296b5",
   "metadata": {},
   "outputs": [
    {
     "data": {
      "text/html": [
       "<div>\n",
       "<style scoped>\n",
       "    .dataframe tbody tr th:only-of-type {\n",
       "        vertical-align: middle;\n",
       "    }\n",
       "\n",
       "    .dataframe tbody tr th {\n",
       "        vertical-align: top;\n",
       "    }\n",
       "\n",
       "    .dataframe thead th {\n",
       "        text-align: right;\n",
       "    }\n",
       "</style>\n",
       "<table border=\"1\" class=\"dataframe\">\n",
       "  <thead>\n",
       "    <tr style=\"text-align: right;\">\n",
       "      <th></th>\n",
       "      <th>sqft_living_transformed</th>\n",
       "      <th>sqft_lot_transformed</th>\n",
       "      <th>yr_built_transformed</th>\n",
       "      <th>sqft_living15_transformed</th>\n",
       "      <th>sqft_lot15_transformed</th>\n",
       "      <th>bedrooms_transformed</th>\n",
       "      <th>bathrooms_transformed</th>\n",
       "      <th>distanceM_transformed</th>\n",
       "      <th>renovated_True</th>\n",
       "      <th>basement_True</th>\n",
       "      <th>...</th>\n",
       "      <th>zipcode_98146</th>\n",
       "      <th>zipcode_98148</th>\n",
       "      <th>zipcode_98155</th>\n",
       "      <th>zipcode_98166</th>\n",
       "      <th>zipcode_98168</th>\n",
       "      <th>zipcode_98177</th>\n",
       "      <th>zipcode_98178</th>\n",
       "      <th>zipcode_98188</th>\n",
       "      <th>zipcode_98198</th>\n",
       "      <th>zipcode_98199</th>\n",
       "    </tr>\n",
       "  </thead>\n",
       "  <tbody>\n",
       "    <tr>\n",
       "      <th>0</th>\n",
       "      <td>-1.109378</td>\n",
       "      <td>-0.517790</td>\n",
       "      <td>-0.549616</td>\n",
       "      <td>-1.037937</td>\n",
       "      <td>-0.517790</td>\n",
       "      <td>-0.346817</td>\n",
       "      <td>-1.324958</td>\n",
       "      <td>-0.395662</td>\n",
       "      <td>0</td>\n",
       "      <td>0</td>\n",
       "      <td>...</td>\n",
       "      <td>0</td>\n",
       "      <td>0</td>\n",
       "      <td>0</td>\n",
       "      <td>0</td>\n",
       "      <td>0</td>\n",
       "      <td>0</td>\n",
       "      <td>1</td>\n",
       "      <td>0</td>\n",
       "      <td>0</td>\n",
       "      <td>0</td>\n",
       "    </tr>\n",
       "    <tr>\n",
       "      <th>1</th>\n",
       "      <td>0.694311</td>\n",
       "      <td>-0.115464</td>\n",
       "      <td>-0.689529</td>\n",
       "      <td>-0.247134</td>\n",
       "      <td>0.007616</td>\n",
       "      <td>-0.346817</td>\n",
       "      <td>0.067799</td>\n",
       "      <td>-0.694813</td>\n",
       "      <td>1</td>\n",
       "      <td>1</td>\n",
       "      <td>...</td>\n",
       "      <td>0</td>\n",
       "      <td>0</td>\n",
       "      <td>0</td>\n",
       "      <td>0</td>\n",
       "      <td>0</td>\n",
       "      <td>0</td>\n",
       "      <td>0</td>\n",
       "      <td>0</td>\n",
       "      <td>0</td>\n",
       "      <td>0</td>\n",
       "    </tr>\n",
       "    <tr>\n",
       "      <th>2</th>\n",
       "      <td>-2.131682</td>\n",
       "      <td>0.562796</td>\n",
       "      <td>-1.118711</td>\n",
       "      <td>1.064091</td>\n",
       "      <td>0.154186</td>\n",
       "      <td>-1.453280</td>\n",
       "      <td>-1.324958</td>\n",
       "      <td>0.088916</td>\n",
       "      <td>0</td>\n",
       "      <td>0</td>\n",
       "      <td>...</td>\n",
       "      <td>0</td>\n",
       "      <td>0</td>\n",
       "      <td>0</td>\n",
       "      <td>0</td>\n",
       "      <td>0</td>\n",
       "      <td>0</td>\n",
       "      <td>0</td>\n",
       "      <td>0</td>\n",
       "      <td>0</td>\n",
       "      <td>0</td>\n",
       "    </tr>\n",
       "    <tr>\n",
       "      <th>3</th>\n",
       "      <td>0.051460</td>\n",
       "      <td>-0.718462</td>\n",
       "      <td>-0.247134</td>\n",
       "      <td>-0.985610</td>\n",
       "      <td>-0.744694</td>\n",
       "      <td>0.678433</td>\n",
       "      <td>1.258508</td>\n",
       "      <td>-0.410235</td>\n",
       "      <td>0</td>\n",
       "      <td>1</td>\n",
       "      <td>...</td>\n",
       "      <td>0</td>\n",
       "      <td>0</td>\n",
       "      <td>0</td>\n",
       "      <td>0</td>\n",
       "      <td>0</td>\n",
       "      <td>0</td>\n",
       "      <td>0</td>\n",
       "      <td>0</td>\n",
       "      <td>0</td>\n",
       "      <td>0</td>\n",
       "    </tr>\n",
       "    <tr>\n",
       "      <th>4</th>\n",
       "      <td>-0.293986</td>\n",
       "      <td>0.128003</td>\n",
       "      <td>0.368215</td>\n",
       "      <td>-0.062770</td>\n",
       "      <td>-0.040336</td>\n",
       "      <td>-0.346817</td>\n",
       "      <td>-0.163824</td>\n",
       "      <td>0.546908</td>\n",
       "      <td>0</td>\n",
       "      <td>0</td>\n",
       "      <td>...</td>\n",
       "      <td>0</td>\n",
       "      <td>0</td>\n",
       "      <td>0</td>\n",
       "      <td>0</td>\n",
       "      <td>0</td>\n",
       "      <td>0</td>\n",
       "      <td>0</td>\n",
       "      <td>0</td>\n",
       "      <td>0</td>\n",
       "      <td>0</td>\n",
       "    </tr>\n",
       "    <tr>\n",
       "      <th>...</th>\n",
       "      <td>...</td>\n",
       "      <td>...</td>\n",
       "      <td>...</td>\n",
       "      <td>...</td>\n",
       "      <td>...</td>\n",
       "      <td>...</td>\n",
       "      <td>...</td>\n",
       "      <td>...</td>\n",
       "      <td>...</td>\n",
       "      <td>...</td>\n",
       "      <td>...</td>\n",
       "      <td>...</td>\n",
       "      <td>...</td>\n",
       "      <td>...</td>\n",
       "      <td>...</td>\n",
       "      <td>...</td>\n",
       "      <td>...</td>\n",
       "      <td>...</td>\n",
       "      <td>...</td>\n",
       "      <td>...</td>\n",
       "      <td>...</td>\n",
       "    </tr>\n",
       "    <tr>\n",
       "      <th>21592</th>\n",
       "      <td>-0.509202</td>\n",
       "      <td>-2.132221</td>\n",
       "      <td>1.529558</td>\n",
       "      <td>-0.573115</td>\n",
       "      <td>-1.831578</td>\n",
       "      <td>-0.346817</td>\n",
       "      <td>0.520661</td>\n",
       "      <td>-1.087218</td>\n",
       "      <td>0</td>\n",
       "      <td>0</td>\n",
       "      <td>...</td>\n",
       "      <td>0</td>\n",
       "      <td>0</td>\n",
       "      <td>0</td>\n",
       "      <td>0</td>\n",
       "      <td>0</td>\n",
       "      <td>0</td>\n",
       "      <td>0</td>\n",
       "      <td>0</td>\n",
       "      <td>0</td>\n",
       "      <td>0</td>\n",
       "    </tr>\n",
       "    <tr>\n",
       "      <th>21593</th>\n",
       "      <td>0.436240</td>\n",
       "      <td>-0.475178</td>\n",
       "      <td>2.183092</td>\n",
       "      <td>-0.012546</td>\n",
       "      <td>-0.165095</td>\n",
       "      <td>0.678433</td>\n",
       "      <td>0.520661</td>\n",
       "      <td>-0.598796</td>\n",
       "      <td>0</td>\n",
       "      <td>0</td>\n",
       "      <td>...</td>\n",
       "      <td>1</td>\n",
       "      <td>0</td>\n",
       "      <td>0</td>\n",
       "      <td>0</td>\n",
       "      <td>0</td>\n",
       "      <td>0</td>\n",
       "      <td>0</td>\n",
       "      <td>0</td>\n",
       "      <td>0</td>\n",
       "      <td>0</td>\n",
       "    </tr>\n",
       "    <tr>\n",
       "      <th>21594</th>\n",
       "      <td>-1.428482</td>\n",
       "      <td>-1.837261</td>\n",
       "      <td>1.529558</td>\n",
       "      <td>-2.043115</td>\n",
       "      <td>-1.644085</td>\n",
       "      <td>-1.453280</td>\n",
       "      <td>-2.877846</td>\n",
       "      <td>-1.173567</td>\n",
       "      <td>0</td>\n",
       "      <td>0</td>\n",
       "      <td>...</td>\n",
       "      <td>0</td>\n",
       "      <td>0</td>\n",
       "      <td>0</td>\n",
       "      <td>0</td>\n",
       "      <td>0</td>\n",
       "      <td>0</td>\n",
       "      <td>0</td>\n",
       "      <td>0</td>\n",
       "      <td>0</td>\n",
       "      <td>0</td>\n",
       "    </tr>\n",
       "    <tr>\n",
       "      <th>21595</th>\n",
       "      <td>-0.406079</td>\n",
       "      <td>-1.515547</td>\n",
       "      <td>1.008294</td>\n",
       "      <td>-0.862544</td>\n",
       "      <td>-2.068024</td>\n",
       "      <td>-0.346817</td>\n",
       "      <td>0.520661</td>\n",
       "      <td>0.346817</td>\n",
       "      <td>0</td>\n",
       "      <td>0</td>\n",
       "      <td>...</td>\n",
       "      <td>0</td>\n",
       "      <td>0</td>\n",
       "      <td>0</td>\n",
       "      <td>0</td>\n",
       "      <td>0</td>\n",
       "      <td>0</td>\n",
       "      <td>0</td>\n",
       "      <td>0</td>\n",
       "      <td>0</td>\n",
       "      <td>0</td>\n",
       "    </tr>\n",
       "    <tr>\n",
       "      <th>21596</th>\n",
       "      <td>-1.428482</td>\n",
       "      <td>-2.220813</td>\n",
       "      <td>1.428482</td>\n",
       "      <td>-2.043115</td>\n",
       "      <td>-1.954804</td>\n",
       "      <td>-1.453280</td>\n",
       "      <td>-2.877846</td>\n",
       "      <td>-1.168400</td>\n",
       "      <td>0</td>\n",
       "      <td>0</td>\n",
       "      <td>...</td>\n",
       "      <td>0</td>\n",
       "      <td>0</td>\n",
       "      <td>0</td>\n",
       "      <td>0</td>\n",
       "      <td>0</td>\n",
       "      <td>0</td>\n",
       "      <td>0</td>\n",
       "      <td>0</td>\n",
       "      <td>0</td>\n",
       "      <td>0</td>\n",
       "    </tr>\n",
       "  </tbody>\n",
       "</table>\n",
       "<p>21573 rows × 90 columns</p>\n",
       "</div>"
      ],
      "text/plain": [
       "       sqft_living_transformed  sqft_lot_transformed  yr_built_transformed  \\\n",
       "0                    -1.109378             -0.517790             -0.549616   \n",
       "1                     0.694311             -0.115464             -0.689529   \n",
       "2                    -2.131682              0.562796             -1.118711   \n",
       "3                     0.051460             -0.718462             -0.247134   \n",
       "4                    -0.293986              0.128003              0.368215   \n",
       "...                        ...                   ...                   ...   \n",
       "21592                -0.509202             -2.132221              1.529558   \n",
       "21593                 0.436240             -0.475178              2.183092   \n",
       "21594                -1.428482             -1.837261              1.529558   \n",
       "21595                -0.406079             -1.515547              1.008294   \n",
       "21596                -1.428482             -2.220813              1.428482   \n",
       "\n",
       "       sqft_living15_transformed  sqft_lot15_transformed  \\\n",
       "0                      -1.037937               -0.517790   \n",
       "1                      -0.247134                0.007616   \n",
       "2                       1.064091                0.154186   \n",
       "3                      -0.985610               -0.744694   \n",
       "4                      -0.062770               -0.040336   \n",
       "...                          ...                     ...   \n",
       "21592                  -0.573115               -1.831578   \n",
       "21593                  -0.012546               -0.165095   \n",
       "21594                  -2.043115               -1.644085   \n",
       "21595                  -0.862544               -2.068024   \n",
       "21596                  -2.043115               -1.954804   \n",
       "\n",
       "       bedrooms_transformed  bathrooms_transformed  distanceM_transformed  \\\n",
       "0                 -0.346817              -1.324958              -0.395662   \n",
       "1                 -0.346817               0.067799              -0.694813   \n",
       "2                 -1.453280              -1.324958               0.088916   \n",
       "3                  0.678433               1.258508              -0.410235   \n",
       "4                 -0.346817              -0.163824               0.546908   \n",
       "...                     ...                    ...                    ...   \n",
       "21592             -0.346817               0.520661              -1.087218   \n",
       "21593              0.678433               0.520661              -0.598796   \n",
       "21594             -1.453280              -2.877846              -1.173567   \n",
       "21595             -0.346817               0.520661               0.346817   \n",
       "21596             -1.453280              -2.877846              -1.168400   \n",
       "\n",
       "       renovated_True  basement_True  ...  zipcode_98146  zipcode_98148  \\\n",
       "0                   0              0  ...              0              0   \n",
       "1                   1              1  ...              0              0   \n",
       "2                   0              0  ...              0              0   \n",
       "3                   0              1  ...              0              0   \n",
       "4                   0              0  ...              0              0   \n",
       "...               ...            ...  ...            ...            ...   \n",
       "21592               0              0  ...              0              0   \n",
       "21593               0              0  ...              1              0   \n",
       "21594               0              0  ...              0              0   \n",
       "21595               0              0  ...              0              0   \n",
       "21596               0              0  ...              0              0   \n",
       "\n",
       "       zipcode_98155  zipcode_98166  zipcode_98168  zipcode_98177  \\\n",
       "0                  0              0              0              0   \n",
       "1                  0              0              0              0   \n",
       "2                  0              0              0              0   \n",
       "3                  0              0              0              0   \n",
       "4                  0              0              0              0   \n",
       "...              ...            ...            ...            ...   \n",
       "21592              0              0              0              0   \n",
       "21593              0              0              0              0   \n",
       "21594              0              0              0              0   \n",
       "21595              0              0              0              0   \n",
       "21596              0              0              0              0   \n",
       "\n",
       "       zipcode_98178  zipcode_98188  zipcode_98198  zipcode_98199  \n",
       "0                  1              0              0              0  \n",
       "1                  0              0              0              0  \n",
       "2                  0              0              0              0  \n",
       "3                  0              0              0              0  \n",
       "4                  0              0              0              0  \n",
       "...              ...            ...            ...            ...  \n",
       "21592              0              0              0              0  \n",
       "21593              0              0              0              0  \n",
       "21594              0              0              0              0  \n",
       "21595              0              0              0              0  \n",
       "21596              0              0              0              0  \n",
       "\n",
       "[21573 rows x 90 columns]"
      ]
     },
     "execution_count": 168,
     "metadata": {},
     "output_type": "execute_result"
    }
   ],
   "source": [
    "X"
   ]
  },
  {
   "cell_type": "code",
   "execution_count": 169,
   "id": "0b1524ee",
   "metadata": {},
   "outputs": [],
   "source": [
    "X=X.drop(cat_features.columns, axis=1)"
   ]
  },
  {
   "cell_type": "code",
   "execution_count": 170,
   "id": "8c69a0cc",
   "metadata": {},
   "outputs": [
    {
     "data": {
      "text/plain": [
       "Index(['sqft_living_transformed', 'sqft_lot_transformed',\n",
       "       'yr_built_transformed', 'sqft_living15_transformed',\n",
       "       'sqft_lot15_transformed', 'bedrooms_transformed',\n",
       "       'bathrooms_transformed', 'distanceM_transformed'],\n",
       "      dtype='object')"
      ]
     },
     "execution_count": 170,
     "metadata": {},
     "output_type": "execute_result"
    }
   ],
   "source": [
    "X.columns"
   ]
  },
  {
   "cell_type": "code",
   "execution_count": 171,
   "id": "2d047396",
   "metadata": {},
   "outputs": [],
   "source": [
    "X_train, X_test, y_train, y_test=train_test_split(X, y, test_size=.30,random_state=100)"
   ]
  },
  {
   "cell_type": "code",
   "execution_count": 172,
   "id": "ae569673",
   "metadata": {},
   "outputs": [
    {
     "data": {
      "text/html": [
       "<div>\n",
       "<style scoped>\n",
       "    .dataframe tbody tr th:only-of-type {\n",
       "        vertical-align: middle;\n",
       "    }\n",
       "\n",
       "    .dataframe tbody tr th {\n",
       "        vertical-align: top;\n",
       "    }\n",
       "\n",
       "    .dataframe thead th {\n",
       "        text-align: right;\n",
       "    }\n",
       "</style>\n",
       "<table border=\"1\" class=\"dataframe\">\n",
       "  <thead>\n",
       "    <tr style=\"text-align: right;\">\n",
       "      <th></th>\n",
       "      <th>sqft_living_transformed</th>\n",
       "      <th>sqft_lot_transformed</th>\n",
       "      <th>yr_built_transformed</th>\n",
       "      <th>sqft_living15_transformed</th>\n",
       "      <th>sqft_lot15_transformed</th>\n",
       "      <th>bedrooms_transformed</th>\n",
       "      <th>bathrooms_transformed</th>\n",
       "      <th>distanceM_transformed</th>\n",
       "    </tr>\n",
       "  </thead>\n",
       "  <tbody>\n",
       "    <tr>\n",
       "      <th>21149</th>\n",
       "      <td>0.345485</td>\n",
       "      <td>-1.401177</td>\n",
       "      <td>1.744448</td>\n",
       "      <td>0.593940</td>\n",
       "      <td>-1.401043</td>\n",
       "      <td>-0.346817</td>\n",
       "      <td>0.520661</td>\n",
       "      <td>0.347915</td>\n",
       "    </tr>\n",
       "    <tr>\n",
       "      <th>8873</th>\n",
       "      <td>-0.060256</td>\n",
       "      <td>0.391233</td>\n",
       "      <td>0.599937</td>\n",
       "      <td>-0.573115</td>\n",
       "      <td>0.161705</td>\n",
       "      <td>-0.346817</td>\n",
       "      <td>0.067799</td>\n",
       "      <td>1.284241</td>\n",
       "    </tr>\n",
       "    <tr>\n",
       "      <th>8007</th>\n",
       "      <td>0.397918</td>\n",
       "      <td>0.675927</td>\n",
       "      <td>-0.295296</td>\n",
       "      <td>0.257495</td>\n",
       "      <td>0.710300</td>\n",
       "      <td>1.620592</td>\n",
       "      <td>0.520661</td>\n",
       "      <td>0.051162</td>\n",
       "    </tr>\n",
       "    <tr>\n",
       "      <th>15552</th>\n",
       "      <td>1.072973</td>\n",
       "      <td>0.864061</td>\n",
       "      <td>-0.080379</td>\n",
       "      <td>0.828465</td>\n",
       "      <td>0.992924</td>\n",
       "      <td>-0.346817</td>\n",
       "      <td>1.040090</td>\n",
       "      <td>-0.025626</td>\n",
       "    </tr>\n",
       "    <tr>\n",
       "      <th>16878</th>\n",
       "      <td>-0.812654</td>\n",
       "      <td>0.049510</td>\n",
       "      <td>-0.832006</td>\n",
       "      <td>0.884593</td>\n",
       "      <td>0.059801</td>\n",
       "      <td>-1.453280</td>\n",
       "      <td>-1.324958</td>\n",
       "      <td>-0.276678</td>\n",
       "    </tr>\n",
       "    <tr>\n",
       "      <th>...</th>\n",
       "      <td>...</td>\n",
       "      <td>...</td>\n",
       "      <td>...</td>\n",
       "      <td>...</td>\n",
       "      <td>...</td>\n",
       "      <td>...</td>\n",
       "      <td>...</td>\n",
       "      <td>...</td>\n",
       "    </tr>\n",
       "    <tr>\n",
       "      <th>16321</th>\n",
       "      <td>1.464186</td>\n",
       "      <td>0.446266</td>\n",
       "      <td>0.749670</td>\n",
       "      <td>0.971436</td>\n",
       "      <td>0.523537</td>\n",
       "      <td>0.678433</td>\n",
       "      <td>1.721914</td>\n",
       "      <td>-0.563727</td>\n",
       "    </tr>\n",
       "    <tr>\n",
       "      <th>79</th>\n",
       "      <td>1.425011</td>\n",
       "      <td>1.585639</td>\n",
       "      <td>0.875354</td>\n",
       "      <td>1.684464</td>\n",
       "      <td>1.697533</td>\n",
       "      <td>0.678433</td>\n",
       "      <td>0.520661</td>\n",
       "      <td>1.735890</td>\n",
       "    </tr>\n",
       "    <tr>\n",
       "      <th>12131</th>\n",
       "      <td>0.803958</td>\n",
       "      <td>1.523921</td>\n",
       "      <td>0.337506</td>\n",
       "      <td>0.905189</td>\n",
       "      <td>1.561765</td>\n",
       "      <td>0.678433</td>\n",
       "      <td>0.067799</td>\n",
       "      <td>2.038188</td>\n",
       "    </tr>\n",
       "    <tr>\n",
       "      <th>14163</th>\n",
       "      <td>0.426601</td>\n",
       "      <td>-0.524638</td>\n",
       "      <td>1.008294</td>\n",
       "      <td>0.451469</td>\n",
       "      <td>-0.454416</td>\n",
       "      <td>-0.346817</td>\n",
       "      <td>1.721914</td>\n",
       "      <td>0.554075</td>\n",
       "    </tr>\n",
       "    <tr>\n",
       "      <th>5649</th>\n",
       "      <td>-1.726162</td>\n",
       "      <td>0.646164</td>\n",
       "      <td>-0.247134</td>\n",
       "      <td>-0.616541</td>\n",
       "      <td>-0.146048</td>\n",
       "      <td>-0.346817</td>\n",
       "      <td>-1.324958</td>\n",
       "      <td>0.639205</td>\n",
       "    </tr>\n",
       "  </tbody>\n",
       "</table>\n",
       "<p>15101 rows × 8 columns</p>\n",
       "</div>"
      ],
      "text/plain": [
       "       sqft_living_transformed  sqft_lot_transformed  yr_built_transformed  \\\n",
       "21149                 0.345485             -1.401177              1.744448   \n",
       "8873                 -0.060256              0.391233              0.599937   \n",
       "8007                  0.397918              0.675927             -0.295296   \n",
       "15552                 1.072973              0.864061             -0.080379   \n",
       "16878                -0.812654              0.049510             -0.832006   \n",
       "...                        ...                   ...                   ...   \n",
       "16321                 1.464186              0.446266              0.749670   \n",
       "79                    1.425011              1.585639              0.875354   \n",
       "12131                 0.803958              1.523921              0.337506   \n",
       "14163                 0.426601             -0.524638              1.008294   \n",
       "5649                 -1.726162              0.646164             -0.247134   \n",
       "\n",
       "       sqft_living15_transformed  sqft_lot15_transformed  \\\n",
       "21149                   0.593940               -1.401043   \n",
       "8873                   -0.573115                0.161705   \n",
       "8007                    0.257495                0.710300   \n",
       "15552                   0.828465                0.992924   \n",
       "16878                   0.884593                0.059801   \n",
       "...                          ...                     ...   \n",
       "16321                   0.971436                0.523537   \n",
       "79                      1.684464                1.697533   \n",
       "12131                   0.905189                1.561765   \n",
       "14163                   0.451469               -0.454416   \n",
       "5649                   -0.616541               -0.146048   \n",
       "\n",
       "       bedrooms_transformed  bathrooms_transformed  distanceM_transformed  \n",
       "21149             -0.346817               0.520661               0.347915  \n",
       "8873              -0.346817               0.067799               1.284241  \n",
       "8007               1.620592               0.520661               0.051162  \n",
       "15552             -0.346817               1.040090              -0.025626  \n",
       "16878             -1.453280              -1.324958              -0.276678  \n",
       "...                     ...                    ...                    ...  \n",
       "16321              0.678433               1.721914              -0.563727  \n",
       "79                 0.678433               0.520661               1.735890  \n",
       "12131              0.678433               0.067799               2.038188  \n",
       "14163             -0.346817               1.721914               0.554075  \n",
       "5649              -0.346817              -1.324958               0.639205  \n",
       "\n",
       "[15101 rows x 8 columns]"
      ]
     },
     "execution_count": 172,
     "metadata": {},
     "output_type": "execute_result"
    }
   ],
   "source": [
    "X_train"
   ]
  },
  {
   "cell_type": "markdown",
   "id": "c66ea548",
   "metadata": {},
   "source": [
    "### Standardize"
   ]
  },
  {
   "cell_type": "code",
   "execution_count": 173,
   "id": "ec9bcdc4",
   "metadata": {},
   "outputs": [],
   "source": [
    "std_scaler=StandardScaler().fit(X_train)   ##. finding the parameters ( mean, variance from the training set )\n",
    "                                            ## \n",
    "X_train_scaled=std_scaler.transform(X_train)"
   ]
  },
  {
   "cell_type": "code",
   "execution_count": 174,
   "id": "afdb6ed4",
   "metadata": {},
   "outputs": [
    {
     "data": {
      "text/plain": [
       "(15101, 8)"
      ]
     },
     "execution_count": 174,
     "metadata": {},
     "output_type": "execute_result"
    }
   ],
   "source": [
    "X_train.shape"
   ]
  },
  {
   "cell_type": "code",
   "execution_count": 175,
   "id": "4a72b5e1",
   "metadata": {},
   "outputs": [
    {
     "data": {
      "text/plain": [
       "(6472, 8)"
      ]
     },
     "execution_count": 175,
     "metadata": {},
     "output_type": "execute_result"
    }
   ],
   "source": [
    "X_test_scaled=std_scaler.transform(X_test)\n",
    "X_test_scaled.shape"
   ]
  },
  {
   "cell_type": "markdown",
   "id": "adc28250",
   "metadata": {},
   "source": [
    "## Linear Regression"
   ]
  },
  {
   "cell_type": "code",
   "execution_count": 176,
   "id": "bb43c463",
   "metadata": {},
   "outputs": [
    {
     "name": "stdout",
     "output_type": "stream",
     "text": [
      "                            OLS Regression Results                            \n",
      "==============================================================================\n",
      "Dep. Variable:                  price   R-squared:                       0.566\n",
      "Model:                            OLS   Adj. R-squared:                  0.566\n",
      "Method:                 Least Squares   F-statistic:                     2464.\n",
      "Date:                Thu, 21 Apr 2022   Prob (F-statistic):               0.00\n",
      "Time:                        10:15:00   Log-Likelihood:            -2.0863e+05\n",
      "No. Observations:               15101   AIC:                         4.173e+05\n",
      "Df Residuals:                   15092   BIC:                         4.174e+05\n",
      "Df Model:                           8                                         \n",
      "Covariance Type:            nonrobust                                         \n",
      "==============================================================================\n",
      "                 coef    std err          t      P>|t|      [0.025      0.975]\n",
      "------------------------------------------------------------------------------\n",
      "const       5.404e+05   1970.513    274.225      0.000    5.37e+05    5.44e+05\n",
      "x1          1.604e+05   4212.217     38.086      0.000    1.52e+05    1.69e+05\n",
      "x2          3.423e+04   5384.669      6.357      0.000    2.37e+04    4.48e+04\n",
      "x3         -1.447e+04   2602.459     -5.560      0.000   -1.96e+04   -9369.609\n",
      "x4          7.225e+04   3083.925     23.428      0.000    6.62e+04    7.83e+04\n",
      "x5           2.39e+04   5289.979      4.518      0.000    1.35e+04    3.43e+04\n",
      "x6         -4.947e+04   2593.332    -19.076      0.000   -5.46e+04   -4.44e+04\n",
      "x7          6.764e+04   3399.919     19.896      0.000     6.1e+04    7.43e+04\n",
      "x8         -1.612e+05   2573.075    -62.658      0.000   -1.66e+05   -1.56e+05\n",
      "==============================================================================\n",
      "Omnibus:                    15556.374   Durbin-Watson:                   1.978\n",
      "Prob(Omnibus):                  0.000   Jarque-Bera (JB):          2536508.450\n",
      "Skew:                           4.781   Prob(JB):                         0.00\n",
      "Kurtosis:                      65.768   Cond. No.                         6.94\n",
      "==============================================================================\n",
      "\n",
      "Notes:\n",
      "[1] Standard Errors assume that the covariance matrix of the errors is correctly specified.\n"
     ]
    }
   ],
   "source": [
    "X_train_const_scaled = sm.add_constant(X_train_scaled) # adding a constant\n",
    "\n",
    "model = sm.OLS(y_train, X_train_const_scaled).fit()\n",
    "predictions_train = model.predict(X_train_const_scaled) \n",
    "\n",
    "X_test_const_scaled = sm.add_constant(X_test_scaled) # adding a constant\n",
    "predictions_test = model.predict(X_test_const_scaled) \n",
    "print_model = model.summary()\n",
    "print(print_model)"
   ]
  },
  {
   "cell_type": "code",
   "execution_count": 177,
   "id": "34169886",
   "metadata": {
    "scrolled": true
   },
   "outputs": [
    {
     "data": {
      "text/plain": [
       "LinearRegression()"
      ]
     },
     "execution_count": 177,
     "metadata": {},
     "output_type": "execute_result"
    }
   ],
   "source": [
    "model=LinearRegression()    # model\n",
    "model.fit(X_train_scaled, y_train)   # model train"
   ]
  },
  {
   "cell_type": "code",
   "execution_count": 178,
   "id": "d3b47555",
   "metadata": {},
   "outputs": [
    {
     "data": {
      "text/plain": [
       "array([ 160426.42856969,   34232.08574941,  -14470.74463821,\n",
       "         72251.04057971,   23899.21484113,  -49470.586167  ,\n",
       "         67644.4085629 , -161224.1432687 ])"
      ]
     },
     "execution_count": 178,
     "metadata": {},
     "output_type": "execute_result"
    }
   ],
   "source": [
    "model.coef_"
   ]
  },
  {
   "cell_type": "code",
   "execution_count": 179,
   "id": "5032a17c",
   "metadata": {},
   "outputs": [],
   "source": [
    "y_pred=model.predict(X_test_scaled)   # model prediction\n",
    "\n",
    "y_pred_train=model.predict(X_train_scaled)"
   ]
  },
  {
   "cell_type": "code",
   "execution_count": 180,
   "id": "c7b356ab",
   "metadata": {
    "scrolled": true
   },
   "outputs": [],
   "source": [
    "result=pd.DataFrame({\"y_test\":y_test,\"y_pred\":y_pred})"
   ]
  },
  {
   "cell_type": "code",
   "execution_count": 181,
   "id": "5f0a8b42",
   "metadata": {},
   "outputs": [
    {
     "data": {
      "text/plain": [
       "[<matplotlib.lines.Line2D at 0x17c801a5400>]"
      ]
     },
     "execution_count": 181,
     "metadata": {},
     "output_type": "execute_result"
    },
    {
     "data": {
      "image/png": "[encoded data removed]",
      "text/plain": [
       "<Figure size 1008x288 with 3 Axes>"
      ]
     },
     "metadata": {
      "needs_background": "light"
     },
     "output_type": "display_data"
    }
   ],
   "source": [
    "# Make an scatter plot y_pred vs y\n",
    "# What kind of plot you will get if all the all the predictions are ok?\n",
    "# A stright line\n",
    "\n",
    "fig, ax = plt.subplots(1,3,figsize=(14,4))\n",
    "ax[0].plot(y_pred, y_test, 'o')\n",
    "ax[0].set_xlabel(\"y_test\")\n",
    "ax[0].set_ylabel(\"y_pred\")\n",
    "ax[0].set_title(\"Test Set -Predicted vs real\")\n",
    "\n",
    "# Get a histogram of the residuals ie: y - y_pred.  Homoscdasticity\n",
    "# It resembles a normal distribution?\n",
    "ax[1].hist(y_test - y_pred)\n",
    "ax[1].set_xlabel(\"Test y-y_pred\")\n",
    "ax[1].set_title(\"Test Set Residual histogram\")\n",
    "\n",
    "ax[2].plot(y_pred,y_test - y_pred,\"o\")\n",
    "ax[2].set_xlabel(\"predicted\")\n",
    "ax[2].set_ylabel(\"residuals\")\n",
    "ax[2].set_title(\"Residuals by Predicted\")\n",
    "ax[2].plot(y_pred,np.zeros(len(y_pred)),linestyle='dashed')"
   ]
  },
  {
   "cell_type": "code",
   "execution_count": 182,
   "id": "9eb60cb6",
   "metadata": {
    "scrolled": true
   },
   "outputs": [
    {
     "name": "stdout",
     "output_type": "stream",
     "text": [
      "MSE test:  60220130582.27702\n",
      "MAE test:  152088.48327280287\n",
      "MSE train:  58601061569.30319\n",
      "RMSE test:  389.9852346856261\n",
      "R2_test:  0.5524363857689365\n",
      "R2_train:  0.5663344379339506\n",
      "MSE train - MSE test:  -1619069012.9738312\n",
      "R2_test/R2_train:  0.9754596379204562\n",
      "Adj_R2: 0.551882384699178\n"
     ]
    }
   ],
   "source": [
    "print('MSE test: ',  mse(y_test,y_pred))\n",
    "print('MAE test: ', mae(y_test,y_pred))\n",
    "print('MSE train: ', mse(y_train,y_pred_train))\n",
    "print('RMSE test: ', np.sqrt(mae(y_test,y_pred)))\n",
    "R2_test=model.score(X_test_scaled,y_test)\n",
    "R2_train=model.score(X_train_scaled,y_train)\n",
    "print('R2_test: ', R2_test)\n",
    "print('R2_train: ', R2_train)\n",
    "\n",
    "print('MSE train - MSE test: ', mse(y_train,y_pred_train) - mse(y_test,y_pred) )\n",
    "print('R2_test/R2_train: ', R2_test/R2_train )\n",
    "Adj_R2= 1 - (1-R2_test)*(len(y_test)-1)/(len(y_test)-X_test.shape[1]-1)\n",
    "print('Adj_R2:', Adj_R2)"
   ]
  },
  {
   "cell_type": "code",
   "execution_count": 183,
   "id": "a7d1f50d",
   "metadata": {},
   "outputs": [],
   "source": [
    "features_importances = pd.DataFrame(data={\n",
    "    'Attribute': X_train.columns,\n",
    "    'Importance': abs(model.coef_)\n",
    "})\n",
    "features_importances = features_importances.sort_values(by='Importance', ascending=False)"
   ]
  },
  {
   "cell_type": "code",
   "execution_count": 184,
   "id": "e46fcc0d",
   "metadata": {},
   "outputs": [
    {
     "data": {
      "text/html": [
       "<div>\n",
       "<style scoped>\n",
       "    .dataframe tbody tr th:only-of-type {\n",
       "        vertical-align: middle;\n",
       "    }\n",
       "\n",
       "    .dataframe tbody tr th {\n",
       "        vertical-align: top;\n",
       "    }\n",
       "\n",
       "    .dataframe thead th {\n",
       "        text-align: right;\n",
       "    }\n",
       "</style>\n",
       "<table border=\"1\" class=\"dataframe\">\n",
       "  <thead>\n",
       "    <tr style=\"text-align: right;\">\n",
       "      <th></th>\n",
       "      <th>Attribute</th>\n",
       "      <th>Importance</th>\n",
       "    </tr>\n",
       "  </thead>\n",
       "  <tbody>\n",
       "    <tr>\n",
       "      <th>7</th>\n",
       "      <td>distanceM_transformed</td>\n",
       "      <td>161224.143269</td>\n",
       "    </tr>\n",
       "    <tr>\n",
       "      <th>0</th>\n",
       "      <td>sqft_living_transformed</td>\n",
       "      <td>160426.428570</td>\n",
       "    </tr>\n",
       "    <tr>\n",
       "      <th>3</th>\n",
       "      <td>sqft_living15_transformed</td>\n",
       "      <td>72251.040580</td>\n",
       "    </tr>\n",
       "    <tr>\n",
       "      <th>6</th>\n",
       "      <td>bathrooms_transformed</td>\n",
       "      <td>67644.408563</td>\n",
       "    </tr>\n",
       "    <tr>\n",
       "      <th>5</th>\n",
       "      <td>bedrooms_transformed</td>\n",
       "      <td>49470.586167</td>\n",
       "    </tr>\n",
       "    <tr>\n",
       "      <th>1</th>\n",
       "      <td>sqft_lot_transformed</td>\n",
       "      <td>34232.085749</td>\n",
       "    </tr>\n",
       "    <tr>\n",
       "      <th>4</th>\n",
       "      <td>sqft_lot15_transformed</td>\n",
       "      <td>23899.214841</td>\n",
       "    </tr>\n",
       "    <tr>\n",
       "      <th>2</th>\n",
       "      <td>yr_built_transformed</td>\n",
       "      <td>14470.744638</td>\n",
       "    </tr>\n",
       "  </tbody>\n",
       "</table>\n",
       "</div>"
      ],
      "text/plain": [
       "                   Attribute     Importance\n",
       "7      distanceM_transformed  161224.143269\n",
       "0    sqft_living_transformed  160426.428570\n",
       "3  sqft_living15_transformed   72251.040580\n",
       "6      bathrooms_transformed   67644.408563\n",
       "5       bedrooms_transformed   49470.586167\n",
       "1       sqft_lot_transformed   34232.085749\n",
       "4     sqft_lot15_transformed   23899.214841\n",
       "2       yr_built_transformed   14470.744638"
      ]
     },
     "execution_count": 184,
     "metadata": {},
     "output_type": "execute_result"
    }
   ],
   "source": [
    "features_importances"
   ]
  },
  {
   "cell_type": "code",
   "execution_count": 185,
   "id": "2bec413f",
   "metadata": {},
   "outputs": [
    {
     "data": {
      "image/png": "[encoded data removed]",
      "text/plain": [
       "<Figure size 432x288 with 1 Axes>"
      ]
     },
     "metadata": {
      "needs_background": "light"
     },
     "output_type": "display_data"
    }
   ],
   "source": [
    "plt.bar(x=features_importances['Attribute'], height=features_importances['Importance'], color='#087E8B')\n",
    "plt.title('Feature importances obtained from coefficients', size=20)\n",
    "plt.xticks(rotation='vertical')\n",
    "plt.show()"
   ]
  },
  {
   "cell_type": "markdown",
   "id": "43e9d3c1",
   "metadata": {},
   "source": [
    "## 2nd model including categorical variables"
   ]
  },
  {
   "cell_type": "code",
   "execution_count": 186,
   "id": "f7df0d05",
   "metadata": {},
   "outputs": [
    {
     "name": "stdout",
     "output_type": "stream",
     "text": [
      "Index(['sqft_living_transformed', 'sqft_lot_transformed',\n",
      "       'yr_built_transformed', 'sqft_living15_transformed',\n",
      "       'sqft_lot15_transformed', 'bedrooms_transformed',\n",
      "       'bathrooms_transformed', 'distanceM_transformed', 'renovated_True',\n",
      "       'basement_True', 'floors_one', 'waterfront_1', 'view_1', 'view_2',\n",
      "       'view_3', 'view_4', 'condition_2', 'condition_3', 'condition_4',\n",
      "       'condition_5', 'grade_below_avg', 'zipcode_98002', 'zipcode_98003',\n",
      "       'zipcode_98004', 'zipcode_98005', 'zipcode_98006', 'zipcode_98007',\n",
      "       'zipcode_98008', 'zipcode_98010', 'zipcode_98011', 'zipcode_98014',\n",
      "       'zipcode_98019', 'zipcode_98022', 'zipcode_98023', 'zipcode_98024',\n",
      "       'zipcode_98027', 'zipcode_98028', 'zipcode_98029', 'zipcode_98030',\n",
      "       'zipcode_98031', 'zipcode_98032', 'zipcode_98033', 'zipcode_98034',\n",
      "       'zipcode_98038', 'zipcode_98039', 'zipcode_98040', 'zipcode_98042',\n",
      "       'zipcode_98045', 'zipcode_98052', 'zipcode_98053', 'zipcode_98055',\n",
      "       'zipcode_98056', 'zipcode_98058', 'zipcode_98059', 'zipcode_98065',\n",
      "       'zipcode_98070', 'zipcode_98072', 'zipcode_98074', 'zipcode_98075',\n",
      "       'zipcode_98077', 'zipcode_98092', 'zipcode_98102', 'zipcode_98103',\n",
      "       'zipcode_98105', 'zipcode_98106', 'zipcode_98107', 'zipcode_98108',\n",
      "       'zipcode_98109', 'zipcode_98112', 'zipcode_98115', 'zipcode_98116',\n",
      "       'zipcode_98117', 'zipcode_98118', 'zipcode_98119', 'zipcode_98122',\n",
      "       'zipcode_98125', 'zipcode_98126', 'zipcode_98133', 'zipcode_98136',\n",
      "       'zipcode_98144', 'zipcode_98146', 'zipcode_98148', 'zipcode_98155',\n",
      "       'zipcode_98166', 'zipcode_98168', 'zipcode_98177', 'zipcode_98178',\n",
      "       'zipcode_98188', 'zipcode_98198', 'zipcode_98199'],\n",
      "      dtype='object')\n"
     ]
    }
   ],
   "source": [
    "def Xy_split(df, output_col):\n",
    "    \"\"\" Split the dataset into:\n",
    "        X = dataframe of input variables\n",
    "        y = predicted variable\n",
    "    \"\"\"\n",
    "    X=df.drop(output_col, axis=1)\n",
    "    y=df[output_col]\n",
    "    print(X.columns)\n",
    "    return X, y\n",
    "\n",
    "X,y = Xy_split(hp_df, 'price') "
   ]
  },
  {
   "cell_type": "code",
   "execution_count": 187,
   "id": "acf1c902",
   "metadata": {},
   "outputs": [],
   "source": [
    "X_train, X_test, y_train, y_test=train_test_split(X, y, test_size=.30,random_state=100)"
   ]
  },
  {
   "cell_type": "code",
   "execution_count": 188,
   "id": "cd08d3f9",
   "metadata": {},
   "outputs": [
    {
     "data": {
      "text/plain": [
       "(6472, 8)"
      ]
     },
     "execution_count": 188,
     "metadata": {},
     "output_type": "execute_result"
    }
   ],
   "source": [
    "std_scaler=StandardScaler().fit(X_train.select_dtypes(['int', 'float64']))   ##. finding the parameters ( mean, variance from the training set )\n",
    "                                            ## \n",
    "X_train_scaled=std_scaler.transform(X_train.select_dtypes(['int', 'float64']))\n",
    "\n",
    "X_test_scaled=std_scaler.transform(X_test.select_dtypes(['int', 'float64']))\n",
    "X_test_scaled.shape"
   ]
  },
  {
   "cell_type": "code",
   "execution_count": 189,
   "id": "af99d0e4",
   "metadata": {},
   "outputs": [
    {
     "data": {
      "text/html": [
       "<div>\n",
       "<style scoped>\n",
       "    .dataframe tbody tr th:only-of-type {\n",
       "        vertical-align: middle;\n",
       "    }\n",
       "\n",
       "    .dataframe tbody tr th {\n",
       "        vertical-align: top;\n",
       "    }\n",
       "\n",
       "    .dataframe thead th {\n",
       "        text-align: right;\n",
       "    }\n",
       "</style>\n",
       "<table border=\"1\" class=\"dataframe\">\n",
       "  <thead>\n",
       "    <tr style=\"text-align: right;\">\n",
       "      <th></th>\n",
       "      <th>sqft_living_transformed</th>\n",
       "      <th>sqft_lot_transformed</th>\n",
       "      <th>yr_built_transformed</th>\n",
       "      <th>sqft_living15_transformed</th>\n",
       "      <th>sqft_lot15_transformed</th>\n",
       "      <th>bedrooms_transformed</th>\n",
       "      <th>bathrooms_transformed</th>\n",
       "      <th>distanceM_transformed</th>\n",
       "      <th>renovated_True</th>\n",
       "      <th>basement_True</th>\n",
       "      <th>...</th>\n",
       "      <th>zipcode_98146</th>\n",
       "      <th>zipcode_98148</th>\n",
       "      <th>zipcode_98155</th>\n",
       "      <th>zipcode_98166</th>\n",
       "      <th>zipcode_98168</th>\n",
       "      <th>zipcode_98177</th>\n",
       "      <th>zipcode_98178</th>\n",
       "      <th>zipcode_98188</th>\n",
       "      <th>zipcode_98198</th>\n",
       "      <th>zipcode_98199</th>\n",
       "    </tr>\n",
       "  </thead>\n",
       "  <tbody>\n",
       "    <tr>\n",
       "      <th>21149</th>\n",
       "      <td>0.345485</td>\n",
       "      <td>-1.401177</td>\n",
       "      <td>1.744448</td>\n",
       "      <td>0.593940</td>\n",
       "      <td>-1.401043</td>\n",
       "      <td>-0.346817</td>\n",
       "      <td>0.520661</td>\n",
       "      <td>0.347915</td>\n",
       "      <td>0</td>\n",
       "      <td>1</td>\n",
       "      <td>...</td>\n",
       "      <td>0</td>\n",
       "      <td>0</td>\n",
       "      <td>0</td>\n",
       "      <td>0</td>\n",
       "      <td>0</td>\n",
       "      <td>0</td>\n",
       "      <td>0</td>\n",
       "      <td>0</td>\n",
       "      <td>0</td>\n",
       "      <td>0</td>\n",
       "    </tr>\n",
       "    <tr>\n",
       "      <th>8873</th>\n",
       "      <td>-0.060256</td>\n",
       "      <td>0.391233</td>\n",
       "      <td>0.599937</td>\n",
       "      <td>-0.573115</td>\n",
       "      <td>0.161705</td>\n",
       "      <td>-0.346817</td>\n",
       "      <td>0.067799</td>\n",
       "      <td>1.284241</td>\n",
       "      <td>0</td>\n",
       "      <td>0</td>\n",
       "      <td>...</td>\n",
       "      <td>0</td>\n",
       "      <td>0</td>\n",
       "      <td>0</td>\n",
       "      <td>0</td>\n",
       "      <td>0</td>\n",
       "      <td>0</td>\n",
       "      <td>0</td>\n",
       "      <td>0</td>\n",
       "      <td>0</td>\n",
       "      <td>0</td>\n",
       "    </tr>\n",
       "    <tr>\n",
       "      <th>8007</th>\n",
       "      <td>0.397918</td>\n",
       "      <td>0.675927</td>\n",
       "      <td>-0.295296</td>\n",
       "      <td>0.257495</td>\n",
       "      <td>0.710300</td>\n",
       "      <td>1.620592</td>\n",
       "      <td>0.520661</td>\n",
       "      <td>0.051162</td>\n",
       "      <td>0</td>\n",
       "      <td>1</td>\n",
       "      <td>...</td>\n",
       "      <td>0</td>\n",
       "      <td>0</td>\n",
       "      <td>0</td>\n",
       "      <td>0</td>\n",
       "      <td>0</td>\n",
       "      <td>0</td>\n",
       "      <td>0</td>\n",
       "      <td>0</td>\n",
       "      <td>0</td>\n",
       "      <td>0</td>\n",
       "    </tr>\n",
       "    <tr>\n",
       "      <th>15552</th>\n",
       "      <td>1.072973</td>\n",
       "      <td>0.864061</td>\n",
       "      <td>-0.080379</td>\n",
       "      <td>0.828465</td>\n",
       "      <td>0.992924</td>\n",
       "      <td>-0.346817</td>\n",
       "      <td>1.040090</td>\n",
       "      <td>-0.025626</td>\n",
       "      <td>0</td>\n",
       "      <td>1</td>\n",
       "      <td>...</td>\n",
       "      <td>0</td>\n",
       "      <td>0</td>\n",
       "      <td>0</td>\n",
       "      <td>0</td>\n",
       "      <td>0</td>\n",
       "      <td>0</td>\n",
       "      <td>0</td>\n",
       "      <td>0</td>\n",
       "      <td>0</td>\n",
       "      <td>0</td>\n",
       "    </tr>\n",
       "    <tr>\n",
       "      <th>16878</th>\n",
       "      <td>-0.812654</td>\n",
       "      <td>0.049510</td>\n",
       "      <td>-0.832006</td>\n",
       "      <td>0.884593</td>\n",
       "      <td>0.059801</td>\n",
       "      <td>-1.453280</td>\n",
       "      <td>-1.324958</td>\n",
       "      <td>-0.276678</td>\n",
       "      <td>0</td>\n",
       "      <td>0</td>\n",
       "      <td>...</td>\n",
       "      <td>0</td>\n",
       "      <td>0</td>\n",
       "      <td>0</td>\n",
       "      <td>0</td>\n",
       "      <td>0</td>\n",
       "      <td>0</td>\n",
       "      <td>1</td>\n",
       "      <td>0</td>\n",
       "      <td>0</td>\n",
       "      <td>0</td>\n",
       "    </tr>\n",
       "    <tr>\n",
       "      <th>...</th>\n",
       "      <td>...</td>\n",
       "      <td>...</td>\n",
       "      <td>...</td>\n",
       "      <td>...</td>\n",
       "      <td>...</td>\n",
       "      <td>...</td>\n",
       "      <td>...</td>\n",
       "      <td>...</td>\n",
       "      <td>...</td>\n",
       "      <td>...</td>\n",
       "      <td>...</td>\n",
       "      <td>...</td>\n",
       "      <td>...</td>\n",
       "      <td>...</td>\n",
       "      <td>...</td>\n",
       "      <td>...</td>\n",
       "      <td>...</td>\n",
       "      <td>...</td>\n",
       "      <td>...</td>\n",
       "      <td>...</td>\n",
       "      <td>...</td>\n",
       "    </tr>\n",
       "    <tr>\n",
       "      <th>16321</th>\n",
       "      <td>1.464186</td>\n",
       "      <td>0.446266</td>\n",
       "      <td>0.749670</td>\n",
       "      <td>0.971436</td>\n",
       "      <td>0.523537</td>\n",
       "      <td>0.678433</td>\n",
       "      <td>1.721914</td>\n",
       "      <td>-0.563727</td>\n",
       "      <td>0</td>\n",
       "      <td>0</td>\n",
       "      <td>...</td>\n",
       "      <td>0</td>\n",
       "      <td>0</td>\n",
       "      <td>0</td>\n",
       "      <td>0</td>\n",
       "      <td>0</td>\n",
       "      <td>0</td>\n",
       "      <td>0</td>\n",
       "      <td>0</td>\n",
       "      <td>0</td>\n",
       "      <td>0</td>\n",
       "    </tr>\n",
       "    <tr>\n",
       "      <th>79</th>\n",
       "      <td>1.425011</td>\n",
       "      <td>1.585639</td>\n",
       "      <td>0.875354</td>\n",
       "      <td>1.684464</td>\n",
       "      <td>1.697533</td>\n",
       "      <td>0.678433</td>\n",
       "      <td>0.520661</td>\n",
       "      <td>1.735890</td>\n",
       "      <td>0</td>\n",
       "      <td>0</td>\n",
       "      <td>...</td>\n",
       "      <td>0</td>\n",
       "      <td>0</td>\n",
       "      <td>0</td>\n",
       "      <td>0</td>\n",
       "      <td>0</td>\n",
       "      <td>0</td>\n",
       "      <td>0</td>\n",
       "      <td>0</td>\n",
       "      <td>0</td>\n",
       "      <td>0</td>\n",
       "    </tr>\n",
       "    <tr>\n",
       "      <th>12131</th>\n",
       "      <td>0.803958</td>\n",
       "      <td>1.523921</td>\n",
       "      <td>0.337506</td>\n",
       "      <td>0.905189</td>\n",
       "      <td>1.561765</td>\n",
       "      <td>0.678433</td>\n",
       "      <td>0.067799</td>\n",
       "      <td>2.038188</td>\n",
       "      <td>0</td>\n",
       "      <td>0</td>\n",
       "      <td>...</td>\n",
       "      <td>0</td>\n",
       "      <td>0</td>\n",
       "      <td>0</td>\n",
       "      <td>0</td>\n",
       "      <td>0</td>\n",
       "      <td>0</td>\n",
       "      <td>0</td>\n",
       "      <td>0</td>\n",
       "      <td>0</td>\n",
       "      <td>0</td>\n",
       "    </tr>\n",
       "    <tr>\n",
       "      <th>14163</th>\n",
       "      <td>0.426601</td>\n",
       "      <td>-0.524638</td>\n",
       "      <td>1.008294</td>\n",
       "      <td>0.451469</td>\n",
       "      <td>-0.454416</td>\n",
       "      <td>-0.346817</td>\n",
       "      <td>1.721914</td>\n",
       "      <td>0.554075</td>\n",
       "      <td>0</td>\n",
       "      <td>0</td>\n",
       "      <td>...</td>\n",
       "      <td>0</td>\n",
       "      <td>0</td>\n",
       "      <td>0</td>\n",
       "      <td>0</td>\n",
       "      <td>0</td>\n",
       "      <td>0</td>\n",
       "      <td>0</td>\n",
       "      <td>0</td>\n",
       "      <td>0</td>\n",
       "      <td>0</td>\n",
       "    </tr>\n",
       "    <tr>\n",
       "      <th>5649</th>\n",
       "      <td>-1.726162</td>\n",
       "      <td>0.646164</td>\n",
       "      <td>-0.247134</td>\n",
       "      <td>-0.616541</td>\n",
       "      <td>-0.146048</td>\n",
       "      <td>-0.346817</td>\n",
       "      <td>-1.324958</td>\n",
       "      <td>0.639205</td>\n",
       "      <td>0</td>\n",
       "      <td>0</td>\n",
       "      <td>...</td>\n",
       "      <td>0</td>\n",
       "      <td>0</td>\n",
       "      <td>0</td>\n",
       "      <td>0</td>\n",
       "      <td>0</td>\n",
       "      <td>0</td>\n",
       "      <td>0</td>\n",
       "      <td>0</td>\n",
       "      <td>1</td>\n",
       "      <td>0</td>\n",
       "    </tr>\n",
       "  </tbody>\n",
       "</table>\n",
       "<p>15101 rows × 90 columns</p>\n",
       "</div>"
      ],
      "text/plain": [
       "       sqft_living_transformed  sqft_lot_transformed  yr_built_transformed  \\\n",
       "21149                 0.345485             -1.401177              1.744448   \n",
       "8873                 -0.060256              0.391233              0.599937   \n",
       "8007                  0.397918              0.675927             -0.295296   \n",
       "15552                 1.072973              0.864061             -0.080379   \n",
       "16878                -0.812654              0.049510             -0.832006   \n",
       "...                        ...                   ...                   ...   \n",
       "16321                 1.464186              0.446266              0.749670   \n",
       "79                    1.425011              1.585639              0.875354   \n",
       "12131                 0.803958              1.523921              0.337506   \n",
       "14163                 0.426601             -0.524638              1.008294   \n",
       "5649                 -1.726162              0.646164             -0.247134   \n",
       "\n",
       "       sqft_living15_transformed  sqft_lot15_transformed  \\\n",
       "21149                   0.593940               -1.401043   \n",
       "8873                   -0.573115                0.161705   \n",
       "8007                    0.257495                0.710300   \n",
       "15552                   0.828465                0.992924   \n",
       "16878                   0.884593                0.059801   \n",
       "...                          ...                     ...   \n",
       "16321                   0.971436                0.523537   \n",
       "79                      1.684464                1.697533   \n",
       "12131                   0.905189                1.561765   \n",
       "14163                   0.451469               -0.454416   \n",
       "5649                   -0.616541               -0.146048   \n",
       "\n",
       "       bedrooms_transformed  bathrooms_transformed  distanceM_transformed  \\\n",
       "21149             -0.346817               0.520661               0.347915   \n",
       "8873              -0.346817               0.067799               1.284241   \n",
       "8007               1.620592               0.520661               0.051162   \n",
       "15552             -0.346817               1.040090              -0.025626   \n",
       "16878             -1.453280              -1.324958              -0.276678   \n",
       "...                     ...                    ...                    ...   \n",
       "16321              0.678433               1.721914              -0.563727   \n",
       "79                 0.678433               0.520661               1.735890   \n",
       "12131              0.678433               0.067799               2.038188   \n",
       "14163             -0.346817               1.721914               0.554075   \n",
       "5649              -0.346817              -1.324958               0.639205   \n",
       "\n",
       "       renovated_True  basement_True  ...  zipcode_98146  zipcode_98148  \\\n",
       "21149               0              1  ...              0              0   \n",
       "8873                0              0  ...              0              0   \n",
       "8007                0              1  ...              0              0   \n",
       "15552               0              1  ...              0              0   \n",
       "16878               0              0  ...              0              0   \n",
       "...               ...            ...  ...            ...            ...   \n",
       "16321               0              0  ...              0              0   \n",
       "79                  0              0  ...              0              0   \n",
       "12131               0              0  ...              0              0   \n",
       "14163               0              0  ...              0              0   \n",
       "5649                0              0  ...              0              0   \n",
       "\n",
       "       zipcode_98155  zipcode_98166  zipcode_98168  zipcode_98177  \\\n",
       "21149              0              0              0              0   \n",
       "8873               0              0              0              0   \n",
       "8007               0              0              0              0   \n",
       "15552              0              0              0              0   \n",
       "16878              0              0              0              0   \n",
       "...              ...            ...            ...            ...   \n",
       "16321              0              0              0              0   \n",
       "79                 0              0              0              0   \n",
       "12131              0              0              0              0   \n",
       "14163              0              0              0              0   \n",
       "5649               0              0              0              0   \n",
       "\n",
       "       zipcode_98178  zipcode_98188  zipcode_98198  zipcode_98199  \n",
       "21149              0              0              0              0  \n",
       "8873               0              0              0              0  \n",
       "8007               0              0              0              0  \n",
       "15552              0              0              0              0  \n",
       "16878              1              0              0              0  \n",
       "...              ...            ...            ...            ...  \n",
       "16321              0              0              0              0  \n",
       "79                 0              0              0              0  \n",
       "12131              0              0              0              0  \n",
       "14163              0              0              0              0  \n",
       "5649               0              0              1              0  \n",
       "\n",
       "[15101 rows x 90 columns]"
      ]
     },
     "execution_count": 189,
     "metadata": {},
     "output_type": "execute_result"
    }
   ],
   "source": [
    "X_train"
   ]
  },
  {
   "cell_type": "code",
   "execution_count": 190,
   "id": "df85e8d2",
   "metadata": {},
   "outputs": [
    {
     "name": "stdout",
     "output_type": "stream",
     "text": [
      "(15101, 90) (6472, 90)\n"
     ]
    }
   ],
   "source": [
    "X_train_scaled = np.concatenate((X_train_scaled, np.asarray(X_train[list(cat_features.columns)])), axis = 1) \n",
    "\n",
    "X_test_scaled = np.concatenate((X_test_scaled, np.asarray(X_test[list(cat_features.columns)])), axis =1)\n",
    "print(X_train_scaled.shape, X_test_scaled.shape)"
   ]
  },
  {
   "cell_type": "code",
   "execution_count": 191,
   "id": "04026b3f",
   "metadata": {
    "scrolled": true
   },
   "outputs": [
    {
     "name": "stdout",
     "output_type": "stream",
     "text": [
      "(15101,) (6472,)\n"
     ]
    }
   ],
   "source": [
    "print(y_train.shape, y_test.shape)"
   ]
  },
  {
   "cell_type": "code",
   "execution_count": null,
   "id": "ef2860c1",
   "metadata": {
    "scrolled": false
   },
   "outputs": [],
   "source": [
    "model=LinearRegression()    # model\n",
    "model.fit(X_train_scaled, y_train) \n",
    "\n",
    "\n",
    "y_pred=model.predict(X_test_scaled)   # model prediction\n",
    "y_pred_train=model.predict(X_train_scaled)\n",
    "\n",
    "\n",
    "result=pd.DataFrame({\"y_test\":y_test,\"y_pred\":y_pred})\n",
    "\n",
    "\n",
    "# Make an scatter plot y_pred vs y\n",
    "# What kind of plot you will get if all the all the predictions are ok?\n",
    "# A stright line\n",
    "\n",
    "fig, ax = plt.subplots(1,3,figsize=(14,4))\n",
    "ax[0].plot(y_pred, y_test, 'o')\n",
    "ax[0].set_xlabel(\"y_test\")\n",
    "ax[0].set_ylabel(\"y_pred\")\n",
    "ax[0].set_title(\"Test Set -Predicted vs real\")\n",
    "\n",
    "# Get a histogram of the residuals ie: y - y_pred.  Homoscdasticity\n",
    "# It resembles a normal distribution?\n",
    "ax[1].hist(y_test - y_pred)\n",
    "ax[1].set_xlabel(\"Test y-y_pred\")\n",
    "ax[1].set_title(\"Test Set Residual histogram\")\n",
    "\n",
    "ax[2].plot(y_pred,y_test - y_pred,\"o\")\n",
    "ax[2].set_xlabel(\"predicted\")\n",
    "ax[2].set_ylabel(\"residuals\")\n",
    "ax[2].set_title(\"Residuals by Predicted\")\n",
    "ax[2].plot(y_pred,np.zeros(len(y_pred)),linestyle='dashed')"
   ]
  },
  {
   "cell_type": "code",
   "execution_count": null,
   "id": "6f412a6e",
   "metadata": {},
   "outputs": [],
   "source": [
    "y_test"
   ]
  },
  {
   "cell_type": "code",
   "execution_count": null,
   "id": "f2ce0170",
   "metadata": {},
   "outputs": [],
   "source": [
    "#sns.jointplot(y_pred, y_test)"
   ]
  },
  {
   "cell_type": "code",
   "execution_count": null,
   "id": "1cd46ec8",
   "metadata": {},
   "outputs": [],
   "source": [
    "#sns.jointplot(x=y_pred,y = (y_test - y_pred))"
   ]
  },
  {
   "cell_type": "code",
   "execution_count": null,
   "id": "600ab2c9",
   "metadata": {},
   "outputs": [],
   "source": [
    "print('MSE test: ',  mse(y_test,y_pred))\n",
    "print('MAE test: ', mae(y_test,y_pred))\n",
    "print('MSE train: ', mse(y_train,y_pred_train))\n",
    "print('RMSE test: ', np.sqrt(mae(y_test,y_pred)))\n",
    "R2_test=model.score(X_test_scaled,y_test)\n",
    "R2_train=model.score(X_train_scaled,y_train)\n",
    "print('R2_test: ', R2_test)\n",
    "print('R2_train: ', R2_train)\n",
    "\n",
    "print('MSE train - MSE test: ', mse(y_train,y_pred_train) - mse(y_test,y_pred) )\n",
    "print('R2_test/R2_train: ', R2_test/R2_train )\n",
    "Adj_R2= 1 - (1-R2_test)*(len(y_test)-1)/(len(y_test)-X_test.shape[1]-1)\n",
    "print('Adj_R2:', Adj_R2)"
   ]
  },
  {
   "cell_type": "code",
   "execution_count": null,
   "id": "f9153175",
   "metadata": {},
   "outputs": [],
   "source": [
    "features_importances = pd.DataFrame(data={\n",
    "    'Attribute': X_train.columns,\n",
    "    'Importance': abs(model.coef_)\n",
    "})\n",
    "features_importances = features_importances.sort_values(by='Importance', ascending=False)\n",
    "features_importances\n",
    "plt.bar(x=features_importances['Attribute'], height=features_importances['Importance'], color='#087E8B')\n",
    "plt.title('Feature importances obtained from coefficients', size=20)\n",
    "plt.xticks(rotation='vertical')\n",
    "plt.figure(figsize=(200, 200), dpi=300)\n",
    "plt.show()"
   ]
  },
  {
   "cell_type": "code",
   "execution_count": null,
   "id": "bdaa82d5",
   "metadata": {},
   "outputs": [],
   "source": [
    "features_importances.nlargest(20, 'Importance')"
   ]
  },
  {
   "cell_type": "code",
   "execution_count": null,
   "id": "6490017a",
   "metadata": {},
   "outputs": [],
   "source": []
  },
  {
   "cell_type": "markdown",
   "id": "2a8030c3",
   "metadata": {},
   "source": [
    "## Get P-values from model \n",
    "\n",
    "To filter the significant columns we get the p-value from the linear regression. If it is higher than 0.5 the column is dropped."
   ]
  },
  {
   "cell_type": "code",
   "execution_count": null,
   "id": "eb8758bc",
   "metadata": {},
   "outputs": [],
   "source": [
    "X_train_const_scaled = sm.add_constant(X_train_scaled) # adding a constant\n",
    "\n",
    "model = sm.OLS(y_train, X_train_const_scaled).fit()\n",
    "predictions_train = model.predict(X_train_const_scaled) \n",
    "\n",
    "X_test_const_scaled = sm.add_constant(X_test_scaled) # adding a constant\n",
    "predictions_test = model.predict(X_test_const_scaled) \n",
    "print_model = model.summary()\n",
    "print(print_model)"
   ]
  },
  {
   "cell_type": "code",
   "execution_count": null,
   "id": "6b00c4e2",
   "metadata": {},
   "outputs": [],
   "source": [
    "sign_cols = model.pvalues[1:len(model.pvalues)]  # remove constant\n",
    "\n",
    "sign_cols"
   ]
  },
  {
   "cell_type": "markdown",
   "id": "c82bf5bb",
   "metadata": {
    "scrolled": true
   },
   "source": [
    "Pseudo-Code: for i in range(0, len(X.column)) drop X.columns[i] if sign_cols[i]> 0.05\n",
    "        "
   ]
  },
  {
   "cell_type": "code",
   "execution_count": null,
   "id": "c5189878",
   "metadata": {},
   "outputs": [],
   "source": [
    "sign_cols = pd.DataFrame([sign_cols])\n",
    "sign_cols"
   ]
  },
  {
   "cell_type": "code",
   "execution_count": null,
   "id": "fd88a05d",
   "metadata": {
    "scrolled": false
   },
   "outputs": [],
   "source": [
    "X_col_list = X.columns\n",
    "X_dropped_p = X\n",
    "for i in range(0,len(X.columns)):\n",
    "    if sign_cols.iloc[0,i]>0.05:\n",
    "        X_dropped_p = X_dropped_p.drop(X_col_list[i], axis=1)"
   ]
  },
  {
   "cell_type": "code",
   "execution_count": null,
   "id": "48073746",
   "metadata": {
    "scrolled": true
   },
   "outputs": [],
   "source": [
    "print(f'From orginally {X.shape[1]} features {X_dropped_p.shape[1]} features remain.')"
   ]
  },
  {
   "cell_type": "markdown",
   "id": "a1530207",
   "metadata": {},
   "source": [
    "## 3d linear Model only including variabels that had a siginificant p-value in the 2s Model"
   ]
  },
  {
   "cell_type": "code",
   "execution_count": null,
   "id": "c46dc45d",
   "metadata": {},
   "outputs": [],
   "source": [
    "X_train, X_test, y_train, y_test=train_test_split(X_dropped_p, y, test_size=.30,random_state=100)"
   ]
  },
  {
   "cell_type": "code",
   "execution_count": null,
   "id": "12ab82e7",
   "metadata": {},
   "outputs": [],
   "source": [
    "X_train_num = X_train.select_dtypes(['float64'])\n",
    "X_test_num = X_test.select_dtypes(['float64'])\n",
    "X_train_cat = X_train.select_dtypes(['uint8'])\n",
    "X_test_cat = X_test.select_dtypes(['uint8'])\n",
    "print(X_train_num.shape, X_test_num.shape, X_train_cat.shape, X_test_cat.shape)"
   ]
  },
  {
   "cell_type": "code",
   "execution_count": null,
   "id": "8ddd72a1",
   "metadata": {},
   "outputs": [],
   "source": [
    "X_train.info()"
   ]
  },
  {
   "cell_type": "code",
   "execution_count": null,
   "id": "67f7f083",
   "metadata": {},
   "outputs": [],
   "source": [
    "std_scaler=StandardScaler().fit(X_train_num)   ##. finding the parameters ( mean, variance from the training set )\n",
    "                                            ## \n",
    "X_train_scaled=std_scaler.transform(X_train_num)\n",
    "\n",
    "X_test_scaled=std_scaler.transform(X_test_num)\n",
    "X_test_scaled.shape"
   ]
  },
  {
   "cell_type": "code",
   "execution_count": null,
   "id": "ee35d6b7",
   "metadata": {},
   "outputs": [],
   "source": [
    "X_train_scaled = np.concatenate((X_train_scaled, np.asarray(X_train_cat)), axis = 1) \n",
    "\n",
    "X_test_scaled = np.concatenate((X_test_scaled, np.asarray(X_test_cat)), axis =1)\n",
    "print(X_train_scaled.shape, X_test_scaled.shape)"
   ]
  },
  {
   "cell_type": "code",
   "execution_count": null,
   "id": "11c68579",
   "metadata": {},
   "outputs": [],
   "source": [
    "model=LinearRegression()    # model\n",
    "model.fit(X_train_scaled, y_train) \n",
    "\n",
    "\n",
    "y_pred=model.predict(X_test_scaled)   # model prediction\n",
    "y_pred_train=model.predict(X_train_scaled)\n",
    "\n",
    "\n",
    "result=pd.DataFrame({\"y_test\":y_test,\"y_pred\":y_pred})\n",
    "\n",
    "\n",
    "# Make an scatter plot y_pred vs y\n",
    "# What kind of plot you will get if all the all the predictions are ok?\n",
    "# A stright line\n",
    "\n",
    "fig, ax = plt.subplots(1,3,figsize=(14,4))\n",
    "ax[0].plot(y_pred, y_test, 'o')\n",
    "ax[0].set_xlabel(\"y_test\")\n",
    "ax[0].set_ylabel(\"y_pred\")\n",
    "ax[0].set_title(\"Test Set -Predicted vs real\")\n",
    "\n",
    "# Get a histogram of the residuals ie: y - y_pred.  Homoscdasticity\n",
    "# It resembles a normal distribution?\n",
    "ax[1].hist(y_test - y_pred)\n",
    "ax[1].set_xlabel(\"Test y-y_pred\")\n",
    "ax[1].set_title(\"Test Set Residual histogram\")\n",
    "\n",
    "ax[2].plot(y_pred,y_test - y_pred,\"o\")\n",
    "ax[2].set_xlabel(\"predicted\")\n",
    "ax[2].set_ylabel(\"residuals\")\n",
    "ax[2].set_title(\"Residuals by Predicted\")\n",
    "ax[2].plot(y_pred,np.zeros(len(y_pred)),linestyle='dashed')"
   ]
  },
  {
   "cell_type": "code",
   "execution_count": null,
   "id": "84382604",
   "metadata": {},
   "outputs": [],
   "source": [
    "print('MSE test: ',  mse(y_test,y_pred))\n",
    "print('MAE test: ', mae(y_test,y_pred))\n",
    "print('MSE train: ', mse(y_train,y_pred_train))\n",
    "print('RMSE test: ', np.sqrt(mae(y_test,y_pred)))\n",
    "R2_test=model.score(X_test_scaled,y_test)\n",
    "R2_train=model.score(X_train_scaled,y_train)\n",
    "print('R2_test: ', R2_test)\n",
    "print('R2_train: ', R2_train)\n",
    "\n",
    "print('MSE train - MSE test: ', mse(y_train,y_pred_train) - mse(y_test,y_pred) )\n",
    "print('R2_test/R2_train: ', R2_test/R2_train )\n",
    "Adj_R2= 1 - (1-R2_test)*(len(y_test)-1)/(len(y_test)-X_test.shape[1]-1)\n",
    "print('Adj_R2:', Adj_R2)"
   ]
  },
  {
   "cell_type": "code",
   "execution_count": null,
   "id": "42908e97",
   "metadata": {},
   "outputs": [],
   "source": [
    "features_importances = pd.DataFrame(data={\n",
    "    'Attribute': X_train.columns,\n",
    "    'Importance': abs(model.coef_)\n",
    "})\n",
    "features_importances = features_importances.sort_values(by='Importance', ascending=False)\n",
    "features_importances\n",
    "plt.bar(x=features_importances['Attribute'], height=features_importances['Importance'], color='#087E8B')\n",
    "plt.title('Feature importances obtained from coefficients', size=20)\n",
    "plt.xticks(rotation='vertical')\n",
    "plt.show()"
   ]
  },
  {
   "cell_type": "code",
   "execution_count": null,
   "id": "0d60e54a",
   "metadata": {},
   "outputs": [],
   "source": [
    "features_importances #.nlargest(30, 'Importance')"
   ]
  },
  {
   "cell_type": "code",
   "execution_count": null,
   "id": "4d6555e6",
   "metadata": {},
   "outputs": [],
   "source": [
    "features_importances.to_csv('C:/Users/Lenovo/Documents/GitHub/Houseprices/Data/final_model_feature_importance.csv')"
   ]
  },
  {
   "cell_type": "code",
   "execution_count": null,
   "id": "2066f4cd",
   "metadata": {
    "scrolled": true
   },
   "outputs": [],
   "source": [
    "X_train_const_scaled = sm.add_constant(X_train_scaled) # adding a constant\n",
    "\n",
    "model = sm.OLS(y_train, X_train_const_scaled).fit()\n",
    "predictions_train = model.predict(X_train_const_scaled) \n",
    "\n",
    "X_test_const_scaled = sm.add_constant(X_test_scaled) # adding a constant\n",
    "predictions_test = model.predict(X_test_const_scaled) \n",
    "print_model = model.summary()\n",
    "print(print_model)"
   ]
  },
  {
   "cell_type": "markdown",
   "id": "3710ab98",
   "metadata": {},
   "source": [
    "## Visualizing results:"
   ]
  },
  {
   "cell_type": "markdown",
   "id": "01384df3",
   "metadata": {},
   "source": [
    "Zip-code showed to be very determining for prices. The zipcode 98039 showed to show the highest price effect."
   ]
  },
  {
   "cell_type": "code",
   "execution_count": null,
   "id": "e38b3f42",
   "metadata": {},
   "outputs": [],
   "source": [
    "avg_grouped_by_zipcode = hp_df_org.groupby('zipcode').mean()"
   ]
  },
  {
   "cell_type": "code",
   "execution_count": null,
   "id": "cfce29ea",
   "metadata": {},
   "outputs": [],
   "source": [
    "avg_grouped_by_zipcode.drop(['Unnamed: 0', 'id'], axis=1, inplace=True)"
   ]
  },
  {
   "cell_type": "code",
   "execution_count": null,
   "id": "670f6c40",
   "metadata": {},
   "outputs": [],
   "source": [
    "avg_grouped_by_zipcode.columns"
   ]
  },
  {
   "cell_type": "code",
   "execution_count": null,
   "id": "83cd923e",
   "metadata": {},
   "outputs": [],
   "source": [
    "sns.pairplot(avg_grouped_by_zipcode)"
   ]
  },
  {
   "cell_type": "code",
   "execution_count": null,
   "id": "0db4b323",
   "metadata": {},
   "outputs": [],
   "source": [
    "sns.scatterplot(data=avg_grouped_by_zipcode, x='long', y='lat', hue='bathrooms')"
   ]
  },
  {
   "cell_type": "code",
   "execution_count": null,
   "id": "e84f50e5",
   "metadata": {},
   "outputs": [],
   "source": [
    "sns.scatterplot(data=avg_grouped_by_zipcode, x='long', y='lat', hue='zipcode')"
   ]
  },
  {
   "cell_type": "markdown",
   "id": "190a890d",
   "metadata": {},
   "source": [
    "Filtering for postcode with biggest influence: 98039"
   ]
  },
  {
   "cell_type": "code",
   "execution_count": null,
   "id": "2d822399",
   "metadata": {},
   "outputs": [],
   "source": [
    "zipcode98039 = hp_df_org[hp_df_org['zipcode']==98039]"
   ]
  },
  {
   "cell_type": "code",
   "execution_count": null,
   "id": "d6f75f5f",
   "metadata": {},
   "outputs": [],
   "source": [
    "sns.scatterplot(data=zipcode98039, x='long', y='lat')"
   ]
  },
  {
   "cell_type": "code",
   "execution_count": null,
   "id": "68e4513b",
   "metadata": {},
   "outputs": [],
   "source": [
    "zipcode98004 = hp_df_org[hp_df_org['zipcode']==98004]"
   ]
  },
  {
   "cell_type": "code",
   "execution_count": null,
   "id": "642eface",
   "metadata": {
    "scrolled": true
   },
   "outputs": [],
   "source": [
    "waterfront1 = hp_df_org[hp_df_org['waterfront']==1]\n",
    "waterfront1.describe()"
   ]
  },
  {
   "cell_type": "code",
   "execution_count": null,
   "id": "e2b56852",
   "metadata": {},
   "outputs": [],
   "source": [
    "sns.scatterplot(data=waterfront1, x='long', y='lat')"
   ]
  },
  {
   "cell_type": "markdown",
   "id": "2141d067",
   "metadata": {},
   "source": [
    "Get Map background:"
   ]
  },
  {
   "cell_type": "code",
   "execution_count": null,
   "id": "e56039b9",
   "metadata": {
    "scrolled": true
   },
   "outputs": [],
   "source": [
    "import geopandas\n",
    "import contextily as cx"
   ]
  },
  {
   "cell_type": "code",
   "execution_count": null,
   "id": "eb91e571",
   "metadata": {},
   "outputs": [],
   "source": [
    "def vplot(df, xax_var, yax_var, split_var):\n",
    "    '''\n",
    "    Function to create a violin plot with given variables\n",
    "    xax_var = 'sales_channel' # Categorical variable to show along the x-axis\n",
    "    yax_var = 'total_claim_amount' # Numerical Variable to show along the y-axis\n",
    "    split_var = 'response' #Boolean variable to display on each half of the violins\n",
    "    '''\n",
    "    return sns.violinplot(x =df[xax_var],\\\n",
    "                        y = yax_var,\\\n",
    "                        hue=split_var,\\\n",
    "                        data= hp_df_org, split=True)"
   ]
  },
  {
   "cell_type": "code",
   "execution_count": null,
   "id": "b07309b4",
   "metadata": {},
   "outputs": [],
   "source": [
    "xax_var = 'view' # Categorical variable to show along the x-axis\n",
    "yax_var = 'price' # Numerical Variable to show along the y-axis\n",
    "split_var = 'waterfront' #Boolean variable to display on each half of the violins\n",
    "vplot(hp_df_org, xax_var, yax_var, split_var)"
   ]
  },
  {
   "cell_type": "code",
   "execution_count": null,
   "id": "407b6abb",
   "metadata": {},
   "outputs": [],
   "source": [
    "xax_var = 'waterfront' # Categorical variable to show along the x-axis\n",
    "yax_var = 'price' # Numerical Variable to show along the y-axis\n",
    "split_var = 'view' #Boolean variable to display on each half of the violins\n",
    "vplot(hp_df_org, xax_var, yax_var, split_var)"
   ]
  }
 ],
 "metadata": {
  "kernelspec": {
   "display_name": "Python 3 (ipykernel)",
   "language": "python",
   "name": "python3"
  },
  "language_info": {
   "codemirror_mode": {
    "name": "ipython",
    "version": 3
   },
   "file_extension": ".py",
   "mimetype": "text/x-python",
   "name": "python",
   "nbconvert_exporter": "python",
   "pygments_lexer": "ipython3",
   "version": "3.9.7"
  }
 },
 "nbformat": 4,
 "nbformat_minor": 5
}
