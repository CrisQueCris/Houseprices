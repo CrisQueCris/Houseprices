{
 "cells": [
  {
   "cell_type": "code",
   "execution_count": 1,
   "id": "90961297",
   "metadata": {},
   "outputs": [],
   "source": [
    "import pandas as pd\n",
    "import getpass\n",
    "import sqlalchemy as sa\n",
    "import numpy as np\n",
    "import seaborn as sns\n",
    "import matplotlib as plt\n",
    "import numpy as np\n",
    "import pandas as pd\n",
    "import matplotlib.pyplot as plt\n",
    "%matplotlib inline\n",
    "import seaborn as sns\n",
    "from sklearn.preprocessing import StandardScaler\n",
    "from sklearn.preprocessing import quantile_transform\n",
    "from sklearn.preprocessing import QuantileTransformer\n",
    "from sklearn.preprocessing import minmax_scale\n",
    "from sklearn.preprocessing import MinMaxScaler\n",
    "from sklearn.preprocessing import OneHotEncoder  ##. better to use dummy from pandas \n",
    "from sklearn.preprocessing import PowerTransformer\n",
    "from scipy.stats import boxcox\n",
    "from sklearn.linear_model import LinearRegression\n",
    "from sklearn.model_selection import train_test_split\n",
    "import statsmodels.api as sm\n",
    "from scipy.stats import boxcox\n",
    "from sklearn.model_selection import train_test_split\n",
    "from sklearn.metrics import r2_score\n",
    "from sklearn.metrics import mean_squared_error as mse\n",
    "from sklearn.metrics import mean_absolute_error as mae\n",
    "from sklearn.feature_selection import RFE\n",
    "pd.options.display.max_rows = 50\n",
    "## Install xlrd package to load Excel files\n",
    "# conda install openpyxl\n",
    "## conda install xlrd"
   ]
  },
  {
   "cell_type": "markdown",
   "id": "23d21213",
   "metadata": {},
   "source": [
    "### Connecting to Mysql and creating db"
   ]
  },
  {
   "cell_type": "code",
   "execution_count": 2,
   "id": "a340fb33",
   "metadata": {},
   "outputs": [],
   "source": [
    "#driver = 'mysql+pymysql'\n",
    "#user = 'root'\n",
    "#password = getpass.getpass(prompt='Your password:'\"\")\n",
    "#ip = 'localhost'"
   ]
  },
  {
   "cell_type": "code",
   "execution_count": null,
   "id": "c550bd5c",
   "metadata": {},
   "outputs": [],
   "source": []
  },
  {
   "cell_type": "code",
   "execution_count": 3,
   "id": "4b3566af",
   "metadata": {},
   "outputs": [],
   "source": [
    "#connection_string = f'{driver}://{user}:{password}@{ip}'"
   ]
  },
  {
   "cell_type": "code",
   "execution_count": 11,
   "id": "1780281d",
   "metadata": {},
   "outputs": [],
   "source": [
    "#db_connection = sa.create_engine(connection_string)"
   ]
  },
  {
   "cell_type": "code",
   "execution_count": null,
   "id": "b9faa0e6",
   "metadata": {},
   "outputs": [],
   "source": []
  },
  {
   "cell_type": "markdown",
   "id": "941e9582",
   "metadata": {},
   "source": [
    "### Creating a database called house_price_regression"
   ]
  },
  {
   "cell_type": "code",
   "execution_count": 5,
   "id": "c65af5e2",
   "metadata": {},
   "outputs": [],
   "source": [
    "#querry = \"\"\"\n",
    "#CREATE DATABASE IF NOT EXISTS house_price_regression\n",
    "#\"\"\""
   ]
  },
  {
   "cell_type": "code",
   "execution_count": 6,
   "id": "3086906f",
   "metadata": {},
   "outputs": [],
   "source": [
    "#db_connection.execute(querry)\n",
    "#db_connection.execute(\"commit\")"
   ]
  },
  {
   "cell_type": "code",
   "execution_count": 7,
   "id": "ac7af998",
   "metadata": {},
   "outputs": [],
   "source": [
    "#insp = sa.inspect(db_connection)\n",
    "#db_list = insp.get_schema_names()\n",
    "#print(db_list)"
   ]
  },
  {
   "cell_type": "markdown",
   "id": "1ebca7cb",
   "metadata": {},
   "source": [
    "2. Create a table house_price_data with the same columns as given in the csv file. Please make sure you use the correct data types for the columns. You can find the names of the headers for the table in the regression_data.xls file. Use the same column names as the names in the excel file. Please make sure you use the correct data types for each of the columns."
   ]
  },
  {
   "cell_type": "code",
   "execution_count": 14,
   "id": "148ea7e2",
   "metadata": {},
   "outputs": [
    {
     "ename": "SyntaxError",
     "evalue": "(unicode error) 'unicodeescape' codec can't decode bytes in position 2-3: truncated \\UXXXXXXXX escape (Temp/ipykernel_25128/3480613365.py, line 1)",
     "output_type": "error",
     "traceback": [
      "\u001b[1;36m  File \u001b[1;32m\"C:\\Users\\User\\AppData\\Local\\Temp/ipykernel_25128/3480613365.py\"\u001b[1;36m, line \u001b[1;32m1\u001b[0m\n\u001b[1;33m    hp_df = pd.read_csv('C:\\Users\\User\\OneDrive\\Documents\\GitHub\\Houseprices\\Data')\u001b[0m\n\u001b[1;37m                                                                                  ^\u001b[0m\n\u001b[1;31mSyntaxError\u001b[0m\u001b[1;31m:\u001b[0m (unicode error) 'unicodeescape' codec can't decode bytes in position 2-3: truncated \\UXXXXXXXX escape\n"
     ]
    }
   ],
   "source": [
    "hp_df = pd.read_csv('C:\\Users\\User\\OneDrive\\Documents\\GitHub\\Houseprices\\Data')\n",
    "hp_df.info()\n",
    "hp_df"
   ]
  }
 ],
 "metadata": {
  "kernelspec": {
   "display_name": "Python 3 (ipykernel)",
   "language": "python",
   "name": "python3"
  },
  "language_info": {
   "codemirror_mode": {
    "name": "ipython",
    "version": 3
   },
   "file_extension": ".py",
   "mimetype": "text/x-python",
   "name": "python",
   "nbconvert_exporter": "python",
   "pygments_lexer": "ipython3",
   "version": "3.9.7"
  }
 },
 "nbformat": 4,
 "nbformat_minor": 5
}
